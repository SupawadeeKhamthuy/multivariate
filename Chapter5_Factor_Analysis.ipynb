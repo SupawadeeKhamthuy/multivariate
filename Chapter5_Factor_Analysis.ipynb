{
  "nbformat": 4,
  "nbformat_minor": 0,
  "metadata": {
    "colab": {
      "name": "Chapter5 Factor Analysis.ipynb",
      "provenance": [],
      "authorship_tag": "ABX9TyOzYXnjYveyGnrmQfUanWlq",
      "include_colab_link": true
    },
    "kernelspec": {
      "name": "python3",
      "display_name": "Python 3"
    },
    "language_info": {
      "name": "python"
    }
  },
  "cells": [
    {
      "cell_type": "markdown",
      "metadata": {
        "id": "view-in-github",
        "colab_type": "text"
      },
      "source": [
        "<a href=\"https://colab.research.google.com/github/SupawadeeKhamthuy/multivariate/blob/main/Chapter5_Factor_Analysis.ipynb\" target=\"_parent\"><img src=\"https://colab.research.google.com/assets/colab-badge.svg\" alt=\"Open In Colab\"/></a>"
      ]
    },
    {
      "cell_type": "markdown",
      "metadata": {
        "id": "nG5D1WpaIwOz"
      },
      "source": [
        "https://www.datacamp.com/community/tutorials/introduction-factor-analysis"
      ]
    },
    {
      "cell_type": "markdown",
      "metadata": {
        "id": "fkiekJfzGove"
      },
      "source": [
        "Assumptions:"
      ]
    },
    {
      "cell_type": "code",
      "metadata": {
        "id": "O_rckDiqI9ZK"
      },
      "source": [
        "import pandas as pd"
      ],
      "execution_count": 4,
      "outputs": []
    },
    {
      "cell_type": "markdown",
      "metadata": {
        "id": "UgfV154ZJam8"
      },
      "source": [
        "## **Factor Analysis '**\n",
        "\n",
        "## **Assumptions:**\n",
        "\n",
        "ในข้อมูล multivariate ที่มีตัวแปร Observe variables จำนวน n ตัว\n",
        "\n",
        "มีตัวแปร Factor (Latent Variables) จำนวน k ตัว ที่สามารถอธิบายข้อมูลทั้งหมดได้\n",
        "\n",
        "โดยที่ k< n"
      ]
    },
    {
      "cell_type": "markdown",
      "metadata": {
        "id": "YjJxV84gKnT8"
      },
      "source": [
        "ใส่รูป"
      ]
    },
    {
      "cell_type": "markdown",
      "metadata": {
        "id": "N-dkDMUgMdod"
      },
      "source": [
        "Assumptions ในการทำ Factor analysis:\n",
        "\n",
        "\n",
        "*   There are no outliers in data.\n",
        "*   Sample size should be greater than the factor\n",
        "*   There should not be ***perfect multicollinearity.***\n",
        "*   There should not be ***homoscedasticity*** between the variables\n",
        "\n"
      ]
    },
    {
      "cell_type": "markdown",
      "metadata": {
        "id": "E79y-uJ-PPXw"
      },
      "source": [
        "การทำ Factor analysis"
      ]
    },
    {
      "cell_type": "code",
      "metadata": {
        "id": "9FbFGXMrJBPM"
      },
      "source": [
        ""
      ],
      "execution_count": null,
      "outputs": []
    }
  ]
}