{
  "nbformat": 4,
  "nbformat_minor": 0,
  "metadata": {
    "colab": {
      "name": "Multivariate Exam.ipynb",
      "provenance": [],
      "include_colab_link": true
    },
    "kernelspec": {
      "name": "python3",
      "display_name": "Python 3"
    },
    "language_info": {
      "name": "python"
    }
  },
  "cells": [
    {
      "cell_type": "markdown",
      "metadata": {
        "id": "view-in-github",
        "colab_type": "text"
      },
      "source": [
        "<a href=\"https://colab.research.google.com/github/SupawadeeKhamthuy/multivariate/blob/main/Multivariate_Exam.ipynb\" target=\"_parent\"><img src=\"https://colab.research.google.com/assets/colab-badge.svg\" alt=\"Open In Colab\"/></a>"
      ]
    },
    {
      "cell_type": "markdown",
      "metadata": {
        "id": "JZxiNADfaDtv"
      },
      "source": [
        "ให้นักศึกษาทำข้อสอบใน Colab Notebook นี้โดยกรอกข้อมูลของตัวเองใน cell ที่ 2 แล้วรัน cell ที่ 1 - 5 และเริ่มทำข้อสอบใน cell ที่ 6 เป็นต้นไป\n",
        "\n",
        "โดยโจทย์คือ\n",
        "1. ข้อมูลโจทย์ อยู่ใน ตัวแปร ```Data```\n",
        "2. ทำ clustering แล้วทำ visualize ข้อมูลแบบ 2 มิติ\n",
        "3. ลด Dimension ของข้อมูลเหลือ 2 มิติ แล้วทำ clustering แล้ว visualize ข้อมูลแบบ 2 มิติ\n",
        "4. เปรียบเทียบความแตกต่างของผลข้อ 2. กับ ข้อ 3.\n",
        "5. เขียน comments อธิบายทุกขั้นตอน\n",
        "6. อัด video อธิบาย code ทุกๆขั้นตอนรวมถึงผลแล้วอัพลง youtube ในรูปแบบ unlist \n",
        "7. commit โดยใช้ชื่อ commit เป็น link youtube ที่อธิบาย code ในข้อ 6.\n",
        "\n",
        "กำหนดส่งวันที่ 2 พฤษภาคม 2564 (โดยให้มากรอกวันที่ commit ครั้งสุดท้ายใน sheet: https://docs.google.com/spreadsheets/d/1_qJwLDJVtOW1HxBcf_FHVc6UT4J_SOonuR6o3EEnVzw/edit?usp=sharing ช่อง Final)"
      ]
    },
    {
      "cell_type": "code",
      "metadata": {
        "id": "cWl2x1bPGtQl"
      },
      "source": [
        "from sklearn.datasets import make_blobs\n",
        "import random,math\n",
        "import numpy as np\n",
        "import pandas"
      ],
      "execution_count": 4,
      "outputs": []
    },
    {
      "cell_type": "code",
      "metadata": {
        "id": "gZfzuiHsZksh"
      },
      "source": [
        "Name = 'สุภาวดี คำทุย'\n",
        "ID = '6230205446'"
      ],
      "execution_count": 5,
      "outputs": []
    },
    {
      "cell_type": "code",
      "metadata": {
        "id": "8hFQXkF5aAiA"
      },
      "source": [
        "def DataGenerator(name,id):\n",
        "    random.seed(int(id[3:6]))\n",
        "    numfeat = random.randint(20,30)\n",
        "    ct = random.randint(len(name)-6,len(name))\n",
        "    \n",
        "    X, y = make_blobs(n_samples=10000, centers=ct, n_features=numfeat , random_state=int(id[3:6]))\n",
        "\n",
        "    print(f'{id[3:6]}:{numfeat}:{ct}')\n",
        "    X_t = (X[:,1]*2)+int(id[3])\n",
        "    X_t2 = (X[:,-1]*5)+int(id[4])\n",
        "\n",
        "    DT = np.append(X,X_t.reshape([10000,1]),axis=1)\n",
        "    DT = np.append(DT,X_t2.reshape([10000,1]),axis=1)\n",
        "    \n",
        "    return pandas.DataFrame(DT)"
      ],
      "execution_count": 6,
      "outputs": []
    },
    {
      "cell_type": "code",
      "metadata": {
        "colab": {
          "base_uri": "https://localhost:8080/"
        },
        "id": "hbXlxumSBX9i",
        "outputId": "eac32267-94b7-4642-ca9f-487200a72352"
      },
      "source": [
        "Data = DataGenerator(Name,ID)"
      ],
      "execution_count": 7,
      "outputs": [
        {
          "output_type": "stream",
          "text": [
            "020:30:13\n"
          ],
          "name": "stdout"
        }
      ]
    },
    {
      "cell_type": "code",
      "metadata": {
        "colab": {
          "base_uri": "https://localhost:8080/",
          "height": 427
        },
        "id": "pQcCySXvBdN-",
        "outputId": "79785059-5ea3-4701-c8c8-7b8016849360"
      },
      "source": [
        "Data"
      ],
      "execution_count": 8,
      "outputs": [
        {
          "output_type": "execute_result",
          "data": {
            "text/html": [
              "<div>\n",
              "<style scoped>\n",
              "    .dataframe tbody tr th:only-of-type {\n",
              "        vertical-align: middle;\n",
              "    }\n",
              "\n",
              "    .dataframe tbody tr th {\n",
              "        vertical-align: top;\n",
              "    }\n",
              "\n",
              "    .dataframe thead th {\n",
              "        text-align: right;\n",
              "    }\n",
              "</style>\n",
              "<table border=\"1\" class=\"dataframe\">\n",
              "  <thead>\n",
              "    <tr style=\"text-align: right;\">\n",
              "      <th></th>\n",
              "      <th>0</th>\n",
              "      <th>1</th>\n",
              "      <th>2</th>\n",
              "      <th>3</th>\n",
              "      <th>4</th>\n",
              "      <th>5</th>\n",
              "      <th>6</th>\n",
              "      <th>7</th>\n",
              "      <th>8</th>\n",
              "      <th>9</th>\n",
              "      <th>10</th>\n",
              "      <th>11</th>\n",
              "      <th>12</th>\n",
              "      <th>13</th>\n",
              "      <th>14</th>\n",
              "      <th>15</th>\n",
              "      <th>16</th>\n",
              "      <th>17</th>\n",
              "      <th>18</th>\n",
              "      <th>19</th>\n",
              "      <th>20</th>\n",
              "      <th>21</th>\n",
              "      <th>22</th>\n",
              "      <th>23</th>\n",
              "      <th>24</th>\n",
              "      <th>25</th>\n",
              "      <th>26</th>\n",
              "      <th>27</th>\n",
              "      <th>28</th>\n",
              "      <th>29</th>\n",
              "      <th>30</th>\n",
              "      <th>31</th>\n",
              "    </tr>\n",
              "  </thead>\n",
              "  <tbody>\n",
              "    <tr>\n",
              "      <th>0</th>\n",
              "      <td>-1.122979</td>\n",
              "      <td>-3.295591</td>\n",
              "      <td>-1.905968</td>\n",
              "      <td>8.807450</td>\n",
              "      <td>3.436086</td>\n",
              "      <td>-7.863223</td>\n",
              "      <td>7.261924</td>\n",
              "      <td>-2.483273</td>\n",
              "      <td>5.677271</td>\n",
              "      <td>-1.384419</td>\n",
              "      <td>-5.713879</td>\n",
              "      <td>-0.701148</td>\n",
              "      <td>-4.897625</td>\n",
              "      <td>-6.022824</td>\n",
              "      <td>-4.822365</td>\n",
              "      <td>2.341001</td>\n",
              "      <td>-1.972514</td>\n",
              "      <td>9.505130</td>\n",
              "      <td>2.176511</td>\n",
              "      <td>-7.749094</td>\n",
              "      <td>7.020367</td>\n",
              "      <td>-4.584958</td>\n",
              "      <td>-8.326107</td>\n",
              "      <td>-4.272719</td>\n",
              "      <td>4.336434</td>\n",
              "      <td>-5.695388</td>\n",
              "      <td>-2.706593</td>\n",
              "      <td>8.540504</td>\n",
              "      <td>10.424226</td>\n",
              "      <td>2.216951</td>\n",
              "      <td>-6.591182</td>\n",
              "      <td>13.084756</td>\n",
              "    </tr>\n",
              "    <tr>\n",
              "      <th>1</th>\n",
              "      <td>-1.178806</td>\n",
              "      <td>-1.705041</td>\n",
              "      <td>-2.304133</td>\n",
              "      <td>8.370834</td>\n",
              "      <td>5.129572</td>\n",
              "      <td>-7.872284</td>\n",
              "      <td>4.108793</td>\n",
              "      <td>-2.045335</td>\n",
              "      <td>6.425141</td>\n",
              "      <td>-2.940128</td>\n",
              "      <td>-7.962174</td>\n",
              "      <td>0.004099</td>\n",
              "      <td>-6.024449</td>\n",
              "      <td>-7.155523</td>\n",
              "      <td>-3.888844</td>\n",
              "      <td>1.612577</td>\n",
              "      <td>-0.771112</td>\n",
              "      <td>8.855043</td>\n",
              "      <td>2.296529</td>\n",
              "      <td>-8.149986</td>\n",
              "      <td>5.307715</td>\n",
              "      <td>-5.962821</td>\n",
              "      <td>-7.641550</td>\n",
              "      <td>-3.307962</td>\n",
              "      <td>3.394114</td>\n",
              "      <td>-4.219148</td>\n",
              "      <td>-2.052904</td>\n",
              "      <td>10.047594</td>\n",
              "      <td>10.208270</td>\n",
              "      <td>4.121820</td>\n",
              "      <td>-3.410083</td>\n",
              "      <td>22.609099</td>\n",
              "    </tr>\n",
              "    <tr>\n",
              "      <th>2</th>\n",
              "      <td>0.904578</td>\n",
              "      <td>4.691859</td>\n",
              "      <td>-3.682533</td>\n",
              "      <td>-2.953914</td>\n",
              "      <td>5.427658</td>\n",
              "      <td>-7.973544</td>\n",
              "      <td>-6.298981</td>\n",
              "      <td>-5.837808</td>\n",
              "      <td>-6.806116</td>\n",
              "      <td>4.240747</td>\n",
              "      <td>-6.726297</td>\n",
              "      <td>-2.661466</td>\n",
              "      <td>2.331365</td>\n",
              "      <td>-2.299572</td>\n",
              "      <td>-3.537591</td>\n",
              "      <td>2.937966</td>\n",
              "      <td>7.014755</td>\n",
              "      <td>-2.094251</td>\n",
              "      <td>-7.833492</td>\n",
              "      <td>7.046922</td>\n",
              "      <td>6.967556</td>\n",
              "      <td>-3.341271</td>\n",
              "      <td>3.557202</td>\n",
              "      <td>-1.224863</td>\n",
              "      <td>4.301185</td>\n",
              "      <td>-6.613338</td>\n",
              "      <td>-8.054432</td>\n",
              "      <td>8.960152</td>\n",
              "      <td>8.176317</td>\n",
              "      <td>-4.350617</td>\n",
              "      <td>9.383718</td>\n",
              "      <td>-19.753085</td>\n",
              "    </tr>\n",
              "    <tr>\n",
              "      <th>3</th>\n",
              "      <td>-8.309558</td>\n",
              "      <td>-0.700731</td>\n",
              "      <td>-6.674782</td>\n",
              "      <td>6.733736</td>\n",
              "      <td>8.064153</td>\n",
              "      <td>-9.515225</td>\n",
              "      <td>9.423268</td>\n",
              "      <td>10.051663</td>\n",
              "      <td>5.773942</td>\n",
              "      <td>2.191188</td>\n",
              "      <td>-6.168410</td>\n",
              "      <td>-3.242995</td>\n",
              "      <td>7.661962</td>\n",
              "      <td>-3.454031</td>\n",
              "      <td>-6.803181</td>\n",
              "      <td>-4.604935</td>\n",
              "      <td>0.994939</td>\n",
              "      <td>-9.752362</td>\n",
              "      <td>6.206699</td>\n",
              "      <td>-7.746425</td>\n",
              "      <td>-2.671065</td>\n",
              "      <td>-8.756579</td>\n",
              "      <td>3.640509</td>\n",
              "      <td>-3.570759</td>\n",
              "      <td>5.755518</td>\n",
              "      <td>3.337119</td>\n",
              "      <td>-2.788030</td>\n",
              "      <td>-9.860391</td>\n",
              "      <td>8.703038</td>\n",
              "      <td>3.645643</td>\n",
              "      <td>-1.401462</td>\n",
              "      <td>20.228213</td>\n",
              "    </tr>\n",
              "    <tr>\n",
              "      <th>4</th>\n",
              "      <td>8.340888</td>\n",
              "      <td>-8.214758</td>\n",
              "      <td>-5.512123</td>\n",
              "      <td>-1.567990</td>\n",
              "      <td>5.905051</td>\n",
              "      <td>8.980198</td>\n",
              "      <td>8.079326</td>\n",
              "      <td>3.190559</td>\n",
              "      <td>-0.398816</td>\n",
              "      <td>-1.669538</td>\n",
              "      <td>5.329574</td>\n",
              "      <td>3.758042</td>\n",
              "      <td>2.629444</td>\n",
              "      <td>-2.314456</td>\n",
              "      <td>6.568466</td>\n",
              "      <td>6.071499</td>\n",
              "      <td>-5.243972</td>\n",
              "      <td>3.210821</td>\n",
              "      <td>6.460610</td>\n",
              "      <td>-11.300239</td>\n",
              "      <td>-9.199506</td>\n",
              "      <td>9.716673</td>\n",
              "      <td>6.044433</td>\n",
              "      <td>4.530647</td>\n",
              "      <td>6.792402</td>\n",
              "      <td>-5.300715</td>\n",
              "      <td>-8.420804</td>\n",
              "      <td>5.595060</td>\n",
              "      <td>0.070567</td>\n",
              "      <td>6.126067</td>\n",
              "      <td>-16.429515</td>\n",
              "      <td>32.630334</td>\n",
              "    </tr>\n",
              "    <tr>\n",
              "      <th>...</th>\n",
              "      <td>...</td>\n",
              "      <td>...</td>\n",
              "      <td>...</td>\n",
              "      <td>...</td>\n",
              "      <td>...</td>\n",
              "      <td>...</td>\n",
              "      <td>...</td>\n",
              "      <td>...</td>\n",
              "      <td>...</td>\n",
              "      <td>...</td>\n",
              "      <td>...</td>\n",
              "      <td>...</td>\n",
              "      <td>...</td>\n",
              "      <td>...</td>\n",
              "      <td>...</td>\n",
              "      <td>...</td>\n",
              "      <td>...</td>\n",
              "      <td>...</td>\n",
              "      <td>...</td>\n",
              "      <td>...</td>\n",
              "      <td>...</td>\n",
              "      <td>...</td>\n",
              "      <td>...</td>\n",
              "      <td>...</td>\n",
              "      <td>...</td>\n",
              "      <td>...</td>\n",
              "      <td>...</td>\n",
              "      <td>...</td>\n",
              "      <td>...</td>\n",
              "      <td>...</td>\n",
              "      <td>...</td>\n",
              "      <td>...</td>\n",
              "    </tr>\n",
              "    <tr>\n",
              "      <th>9995</th>\n",
              "      <td>2.621194</td>\n",
              "      <td>3.082826</td>\n",
              "      <td>-6.051600</td>\n",
              "      <td>-9.254466</td>\n",
              "      <td>5.131143</td>\n",
              "      <td>0.667478</td>\n",
              "      <td>-1.629920</td>\n",
              "      <td>-1.360385</td>\n",
              "      <td>-1.946909</td>\n",
              "      <td>-4.092077</td>\n",
              "      <td>2.009247</td>\n",
              "      <td>1.749112</td>\n",
              "      <td>-3.929099</td>\n",
              "      <td>-1.599213</td>\n",
              "      <td>-3.747115</td>\n",
              "      <td>1.836762</td>\n",
              "      <td>-7.503489</td>\n",
              "      <td>3.989790</td>\n",
              "      <td>5.298064</td>\n",
              "      <td>-6.293570</td>\n",
              "      <td>5.447109</td>\n",
              "      <td>-3.485855</td>\n",
              "      <td>3.683923</td>\n",
              "      <td>5.746130</td>\n",
              "      <td>5.880837</td>\n",
              "      <td>2.346970</td>\n",
              "      <td>2.474427</td>\n",
              "      <td>0.988740</td>\n",
              "      <td>-2.332277</td>\n",
              "      <td>0.787062</td>\n",
              "      <td>6.165651</td>\n",
              "      <td>5.935309</td>\n",
              "    </tr>\n",
              "    <tr>\n",
              "      <th>9996</th>\n",
              "      <td>-0.565152</td>\n",
              "      <td>4.502084</td>\n",
              "      <td>-4.958137</td>\n",
              "      <td>-1.130835</td>\n",
              "      <td>6.393298</td>\n",
              "      <td>-10.045349</td>\n",
              "      <td>-5.483434</td>\n",
              "      <td>-6.521711</td>\n",
              "      <td>-3.976157</td>\n",
              "      <td>2.130145</td>\n",
              "      <td>-7.738335</td>\n",
              "      <td>-2.840233</td>\n",
              "      <td>1.204603</td>\n",
              "      <td>-4.691612</td>\n",
              "      <td>-2.654711</td>\n",
              "      <td>1.921697</td>\n",
              "      <td>7.099371</td>\n",
              "      <td>-0.297220</td>\n",
              "      <td>-10.052557</td>\n",
              "      <td>7.396492</td>\n",
              "      <td>6.868344</td>\n",
              "      <td>-2.660437</td>\n",
              "      <td>2.540235</td>\n",
              "      <td>-0.749447</td>\n",
              "      <td>4.566415</td>\n",
              "      <td>-7.151448</td>\n",
              "      <td>-8.291589</td>\n",
              "      <td>8.715938</td>\n",
              "      <td>5.509624</td>\n",
              "      <td>-7.029211</td>\n",
              "      <td>9.004169</td>\n",
              "      <td>-33.146053</td>\n",
              "    </tr>\n",
              "    <tr>\n",
              "      <th>9997</th>\n",
              "      <td>5.458936</td>\n",
              "      <td>6.669342</td>\n",
              "      <td>-9.677379</td>\n",
              "      <td>-4.951354</td>\n",
              "      <td>5.975153</td>\n",
              "      <td>0.109411</td>\n",
              "      <td>9.595156</td>\n",
              "      <td>0.086257</td>\n",
              "      <td>6.671417</td>\n",
              "      <td>-0.332043</td>\n",
              "      <td>7.129822</td>\n",
              "      <td>-5.413321</td>\n",
              "      <td>-0.944951</td>\n",
              "      <td>-0.779493</td>\n",
              "      <td>-1.810268</td>\n",
              "      <td>6.062982</td>\n",
              "      <td>-3.143105</td>\n",
              "      <td>-2.785437</td>\n",
              "      <td>-1.798621</td>\n",
              "      <td>-2.375633</td>\n",
              "      <td>2.291665</td>\n",
              "      <td>-6.591749</td>\n",
              "      <td>4.390090</td>\n",
              "      <td>-3.670793</td>\n",
              "      <td>11.363186</td>\n",
              "      <td>-6.152867</td>\n",
              "      <td>4.829156</td>\n",
              "      <td>-1.963335</td>\n",
              "      <td>-7.680129</td>\n",
              "      <td>4.356970</td>\n",
              "      <td>13.338685</td>\n",
              "      <td>23.784849</td>\n",
              "    </tr>\n",
              "    <tr>\n",
              "      <th>9998</th>\n",
              "      <td>5.167506</td>\n",
              "      <td>9.960286</td>\n",
              "      <td>5.908806</td>\n",
              "      <td>-5.992349</td>\n",
              "      <td>-6.306272</td>\n",
              "      <td>-2.778985</td>\n",
              "      <td>11.405055</td>\n",
              "      <td>1.561802</td>\n",
              "      <td>7.698767</td>\n",
              "      <td>-9.825561</td>\n",
              "      <td>5.709468</td>\n",
              "      <td>-9.183920</td>\n",
              "      <td>-9.588192</td>\n",
              "      <td>-11.000842</td>\n",
              "      <td>-5.495952</td>\n",
              "      <td>-3.846113</td>\n",
              "      <td>9.210216</td>\n",
              "      <td>7.947077</td>\n",
              "      <td>0.979926</td>\n",
              "      <td>6.075725</td>\n",
              "      <td>-9.279143</td>\n",
              "      <td>4.291894</td>\n",
              "      <td>-9.643116</td>\n",
              "      <td>-6.771529</td>\n",
              "      <td>8.741895</td>\n",
              "      <td>-2.417855</td>\n",
              "      <td>6.372045</td>\n",
              "      <td>1.503416</td>\n",
              "      <td>3.849181</td>\n",
              "      <td>4.402622</td>\n",
              "      <td>19.920572</td>\n",
              "      <td>24.013108</td>\n",
              "    </tr>\n",
              "    <tr>\n",
              "      <th>9999</th>\n",
              "      <td>-3.119938</td>\n",
              "      <td>-4.029596</td>\n",
              "      <td>0.531152</td>\n",
              "      <td>7.573138</td>\n",
              "      <td>-8.084303</td>\n",
              "      <td>-2.583298</td>\n",
              "      <td>-0.893339</td>\n",
              "      <td>-4.906089</td>\n",
              "      <td>-7.680841</td>\n",
              "      <td>-7.023013</td>\n",
              "      <td>9.462003</td>\n",
              "      <td>-5.572993</td>\n",
              "      <td>-11.237967</td>\n",
              "      <td>-3.001927</td>\n",
              "      <td>3.517245</td>\n",
              "      <td>-3.539982</td>\n",
              "      <td>8.105930</td>\n",
              "      <td>-5.813602</td>\n",
              "      <td>8.576036</td>\n",
              "      <td>0.332330</td>\n",
              "      <td>7.541918</td>\n",
              "      <td>3.364779</td>\n",
              "      <td>-8.264066</td>\n",
              "      <td>-7.971045</td>\n",
              "      <td>7.497196</td>\n",
              "      <td>8.930793</td>\n",
              "      <td>4.150151</td>\n",
              "      <td>-1.189277</td>\n",
              "      <td>-1.800349</td>\n",
              "      <td>5.760702</td>\n",
              "      <td>-8.059192</td>\n",
              "      <td>30.803512</td>\n",
              "    </tr>\n",
              "  </tbody>\n",
              "</table>\n",
              "<p>10000 rows × 32 columns</p>\n",
              "</div>"
            ],
            "text/plain": [
              "            0         1         2   ...        29         30         31\n",
              "0    -1.122979 -3.295591 -1.905968  ...  2.216951  -6.591182  13.084756\n",
              "1    -1.178806 -1.705041 -2.304133  ...  4.121820  -3.410083  22.609099\n",
              "2     0.904578  4.691859 -3.682533  ... -4.350617   9.383718 -19.753085\n",
              "3    -8.309558 -0.700731 -6.674782  ...  3.645643  -1.401462  20.228213\n",
              "4     8.340888 -8.214758 -5.512123  ...  6.126067 -16.429515  32.630334\n",
              "...        ...       ...       ...  ...       ...        ...        ...\n",
              "9995  2.621194  3.082826 -6.051600  ...  0.787062   6.165651   5.935309\n",
              "9996 -0.565152  4.502084 -4.958137  ... -7.029211   9.004169 -33.146053\n",
              "9997  5.458936  6.669342 -9.677379  ...  4.356970  13.338685  23.784849\n",
              "9998  5.167506  9.960286  5.908806  ...  4.402622  19.920572  24.013108\n",
              "9999 -3.119938 -4.029596  0.531152  ...  5.760702  -8.059192  30.803512\n",
              "\n",
              "[10000 rows x 32 columns]"
            ]
          },
          "metadata": {
            "tags": []
          },
          "execution_count": 8
        }
      ]
    },
    {
      "cell_type": "code",
      "metadata": {
        "id": "jUARadkFEuyJ",
        "outputId": "3680ce2b-f50b-4258-fbcb-cdbe503e995c",
        "colab": {
          "base_uri": "https://localhost:8080/"
        }
      },
      "source": [
        "Data.shape # ดูว่ามีทั้งหมดกี่ dimension จากการรันออกมาพบว่ามี 32 dimension"
      ],
      "execution_count": 9,
      "outputs": [
        {
          "output_type": "execute_result",
          "data": {
            "text/plain": [
              "(10000, 32)"
            ]
          },
          "metadata": {
            "tags": []
          },
          "execution_count": 9
        }
      ]
    },
    {
      "cell_type": "code",
      "metadata": {
        "id": "slYHvyemjV0E"
      },
      "source": [
        "import numpy as np"
      ],
      "execution_count": 10,
      "outputs": []
    },
    {
      "cell_type": "code",
      "metadata": {
        "id": "pPm7pjGujYm3"
      },
      "source": [
        "corr = np.corrcoef(Data.to_numpy().T) # หา correlation"
      ],
      "execution_count": 11,
      "outputs": []
    },
    {
      "cell_type": "code",
      "metadata": {
        "id": "xWck4x8Jjcg7",
        "outputId": "b11abc87-c952-4ff0-f9fc-aac9550a62f1",
        "colab": {
          "base_uri": "https://localhost:8080/"
        }
      },
      "source": [
        "corr.shape"
      ],
      "execution_count": 12,
      "outputs": [
        {
          "output_type": "execute_result",
          "data": {
            "text/plain": [
              "(32, 32)"
            ]
          },
          "metadata": {
            "tags": []
          },
          "execution_count": 12
        }
      ]
    },
    {
      "cell_type": "code",
      "metadata": {
        "id": "74uUhgC-jhky",
        "outputId": "c4fc84af-3a25-4e6f-80c8-f096a1838440",
        "colab": {
          "base_uri": "https://localhost:8080/"
        }
      },
      "source": [
        "corr"
      ],
      "execution_count": 13,
      "outputs": [
        {
          "output_type": "execute_result",
          "data": {
            "text/plain": [
              "array([[ 1.        ,  0.11158179,  0.0475386 , ...,  0.13355265,\n",
              "         0.11158179,  0.13355265],\n",
              "       [ 0.11158179,  1.        ,  0.28012196, ...,  0.00354079,\n",
              "         1.        ,  0.00354079],\n",
              "       [ 0.0475386 ,  0.28012196,  1.        , ..., -0.05306425,\n",
              "         0.28012196, -0.05306425],\n",
              "       ...,\n",
              "       [ 0.13355265,  0.00354079, -0.05306425, ...,  1.        ,\n",
              "         0.00354079,  1.        ],\n",
              "       [ 0.11158179,  1.        ,  0.28012196, ...,  0.00354079,\n",
              "         1.        ,  0.00354079],\n",
              "       [ 0.13355265,  0.00354079, -0.05306425, ...,  1.        ,\n",
              "         0.00354079,  1.        ]])"
            ]
          },
          "metadata": {
            "tags": []
          },
          "execution_count": 13
        }
      ]
    },
    {
      "cell_type": "code",
      "metadata": {
        "id": "8Q1Kd7_fj8Bb",
        "outputId": "1200dcc0-100f-4ea6-d784-5b0b9d2de125",
        "colab": {
          "base_uri": "https://localhost:8080/"
        }
      },
      "source": [
        "for i in range(corr.shape[0]):\n",
        "    for j in range(corr.shape[1]):\n",
        "        if (i !=j) and (corr[i,j] == 1.):\n",
        "            print(f'row = {i} column = {j} corrcoef = {corr[i,j]}') #มีผลรันออกมา หมายความว่า มีค่าที่ซ้ำกันอยู่ในข้อมูลนี้"
      ],
      "execution_count": 14,
      "outputs": [
        {
          "output_type": "stream",
          "text": [
            "row = 1 column = 30 corrcoef = 1.0\n",
            "row = 29 column = 31 corrcoef = 1.0\n",
            "row = 30 column = 1 corrcoef = 1.0\n",
            "row = 31 column = 29 corrcoef = 1.0\n"
          ],
          "name": "stdout"
        }
      ]
    },
    {
      "cell_type": "code",
      "metadata": {
        "id": "sxkEk-2Epe9r",
        "outputId": "4c6a0460-5a6f-413d-e1e9-2f3b95223fe3",
        "colab": {
          "base_uri": "https://localhost:8080/",
          "height": 938
        }
      },
      "source": [
        "new_data = Data.iloc[:29,:-3]\n",
        "new_data"
      ],
      "execution_count": 48,
      "outputs": [
        {
          "output_type": "execute_result",
          "data": {
            "text/html": [
              "<div>\n",
              "<style scoped>\n",
              "    .dataframe tbody tr th:only-of-type {\n",
              "        vertical-align: middle;\n",
              "    }\n",
              "\n",
              "    .dataframe tbody tr th {\n",
              "        vertical-align: top;\n",
              "    }\n",
              "\n",
              "    .dataframe thead th {\n",
              "        text-align: right;\n",
              "    }\n",
              "</style>\n",
              "<table border=\"1\" class=\"dataframe\">\n",
              "  <thead>\n",
              "    <tr style=\"text-align: right;\">\n",
              "      <th></th>\n",
              "      <th>0</th>\n",
              "      <th>1</th>\n",
              "      <th>2</th>\n",
              "      <th>3</th>\n",
              "      <th>4</th>\n",
              "      <th>5</th>\n",
              "      <th>6</th>\n",
              "      <th>7</th>\n",
              "      <th>8</th>\n",
              "      <th>9</th>\n",
              "      <th>10</th>\n",
              "      <th>11</th>\n",
              "      <th>12</th>\n",
              "      <th>13</th>\n",
              "      <th>14</th>\n",
              "      <th>15</th>\n",
              "      <th>16</th>\n",
              "      <th>17</th>\n",
              "      <th>18</th>\n",
              "      <th>19</th>\n",
              "      <th>20</th>\n",
              "      <th>21</th>\n",
              "      <th>22</th>\n",
              "      <th>23</th>\n",
              "      <th>24</th>\n",
              "      <th>25</th>\n",
              "      <th>26</th>\n",
              "      <th>27</th>\n",
              "      <th>28</th>\n",
              "    </tr>\n",
              "  </thead>\n",
              "  <tbody>\n",
              "    <tr>\n",
              "      <th>0</th>\n",
              "      <td>-1.122979</td>\n",
              "      <td>-3.295591</td>\n",
              "      <td>-1.905968</td>\n",
              "      <td>8.807450</td>\n",
              "      <td>3.436086</td>\n",
              "      <td>-7.863223</td>\n",
              "      <td>7.261924</td>\n",
              "      <td>-2.483273</td>\n",
              "      <td>5.677271</td>\n",
              "      <td>-1.384419</td>\n",
              "      <td>-5.713879</td>\n",
              "      <td>-0.701148</td>\n",
              "      <td>-4.897625</td>\n",
              "      <td>-6.022824</td>\n",
              "      <td>-4.822365</td>\n",
              "      <td>2.341001</td>\n",
              "      <td>-1.972514</td>\n",
              "      <td>9.505130</td>\n",
              "      <td>2.176511</td>\n",
              "      <td>-7.749094</td>\n",
              "      <td>7.020367</td>\n",
              "      <td>-4.584958</td>\n",
              "      <td>-8.326107</td>\n",
              "      <td>-4.272719</td>\n",
              "      <td>4.336434</td>\n",
              "      <td>-5.695388</td>\n",
              "      <td>-2.706593</td>\n",
              "      <td>8.540504</td>\n",
              "      <td>10.424226</td>\n",
              "    </tr>\n",
              "    <tr>\n",
              "      <th>1</th>\n",
              "      <td>-1.178806</td>\n",
              "      <td>-1.705041</td>\n",
              "      <td>-2.304133</td>\n",
              "      <td>8.370834</td>\n",
              "      <td>5.129572</td>\n",
              "      <td>-7.872284</td>\n",
              "      <td>4.108793</td>\n",
              "      <td>-2.045335</td>\n",
              "      <td>6.425141</td>\n",
              "      <td>-2.940128</td>\n",
              "      <td>-7.962174</td>\n",
              "      <td>0.004099</td>\n",
              "      <td>-6.024449</td>\n",
              "      <td>-7.155523</td>\n",
              "      <td>-3.888844</td>\n",
              "      <td>1.612577</td>\n",
              "      <td>-0.771112</td>\n",
              "      <td>8.855043</td>\n",
              "      <td>2.296529</td>\n",
              "      <td>-8.149986</td>\n",
              "      <td>5.307715</td>\n",
              "      <td>-5.962821</td>\n",
              "      <td>-7.641550</td>\n",
              "      <td>-3.307962</td>\n",
              "      <td>3.394114</td>\n",
              "      <td>-4.219148</td>\n",
              "      <td>-2.052904</td>\n",
              "      <td>10.047594</td>\n",
              "      <td>10.208270</td>\n",
              "    </tr>\n",
              "    <tr>\n",
              "      <th>2</th>\n",
              "      <td>0.904578</td>\n",
              "      <td>4.691859</td>\n",
              "      <td>-3.682533</td>\n",
              "      <td>-2.953914</td>\n",
              "      <td>5.427658</td>\n",
              "      <td>-7.973544</td>\n",
              "      <td>-6.298981</td>\n",
              "      <td>-5.837808</td>\n",
              "      <td>-6.806116</td>\n",
              "      <td>4.240747</td>\n",
              "      <td>-6.726297</td>\n",
              "      <td>-2.661466</td>\n",
              "      <td>2.331365</td>\n",
              "      <td>-2.299572</td>\n",
              "      <td>-3.537591</td>\n",
              "      <td>2.937966</td>\n",
              "      <td>7.014755</td>\n",
              "      <td>-2.094251</td>\n",
              "      <td>-7.833492</td>\n",
              "      <td>7.046922</td>\n",
              "      <td>6.967556</td>\n",
              "      <td>-3.341271</td>\n",
              "      <td>3.557202</td>\n",
              "      <td>-1.224863</td>\n",
              "      <td>4.301185</td>\n",
              "      <td>-6.613338</td>\n",
              "      <td>-8.054432</td>\n",
              "      <td>8.960152</td>\n",
              "      <td>8.176317</td>\n",
              "    </tr>\n",
              "    <tr>\n",
              "      <th>3</th>\n",
              "      <td>-8.309558</td>\n",
              "      <td>-0.700731</td>\n",
              "      <td>-6.674782</td>\n",
              "      <td>6.733736</td>\n",
              "      <td>8.064153</td>\n",
              "      <td>-9.515225</td>\n",
              "      <td>9.423268</td>\n",
              "      <td>10.051663</td>\n",
              "      <td>5.773942</td>\n",
              "      <td>2.191188</td>\n",
              "      <td>-6.168410</td>\n",
              "      <td>-3.242995</td>\n",
              "      <td>7.661962</td>\n",
              "      <td>-3.454031</td>\n",
              "      <td>-6.803181</td>\n",
              "      <td>-4.604935</td>\n",
              "      <td>0.994939</td>\n",
              "      <td>-9.752362</td>\n",
              "      <td>6.206699</td>\n",
              "      <td>-7.746425</td>\n",
              "      <td>-2.671065</td>\n",
              "      <td>-8.756579</td>\n",
              "      <td>3.640509</td>\n",
              "      <td>-3.570759</td>\n",
              "      <td>5.755518</td>\n",
              "      <td>3.337119</td>\n",
              "      <td>-2.788030</td>\n",
              "      <td>-9.860391</td>\n",
              "      <td>8.703038</td>\n",
              "    </tr>\n",
              "    <tr>\n",
              "      <th>4</th>\n",
              "      <td>8.340888</td>\n",
              "      <td>-8.214758</td>\n",
              "      <td>-5.512123</td>\n",
              "      <td>-1.567990</td>\n",
              "      <td>5.905051</td>\n",
              "      <td>8.980198</td>\n",
              "      <td>8.079326</td>\n",
              "      <td>3.190559</td>\n",
              "      <td>-0.398816</td>\n",
              "      <td>-1.669538</td>\n",
              "      <td>5.329574</td>\n",
              "      <td>3.758042</td>\n",
              "      <td>2.629444</td>\n",
              "      <td>-2.314456</td>\n",
              "      <td>6.568466</td>\n",
              "      <td>6.071499</td>\n",
              "      <td>-5.243972</td>\n",
              "      <td>3.210821</td>\n",
              "      <td>6.460610</td>\n",
              "      <td>-11.300239</td>\n",
              "      <td>-9.199506</td>\n",
              "      <td>9.716673</td>\n",
              "      <td>6.044433</td>\n",
              "      <td>4.530647</td>\n",
              "      <td>6.792402</td>\n",
              "      <td>-5.300715</td>\n",
              "      <td>-8.420804</td>\n",
              "      <td>5.595060</td>\n",
              "      <td>0.070567</td>\n",
              "    </tr>\n",
              "    <tr>\n",
              "      <th>5</th>\n",
              "      <td>-0.008196</td>\n",
              "      <td>-3.905819</td>\n",
              "      <td>-2.637004</td>\n",
              "      <td>11.584560</td>\n",
              "      <td>3.609969</td>\n",
              "      <td>-4.922349</td>\n",
              "      <td>4.130803</td>\n",
              "      <td>-0.354242</td>\n",
              "      <td>5.428811</td>\n",
              "      <td>-1.945650</td>\n",
              "      <td>-4.310180</td>\n",
              "      <td>-0.241423</td>\n",
              "      <td>-6.209236</td>\n",
              "      <td>-6.010673</td>\n",
              "      <td>-4.444782</td>\n",
              "      <td>0.892926</td>\n",
              "      <td>-0.181288</td>\n",
              "      <td>8.701273</td>\n",
              "      <td>4.289904</td>\n",
              "      <td>-6.810533</td>\n",
              "      <td>6.110376</td>\n",
              "      <td>-5.082506</td>\n",
              "      <td>-8.846683</td>\n",
              "      <td>-2.556855</td>\n",
              "      <td>3.647087</td>\n",
              "      <td>-5.247500</td>\n",
              "      <td>-4.014248</td>\n",
              "      <td>8.827011</td>\n",
              "      <td>10.689298</td>\n",
              "    </tr>\n",
              "    <tr>\n",
              "      <th>6</th>\n",
              "      <td>-1.451118</td>\n",
              "      <td>-3.321407</td>\n",
              "      <td>-2.468177</td>\n",
              "      <td>9.508984</td>\n",
              "      <td>5.016766</td>\n",
              "      <td>-6.770164</td>\n",
              "      <td>4.504332</td>\n",
              "      <td>-2.038038</td>\n",
              "      <td>6.095116</td>\n",
              "      <td>-0.102597</td>\n",
              "      <td>-3.310334</td>\n",
              "      <td>0.996609</td>\n",
              "      <td>-5.974946</td>\n",
              "      <td>-6.391871</td>\n",
              "      <td>-1.672765</td>\n",
              "      <td>0.671353</td>\n",
              "      <td>-1.996846</td>\n",
              "      <td>10.266452</td>\n",
              "      <td>1.928209</td>\n",
              "      <td>-6.279352</td>\n",
              "      <td>5.981063</td>\n",
              "      <td>-4.801057</td>\n",
              "      <td>-10.811158</td>\n",
              "      <td>-2.119801</td>\n",
              "      <td>1.681898</td>\n",
              "      <td>-4.812102</td>\n",
              "      <td>-2.681608</td>\n",
              "      <td>10.315724</td>\n",
              "      <td>10.353871</td>\n",
              "    </tr>\n",
              "    <tr>\n",
              "      <th>7</th>\n",
              "      <td>0.671690</td>\n",
              "      <td>-3.830463</td>\n",
              "      <td>-0.928794</td>\n",
              "      <td>2.866057</td>\n",
              "      <td>2.734904</td>\n",
              "      <td>8.027056</td>\n",
              "      <td>3.700261</td>\n",
              "      <td>0.083224</td>\n",
              "      <td>-6.226578</td>\n",
              "      <td>1.571061</td>\n",
              "      <td>-2.371665</td>\n",
              "      <td>-4.958551</td>\n",
              "      <td>2.637631</td>\n",
              "      <td>5.244587</td>\n",
              "      <td>2.638098</td>\n",
              "      <td>3.244530</td>\n",
              "      <td>3.351471</td>\n",
              "      <td>10.712978</td>\n",
              "      <td>6.363050</td>\n",
              "      <td>5.405759</td>\n",
              "      <td>-2.681341</td>\n",
              "      <td>-5.938889</td>\n",
              "      <td>9.305665</td>\n",
              "      <td>-0.477574</td>\n",
              "      <td>-1.606843</td>\n",
              "      <td>2.578406</td>\n",
              "      <td>4.564302</td>\n",
              "      <td>5.876039</td>\n",
              "      <td>-1.284383</td>\n",
              "    </tr>\n",
              "    <tr>\n",
              "      <th>8</th>\n",
              "      <td>5.277115</td>\n",
              "      <td>8.073927</td>\n",
              "      <td>5.872592</td>\n",
              "      <td>-6.940423</td>\n",
              "      <td>-4.473827</td>\n",
              "      <td>-4.723098</td>\n",
              "      <td>7.874479</td>\n",
              "      <td>1.942789</td>\n",
              "      <td>7.342161</td>\n",
              "      <td>-8.149539</td>\n",
              "      <td>5.774390</td>\n",
              "      <td>-9.927808</td>\n",
              "      <td>-10.244034</td>\n",
              "      <td>-11.283071</td>\n",
              "      <td>-4.226304</td>\n",
              "      <td>-2.097110</td>\n",
              "      <td>9.967098</td>\n",
              "      <td>9.084981</td>\n",
              "      <td>-0.842068</td>\n",
              "      <td>4.887911</td>\n",
              "      <td>-10.149832</td>\n",
              "      <td>5.400242</td>\n",
              "      <td>-8.597745</td>\n",
              "      <td>-6.325101</td>\n",
              "      <td>8.145970</td>\n",
              "      <td>-3.728967</td>\n",
              "      <td>7.788023</td>\n",
              "      <td>1.827706</td>\n",
              "      <td>4.067961</td>\n",
              "    </tr>\n",
              "    <tr>\n",
              "      <th>9</th>\n",
              "      <td>1.025774</td>\n",
              "      <td>-2.732722</td>\n",
              "      <td>-5.124041</td>\n",
              "      <td>10.234182</td>\n",
              "      <td>0.261584</td>\n",
              "      <td>3.921261</td>\n",
              "      <td>-5.994564</td>\n",
              "      <td>4.755783</td>\n",
              "      <td>4.560511</td>\n",
              "      <td>5.574445</td>\n",
              "      <td>7.317284</td>\n",
              "      <td>5.869593</td>\n",
              "      <td>-2.121829</td>\n",
              "      <td>6.747645</td>\n",
              "      <td>-9.036736</td>\n",
              "      <td>7.351578</td>\n",
              "      <td>5.730886</td>\n",
              "      <td>1.557586</td>\n",
              "      <td>2.191701</td>\n",
              "      <td>9.230923</td>\n",
              "      <td>-0.864130</td>\n",
              "      <td>0.881085</td>\n",
              "      <td>-0.224412</td>\n",
              "      <td>4.042582</td>\n",
              "      <td>-10.335821</td>\n",
              "      <td>-8.488596</td>\n",
              "      <td>-7.493380</td>\n",
              "      <td>7.581814</td>\n",
              "      <td>-2.737221</td>\n",
              "    </tr>\n",
              "    <tr>\n",
              "      <th>10</th>\n",
              "      <td>2.499005</td>\n",
              "      <td>7.459226</td>\n",
              "      <td>8.574196</td>\n",
              "      <td>5.299181</td>\n",
              "      <td>-8.088780</td>\n",
              "      <td>3.006087</td>\n",
              "      <td>-2.051506</td>\n",
              "      <td>-0.577025</td>\n",
              "      <td>3.101352</td>\n",
              "      <td>-5.904296</td>\n",
              "      <td>-5.777974</td>\n",
              "      <td>4.317075</td>\n",
              "      <td>6.775549</td>\n",
              "      <td>8.298687</td>\n",
              "      <td>4.269511</td>\n",
              "      <td>-10.728141</td>\n",
              "      <td>-8.217539</td>\n",
              "      <td>2.849536</td>\n",
              "      <td>-5.012835</td>\n",
              "      <td>-4.141735</td>\n",
              "      <td>8.697145</td>\n",
              "      <td>8.469036</td>\n",
              "      <td>2.105065</td>\n",
              "      <td>-4.659973</td>\n",
              "      <td>5.662846</td>\n",
              "      <td>-2.170012</td>\n",
              "      <td>2.243283</td>\n",
              "      <td>7.616415</td>\n",
              "      <td>-1.924925</td>\n",
              "    </tr>\n",
              "    <tr>\n",
              "      <th>11</th>\n",
              "      <td>-1.142359</td>\n",
              "      <td>-7.481156</td>\n",
              "      <td>-0.340936</td>\n",
              "      <td>8.103457</td>\n",
              "      <td>-7.861413</td>\n",
              "      <td>-3.890914</td>\n",
              "      <td>-0.683919</td>\n",
              "      <td>-5.491910</td>\n",
              "      <td>-8.674746</td>\n",
              "      <td>-6.145077</td>\n",
              "      <td>8.811007</td>\n",
              "      <td>-4.313490</td>\n",
              "      <td>-7.358813</td>\n",
              "      <td>-1.575096</td>\n",
              "      <td>2.856097</td>\n",
              "      <td>-3.524693</td>\n",
              "      <td>8.298167</td>\n",
              "      <td>-8.033344</td>\n",
              "      <td>8.816903</td>\n",
              "      <td>-0.176775</td>\n",
              "      <td>5.693648</td>\n",
              "      <td>2.456979</td>\n",
              "      <td>-6.552634</td>\n",
              "      <td>-9.455586</td>\n",
              "      <td>9.429147</td>\n",
              "      <td>8.214740</td>\n",
              "      <td>4.178883</td>\n",
              "      <td>-1.699141</td>\n",
              "      <td>-1.935957</td>\n",
              "    </tr>\n",
              "    <tr>\n",
              "      <th>12</th>\n",
              "      <td>-0.468797</td>\n",
              "      <td>-3.270112</td>\n",
              "      <td>-1.763467</td>\n",
              "      <td>4.544089</td>\n",
              "      <td>5.621067</td>\n",
              "      <td>9.565760</td>\n",
              "      <td>3.228217</td>\n",
              "      <td>-0.891764</td>\n",
              "      <td>-9.134822</td>\n",
              "      <td>-0.995650</td>\n",
              "      <td>-1.607905</td>\n",
              "      <td>-3.425362</td>\n",
              "      <td>4.137878</td>\n",
              "      <td>9.389266</td>\n",
              "      <td>2.512968</td>\n",
              "      <td>3.091039</td>\n",
              "      <td>2.532290</td>\n",
              "      <td>11.892995</td>\n",
              "      <td>7.622234</td>\n",
              "      <td>5.455876</td>\n",
              "      <td>-3.047787</td>\n",
              "      <td>-2.550026</td>\n",
              "      <td>9.513308</td>\n",
              "      <td>1.341996</td>\n",
              "      <td>-1.557202</td>\n",
              "      <td>2.320623</td>\n",
              "      <td>3.561553</td>\n",
              "      <td>6.525110</td>\n",
              "      <td>-2.638670</td>\n",
              "    </tr>\n",
              "    <tr>\n",
              "      <th>13</th>\n",
              "      <td>0.297052</td>\n",
              "      <td>-0.712293</td>\n",
              "      <td>-0.263445</td>\n",
              "      <td>9.602995</td>\n",
              "      <td>4.504481</td>\n",
              "      <td>-5.680249</td>\n",
              "      <td>3.306536</td>\n",
              "      <td>-2.082266</td>\n",
              "      <td>5.629539</td>\n",
              "      <td>-1.267180</td>\n",
              "      <td>-7.357991</td>\n",
              "      <td>0.123545</td>\n",
              "      <td>-5.141304</td>\n",
              "      <td>-5.788993</td>\n",
              "      <td>-3.979165</td>\n",
              "      <td>2.108040</td>\n",
              "      <td>0.555247</td>\n",
              "      <td>7.834555</td>\n",
              "      <td>2.850699</td>\n",
              "      <td>-7.661993</td>\n",
              "      <td>5.499291</td>\n",
              "      <td>-7.265978</td>\n",
              "      <td>-9.057519</td>\n",
              "      <td>-2.135379</td>\n",
              "      <td>1.648950</td>\n",
              "      <td>-3.292122</td>\n",
              "      <td>-4.255151</td>\n",
              "      <td>8.793532</td>\n",
              "      <td>8.981793</td>\n",
              "    </tr>\n",
              "    <tr>\n",
              "      <th>14</th>\n",
              "      <td>-7.464180</td>\n",
              "      <td>-3.014878</td>\n",
              "      <td>-7.282297</td>\n",
              "      <td>7.832311</td>\n",
              "      <td>9.279782</td>\n",
              "      <td>-6.985911</td>\n",
              "      <td>9.481176</td>\n",
              "      <td>9.237638</td>\n",
              "      <td>6.776785</td>\n",
              "      <td>3.523859</td>\n",
              "      <td>-6.746752</td>\n",
              "      <td>0.133037</td>\n",
              "      <td>9.443281</td>\n",
              "      <td>-3.526972</td>\n",
              "      <td>-6.439575</td>\n",
              "      <td>-5.662323</td>\n",
              "      <td>1.604961</td>\n",
              "      <td>-10.863016</td>\n",
              "      <td>2.420993</td>\n",
              "      <td>-7.623889</td>\n",
              "      <td>-1.167500</td>\n",
              "      <td>-6.283725</td>\n",
              "      <td>4.871165</td>\n",
              "      <td>-5.745073</td>\n",
              "      <td>2.851269</td>\n",
              "      <td>3.349810</td>\n",
              "      <td>-2.900712</td>\n",
              "      <td>-9.048915</td>\n",
              "      <td>9.628156</td>\n",
              "    </tr>\n",
              "    <tr>\n",
              "      <th>15</th>\n",
              "      <td>0.422333</td>\n",
              "      <td>5.216098</td>\n",
              "      <td>6.346838</td>\n",
              "      <td>6.683781</td>\n",
              "      <td>-9.527245</td>\n",
              "      <td>8.231134</td>\n",
              "      <td>9.265544</td>\n",
              "      <td>-5.811340</td>\n",
              "      <td>5.284858</td>\n",
              "      <td>-2.329440</td>\n",
              "      <td>1.782248</td>\n",
              "      <td>2.628842</td>\n",
              "      <td>6.891872</td>\n",
              "      <td>8.917472</td>\n",
              "      <td>9.137161</td>\n",
              "      <td>3.337064</td>\n",
              "      <td>-6.443607</td>\n",
              "      <td>8.276711</td>\n",
              "      <td>-3.386682</td>\n",
              "      <td>2.077173</td>\n",
              "      <td>7.028008</td>\n",
              "      <td>-1.174337</td>\n",
              "      <td>8.626831</td>\n",
              "      <td>10.645114</td>\n",
              "      <td>10.391519</td>\n",
              "      <td>-7.039065</td>\n",
              "      <td>-3.310561</td>\n",
              "      <td>-3.436972</td>\n",
              "      <td>-2.718500</td>\n",
              "    </tr>\n",
              "    <tr>\n",
              "      <th>16</th>\n",
              "      <td>4.967401</td>\n",
              "      <td>2.563551</td>\n",
              "      <td>-3.723634</td>\n",
              "      <td>-7.785786</td>\n",
              "      <td>6.188859</td>\n",
              "      <td>-1.295227</td>\n",
              "      <td>-3.361892</td>\n",
              "      <td>0.735183</td>\n",
              "      <td>-5.158540</td>\n",
              "      <td>-2.924278</td>\n",
              "      <td>3.572685</td>\n",
              "      <td>3.896015</td>\n",
              "      <td>-4.611894</td>\n",
              "      <td>-2.996080</td>\n",
              "      <td>-4.486567</td>\n",
              "      <td>1.663829</td>\n",
              "      <td>-6.897880</td>\n",
              "      <td>1.347785</td>\n",
              "      <td>5.869430</td>\n",
              "      <td>-6.980826</td>\n",
              "      <td>2.888858</td>\n",
              "      <td>-1.589256</td>\n",
              "      <td>6.014649</td>\n",
              "      <td>7.158111</td>\n",
              "      <td>8.206768</td>\n",
              "      <td>1.510999</td>\n",
              "      <td>2.423431</td>\n",
              "      <td>1.992773</td>\n",
              "      <td>-0.890217</td>\n",
              "    </tr>\n",
              "    <tr>\n",
              "      <th>17</th>\n",
              "      <td>-0.171092</td>\n",
              "      <td>0.146464</td>\n",
              "      <td>-2.979798</td>\n",
              "      <td>8.873529</td>\n",
              "      <td>3.411692</td>\n",
              "      <td>-5.719698</td>\n",
              "      <td>4.599896</td>\n",
              "      <td>-2.220806</td>\n",
              "      <td>5.814943</td>\n",
              "      <td>-0.889185</td>\n",
              "      <td>-6.752539</td>\n",
              "      <td>-0.689059</td>\n",
              "      <td>-7.505667</td>\n",
              "      <td>-7.219898</td>\n",
              "      <td>-5.642597</td>\n",
              "      <td>2.037738</td>\n",
              "      <td>-0.146570</td>\n",
              "      <td>10.279871</td>\n",
              "      <td>1.812918</td>\n",
              "      <td>-7.152752</td>\n",
              "      <td>6.231786</td>\n",
              "      <td>-5.817792</td>\n",
              "      <td>-8.926243</td>\n",
              "      <td>-4.849763</td>\n",
              "      <td>3.711717</td>\n",
              "      <td>-4.317996</td>\n",
              "      <td>-2.956188</td>\n",
              "      <td>7.970249</td>\n",
              "      <td>8.920511</td>\n",
              "    </tr>\n",
              "    <tr>\n",
              "      <th>18</th>\n",
              "      <td>4.084774</td>\n",
              "      <td>4.146063</td>\n",
              "      <td>-5.737654</td>\n",
              "      <td>-9.260685</td>\n",
              "      <td>4.737189</td>\n",
              "      <td>-0.170930</td>\n",
              "      <td>-6.293211</td>\n",
              "      <td>0.522965</td>\n",
              "      <td>-3.604760</td>\n",
              "      <td>-3.510279</td>\n",
              "      <td>0.714713</td>\n",
              "      <td>2.690455</td>\n",
              "      <td>-3.223141</td>\n",
              "      <td>-2.084461</td>\n",
              "      <td>-5.017934</td>\n",
              "      <td>2.405110</td>\n",
              "      <td>-7.150003</td>\n",
              "      <td>2.366519</td>\n",
              "      <td>6.368166</td>\n",
              "      <td>-6.483699</td>\n",
              "      <td>3.986695</td>\n",
              "      <td>-1.323057</td>\n",
              "      <td>6.511445</td>\n",
              "      <td>4.653886</td>\n",
              "      <td>6.427713</td>\n",
              "      <td>0.114030</td>\n",
              "      <td>3.939680</td>\n",
              "      <td>4.731892</td>\n",
              "      <td>-2.151469</td>\n",
              "    </tr>\n",
              "    <tr>\n",
              "      <th>19</th>\n",
              "      <td>9.935017</td>\n",
              "      <td>-9.975659</td>\n",
              "      <td>-3.513869</td>\n",
              "      <td>-0.985378</td>\n",
              "      <td>3.953022</td>\n",
              "      <td>8.397697</td>\n",
              "      <td>9.010226</td>\n",
              "      <td>2.926247</td>\n",
              "      <td>-0.148260</td>\n",
              "      <td>-0.857704</td>\n",
              "      <td>4.267136</td>\n",
              "      <td>5.150478</td>\n",
              "      <td>4.504585</td>\n",
              "      <td>-2.250150</td>\n",
              "      <td>9.207024</td>\n",
              "      <td>4.338102</td>\n",
              "      <td>-4.809901</td>\n",
              "      <td>2.858562</td>\n",
              "      <td>6.136383</td>\n",
              "      <td>-9.695375</td>\n",
              "      <td>-6.576034</td>\n",
              "      <td>7.621639</td>\n",
              "      <td>7.618733</td>\n",
              "      <td>4.803802</td>\n",
              "      <td>7.376663</td>\n",
              "      <td>-5.983288</td>\n",
              "      <td>-9.468152</td>\n",
              "      <td>3.868318</td>\n",
              "      <td>0.402891</td>\n",
              "    </tr>\n",
              "    <tr>\n",
              "      <th>20</th>\n",
              "      <td>-1.384873</td>\n",
              "      <td>-3.285596</td>\n",
              "      <td>-0.992761</td>\n",
              "      <td>7.369633</td>\n",
              "      <td>-8.429078</td>\n",
              "      <td>-1.773541</td>\n",
              "      <td>-3.157362</td>\n",
              "      <td>-3.861533</td>\n",
              "      <td>-9.319432</td>\n",
              "      <td>-5.436894</td>\n",
              "      <td>9.178473</td>\n",
              "      <td>-4.775476</td>\n",
              "      <td>-9.423913</td>\n",
              "      <td>-0.991617</td>\n",
              "      <td>1.579116</td>\n",
              "      <td>-1.571508</td>\n",
              "      <td>8.358319</td>\n",
              "      <td>-7.030123</td>\n",
              "      <td>7.246948</td>\n",
              "      <td>-0.152151</td>\n",
              "      <td>5.148539</td>\n",
              "      <td>3.190189</td>\n",
              "      <td>-5.564885</td>\n",
              "      <td>-9.919041</td>\n",
              "      <td>8.005062</td>\n",
              "      <td>8.229787</td>\n",
              "      <td>3.407338</td>\n",
              "      <td>-0.878539</td>\n",
              "      <td>-1.691848</td>\n",
              "    </tr>\n",
              "    <tr>\n",
              "      <th>21</th>\n",
              "      <td>0.829535</td>\n",
              "      <td>7.668482</td>\n",
              "      <td>5.435133</td>\n",
              "      <td>5.609938</td>\n",
              "      <td>-7.323070</td>\n",
              "      <td>7.944009</td>\n",
              "      <td>7.134880</td>\n",
              "      <td>-3.758099</td>\n",
              "      <td>6.240386</td>\n",
              "      <td>-0.836394</td>\n",
              "      <td>-1.248295</td>\n",
              "      <td>3.620573</td>\n",
              "      <td>8.515403</td>\n",
              "      <td>7.617996</td>\n",
              "      <td>8.486152</td>\n",
              "      <td>2.487451</td>\n",
              "      <td>-8.692474</td>\n",
              "      <td>6.818282</td>\n",
              "      <td>-3.235556</td>\n",
              "      <td>0.180621</td>\n",
              "      <td>9.788700</td>\n",
              "      <td>-0.214321</td>\n",
              "      <td>5.692356</td>\n",
              "      <td>10.160541</td>\n",
              "      <td>7.957930</td>\n",
              "      <td>-3.502675</td>\n",
              "      <td>-4.336981</td>\n",
              "      <td>-3.872111</td>\n",
              "      <td>-1.016021</td>\n",
              "    </tr>\n",
              "    <tr>\n",
              "      <th>22</th>\n",
              "      <td>2.192304</td>\n",
              "      <td>9.790791</td>\n",
              "      <td>9.415765</td>\n",
              "      <td>4.976770</td>\n",
              "      <td>-10.657479</td>\n",
              "      <td>2.453121</td>\n",
              "      <td>-1.460556</td>\n",
              "      <td>-0.997777</td>\n",
              "      <td>2.455688</td>\n",
              "      <td>-5.705874</td>\n",
              "      <td>-5.076239</td>\n",
              "      <td>2.677630</td>\n",
              "      <td>5.875439</td>\n",
              "      <td>9.154017</td>\n",
              "      <td>6.878198</td>\n",
              "      <td>-8.820626</td>\n",
              "      <td>-7.216247</td>\n",
              "      <td>6.487831</td>\n",
              "      <td>-5.179952</td>\n",
              "      <td>-4.543032</td>\n",
              "      <td>6.247291</td>\n",
              "      <td>9.046475</td>\n",
              "      <td>1.080001</td>\n",
              "      <td>-7.429291</td>\n",
              "      <td>6.354640</td>\n",
              "      <td>0.890221</td>\n",
              "      <td>1.120088</td>\n",
              "      <td>6.175373</td>\n",
              "      <td>-1.603671</td>\n",
              "    </tr>\n",
              "    <tr>\n",
              "      <th>23</th>\n",
              "      <td>0.679820</td>\n",
              "      <td>8.584065</td>\n",
              "      <td>9.139620</td>\n",
              "      <td>6.211884</td>\n",
              "      <td>-9.647971</td>\n",
              "      <td>3.958831</td>\n",
              "      <td>-1.921445</td>\n",
              "      <td>-0.064465</td>\n",
              "      <td>0.771994</td>\n",
              "      <td>-5.942555</td>\n",
              "      <td>-4.540175</td>\n",
              "      <td>4.186689</td>\n",
              "      <td>6.623955</td>\n",
              "      <td>7.606394</td>\n",
              "      <td>5.349593</td>\n",
              "      <td>-8.548059</td>\n",
              "      <td>-7.259703</td>\n",
              "      <td>5.848206</td>\n",
              "      <td>-4.187196</td>\n",
              "      <td>-5.094200</td>\n",
              "      <td>6.134661</td>\n",
              "      <td>9.104457</td>\n",
              "      <td>2.461523</td>\n",
              "      <td>-6.920528</td>\n",
              "      <td>6.456060</td>\n",
              "      <td>-0.959014</td>\n",
              "      <td>1.844333</td>\n",
              "      <td>6.594896</td>\n",
              "      <td>-1.651830</td>\n",
              "    </tr>\n",
              "    <tr>\n",
              "      <th>24</th>\n",
              "      <td>1.021689</td>\n",
              "      <td>6.806108</td>\n",
              "      <td>7.758769</td>\n",
              "      <td>6.096062</td>\n",
              "      <td>-9.981084</td>\n",
              "      <td>3.142467</td>\n",
              "      <td>-3.211606</td>\n",
              "      <td>-0.267848</td>\n",
              "      <td>3.175045</td>\n",
              "      <td>-5.608387</td>\n",
              "      <td>-3.755798</td>\n",
              "      <td>4.602241</td>\n",
              "      <td>6.267448</td>\n",
              "      <td>5.724612</td>\n",
              "      <td>4.447755</td>\n",
              "      <td>-8.810118</td>\n",
              "      <td>-9.196272</td>\n",
              "      <td>4.860056</td>\n",
              "      <td>-5.147244</td>\n",
              "      <td>-6.904479</td>\n",
              "      <td>7.568306</td>\n",
              "      <td>10.272543</td>\n",
              "      <td>1.143658</td>\n",
              "      <td>-7.827607</td>\n",
              "      <td>4.265734</td>\n",
              "      <td>0.280791</td>\n",
              "      <td>3.731499</td>\n",
              "      <td>7.868644</td>\n",
              "      <td>-0.745062</td>\n",
              "    </tr>\n",
              "    <tr>\n",
              "      <th>25</th>\n",
              "      <td>1.749776</td>\n",
              "      <td>-3.402472</td>\n",
              "      <td>-8.124445</td>\n",
              "      <td>11.120042</td>\n",
              "      <td>1.019984</td>\n",
              "      <td>3.806694</td>\n",
              "      <td>-6.547528</td>\n",
              "      <td>3.950444</td>\n",
              "      <td>4.479765</td>\n",
              "      <td>6.056665</td>\n",
              "      <td>8.298279</td>\n",
              "      <td>6.234985</td>\n",
              "      <td>-2.200249</td>\n",
              "      <td>7.788470</td>\n",
              "      <td>-9.798763</td>\n",
              "      <td>6.901968</td>\n",
              "      <td>7.447763</td>\n",
              "      <td>1.781045</td>\n",
              "      <td>1.833896</td>\n",
              "      <td>9.961603</td>\n",
              "      <td>-2.558045</td>\n",
              "      <td>0.557696</td>\n",
              "      <td>-0.744730</td>\n",
              "      <td>4.399252</td>\n",
              "      <td>-7.684606</td>\n",
              "      <td>-8.208365</td>\n",
              "      <td>-7.949302</td>\n",
              "      <td>7.342316</td>\n",
              "      <td>-2.979120</td>\n",
              "    </tr>\n",
              "    <tr>\n",
              "      <th>26</th>\n",
              "      <td>9.143669</td>\n",
              "      <td>-9.346808</td>\n",
              "      <td>-4.526668</td>\n",
              "      <td>-0.829281</td>\n",
              "      <td>7.349988</td>\n",
              "      <td>9.433047</td>\n",
              "      <td>8.432376</td>\n",
              "      <td>1.202600</td>\n",
              "      <td>0.588414</td>\n",
              "      <td>1.783694</td>\n",
              "      <td>5.075425</td>\n",
              "      <td>2.971561</td>\n",
              "      <td>4.630006</td>\n",
              "      <td>-3.485907</td>\n",
              "      <td>8.434302</td>\n",
              "      <td>4.320500</td>\n",
              "      <td>-3.994538</td>\n",
              "      <td>3.284922</td>\n",
              "      <td>7.696353</td>\n",
              "      <td>-10.425976</td>\n",
              "      <td>-6.861569</td>\n",
              "      <td>9.898477</td>\n",
              "      <td>5.794530</td>\n",
              "      <td>5.510137</td>\n",
              "      <td>9.406802</td>\n",
              "      <td>-4.835606</td>\n",
              "      <td>-8.331029</td>\n",
              "      <td>3.723215</td>\n",
              "      <td>-1.855676</td>\n",
              "    </tr>\n",
              "    <tr>\n",
              "      <th>27</th>\n",
              "      <td>-0.830343</td>\n",
              "      <td>-4.885333</td>\n",
              "      <td>-5.769567</td>\n",
              "      <td>9.233390</td>\n",
              "      <td>-2.056981</td>\n",
              "      <td>4.924050</td>\n",
              "      <td>-5.728058</td>\n",
              "      <td>5.779949</td>\n",
              "      <td>3.826405</td>\n",
              "      <td>5.789423</td>\n",
              "      <td>9.304918</td>\n",
              "      <td>5.133988</td>\n",
              "      <td>-2.078911</td>\n",
              "      <td>8.285459</td>\n",
              "      <td>-9.126849</td>\n",
              "      <td>6.178225</td>\n",
              "      <td>6.732545</td>\n",
              "      <td>-0.210342</td>\n",
              "      <td>2.587024</td>\n",
              "      <td>9.324424</td>\n",
              "      <td>-3.003273</td>\n",
              "      <td>-0.843492</td>\n",
              "      <td>0.393064</td>\n",
              "      <td>2.413255</td>\n",
              "      <td>-10.088415</td>\n",
              "      <td>-8.127147</td>\n",
              "      <td>-9.972856</td>\n",
              "      <td>8.513358</td>\n",
              "      <td>-6.581171</td>\n",
              "    </tr>\n",
              "    <tr>\n",
              "      <th>28</th>\n",
              "      <td>5.487256</td>\n",
              "      <td>5.031123</td>\n",
              "      <td>-9.623679</td>\n",
              "      <td>-8.329317</td>\n",
              "      <td>7.494462</td>\n",
              "      <td>2.076323</td>\n",
              "      <td>6.938454</td>\n",
              "      <td>1.677851</td>\n",
              "      <td>4.095920</td>\n",
              "      <td>0.000350</td>\n",
              "      <td>4.572206</td>\n",
              "      <td>-2.087739</td>\n",
              "      <td>-1.763396</td>\n",
              "      <td>-2.627516</td>\n",
              "      <td>-1.496601</td>\n",
              "      <td>5.763952</td>\n",
              "      <td>-1.993206</td>\n",
              "      <td>-2.935027</td>\n",
              "      <td>-2.805372</td>\n",
              "      <td>-1.506044</td>\n",
              "      <td>3.358601</td>\n",
              "      <td>-7.146870</td>\n",
              "      <td>3.163065</td>\n",
              "      <td>-5.930493</td>\n",
              "      <td>8.768808</td>\n",
              "      <td>-8.724111</td>\n",
              "      <td>5.459297</td>\n",
              "      <td>-3.378179</td>\n",
              "      <td>-8.966237</td>\n",
              "    </tr>\n",
              "  </tbody>\n",
              "</table>\n",
              "</div>"
            ],
            "text/plain": [
              "          0         1         2   ...        26         27         28\n",
              "0  -1.122979 -3.295591 -1.905968  ... -2.706593   8.540504  10.424226\n",
              "1  -1.178806 -1.705041 -2.304133  ... -2.052904  10.047594  10.208270\n",
              "2   0.904578  4.691859 -3.682533  ... -8.054432   8.960152   8.176317\n",
              "3  -8.309558 -0.700731 -6.674782  ... -2.788030  -9.860391   8.703038\n",
              "4   8.340888 -8.214758 -5.512123  ... -8.420804   5.595060   0.070567\n",
              "5  -0.008196 -3.905819 -2.637004  ... -4.014248   8.827011  10.689298\n",
              "6  -1.451118 -3.321407 -2.468177  ... -2.681608  10.315724  10.353871\n",
              "7   0.671690 -3.830463 -0.928794  ...  4.564302   5.876039  -1.284383\n",
              "8   5.277115  8.073927  5.872592  ...  7.788023   1.827706   4.067961\n",
              "9   1.025774 -2.732722 -5.124041  ... -7.493380   7.581814  -2.737221\n",
              "10  2.499005  7.459226  8.574196  ...  2.243283   7.616415  -1.924925\n",
              "11 -1.142359 -7.481156 -0.340936  ...  4.178883  -1.699141  -1.935957\n",
              "12 -0.468797 -3.270112 -1.763467  ...  3.561553   6.525110  -2.638670\n",
              "13  0.297052 -0.712293 -0.263445  ... -4.255151   8.793532   8.981793\n",
              "14 -7.464180 -3.014878 -7.282297  ... -2.900712  -9.048915   9.628156\n",
              "15  0.422333  5.216098  6.346838  ... -3.310561  -3.436972  -2.718500\n",
              "16  4.967401  2.563551 -3.723634  ...  2.423431   1.992773  -0.890217\n",
              "17 -0.171092  0.146464 -2.979798  ... -2.956188   7.970249   8.920511\n",
              "18  4.084774  4.146063 -5.737654  ...  3.939680   4.731892  -2.151469\n",
              "19  9.935017 -9.975659 -3.513869  ... -9.468152   3.868318   0.402891\n",
              "20 -1.384873 -3.285596 -0.992761  ...  3.407338  -0.878539  -1.691848\n",
              "21  0.829535  7.668482  5.435133  ... -4.336981  -3.872111  -1.016021\n",
              "22  2.192304  9.790791  9.415765  ...  1.120088   6.175373  -1.603671\n",
              "23  0.679820  8.584065  9.139620  ...  1.844333   6.594896  -1.651830\n",
              "24  1.021689  6.806108  7.758769  ...  3.731499   7.868644  -0.745062\n",
              "25  1.749776 -3.402472 -8.124445  ... -7.949302   7.342316  -2.979120\n",
              "26  9.143669 -9.346808 -4.526668  ... -8.331029   3.723215  -1.855676\n",
              "27 -0.830343 -4.885333 -5.769567  ... -9.972856   8.513358  -6.581171\n",
              "28  5.487256  5.031123 -9.623679  ...  5.459297  -3.378179  -8.966237\n",
              "\n",
              "[29 rows x 29 columns]"
            ]
          },
          "metadata": {
            "tags": []
          },
          "execution_count": 48
        }
      ]
    },
    {
      "cell_type": "markdown",
      "metadata": {
        "id": "gUM_otcNSNt1"
      },
      "source": [
        "## **ข้อที่2 ทำ clustering แล้วทำ visualize ข้อมูลแบบ 2 มิติ**"
      ]
    },
    {
      "cell_type": "markdown",
      "metadata": {
        "id": "Ng53qxeBSyUJ"
      },
      "source": [
        "**Import**"
      ]
    },
    {
      "cell_type": "code",
      "metadata": {
        "id": "1u5S0uTLSMfr"
      },
      "source": [
        "from sklearn.cluster import KMeans #การนำเข้าข้อมูล"
      ],
      "execution_count": 15,
      "outputs": []
    },
    {
      "cell_type": "markdown",
      "metadata": {
        "id": "3HQT533DTDvo"
      },
      "source": [
        "**Define**"
      ]
    },
    {
      "cell_type": "code",
      "metadata": {
        "id": "vC2_ihgPTDEo"
      },
      "source": [
        "kmeans = KMeans(random_state=2021) #เริ่มสุ่มที่จุดเดียวกัน"
      ],
      "execution_count": 16,
      "outputs": []
    },
    {
      "cell_type": "markdown",
      "metadata": {
        "id": "kZupm6z1TX1M"
      },
      "source": [
        "**Fit-Transform**\n",
        "\n",
        "คำนวณหาจุด cluster centers ของข้อมูล Data ด้วยวิธี K-means clustering"
      ]
    },
    {
      "cell_type": "code",
      "metadata": {
        "id": "t262Ymy9TZSY",
        "outputId": "2236749b-61c7-4096-9abb-7d156557de69",
        "colab": {
          "base_uri": "https://localhost:8080/"
        }
      },
      "source": [
        "kmeans.fit(Data)"
      ],
      "execution_count": 17,
      "outputs": [
        {
          "output_type": "execute_result",
          "data": {
            "text/plain": [
              "KMeans(algorithm='auto', copy_x=True, init='k-means++', max_iter=300,\n",
              "       n_clusters=8, n_init=10, n_jobs=None, precompute_distances='auto',\n",
              "       random_state=2021, tol=0.0001, verbose=0)"
            ]
          },
          "metadata": {
            "tags": []
          },
          "execution_count": 17
        }
      ]
    },
    {
      "cell_type": "markdown",
      "metadata": {
        "id": "9gppfI1vUJ8N"
      },
      "source": [
        "แสดงจุด cluster centers ที่คำนวณออกมาได้"
      ]
    },
    {
      "cell_type": "code",
      "metadata": {
        "id": "D090Y9kvUV0R",
        "outputId": "16378c08-739a-4b27-a0ab-93915b769ed8",
        "colab": {
          "base_uri": "https://localhost:8080/"
        }
      },
      "source": [
        "kmeans.cluster_centers_"
      ],
      "execution_count": 18,
      "outputs": [
        {
          "output_type": "execute_result",
          "data": {
            "text/plain": [
              "array([[-3.63126731e+00, -2.21272742e+00, -4.91946255e+00,\n",
              "         8.21931883e+00,  5.62424329e+00, -7.78435110e+00,\n",
              "         6.69930926e+00,  2.59944150e+00,  6.34364609e+00,\n",
              "         3.74593986e-01, -6.56408139e+00, -1.00806471e+00,\n",
              "         1.32121437e+00, -4.99447916e+00, -5.53282563e+00,\n",
              "        -2.42435519e+00,  2.91543386e-01, -6.13465297e-01,\n",
              "         3.25077574e+00, -7.61301774e+00,  1.87439711e+00,\n",
              "        -6.51551107e+00, -2.88111443e+00, -4.11406387e+00,\n",
              "         4.04676659e+00, -1.06373383e+00, -3.32195202e+00,\n",
              "         3.80757458e-02,  9.84082630e+00,  2.76321150e+00,\n",
              "        -4.42545484e+00,  1.58160575e+01],\n",
              "       [-4.24513971e-01,  4.41983209e+00, -4.84945412e+00,\n",
              "        -3.58686735e+00,  5.96374717e+00, -8.96207334e+00,\n",
              "        -4.70838398e+00, -5.94458586e+00, -5.59174800e+00,\n",
              "         3.26748124e+00, -7.56320707e+00, -2.11044982e+00,\n",
              "         2.25315025e+00, -3.53065610e+00, -3.70923433e+00,\n",
              "         2.14593996e+00,  6.69113235e+00, -1.68840695e+00,\n",
              "        -9.04710870e+00,  7.65635623e+00,  7.39473892e+00,\n",
              "        -2.67656815e+00,  2.71148874e+00, -9.34976137e-01,\n",
              "         4.24185097e+00, -7.34335501e+00, -8.25672529e+00,\n",
              "         9.15635226e+00,  7.52890878e+00, -6.80741191e+00,\n",
              "         8.83966418e+00, -3.20370596e+01],\n",
              "       [ 2.66929730e+00,  5.46292047e+00,  1.64225475e+00,\n",
              "        -1.17650196e+00, -1.93258891e+00,  1.72019915e+00,\n",
              "        -2.94842986e+00,  3.04215845e-01, -7.74591179e-01,\n",
              "        -4.96904084e+00, -9.82054695e-01,  2.77731743e+00,\n",
              "         1.03563736e+00,  2.44352030e+00,  3.60862867e-01,\n",
              "        -3.79023908e+00, -7.21116409e+00,  3.47843462e+00,\n",
              "         6.65238853e-01, -5.86046361e+00,  5.90686413e+00,\n",
              "         3.61649875e+00,  3.36482067e+00, -1.57244406e-01,\n",
              "         5.56077732e+00,  8.69221943e-01,  2.95430776e+00,\n",
              "         4.84748940e+00, -1.13444453e+00,  9.30921568e-02,\n",
              "         1.09258409e+01,  2.46546078e+00],\n",
              "       [ 5.27516104e+00, -6.78594960e+00, -5.56020114e+00,\n",
              "         4.48688532e+00,  2.36869475e+00,  6.75140029e+00,\n",
              "         7.07661693e-01,  3.15566412e+00,  1.03868510e+00,\n",
              "         1.78296110e+00,  6.02181408e+00,  5.20943487e+00,\n",
              "         1.28551466e+00,  3.07592319e+00, -9.74800698e-02,\n",
              "         5.92042034e+00,  9.40575297e-01,  1.78006622e+00,\n",
              "         4.79070240e+00, -1.66491307e-01, -5.24228166e+00,\n",
              "         4.91034456e+00,  2.70486078e+00,  4.48654973e+00,\n",
              "        -1.13254319e+00, -7.04308721e+00, -7.81030033e+00,\n",
              "         5.73461332e+00, -2.17976507e+00,  3.71930944e+00,\n",
              "        -1.35718992e+01,  2.05965472e+01],\n",
              "       [ 7.66876088e-02, -9.26873424e+00,  4.13321638e+00,\n",
              "         2.47777997e+00,  5.53718215e+00, -8.60843725e-01,\n",
              "        -2.37294308e+00, -4.18012198e+00,  1.16787105e+00,\n",
              "        -8.33426344e+00,  2.66043510e+00,  8.93553632e+00,\n",
              "         7.78791401e+00,  7.62203110e+00, -3.11696482e+00,\n",
              "         4.01922979e+00,  5.22356557e-01,  3.13481604e+00,\n",
              "        -4.52911219e+00,  2.15445373e+00, -9.01105884e+00,\n",
              "         3.92484283e+00, -3.97523528e+00, -6.65514564e+00,\n",
              "        -3.30767688e+00, -6.64667374e+00,  8.30769824e+00,\n",
              "        -4.39574805e+00, -7.78884008e+00, -7.66997227e+00,\n",
              "        -1.85374685e+01, -3.63498613e+01],\n",
              "       [ 5.08424949e+00,  8.03141613e+00, -1.38242802e+00,\n",
              "        -6.63324646e+00,  1.24944366e+00, -1.75515185e+00,\n",
              "         9.08474299e+00,  2.20166818e+00,  6.76893409e+00,\n",
              "        -5.66307956e+00,  5.94194080e+00, -6.10558426e+00,\n",
              "        -6.00694162e+00, -5.65283977e+00, -3.94163091e+00,\n",
              "         1.74659260e+00,  3.31087180e+00,  2.79497099e+00,\n",
              "        -1.09884496e-02,  2.34745881e+00, -3.04568161e+00,\n",
              "        -5.36571870e-01, -1.91746228e+00, -5.72080616e+00,\n",
              "         8.91919045e+00, -6.05020905e+00,  6.04432403e+00,\n",
              "        -1.15136078e+00, -2.17389122e+00,  4.26885686e+00,\n",
              "         1.60628323e+01,  2.33442843e+01],\n",
              "       [-7.89127773e-01, -5.09734731e+00, -1.21228966e+00,\n",
              "         6.04028716e+00, -1.48061971e+00,  3.59400919e+00,\n",
              "         7.88935056e-01, -2.00313330e+00, -8.18189963e+00,\n",
              "        -2.86529435e+00,  3.47578715e+00, -5.03417059e+00,\n",
              "        -3.67466156e+00,  3.21294258e+00,  2.87322795e+00,\n",
              "        -6.70225331e-01,  6.07261648e+00,  1.20596088e+00,\n",
              "         8.13100450e+00,  2.58730966e+00,  1.21079192e+00,\n",
              "        -9.16839094e-01,  1.35669545e+00, -4.46488795e+00,\n",
              "         3.61386334e+00,  5.28105091e+00,  4.24633066e+00,\n",
              "         2.26401351e+00, -1.37792465e+00,  7.89823731e+00,\n",
              "        -1.01946946e+01,  4.14911866e+01],\n",
              "       [ 1.07929596e+00,  5.73900630e+00,  6.46097335e+00,\n",
              "         6.45123381e+00, -8.86596367e+00,  7.78335889e+00,\n",
              "         9.04271093e+00, -5.52990579e+00,  5.51269471e+00,\n",
              "        -1.62817229e+00, -7.14995415e-01,  3.68399879e+00,\n",
              "         8.66523685e+00,  7.16404723e+00,  9.13133271e+00,\n",
              "         2.69455805e+00, -8.66146236e+00,  7.43323439e+00,\n",
              "        -2.79342955e+00,  2.78544557e+00,  8.16915689e+00,\n",
              "         1.42741347e-01,  7.13976994e+00,  9.97019248e+00,\n",
              "         9.97544012e+00, -4.05327219e+00, -4.90746067e+00,\n",
              "        -5.68682818e+00, -6.67935099e-01,  7.46863709e+00,\n",
              "         1.14780126e+01,  3.93431854e+01]])"
            ]
          },
          "metadata": {
            "tags": []
          },
          "execution_count": 18
        }
      ]
    },
    {
      "cell_type": "markdown",
      "metadata": {
        "id": "SJzcPOiQUfEx"
      },
      "source": [
        "ทดสอบการจักกลุ่มของ Data"
      ]
    },
    {
      "cell_type": "code",
      "metadata": {
        "id": "W8gnOq8fUiqg",
        "outputId": "81d8074f-f563-4ec5-8e50-5333858ccf29",
        "colab": {
          "base_uri": "https://localhost:8080/"
        }
      },
      "source": [
        "y = kmeans.predict(Data)\n",
        "y"
      ],
      "execution_count": 19,
      "outputs": [
        {
          "output_type": "execute_result",
          "data": {
            "text/plain": [
              "array([0, 0, 1, ..., 5, 5, 6], dtype=int32)"
            ]
          },
          "metadata": {
            "tags": []
          },
          "execution_count": 19
        }
      ]
    },
    {
      "cell_type": "markdown",
      "metadata": {
        "id": "503Mzh1cUya8"
      },
      "source": [
        "### **PCA**"
      ]
    },
    {
      "cell_type": "code",
      "metadata": {
        "id": "zFFjgYwOU1Bj"
      },
      "source": [
        "from sklearn.decomposition import PCA\n",
        "pca = PCA(n_components=2)\n",
        "new_pca = pca.fit_transform(Data)"
      ],
      "execution_count": 20,
      "outputs": []
    },
    {
      "cell_type": "code",
      "metadata": {
        "id": "Tj4ngKAJVFTF"
      },
      "source": [
        "from matplotlib import pyplot as plt"
      ],
      "execution_count": 21,
      "outputs": []
    },
    {
      "cell_type": "code",
      "metadata": {
        "id": "6a3XEwtcVJLi",
        "outputId": "13704e1a-8526-47c6-f2fd-147f90320173",
        "colab": {
          "base_uri": "https://localhost:8080/",
          "height": 282
        }
      },
      "source": [
        "kmeans = KMeans(n_clusters=3,random_state=2021)\n",
        "kmeans.fit(Data)\n",
        "y = kmeans.predict(Data)\n",
        "plt.scatter(new_pca[:,0],new_pca[:,1],c=y)"
      ],
      "execution_count": 22,
      "outputs": [
        {
          "output_type": "execute_result",
          "data": {
            "text/plain": [
              "<matplotlib.collections.PathCollection at 0x7f4da5081e90>"
            ]
          },
          "metadata": {
            "tags": []
          },
          "execution_count": 22
        },
        {
          "output_type": "display_data",
          "data": {
            "image/png": "[encoded data removed]",
            "text/plain": [
              "<Figure size 432x288 with 1 Axes>"
            ]
          },
          "metadata": {
            "tags": [],
            "needs_background": "light"
          }
        }
      ]
    },
    {
      "cell_type": "markdown",
      "metadata": {
        "id": "dLyLbi1oWk4T"
      },
      "source": [
        "**SSE**"
      ]
    },
    {
      "cell_type": "code",
      "metadata": {
        "id": "2ooNlMRId_de",
        "outputId": "a07f63ae-ba6d-4e3c-fa52-f2b5c5dd852f",
        "colab": {
          "base_uri": "https://localhost:8080/"
        }
      },
      "source": [
        "kmeans.inertia_ ## SSE (Sum of Squared Errors)"
      ],
      "execution_count": 23,
      "outputs": [
        {
          "output_type": "execute_result",
          "data": {
            "text/plain": [
              "10129784.269352978"
            ]
          },
          "metadata": {
            "tags": []
          },
          "execution_count": 23
        }
      ]
    },
    {
      "cell_type": "code",
      "metadata": {
        "id": "agz2-SP0fTAJ"
      },
      "source": [
        "SSE = list()\n",
        "for k in [1,2,3,4,5,6,7,8]:\n",
        "    kmeans = KMeans(n_clusters=k, random_state=2021)\n",
        "    kmeans.fit(Data)\n",
        "    SSE.append(kmeans.inertia_)"
      ],
      "execution_count": 24,
      "outputs": []
    },
    {
      "cell_type": "code",
      "metadata": {
        "id": "0zZo-sRjfbJt",
        "outputId": "2b706c93-4020-4f73-ac38-329c955f7c62",
        "colab": {
          "base_uri": "https://localhost:8080/"
        }
      },
      "source": [
        "SSE"
      ],
      "execution_count": 25,
      "outputs": [
        {
          "output_type": "execute_result",
          "data": {
            "text/plain": [
              "[17376235.56078428,\n",
              " 12379473.796194354,\n",
              " 10129784.269352978,\n",
              " 8730523.544304458,\n",
              " 7615456.759086133,\n",
              " 6520299.778351892,\n",
              " 5320747.510562791,\n",
              " 4223015.069657261]"
            ]
          },
          "metadata": {
            "tags": []
          },
          "execution_count": 25
        }
      ]
    },
    {
      "cell_type": "code",
      "metadata": {
        "id": "ZBNJXV8EfmY7",
        "outputId": "008ddcae-923a-482f-ff44-482aed500ac5",
        "colab": {
          "base_uri": "https://localhost:8080/",
          "height": 290
        }
      },
      "source": [
        "plt.plot([1,2,3,4,5,6,7,8],SSE,'o-b')\n",
        "plt.xlabel('k')\n",
        "plt.ylabel('SSE');"
      ],
      "execution_count": 26,
      "outputs": [
        {
          "output_type": "display_data",
          "data": {
            "image/png": "[encoded data removed]",
            "text/plain": [
              "<Figure size 432x288 with 1 Axes>"
            ]
          },
          "metadata": {
            "tags": [],
            "needs_background": "light"
          }
        }
      ]
    },
    {
      "cell_type": "markdown",
      "metadata": {
        "id": "5i_TSVs0fvDw"
      },
      "source": [
        "Silhouette coefficient"
      ]
    },
    {
      "cell_type": "code",
      "metadata": {
        "id": "vYmKRtZXf5NW"
      },
      "source": [
        "from sklearn import metrics"
      ],
      "execution_count": 27,
      "outputs": []
    },
    {
      "cell_type": "code",
      "metadata": {
        "id": "hZ2NJU3zf9xG"
      },
      "source": [
        "SilH = list()\n",
        "for k in [2,3,4,5,6,7,8]:\n",
        "    kmeans = KMeans(n_clusters=k, random_state=2021)\n",
        "    kmeans.fit(Data)\n",
        "    score = metrics.silhouette_score(Data,kmeans.labels_)\n",
        "    SilH.append(score)"
      ],
      "execution_count": 28,
      "outputs": []
    },
    {
      "cell_type": "code",
      "metadata": {
        "id": "rS10QIkUgbqV",
        "outputId": "2f21defd-a1fb-4605-f027-adf63efc7697",
        "colab": {
          "base_uri": "https://localhost:8080/",
          "height": 279
        }
      },
      "source": [
        "plt.plot([2,3,4,5,6,7,8],SilH,'o-g')\n",
        "plt.xlabel('k')\n",
        "plt.ylabel('Silhouette Score');"
      ],
      "execution_count": 29,
      "outputs": [
        {
          "output_type": "display_data",
          "data": {
            "image/png": "[encoded data removed]",
            "text/plain": [
              "<Figure size 432x288 with 1 Axes>"
            ]
          },
          "metadata": {
            "tags": [],
            "needs_background": "light"
          }
        }
      ]
    },
    {
      "cell_type": "markdown",
      "metadata": {
        "id": "comFvetagr7n"
      },
      "source": [
        "## **ข้อที่3 ลด Dimension ของข้อมูลเหลือ 2 มิติ แล้วทำ clustering แล้ว visualize ข้อมูลแบบ 2 มิติ**"
      ]
    },
    {
      "cell_type": "code",
      "metadata": {
        "id": "bJhplPFRg9sv"
      },
      "source": [
        "from sklearn.manifold import MDS #การนำข้อมูลเข้าเหมือนเดิม"
      ],
      "execution_count": 55,
      "outputs": []
    },
    {
      "cell_type": "code",
      "metadata": {
        "id": "5ndBMwiil-jd"
      },
      "source": [
        "mds = MDS(n_components=2)"
      ],
      "execution_count": 56,
      "outputs": []
    },
    {
      "cell_type": "code",
      "metadata": {
        "id": "1w_y65ABt5EA"
      },
      "source": [
        "new_mds = mds.fit_transform(new_data)"
      ],
      "execution_count": 57,
      "outputs": []
    },
    {
      "cell_type": "code",
      "metadata": {
        "id": "JScJJOb-mW4d"
      },
      "source": [
        "kmeans_1 = KMeans(n_clusters=3,random_state=2021)\n",
        "kmeans_1.fit(new_data)\n",
        "p = kmeans_1.predict(new_data)"
      ],
      "execution_count": 58,
      "outputs": []
    },
    {
      "cell_type": "code",
      "metadata": {
        "id": "PMWAi61buPAU",
        "outputId": "aa5b9cc4-aee3-467f-adf9-0cb6b33f03b3",
        "colab": {
          "base_uri": "https://localhost:8080/",
          "height": 298
        }
      },
      "source": [
        "plt.scatter(new_mds[:,0],new_mds[:,1],c=p,alpha=0.5)\n",
        "plt.title('DataGenerator')"
      ],
      "execution_count": 60,
      "outputs": [
        {
          "output_type": "execute_result",
          "data": {
            "text/plain": [
              "Text(0.5, 1.0, 'DataGenerator')"
            ]
          },
          "metadata": {
            "tags": []
          },
          "execution_count": 60
        },
        {
          "output_type": "display_data",
          "data": {
            "image/png": "[encoded data removed]",
            "text/plain": [
              "<Figure size 432x288 with 1 Axes>"
            ]
          },
          "metadata": {
            "tags": [],
            "needs_background": "light"
          }
        }
      ]
    },
    {
      "cell_type": "markdown",
      "metadata": {
        "id": "cbDzX_FYv8yW"
      },
      "source": [
        "### **ข้อที่ 4 เปรียบเทียบความแตกต่างของผลข้อ 2 กับ ข้อ 3**"
      ]
    },
    {
      "cell_type": "markdown",
      "metadata": {
        "id": "iumNOpvWwlxU"
      },
      "source": [
        "ผลข้อที่ 2 และข้อที่ 3"
      ]
    },
    {
      "cell_type": "markdown",
      "metadata": {
        "id": "gWCH2-nVz-y6"
      },
      "source": [
        "![image.png](data:image/png;base64,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)"
      ]
    }
  ]
}