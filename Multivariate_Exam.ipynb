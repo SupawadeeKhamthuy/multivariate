{
  "nbformat": 4,
  "nbformat_minor": 0,
  "metadata": {
    "colab": {
      "name": "Multivariate Exam.ipynb",
      "provenance": [],
      "include_colab_link": true
    },
    "kernelspec": {
      "name": "python3",
      "display_name": "Python 3"
    },
    "language_info": {
      "name": "python"
    }
  },
  "cells": [
    {
      "cell_type": "markdown",
      "metadata": {
        "id": "view-in-github",
        "colab_type": "text"
      },
      "source": [
        "<a href=\"https://colab.research.google.com/github/SupawadeeKhamthuy/multivariate/blob/main/Multivariate_Exam.ipynb\" target=\"_parent\"><img src=\"https://colab.research.google.com/assets/colab-badge.svg\" alt=\"Open In Colab\"/></a>"
      ]
    },
    {
      "cell_type": "markdown",
      "metadata": {
        "id": "JZxiNADfaDtv"
      },
      "source": [
        "ให้นักศึกษาทำข้อสอบใน Colab Notebook นี้โดยกรอกข้อมูลของตัวเองใน cell ที่ 2 แล้วรัน cell ที่ 1 - 5 และเริ่มทำข้อสอบใน cell ที่ 6 เป็นต้นไป\n",
        "\n",
        "โดยโจทย์คือ\n",
        "1. ข้อมูลโจทย์ อยู่ใน ตัวแปร ```Data```\n",
        "2. ทำ clustering แล้วทำ visualize ข้อมูลแบบ 2 มิติ\n",
        "3. ลด Dimension ของข้อมูลเหลือ 2 มิติ แล้วทำ clustering แล้ว visualize ข้อมูลแบบ 2 มิติ\n",
        "4. เปรียบเทียบความแตกต่างของผลข้อ 2. กับ ข้อ 3.\n",
        "5. เขียน comments อธิบายทุกขั้นตอน\n",
        "6. อัด video อธิบาย code ทุกๆขั้นตอนรวมถึงผลแล้วอัพลง youtube ในรูปแบบ unlist \n",
        "7. commit โดยใช้ชื่อ commit เป็น link youtube ที่อธิบาย code ในข้อ 6.\n",
        "\n",
        "กำหนดส่งวันที่ 2 พฤษภาคม 2564 (โดยให้มากรอกวันที่ commit ครั้งสุดท้ายใน sheet: https://docs.google.com/spreadsheets/d/1_qJwLDJVtOW1HxBcf_FHVc6UT4J_SOonuR6o3EEnVzw/edit?usp=sharing ช่อง Final)"
      ]
    },
    {
      "cell_type": "code",
      "metadata": {
        "id": "cWl2x1bPGtQl"
      },
      "source": [
        "from sklearn.datasets import make_blobs\n",
        "import random,math\n",
        "import numpy as np\n",
        "import pandas"
      ],
      "execution_count": 2,
      "outputs": []
    },
    {
      "cell_type": "code",
      "metadata": {
        "id": "gZfzuiHsZksh"
      },
      "source": [
        "Name = 'สุภาวดี คำทุย'\n",
        "ID = '6230205446'"
      ],
      "execution_count": 3,
      "outputs": []
    },
    {
      "cell_type": "code",
      "metadata": {
        "id": "8hFQXkF5aAiA"
      },
      "source": [
        "def DataGenerator(name,id):\n",
        "    random.seed(int(id[3:6]))\n",
        "    numfeat = random.randint(20,30)\n",
        "    ct = random.randint(len(name)-6,len(name))\n",
        "    \n",
        "    X, y = make_blobs(n_samples=10000, centers=ct, n_features=numfeat , random_state=int(id[3:6]))\n",
        "\n",
        "    print(f'{id[3:6]}:{numfeat}:{ct}')\n",
        "    X_t = (X[:,1]*2)+int(id[3])\n",
        "    X_t2 = (X[:,-1]*5)+int(id[4])\n",
        "\n",
        "    DT = np.append(X,X_t.reshape([10000,1]),axis=1)\n",
        "    DT = np.append(DT,X_t2.reshape([10000,1]),axis=1)\n",
        "    \n",
        "    return pandas.DataFrame(DT)"
      ],
      "execution_count": 4,
      "outputs": []
    },
    {
      "cell_type": "code",
      "metadata": {
        "colab": {
          "base_uri": "https://localhost:8080/"
        },
        "id": "hbXlxumSBX9i",
        "outputId": "2a14aeb5-5876-47e2-dcee-11346a53049d"
      },
      "source": [
        "Data = DataGenerator(Name,ID)"
      ],
      "execution_count": 5,
      "outputs": [
        {
          "output_type": "stream",
          "text": [
            "020:30:13\n"
          ],
          "name": "stdout"
        }
      ]
    },
    {
      "cell_type": "code",
      "metadata": {
        "colab": {
          "base_uri": "https://localhost:8080/",
          "height": 427
        },
        "id": "pQcCySXvBdN-",
        "outputId": "d69feb9a-7a3d-47c8-fa41-be56fda2dccc"
      },
      "source": [
        "Data"
      ],
      "execution_count": 6,
      "outputs": [
        {
          "output_type": "execute_result",
          "data": {
            "text/html": [
              "<div>\n",
              "<style scoped>\n",
              "    .dataframe tbody tr th:only-of-type {\n",
              "        vertical-align: middle;\n",
              "    }\n",
              "\n",
              "    .dataframe tbody tr th {\n",
              "        vertical-align: top;\n",
              "    }\n",
              "\n",
              "    .dataframe thead th {\n",
              "        text-align: right;\n",
              "    }\n",
              "</style>\n",
              "<table border=\"1\" class=\"dataframe\">\n",
              "  <thead>\n",
              "    <tr style=\"text-align: right;\">\n",
              "      <th></th>\n",
              "      <th>0</th>\n",
              "      <th>1</th>\n",
              "      <th>2</th>\n",
              "      <th>3</th>\n",
              "      <th>4</th>\n",
              "      <th>5</th>\n",
              "      <th>6</th>\n",
              "      <th>7</th>\n",
              "      <th>8</th>\n",
              "      <th>9</th>\n",
              "      <th>10</th>\n",
              "      <th>11</th>\n",
              "      <th>12</th>\n",
              "      <th>13</th>\n",
              "      <th>14</th>\n",
              "      <th>15</th>\n",
              "      <th>16</th>\n",
              "      <th>17</th>\n",
              "      <th>18</th>\n",
              "      <th>19</th>\n",
              "      <th>20</th>\n",
              "      <th>21</th>\n",
              "      <th>22</th>\n",
              "      <th>23</th>\n",
              "      <th>24</th>\n",
              "      <th>25</th>\n",
              "      <th>26</th>\n",
              "      <th>27</th>\n",
              "      <th>28</th>\n",
              "      <th>29</th>\n",
              "      <th>30</th>\n",
              "      <th>31</th>\n",
              "    </tr>\n",
              "  </thead>\n",
              "  <tbody>\n",
              "    <tr>\n",
              "      <th>0</th>\n",
              "      <td>-1.122979</td>\n",
              "      <td>-3.295591</td>\n",
              "      <td>-1.905968</td>\n",
              "      <td>8.807450</td>\n",
              "      <td>3.436086</td>\n",
              "      <td>-7.863223</td>\n",
              "      <td>7.261924</td>\n",
              "      <td>-2.483273</td>\n",
              "      <td>5.677271</td>\n",
              "      <td>-1.384419</td>\n",
              "      <td>-5.713879</td>\n",
              "      <td>-0.701148</td>\n",
              "      <td>-4.897625</td>\n",
              "      <td>-6.022824</td>\n",
              "      <td>-4.822365</td>\n",
              "      <td>2.341001</td>\n",
              "      <td>-1.972514</td>\n",
              "      <td>9.505130</td>\n",
              "      <td>2.176511</td>\n",
              "      <td>-7.749094</td>\n",
              "      <td>7.020367</td>\n",
              "      <td>-4.584958</td>\n",
              "      <td>-8.326107</td>\n",
              "      <td>-4.272719</td>\n",
              "      <td>4.336434</td>\n",
              "      <td>-5.695388</td>\n",
              "      <td>-2.706593</td>\n",
              "      <td>8.540504</td>\n",
              "      <td>10.424226</td>\n",
              "      <td>2.216951</td>\n",
              "      <td>-6.591182</td>\n",
              "      <td>13.084756</td>\n",
              "    </tr>\n",
              "    <tr>\n",
              "      <th>1</th>\n",
              "      <td>-1.178806</td>\n",
              "      <td>-1.705041</td>\n",
              "      <td>-2.304133</td>\n",
              "      <td>8.370834</td>\n",
              "      <td>5.129572</td>\n",
              "      <td>-7.872284</td>\n",
              "      <td>4.108793</td>\n",
              "      <td>-2.045335</td>\n",
              "      <td>6.425141</td>\n",
              "      <td>-2.940128</td>\n",
              "      <td>-7.962174</td>\n",
              "      <td>0.004099</td>\n",
              "      <td>-6.024449</td>\n",
              "      <td>-7.155523</td>\n",
              "      <td>-3.888844</td>\n",
              "      <td>1.612577</td>\n",
              "      <td>-0.771112</td>\n",
              "      <td>8.855043</td>\n",
              "      <td>2.296529</td>\n",
              "      <td>-8.149986</td>\n",
              "      <td>5.307715</td>\n",
              "      <td>-5.962821</td>\n",
              "      <td>-7.641550</td>\n",
              "      <td>-3.307962</td>\n",
              "      <td>3.394114</td>\n",
              "      <td>-4.219148</td>\n",
              "      <td>-2.052904</td>\n",
              "      <td>10.047594</td>\n",
              "      <td>10.208270</td>\n",
              "      <td>4.121820</td>\n",
              "      <td>-3.410083</td>\n",
              "      <td>22.609099</td>\n",
              "    </tr>\n",
              "    <tr>\n",
              "      <th>2</th>\n",
              "      <td>0.904578</td>\n",
              "      <td>4.691859</td>\n",
              "      <td>-3.682533</td>\n",
              "      <td>-2.953914</td>\n",
              "      <td>5.427658</td>\n",
              "      <td>-7.973544</td>\n",
              "      <td>-6.298981</td>\n",
              "      <td>-5.837808</td>\n",
              "      <td>-6.806116</td>\n",
              "      <td>4.240747</td>\n",
              "      <td>-6.726297</td>\n",
              "      <td>-2.661466</td>\n",
              "      <td>2.331365</td>\n",
              "      <td>-2.299572</td>\n",
              "      <td>-3.537591</td>\n",
              "      <td>2.937966</td>\n",
              "      <td>7.014755</td>\n",
              "      <td>-2.094251</td>\n",
              "      <td>-7.833492</td>\n",
              "      <td>7.046922</td>\n",
              "      <td>6.967556</td>\n",
              "      <td>-3.341271</td>\n",
              "      <td>3.557202</td>\n",
              "      <td>-1.224863</td>\n",
              "      <td>4.301185</td>\n",
              "      <td>-6.613338</td>\n",
              "      <td>-8.054432</td>\n",
              "      <td>8.960152</td>\n",
              "      <td>8.176317</td>\n",
              "      <td>-4.350617</td>\n",
              "      <td>9.383718</td>\n",
              "      <td>-19.753085</td>\n",
              "    </tr>\n",
              "    <tr>\n",
              "      <th>3</th>\n",
              "      <td>-8.309558</td>\n",
              "      <td>-0.700731</td>\n",
              "      <td>-6.674782</td>\n",
              "      <td>6.733736</td>\n",
              "      <td>8.064153</td>\n",
              "      <td>-9.515225</td>\n",
              "      <td>9.423268</td>\n",
              "      <td>10.051663</td>\n",
              "      <td>5.773942</td>\n",
              "      <td>2.191188</td>\n",
              "      <td>-6.168410</td>\n",
              "      <td>-3.242995</td>\n",
              "      <td>7.661962</td>\n",
              "      <td>-3.454031</td>\n",
              "      <td>-6.803181</td>\n",
              "      <td>-4.604935</td>\n",
              "      <td>0.994939</td>\n",
              "      <td>-9.752362</td>\n",
              "      <td>6.206699</td>\n",
              "      <td>-7.746425</td>\n",
              "      <td>-2.671065</td>\n",
              "      <td>-8.756579</td>\n",
              "      <td>3.640509</td>\n",
              "      <td>-3.570759</td>\n",
              "      <td>5.755518</td>\n",
              "      <td>3.337119</td>\n",
              "      <td>-2.788030</td>\n",
              "      <td>-9.860391</td>\n",
              "      <td>8.703038</td>\n",
              "      <td>3.645643</td>\n",
              "      <td>-1.401462</td>\n",
              "      <td>20.228213</td>\n",
              "    </tr>\n",
              "    <tr>\n",
              "      <th>4</th>\n",
              "      <td>8.340888</td>\n",
              "      <td>-8.214758</td>\n",
              "      <td>-5.512123</td>\n",
              "      <td>-1.567990</td>\n",
              "      <td>5.905051</td>\n",
              "      <td>8.980198</td>\n",
              "      <td>8.079326</td>\n",
              "      <td>3.190559</td>\n",
              "      <td>-0.398816</td>\n",
              "      <td>-1.669538</td>\n",
              "      <td>5.329574</td>\n",
              "      <td>3.758042</td>\n",
              "      <td>2.629444</td>\n",
              "      <td>-2.314456</td>\n",
              "      <td>6.568466</td>\n",
              "      <td>6.071499</td>\n",
              "      <td>-5.243972</td>\n",
              "      <td>3.210821</td>\n",
              "      <td>6.460610</td>\n",
              "      <td>-11.300239</td>\n",
              "      <td>-9.199506</td>\n",
              "      <td>9.716673</td>\n",
              "      <td>6.044433</td>\n",
              "      <td>4.530647</td>\n",
              "      <td>6.792402</td>\n",
              "      <td>-5.300715</td>\n",
              "      <td>-8.420804</td>\n",
              "      <td>5.595060</td>\n",
              "      <td>0.070567</td>\n",
              "      <td>6.126067</td>\n",
              "      <td>-16.429515</td>\n",
              "      <td>32.630334</td>\n",
              "    </tr>\n",
              "    <tr>\n",
              "      <th>...</th>\n",
              "      <td>...</td>\n",
              "      <td>...</td>\n",
              "      <td>...</td>\n",
              "      <td>...</td>\n",
              "      <td>...</td>\n",
              "      <td>...</td>\n",
              "      <td>...</td>\n",
              "      <td>...</td>\n",
              "      <td>...</td>\n",
              "      <td>...</td>\n",
              "      <td>...</td>\n",
              "      <td>...</td>\n",
              "      <td>...</td>\n",
              "      <td>...</td>\n",
              "      <td>...</td>\n",
              "      <td>...</td>\n",
              "      <td>...</td>\n",
              "      <td>...</td>\n",
              "      <td>...</td>\n",
              "      <td>...</td>\n",
              "      <td>...</td>\n",
              "      <td>...</td>\n",
              "      <td>...</td>\n",
              "      <td>...</td>\n",
              "      <td>...</td>\n",
              "      <td>...</td>\n",
              "      <td>...</td>\n",
              "      <td>...</td>\n",
              "      <td>...</td>\n",
              "      <td>...</td>\n",
              "      <td>...</td>\n",
              "      <td>...</td>\n",
              "    </tr>\n",
              "    <tr>\n",
              "      <th>9995</th>\n",
              "      <td>2.621194</td>\n",
              "      <td>3.082826</td>\n",
              "      <td>-6.051600</td>\n",
              "      <td>-9.254466</td>\n",
              "      <td>5.131143</td>\n",
              "      <td>0.667478</td>\n",
              "      <td>-1.629920</td>\n",
              "      <td>-1.360385</td>\n",
              "      <td>-1.946909</td>\n",
              "      <td>-4.092077</td>\n",
              "      <td>2.009247</td>\n",
              "      <td>1.749112</td>\n",
              "      <td>-3.929099</td>\n",
              "      <td>-1.599213</td>\n",
              "      <td>-3.747115</td>\n",
              "      <td>1.836762</td>\n",
              "      <td>-7.503489</td>\n",
              "      <td>3.989790</td>\n",
              "      <td>5.298064</td>\n",
              "      <td>-6.293570</td>\n",
              "      <td>5.447109</td>\n",
              "      <td>-3.485855</td>\n",
              "      <td>3.683923</td>\n",
              "      <td>5.746130</td>\n",
              "      <td>5.880837</td>\n",
              "      <td>2.346970</td>\n",
              "      <td>2.474427</td>\n",
              "      <td>0.988740</td>\n",
              "      <td>-2.332277</td>\n",
              "      <td>0.787062</td>\n",
              "      <td>6.165651</td>\n",
              "      <td>5.935309</td>\n",
              "    </tr>\n",
              "    <tr>\n",
              "      <th>9996</th>\n",
              "      <td>-0.565152</td>\n",
              "      <td>4.502084</td>\n",
              "      <td>-4.958137</td>\n",
              "      <td>-1.130835</td>\n",
              "      <td>6.393298</td>\n",
              "      <td>-10.045349</td>\n",
              "      <td>-5.483434</td>\n",
              "      <td>-6.521711</td>\n",
              "      <td>-3.976157</td>\n",
              "      <td>2.130145</td>\n",
              "      <td>-7.738335</td>\n",
              "      <td>-2.840233</td>\n",
              "      <td>1.204603</td>\n",
              "      <td>-4.691612</td>\n",
              "      <td>-2.654711</td>\n",
              "      <td>1.921697</td>\n",
              "      <td>7.099371</td>\n",
              "      <td>-0.297220</td>\n",
              "      <td>-10.052557</td>\n",
              "      <td>7.396492</td>\n",
              "      <td>6.868344</td>\n",
              "      <td>-2.660437</td>\n",
              "      <td>2.540235</td>\n",
              "      <td>-0.749447</td>\n",
              "      <td>4.566415</td>\n",
              "      <td>-7.151448</td>\n",
              "      <td>-8.291589</td>\n",
              "      <td>8.715938</td>\n",
              "      <td>5.509624</td>\n",
              "      <td>-7.029211</td>\n",
              "      <td>9.004169</td>\n",
              "      <td>-33.146053</td>\n",
              "    </tr>\n",
              "    <tr>\n",
              "      <th>9997</th>\n",
              "      <td>5.458936</td>\n",
              "      <td>6.669342</td>\n",
              "      <td>-9.677379</td>\n",
              "      <td>-4.951354</td>\n",
              "      <td>5.975153</td>\n",
              "      <td>0.109411</td>\n",
              "      <td>9.595156</td>\n",
              "      <td>0.086257</td>\n",
              "      <td>6.671417</td>\n",
              "      <td>-0.332043</td>\n",
              "      <td>7.129822</td>\n",
              "      <td>-5.413321</td>\n",
              "      <td>-0.944951</td>\n",
              "      <td>-0.779493</td>\n",
              "      <td>-1.810268</td>\n",
              "      <td>6.062982</td>\n",
              "      <td>-3.143105</td>\n",
              "      <td>-2.785437</td>\n",
              "      <td>-1.798621</td>\n",
              "      <td>-2.375633</td>\n",
              "      <td>2.291665</td>\n",
              "      <td>-6.591749</td>\n",
              "      <td>4.390090</td>\n",
              "      <td>-3.670793</td>\n",
              "      <td>11.363186</td>\n",
              "      <td>-6.152867</td>\n",
              "      <td>4.829156</td>\n",
              "      <td>-1.963335</td>\n",
              "      <td>-7.680129</td>\n",
              "      <td>4.356970</td>\n",
              "      <td>13.338685</td>\n",
              "      <td>23.784849</td>\n",
              "    </tr>\n",
              "    <tr>\n",
              "      <th>9998</th>\n",
              "      <td>5.167506</td>\n",
              "      <td>9.960286</td>\n",
              "      <td>5.908806</td>\n",
              "      <td>-5.992349</td>\n",
              "      <td>-6.306272</td>\n",
              "      <td>-2.778985</td>\n",
              "      <td>11.405055</td>\n",
              "      <td>1.561802</td>\n",
              "      <td>7.698767</td>\n",
              "      <td>-9.825561</td>\n",
              "      <td>5.709468</td>\n",
              "      <td>-9.183920</td>\n",
              "      <td>-9.588192</td>\n",
              "      <td>-11.000842</td>\n",
              "      <td>-5.495952</td>\n",
              "      <td>-3.846113</td>\n",
              "      <td>9.210216</td>\n",
              "      <td>7.947077</td>\n",
              "      <td>0.979926</td>\n",
              "      <td>6.075725</td>\n",
              "      <td>-9.279143</td>\n",
              "      <td>4.291894</td>\n",
              "      <td>-9.643116</td>\n",
              "      <td>-6.771529</td>\n",
              "      <td>8.741895</td>\n",
              "      <td>-2.417855</td>\n",
              "      <td>6.372045</td>\n",
              "      <td>1.503416</td>\n",
              "      <td>3.849181</td>\n",
              "      <td>4.402622</td>\n",
              "      <td>19.920572</td>\n",
              "      <td>24.013108</td>\n",
              "    </tr>\n",
              "    <tr>\n",
              "      <th>9999</th>\n",
              "      <td>-3.119938</td>\n",
              "      <td>-4.029596</td>\n",
              "      <td>0.531152</td>\n",
              "      <td>7.573138</td>\n",
              "      <td>-8.084303</td>\n",
              "      <td>-2.583298</td>\n",
              "      <td>-0.893339</td>\n",
              "      <td>-4.906089</td>\n",
              "      <td>-7.680841</td>\n",
              "      <td>-7.023013</td>\n",
              "      <td>9.462003</td>\n",
              "      <td>-5.572993</td>\n",
              "      <td>-11.237967</td>\n",
              "      <td>-3.001927</td>\n",
              "      <td>3.517245</td>\n",
              "      <td>-3.539982</td>\n",
              "      <td>8.105930</td>\n",
              "      <td>-5.813602</td>\n",
              "      <td>8.576036</td>\n",
              "      <td>0.332330</td>\n",
              "      <td>7.541918</td>\n",
              "      <td>3.364779</td>\n",
              "      <td>-8.264066</td>\n",
              "      <td>-7.971045</td>\n",
              "      <td>7.497196</td>\n",
              "      <td>8.930793</td>\n",
              "      <td>4.150151</td>\n",
              "      <td>-1.189277</td>\n",
              "      <td>-1.800349</td>\n",
              "      <td>5.760702</td>\n",
              "      <td>-8.059192</td>\n",
              "      <td>30.803512</td>\n",
              "    </tr>\n",
              "  </tbody>\n",
              "</table>\n",
              "<p>10000 rows × 32 columns</p>\n",
              "</div>"
            ],
            "text/plain": [
              "            0         1         2   ...        29         30         31\n",
              "0    -1.122979 -3.295591 -1.905968  ...  2.216951  -6.591182  13.084756\n",
              "1    -1.178806 -1.705041 -2.304133  ...  4.121820  -3.410083  22.609099\n",
              "2     0.904578  4.691859 -3.682533  ... -4.350617   9.383718 -19.753085\n",
              "3    -8.309558 -0.700731 -6.674782  ...  3.645643  -1.401462  20.228213\n",
              "4     8.340888 -8.214758 -5.512123  ...  6.126067 -16.429515  32.630334\n",
              "...        ...       ...       ...  ...       ...        ...        ...\n",
              "9995  2.621194  3.082826 -6.051600  ...  0.787062   6.165651   5.935309\n",
              "9996 -0.565152  4.502084 -4.958137  ... -7.029211   9.004169 -33.146053\n",
              "9997  5.458936  6.669342 -9.677379  ...  4.356970  13.338685  23.784849\n",
              "9998  5.167506  9.960286  5.908806  ...  4.402622  19.920572  24.013108\n",
              "9999 -3.119938 -4.029596  0.531152  ...  5.760702  -8.059192  30.803512\n",
              "\n",
              "[10000 rows x 32 columns]"
            ]
          },
          "metadata": {
            "tags": []
          },
          "execution_count": 6
        }
      ]
    },
    {
      "cell_type": "code",
      "metadata": {
        "id": "jUARadkFEuyJ",
        "colab": {
          "base_uri": "https://localhost:8080/"
        },
        "outputId": "8fde6a5f-66e3-45e3-c028-627b0d85829c"
      },
      "source": [
        "Data.shape # ดูว่ามีทั้งหมดกี่ dimension จากการรันออกมาพบว่ามี 32 dimension"
      ],
      "execution_count": 7,
      "outputs": [
        {
          "output_type": "execute_result",
          "data": {
            "text/plain": [
              "(10000, 32)"
            ]
          },
          "metadata": {
            "tags": []
          },
          "execution_count": 7
        }
      ]
    },
    {
      "cell_type": "markdown",
      "metadata": {
        "id": "fc50gsCE0A0i"
      },
      "source": [
        "เนื่องจากข้อมูลมี dimension มากเกินไป ก็เลยทดสอบดูว่า column ใดบ้างที่มีค่าซ้ำกัน ถ้าซ้ำก็จะตัดออก"
      ]
    },
    {
      "cell_type": "code",
      "metadata": {
        "id": "slYHvyemjV0E"
      },
      "source": [
        "import numpy as np "
      ],
      "execution_count": 8,
      "outputs": []
    },
    {
      "cell_type": "code",
      "metadata": {
        "id": "pPm7pjGujYm3"
      },
      "source": [
        "corr = np.corrcoef(Data.to_numpy().T) # หา correlation"
      ],
      "execution_count": 9,
      "outputs": []
    },
    {
      "cell_type": "code",
      "metadata": {
        "id": "xWck4x8Jjcg7",
        "colab": {
          "base_uri": "https://localhost:8080/"
        },
        "outputId": "695d574e-f5fa-4caa-e3c0-f12c37ef941d"
      },
      "source": [
        "corr.shape"
      ],
      "execution_count": 10,
      "outputs": [
        {
          "output_type": "execute_result",
          "data": {
            "text/plain": [
              "(32, 32)"
            ]
          },
          "metadata": {
            "tags": []
          },
          "execution_count": 10
        }
      ]
    },
    {
      "cell_type": "code",
      "metadata": {
        "id": "74uUhgC-jhky",
        "colab": {
          "base_uri": "https://localhost:8080/"
        },
        "outputId": "d667f439-69c4-4b0f-f5e2-7ecaff6c8212"
      },
      "source": [
        "corr"
      ],
      "execution_count": 11,
      "outputs": [
        {
          "output_type": "execute_result",
          "data": {
            "text/plain": [
              "array([[ 1.        ,  0.11158179,  0.0475386 , ...,  0.13355265,\n",
              "         0.11158179,  0.13355265],\n",
              "       [ 0.11158179,  1.        ,  0.28012196, ...,  0.00354079,\n",
              "         1.        ,  0.00354079],\n",
              "       [ 0.0475386 ,  0.28012196,  1.        , ..., -0.05306425,\n",
              "         0.28012196, -0.05306425],\n",
              "       ...,\n",
              "       [ 0.13355265,  0.00354079, -0.05306425, ...,  1.        ,\n",
              "         0.00354079,  1.        ],\n",
              "       [ 0.11158179,  1.        ,  0.28012196, ...,  0.00354079,\n",
              "         1.        ,  0.00354079],\n",
              "       [ 0.13355265,  0.00354079, -0.05306425, ...,  1.        ,\n",
              "         0.00354079,  1.        ]])"
            ]
          },
          "metadata": {
            "tags": []
          },
          "execution_count": 11
        }
      ]
    },
    {
      "cell_type": "code",
      "metadata": {
        "id": "8Q1Kd7_fj8Bb",
        "colab": {
          "base_uri": "https://localhost:8080/"
        },
        "outputId": "5e55c8c2-73c9-4a38-9cee-2050c4684714"
      },
      "source": [
        "for i in range(corr.shape[0]):\n",
        "    for j in range(corr.shape[1]):\n",
        "        if (i !=j) and (corr[i,j] == 1.):\n",
        "            print(f'row = {i} column = {j} corrcoef = {corr[i,j]}') #มีผลรันออกมา หมายความว่า มีค่าที่ซ้ำกันอยู่ในข้อมูลนี้ "
      ],
      "execution_count": 12,
      "outputs": [
        {
          "output_type": "stream",
          "text": [
            "row = 1 column = 30 corrcoef = 1.0\n",
            "row = 29 column = 31 corrcoef = 1.0\n",
            "row = 30 column = 1 corrcoef = 1.0\n",
            "row = 31 column = 29 corrcoef = 1.0\n"
          ],
          "name": "stdout"
        }
      ]
    },
    {
      "cell_type": "code",
      "metadata": {
        "id": "AUpAzQ_6j1km",
        "colab": {
          "base_uri": "https://localhost:8080/",
          "height": 427
        },
        "outputId": "6abd4f59-9b7f-4d94-cb5c-021a7ceed05d"
      },
      "source": [
        "new_d = Data.iloc[1:,:31]\n",
        "new_d"
      ],
      "execution_count": 13,
      "outputs": [
        {
          "output_type": "execute_result",
          "data": {
            "text/html": [
              "<div>\n",
              "<style scoped>\n",
              "    .dataframe tbody tr th:only-of-type {\n",
              "        vertical-align: middle;\n",
              "    }\n",
              "\n",
              "    .dataframe tbody tr th {\n",
              "        vertical-align: top;\n",
              "    }\n",
              "\n",
              "    .dataframe thead th {\n",
              "        text-align: right;\n",
              "    }\n",
              "</style>\n",
              "<table border=\"1\" class=\"dataframe\">\n",
              "  <thead>\n",
              "    <tr style=\"text-align: right;\">\n",
              "      <th></th>\n",
              "      <th>0</th>\n",
              "      <th>1</th>\n",
              "      <th>2</th>\n",
              "      <th>3</th>\n",
              "      <th>4</th>\n",
              "      <th>5</th>\n",
              "      <th>6</th>\n",
              "      <th>7</th>\n",
              "      <th>8</th>\n",
              "      <th>9</th>\n",
              "      <th>10</th>\n",
              "      <th>11</th>\n",
              "      <th>12</th>\n",
              "      <th>13</th>\n",
              "      <th>14</th>\n",
              "      <th>15</th>\n",
              "      <th>16</th>\n",
              "      <th>17</th>\n",
              "      <th>18</th>\n",
              "      <th>19</th>\n",
              "      <th>20</th>\n",
              "      <th>21</th>\n",
              "      <th>22</th>\n",
              "      <th>23</th>\n",
              "      <th>24</th>\n",
              "      <th>25</th>\n",
              "      <th>26</th>\n",
              "      <th>27</th>\n",
              "      <th>28</th>\n",
              "      <th>29</th>\n",
              "      <th>30</th>\n",
              "    </tr>\n",
              "  </thead>\n",
              "  <tbody>\n",
              "    <tr>\n",
              "      <th>1</th>\n",
              "      <td>-1.178806</td>\n",
              "      <td>-1.705041</td>\n",
              "      <td>-2.304133</td>\n",
              "      <td>8.370834</td>\n",
              "      <td>5.129572</td>\n",
              "      <td>-7.872284</td>\n",
              "      <td>4.108793</td>\n",
              "      <td>-2.045335</td>\n",
              "      <td>6.425141</td>\n",
              "      <td>-2.940128</td>\n",
              "      <td>-7.962174</td>\n",
              "      <td>0.004099</td>\n",
              "      <td>-6.024449</td>\n",
              "      <td>-7.155523</td>\n",
              "      <td>-3.888844</td>\n",
              "      <td>1.612577</td>\n",
              "      <td>-0.771112</td>\n",
              "      <td>8.855043</td>\n",
              "      <td>2.296529</td>\n",
              "      <td>-8.149986</td>\n",
              "      <td>5.307715</td>\n",
              "      <td>-5.962821</td>\n",
              "      <td>-7.641550</td>\n",
              "      <td>-3.307962</td>\n",
              "      <td>3.394114</td>\n",
              "      <td>-4.219148</td>\n",
              "      <td>-2.052904</td>\n",
              "      <td>10.047594</td>\n",
              "      <td>10.208270</td>\n",
              "      <td>4.121820</td>\n",
              "      <td>-3.410083</td>\n",
              "    </tr>\n",
              "    <tr>\n",
              "      <th>2</th>\n",
              "      <td>0.904578</td>\n",
              "      <td>4.691859</td>\n",
              "      <td>-3.682533</td>\n",
              "      <td>-2.953914</td>\n",
              "      <td>5.427658</td>\n",
              "      <td>-7.973544</td>\n",
              "      <td>-6.298981</td>\n",
              "      <td>-5.837808</td>\n",
              "      <td>-6.806116</td>\n",
              "      <td>4.240747</td>\n",
              "      <td>-6.726297</td>\n",
              "      <td>-2.661466</td>\n",
              "      <td>2.331365</td>\n",
              "      <td>-2.299572</td>\n",
              "      <td>-3.537591</td>\n",
              "      <td>2.937966</td>\n",
              "      <td>7.014755</td>\n",
              "      <td>-2.094251</td>\n",
              "      <td>-7.833492</td>\n",
              "      <td>7.046922</td>\n",
              "      <td>6.967556</td>\n",
              "      <td>-3.341271</td>\n",
              "      <td>3.557202</td>\n",
              "      <td>-1.224863</td>\n",
              "      <td>4.301185</td>\n",
              "      <td>-6.613338</td>\n",
              "      <td>-8.054432</td>\n",
              "      <td>8.960152</td>\n",
              "      <td>8.176317</td>\n",
              "      <td>-4.350617</td>\n",
              "      <td>9.383718</td>\n",
              "    </tr>\n",
              "    <tr>\n",
              "      <th>3</th>\n",
              "      <td>-8.309558</td>\n",
              "      <td>-0.700731</td>\n",
              "      <td>-6.674782</td>\n",
              "      <td>6.733736</td>\n",
              "      <td>8.064153</td>\n",
              "      <td>-9.515225</td>\n",
              "      <td>9.423268</td>\n",
              "      <td>10.051663</td>\n",
              "      <td>5.773942</td>\n",
              "      <td>2.191188</td>\n",
              "      <td>-6.168410</td>\n",
              "      <td>-3.242995</td>\n",
              "      <td>7.661962</td>\n",
              "      <td>-3.454031</td>\n",
              "      <td>-6.803181</td>\n",
              "      <td>-4.604935</td>\n",
              "      <td>0.994939</td>\n",
              "      <td>-9.752362</td>\n",
              "      <td>6.206699</td>\n",
              "      <td>-7.746425</td>\n",
              "      <td>-2.671065</td>\n",
              "      <td>-8.756579</td>\n",
              "      <td>3.640509</td>\n",
              "      <td>-3.570759</td>\n",
              "      <td>5.755518</td>\n",
              "      <td>3.337119</td>\n",
              "      <td>-2.788030</td>\n",
              "      <td>-9.860391</td>\n",
              "      <td>8.703038</td>\n",
              "      <td>3.645643</td>\n",
              "      <td>-1.401462</td>\n",
              "    </tr>\n",
              "    <tr>\n",
              "      <th>4</th>\n",
              "      <td>8.340888</td>\n",
              "      <td>-8.214758</td>\n",
              "      <td>-5.512123</td>\n",
              "      <td>-1.567990</td>\n",
              "      <td>5.905051</td>\n",
              "      <td>8.980198</td>\n",
              "      <td>8.079326</td>\n",
              "      <td>3.190559</td>\n",
              "      <td>-0.398816</td>\n",
              "      <td>-1.669538</td>\n",
              "      <td>5.329574</td>\n",
              "      <td>3.758042</td>\n",
              "      <td>2.629444</td>\n",
              "      <td>-2.314456</td>\n",
              "      <td>6.568466</td>\n",
              "      <td>6.071499</td>\n",
              "      <td>-5.243972</td>\n",
              "      <td>3.210821</td>\n",
              "      <td>6.460610</td>\n",
              "      <td>-11.300239</td>\n",
              "      <td>-9.199506</td>\n",
              "      <td>9.716673</td>\n",
              "      <td>6.044433</td>\n",
              "      <td>4.530647</td>\n",
              "      <td>6.792402</td>\n",
              "      <td>-5.300715</td>\n",
              "      <td>-8.420804</td>\n",
              "      <td>5.595060</td>\n",
              "      <td>0.070567</td>\n",
              "      <td>6.126067</td>\n",
              "      <td>-16.429515</td>\n",
              "    </tr>\n",
              "    <tr>\n",
              "      <th>5</th>\n",
              "      <td>-0.008196</td>\n",
              "      <td>-3.905819</td>\n",
              "      <td>-2.637004</td>\n",
              "      <td>11.584560</td>\n",
              "      <td>3.609969</td>\n",
              "      <td>-4.922349</td>\n",
              "      <td>4.130803</td>\n",
              "      <td>-0.354242</td>\n",
              "      <td>5.428811</td>\n",
              "      <td>-1.945650</td>\n",
              "      <td>-4.310180</td>\n",
              "      <td>-0.241423</td>\n",
              "      <td>-6.209236</td>\n",
              "      <td>-6.010673</td>\n",
              "      <td>-4.444782</td>\n",
              "      <td>0.892926</td>\n",
              "      <td>-0.181288</td>\n",
              "      <td>8.701273</td>\n",
              "      <td>4.289904</td>\n",
              "      <td>-6.810533</td>\n",
              "      <td>6.110376</td>\n",
              "      <td>-5.082506</td>\n",
              "      <td>-8.846683</td>\n",
              "      <td>-2.556855</td>\n",
              "      <td>3.647087</td>\n",
              "      <td>-5.247500</td>\n",
              "      <td>-4.014248</td>\n",
              "      <td>8.827011</td>\n",
              "      <td>10.689298</td>\n",
              "      <td>3.435147</td>\n",
              "      <td>-7.811637</td>\n",
              "    </tr>\n",
              "    <tr>\n",
              "      <th>...</th>\n",
              "      <td>...</td>\n",
              "      <td>...</td>\n",
              "      <td>...</td>\n",
              "      <td>...</td>\n",
              "      <td>...</td>\n",
              "      <td>...</td>\n",
              "      <td>...</td>\n",
              "      <td>...</td>\n",
              "      <td>...</td>\n",
              "      <td>...</td>\n",
              "      <td>...</td>\n",
              "      <td>...</td>\n",
              "      <td>...</td>\n",
              "      <td>...</td>\n",
              "      <td>...</td>\n",
              "      <td>...</td>\n",
              "      <td>...</td>\n",
              "      <td>...</td>\n",
              "      <td>...</td>\n",
              "      <td>...</td>\n",
              "      <td>...</td>\n",
              "      <td>...</td>\n",
              "      <td>...</td>\n",
              "      <td>...</td>\n",
              "      <td>...</td>\n",
              "      <td>...</td>\n",
              "      <td>...</td>\n",
              "      <td>...</td>\n",
              "      <td>...</td>\n",
              "      <td>...</td>\n",
              "      <td>...</td>\n",
              "    </tr>\n",
              "    <tr>\n",
              "      <th>9995</th>\n",
              "      <td>2.621194</td>\n",
              "      <td>3.082826</td>\n",
              "      <td>-6.051600</td>\n",
              "      <td>-9.254466</td>\n",
              "      <td>5.131143</td>\n",
              "      <td>0.667478</td>\n",
              "      <td>-1.629920</td>\n",
              "      <td>-1.360385</td>\n",
              "      <td>-1.946909</td>\n",
              "      <td>-4.092077</td>\n",
              "      <td>2.009247</td>\n",
              "      <td>1.749112</td>\n",
              "      <td>-3.929099</td>\n",
              "      <td>-1.599213</td>\n",
              "      <td>-3.747115</td>\n",
              "      <td>1.836762</td>\n",
              "      <td>-7.503489</td>\n",
              "      <td>3.989790</td>\n",
              "      <td>5.298064</td>\n",
              "      <td>-6.293570</td>\n",
              "      <td>5.447109</td>\n",
              "      <td>-3.485855</td>\n",
              "      <td>3.683923</td>\n",
              "      <td>5.746130</td>\n",
              "      <td>5.880837</td>\n",
              "      <td>2.346970</td>\n",
              "      <td>2.474427</td>\n",
              "      <td>0.988740</td>\n",
              "      <td>-2.332277</td>\n",
              "      <td>0.787062</td>\n",
              "      <td>6.165651</td>\n",
              "    </tr>\n",
              "    <tr>\n",
              "      <th>9996</th>\n",
              "      <td>-0.565152</td>\n",
              "      <td>4.502084</td>\n",
              "      <td>-4.958137</td>\n",
              "      <td>-1.130835</td>\n",
              "      <td>6.393298</td>\n",
              "      <td>-10.045349</td>\n",
              "      <td>-5.483434</td>\n",
              "      <td>-6.521711</td>\n",
              "      <td>-3.976157</td>\n",
              "      <td>2.130145</td>\n",
              "      <td>-7.738335</td>\n",
              "      <td>-2.840233</td>\n",
              "      <td>1.204603</td>\n",
              "      <td>-4.691612</td>\n",
              "      <td>-2.654711</td>\n",
              "      <td>1.921697</td>\n",
              "      <td>7.099371</td>\n",
              "      <td>-0.297220</td>\n",
              "      <td>-10.052557</td>\n",
              "      <td>7.396492</td>\n",
              "      <td>6.868344</td>\n",
              "      <td>-2.660437</td>\n",
              "      <td>2.540235</td>\n",
              "      <td>-0.749447</td>\n",
              "      <td>4.566415</td>\n",
              "      <td>-7.151448</td>\n",
              "      <td>-8.291589</td>\n",
              "      <td>8.715938</td>\n",
              "      <td>5.509624</td>\n",
              "      <td>-7.029211</td>\n",
              "      <td>9.004169</td>\n",
              "    </tr>\n",
              "    <tr>\n",
              "      <th>9997</th>\n",
              "      <td>5.458936</td>\n",
              "      <td>6.669342</td>\n",
              "      <td>-9.677379</td>\n",
              "      <td>-4.951354</td>\n",
              "      <td>5.975153</td>\n",
              "      <td>0.109411</td>\n",
              "      <td>9.595156</td>\n",
              "      <td>0.086257</td>\n",
              "      <td>6.671417</td>\n",
              "      <td>-0.332043</td>\n",
              "      <td>7.129822</td>\n",
              "      <td>-5.413321</td>\n",
              "      <td>-0.944951</td>\n",
              "      <td>-0.779493</td>\n",
              "      <td>-1.810268</td>\n",
              "      <td>6.062982</td>\n",
              "      <td>-3.143105</td>\n",
              "      <td>-2.785437</td>\n",
              "      <td>-1.798621</td>\n",
              "      <td>-2.375633</td>\n",
              "      <td>2.291665</td>\n",
              "      <td>-6.591749</td>\n",
              "      <td>4.390090</td>\n",
              "      <td>-3.670793</td>\n",
              "      <td>11.363186</td>\n",
              "      <td>-6.152867</td>\n",
              "      <td>4.829156</td>\n",
              "      <td>-1.963335</td>\n",
              "      <td>-7.680129</td>\n",
              "      <td>4.356970</td>\n",
              "      <td>13.338685</td>\n",
              "    </tr>\n",
              "    <tr>\n",
              "      <th>9998</th>\n",
              "      <td>5.167506</td>\n",
              "      <td>9.960286</td>\n",
              "      <td>5.908806</td>\n",
              "      <td>-5.992349</td>\n",
              "      <td>-6.306272</td>\n",
              "      <td>-2.778985</td>\n",
              "      <td>11.405055</td>\n",
              "      <td>1.561802</td>\n",
              "      <td>7.698767</td>\n",
              "      <td>-9.825561</td>\n",
              "      <td>5.709468</td>\n",
              "      <td>-9.183920</td>\n",
              "      <td>-9.588192</td>\n",
              "      <td>-11.000842</td>\n",
              "      <td>-5.495952</td>\n",
              "      <td>-3.846113</td>\n",
              "      <td>9.210216</td>\n",
              "      <td>7.947077</td>\n",
              "      <td>0.979926</td>\n",
              "      <td>6.075725</td>\n",
              "      <td>-9.279143</td>\n",
              "      <td>4.291894</td>\n",
              "      <td>-9.643116</td>\n",
              "      <td>-6.771529</td>\n",
              "      <td>8.741895</td>\n",
              "      <td>-2.417855</td>\n",
              "      <td>6.372045</td>\n",
              "      <td>1.503416</td>\n",
              "      <td>3.849181</td>\n",
              "      <td>4.402622</td>\n",
              "      <td>19.920572</td>\n",
              "    </tr>\n",
              "    <tr>\n",
              "      <th>9999</th>\n",
              "      <td>-3.119938</td>\n",
              "      <td>-4.029596</td>\n",
              "      <td>0.531152</td>\n",
              "      <td>7.573138</td>\n",
              "      <td>-8.084303</td>\n",
              "      <td>-2.583298</td>\n",
              "      <td>-0.893339</td>\n",
              "      <td>-4.906089</td>\n",
              "      <td>-7.680841</td>\n",
              "      <td>-7.023013</td>\n",
              "      <td>9.462003</td>\n",
              "      <td>-5.572993</td>\n",
              "      <td>-11.237967</td>\n",
              "      <td>-3.001927</td>\n",
              "      <td>3.517245</td>\n",
              "      <td>-3.539982</td>\n",
              "      <td>8.105930</td>\n",
              "      <td>-5.813602</td>\n",
              "      <td>8.576036</td>\n",
              "      <td>0.332330</td>\n",
              "      <td>7.541918</td>\n",
              "      <td>3.364779</td>\n",
              "      <td>-8.264066</td>\n",
              "      <td>-7.971045</td>\n",
              "      <td>7.497196</td>\n",
              "      <td>8.930793</td>\n",
              "      <td>4.150151</td>\n",
              "      <td>-1.189277</td>\n",
              "      <td>-1.800349</td>\n",
              "      <td>5.760702</td>\n",
              "      <td>-8.059192</td>\n",
              "    </tr>\n",
              "  </tbody>\n",
              "</table>\n",
              "<p>9999 rows × 31 columns</p>\n",
              "</div>"
            ],
            "text/plain": [
              "            0         1         2   ...         28        29         30\n",
              "1    -1.178806 -1.705041 -2.304133  ...  10.208270  4.121820  -3.410083\n",
              "2     0.904578  4.691859 -3.682533  ...   8.176317 -4.350617   9.383718\n",
              "3    -8.309558 -0.700731 -6.674782  ...   8.703038  3.645643  -1.401462\n",
              "4     8.340888 -8.214758 -5.512123  ...   0.070567  6.126067 -16.429515\n",
              "5    -0.008196 -3.905819 -2.637004  ...  10.689298  3.435147  -7.811637\n",
              "...        ...       ...       ...  ...        ...       ...        ...\n",
              "9995  2.621194  3.082826 -6.051600  ...  -2.332277  0.787062   6.165651\n",
              "9996 -0.565152  4.502084 -4.958137  ...   5.509624 -7.029211   9.004169\n",
              "9997  5.458936  6.669342 -9.677379  ...  -7.680129  4.356970  13.338685\n",
              "9998  5.167506  9.960286  5.908806  ...   3.849181  4.402622  19.920572\n",
              "9999 -3.119938 -4.029596  0.531152  ...  -1.800349  5.760702  -8.059192\n",
              "\n",
              "[9999 rows x 31 columns]"
            ]
          },
          "metadata": {
            "tags": []
          },
          "execution_count": 13
        }
      ]
    },
    {
      "cell_type": "markdown",
      "metadata": {
        "id": "gUM_otcNSNt1"
      },
      "source": [
        "## **ข้อที่2 ทำ clustering แล้วทำ visualize ข้อมูลแบบ 2 มิติ**"
      ]
    },
    {
      "cell_type": "markdown",
      "metadata": {
        "id": "Ng53qxeBSyUJ"
      },
      "source": [
        "**Import**"
      ]
    },
    {
      "cell_type": "code",
      "metadata": {
        "id": "1u5S0uTLSMfr"
      },
      "source": [
        "from sklearn.cluster import KMeans #การนำเข้าข้อมูล"
      ],
      "execution_count": 14,
      "outputs": []
    },
    {
      "cell_type": "markdown",
      "metadata": {
        "id": "3HQT533DTDvo"
      },
      "source": [
        "**Define**"
      ]
    },
    {
      "cell_type": "code",
      "metadata": {
        "id": "vC2_ihgPTDEo"
      },
      "source": [
        "kmeans = KMeans(random_state=2021) #เริ่มสุ่มที่จุดเดียวกัน"
      ],
      "execution_count": 15,
      "outputs": []
    },
    {
      "cell_type": "markdown",
      "metadata": {
        "id": "kZupm6z1TX1M"
      },
      "source": [
        "**Fit-Transform**\n",
        "\n",
        "คำนวณหาจุด cluster centers ของข้อมูล Data ด้วยวิธี K-means clustering"
      ]
    },
    {
      "cell_type": "code",
      "metadata": {
        "id": "t262Ymy9TZSY",
        "colab": {
          "base_uri": "https://localhost:8080/"
        },
        "outputId": "b9e1a826-3ec7-4a43-d2ed-3fb5525f9e8c"
      },
      "source": [
        "kmeans.fit(Data)"
      ],
      "execution_count": 16,
      "outputs": [
        {
          "output_type": "execute_result",
          "data": {
            "text/plain": [
              "KMeans(algorithm='auto', copy_x=True, init='k-means++', max_iter=300,\n",
              "       n_clusters=8, n_init=10, n_jobs=None, precompute_distances='auto',\n",
              "       random_state=2021, tol=0.0001, verbose=0)"
            ]
          },
          "metadata": {
            "tags": []
          },
          "execution_count": 16
        }
      ]
    },
    {
      "cell_type": "markdown",
      "metadata": {
        "id": "9gppfI1vUJ8N"
      },
      "source": [
        "แสดงจุด cluster centers ที่คำนวณออกมาได้"
      ]
    },
    {
      "cell_type": "code",
      "metadata": {
        "id": "D090Y9kvUV0R",
        "colab": {
          "base_uri": "https://localhost:8080/"
        },
        "outputId": "18f60f15-2573-4d3e-ee10-fa9d86152a81"
      },
      "source": [
        "kmeans.cluster_centers_"
      ],
      "execution_count": 17,
      "outputs": [
        {
          "output_type": "execute_result",
          "data": {
            "text/plain": [
              "array([[-3.63126731e+00, -2.21272742e+00, -4.91946255e+00,\n",
              "         8.21931883e+00,  5.62424329e+00, -7.78435110e+00,\n",
              "         6.69930926e+00,  2.59944150e+00,  6.34364609e+00,\n",
              "         3.74593986e-01, -6.56408139e+00, -1.00806471e+00,\n",
              "         1.32121437e+00, -4.99447916e+00, -5.53282563e+00,\n",
              "        -2.42435519e+00,  2.91543386e-01, -6.13465297e-01,\n",
              "         3.25077574e+00, -7.61301774e+00,  1.87439711e+00,\n",
              "        -6.51551107e+00, -2.88111443e+00, -4.11406387e+00,\n",
              "         4.04676659e+00, -1.06373383e+00, -3.32195202e+00,\n",
              "         3.80757458e-02,  9.84082630e+00,  2.76321150e+00,\n",
              "        -4.42545484e+00,  1.58160575e+01],\n",
              "       [-4.24513971e-01,  4.41983209e+00, -4.84945412e+00,\n",
              "        -3.58686735e+00,  5.96374717e+00, -8.96207334e+00,\n",
              "        -4.70838398e+00, -5.94458586e+00, -5.59174800e+00,\n",
              "         3.26748124e+00, -7.56320707e+00, -2.11044982e+00,\n",
              "         2.25315025e+00, -3.53065610e+00, -3.70923433e+00,\n",
              "         2.14593996e+00,  6.69113235e+00, -1.68840695e+00,\n",
              "        -9.04710870e+00,  7.65635623e+00,  7.39473892e+00,\n",
              "        -2.67656815e+00,  2.71148874e+00, -9.34976137e-01,\n",
              "         4.24185097e+00, -7.34335501e+00, -8.25672529e+00,\n",
              "         9.15635226e+00,  7.52890878e+00, -6.80741191e+00,\n",
              "         8.83966418e+00, -3.20370596e+01],\n",
              "       [ 2.66929730e+00,  5.46292047e+00,  1.64225475e+00,\n",
              "        -1.17650196e+00, -1.93258891e+00,  1.72019915e+00,\n",
              "        -2.94842986e+00,  3.04215845e-01, -7.74591179e-01,\n",
              "        -4.96904084e+00, -9.82054695e-01,  2.77731743e+00,\n",
              "         1.03563736e+00,  2.44352030e+00,  3.60862867e-01,\n",
              "        -3.79023908e+00, -7.21116409e+00,  3.47843462e+00,\n",
              "         6.65238853e-01, -5.86046361e+00,  5.90686413e+00,\n",
              "         3.61649875e+00,  3.36482067e+00, -1.57244406e-01,\n",
              "         5.56077732e+00,  8.69221943e-01,  2.95430776e+00,\n",
              "         4.84748940e+00, -1.13444453e+00,  9.30921568e-02,\n",
              "         1.09258409e+01,  2.46546078e+00],\n",
              "       [ 5.27516104e+00, -6.78594960e+00, -5.56020114e+00,\n",
              "         4.48688532e+00,  2.36869475e+00,  6.75140029e+00,\n",
              "         7.07661693e-01,  3.15566412e+00,  1.03868510e+00,\n",
              "         1.78296110e+00,  6.02181408e+00,  5.20943487e+00,\n",
              "         1.28551466e+00,  3.07592319e+00, -9.74800698e-02,\n",
              "         5.92042034e+00,  9.40575297e-01,  1.78006622e+00,\n",
              "         4.79070240e+00, -1.66491307e-01, -5.24228166e+00,\n",
              "         4.91034456e+00,  2.70486078e+00,  4.48654973e+00,\n",
              "        -1.13254319e+00, -7.04308721e+00, -7.81030033e+00,\n",
              "         5.73461332e+00, -2.17976507e+00,  3.71930944e+00,\n",
              "        -1.35718992e+01,  2.05965472e+01],\n",
              "       [ 7.66876088e-02, -9.26873424e+00,  4.13321638e+00,\n",
              "         2.47777997e+00,  5.53718215e+00, -8.60843725e-01,\n",
              "        -2.37294308e+00, -4.18012198e+00,  1.16787105e+00,\n",
              "        -8.33426344e+00,  2.66043510e+00,  8.93553632e+00,\n",
              "         7.78791401e+00,  7.62203110e+00, -3.11696482e+00,\n",
              "         4.01922979e+00,  5.22356557e-01,  3.13481604e+00,\n",
              "        -4.52911219e+00,  2.15445373e+00, -9.01105884e+00,\n",
              "         3.92484283e+00, -3.97523528e+00, -6.65514564e+00,\n",
              "        -3.30767688e+00, -6.64667374e+00,  8.30769824e+00,\n",
              "        -4.39574805e+00, -7.78884008e+00, -7.66997227e+00,\n",
              "        -1.85374685e+01, -3.63498613e+01],\n",
              "       [ 5.08424949e+00,  8.03141613e+00, -1.38242802e+00,\n",
              "        -6.63324646e+00,  1.24944366e+00, -1.75515185e+00,\n",
              "         9.08474299e+00,  2.20166818e+00,  6.76893409e+00,\n",
              "        -5.66307956e+00,  5.94194080e+00, -6.10558426e+00,\n",
              "        -6.00694162e+00, -5.65283977e+00, -3.94163091e+00,\n",
              "         1.74659260e+00,  3.31087180e+00,  2.79497099e+00,\n",
              "        -1.09884496e-02,  2.34745881e+00, -3.04568161e+00,\n",
              "        -5.36571870e-01, -1.91746228e+00, -5.72080616e+00,\n",
              "         8.91919045e+00, -6.05020905e+00,  6.04432403e+00,\n",
              "        -1.15136078e+00, -2.17389122e+00,  4.26885686e+00,\n",
              "         1.60628323e+01,  2.33442843e+01],\n",
              "       [-7.89127773e-01, -5.09734731e+00, -1.21228966e+00,\n",
              "         6.04028716e+00, -1.48061971e+00,  3.59400919e+00,\n",
              "         7.88935056e-01, -2.00313330e+00, -8.18189963e+00,\n",
              "        -2.86529435e+00,  3.47578715e+00, -5.03417059e+00,\n",
              "        -3.67466156e+00,  3.21294258e+00,  2.87322795e+00,\n",
              "        -6.70225331e-01,  6.07261648e+00,  1.20596088e+00,\n",
              "         8.13100450e+00,  2.58730966e+00,  1.21079192e+00,\n",
              "        -9.16839094e-01,  1.35669545e+00, -4.46488795e+00,\n",
              "         3.61386334e+00,  5.28105091e+00,  4.24633066e+00,\n",
              "         2.26401351e+00, -1.37792465e+00,  7.89823731e+00,\n",
              "        -1.01946946e+01,  4.14911866e+01],\n",
              "       [ 1.07929596e+00,  5.73900630e+00,  6.46097335e+00,\n",
              "         6.45123381e+00, -8.86596367e+00,  7.78335889e+00,\n",
              "         9.04271093e+00, -5.52990579e+00,  5.51269471e+00,\n",
              "        -1.62817229e+00, -7.14995415e-01,  3.68399879e+00,\n",
              "         8.66523685e+00,  7.16404723e+00,  9.13133271e+00,\n",
              "         2.69455805e+00, -8.66146236e+00,  7.43323439e+00,\n",
              "        -2.79342955e+00,  2.78544557e+00,  8.16915689e+00,\n",
              "         1.42741347e-01,  7.13976994e+00,  9.97019248e+00,\n",
              "         9.97544012e+00, -4.05327219e+00, -4.90746067e+00,\n",
              "        -5.68682818e+00, -6.67935099e-01,  7.46863709e+00,\n",
              "         1.14780126e+01,  3.93431854e+01]])"
            ]
          },
          "metadata": {
            "tags": []
          },
          "execution_count": 17
        }
      ]
    },
    {
      "cell_type": "markdown",
      "metadata": {
        "id": "SJzcPOiQUfEx"
      },
      "source": [
        "ทดสอบการจัดกลุ่มของ Data"
      ]
    },
    {
      "cell_type": "code",
      "metadata": {
        "id": "W8gnOq8fUiqg",
        "colab": {
          "base_uri": "https://localhost:8080/"
        },
        "outputId": "fa7b3258-5811-49aa-8740-363da4f52b78"
      },
      "source": [
        "y = kmeans.predict(Data)\n",
        "y"
      ],
      "execution_count": 18,
      "outputs": [
        {
          "output_type": "execute_result",
          "data": {
            "text/plain": [
              "array([0, 0, 1, ..., 5, 5, 6], dtype=int32)"
            ]
          },
          "metadata": {
            "tags": []
          },
          "execution_count": 18
        }
      ]
    },
    {
      "cell_type": "markdown",
      "metadata": {
        "id": "503Mzh1cUya8"
      },
      "source": [
        "### **PCA** เพื่อลด dimension"
      ]
    },
    {
      "cell_type": "code",
      "metadata": {
        "id": "zFFjgYwOU1Bj"
      },
      "source": [
        "from sklearn.decomposition import PCA\n",
        "pca = PCA(n_components=2)\n",
        "new_pca = pca.fit_transform(Data)"
      ],
      "execution_count": 19,
      "outputs": []
    },
    {
      "cell_type": "code",
      "metadata": {
        "id": "1VbHM5oCUpRs",
        "colab": {
          "base_uri": "https://localhost:8080/"
        },
        "outputId": "731dbef1-07ef-4f7b-f9ef-317b0e482404"
      },
      "source": [
        "new_pca.shape #dimension เหลือ 2 dimension"
      ],
      "execution_count": 20,
      "outputs": [
        {
          "output_type": "execute_result",
          "data": {
            "text/plain": [
              "(10000, 2)"
            ]
          },
          "metadata": {
            "tags": []
          },
          "execution_count": 20
        }
      ]
    },
    {
      "cell_type": "code",
      "metadata": {
        "id": "Tj4ngKAJVFTF"
      },
      "source": [
        "from matplotlib import pyplot as plt"
      ],
      "execution_count": 21,
      "outputs": []
    },
    {
      "cell_type": "code",
      "metadata": {
        "id": "KGkRBOK7bRn9",
        "colab": {
          "base_uri": "https://localhost:8080/",
          "height": 282
        },
        "outputId": "cd706a26-04b0-4a52-ec40-1c8cd159f16d"
      },
      "source": [
        "kmeans = KMeans(n_clusters=3,random_state=2021)\n",
        "kmeans.fit(Data)\n",
        "y = kmeans.predict(Data)\n",
        "plt.scatter(new_pca[:,0],new_pca[:,1],c=y)"
      ],
      "execution_count": 22,
      "outputs": [
        {
          "output_type": "execute_result",
          "data": {
            "text/plain": [
              "<matplotlib.collections.PathCollection at 0x7efe73e5d190>"
            ]
          },
          "metadata": {
            "tags": []
          },
          "execution_count": 22
        },
        {
          "output_type": "display_data",
          "data": {
            "image/png": "[encoded data removed]",
            "text/plain": [
              "<Figure size 432x288 with 1 Axes>"
            ]
          },
          "metadata": {
            "tags": [],
            "needs_background": "light"
          }
        }
      ]
    },
    {
      "cell_type": "markdown",
      "metadata": {
        "id": "DoIDL7jtWRWk"
      },
      "source": [
        "หาค่า K ควรจะเป็นเท่าไหร่ โดยใช้วิธี Elbow Method"
      ]
    },
    {
      "cell_type": "markdown",
      "metadata": {
        "id": "dLyLbi1oWk4T"
      },
      "source": [
        "**SSE**"
      ]
    },
    {
      "cell_type": "code",
      "metadata": {
        "id": "2ooNlMRId_de",
        "colab": {
          "base_uri": "https://localhost:8080/"
        },
        "outputId": "64bd0d3b-ea55-403b-9e04-e372895af8fc"
      },
      "source": [
        "kmeans.inertia_ ## SSE (Sum of Squared Errors) "
      ],
      "execution_count": 23,
      "outputs": [
        {
          "output_type": "execute_result",
          "data": {
            "text/plain": [
              "10129784.269352978"
            ]
          },
          "metadata": {
            "tags": []
          },
          "execution_count": 23
        }
      ]
    },
    {
      "cell_type": "code",
      "metadata": {
        "id": "agz2-SP0fTAJ"
      },
      "source": [
        "SSE = list()\n",
        "for k in [1,2,3,4,5,6,7,8]:\n",
        "    kmeans = KMeans(n_clusters=k, random_state=2021)\n",
        "    kmeans.fit(Data)\n",
        "    SSE.append(kmeans.inertia_)"
      ],
      "execution_count": 24,
      "outputs": []
    },
    {
      "cell_type": "code",
      "metadata": {
        "id": "0zZo-sRjfbJt",
        "colab": {
          "base_uri": "https://localhost:8080/"
        },
        "outputId": "1e3fea1a-1495-42a1-90e2-5fa469715ad0"
      },
      "source": [
        "SSE"
      ],
      "execution_count": 25,
      "outputs": [
        {
          "output_type": "execute_result",
          "data": {
            "text/plain": [
              "[17376235.56078428,\n",
              " 12379473.796194354,\n",
              " 10129784.269352978,\n",
              " 8730523.544304458,\n",
              " 7615456.759086133,\n",
              " 6520299.778351892,\n",
              " 5320747.510562791,\n",
              " 4223015.069657261]"
            ]
          },
          "metadata": {
            "tags": []
          },
          "execution_count": 25
        }
      ]
    },
    {
      "cell_type": "code",
      "metadata": {
        "id": "ZBNJXV8EfmY7",
        "colab": {
          "base_uri": "https://localhost:8080/",
          "height": 290
        },
        "outputId": "e709f183-6163-4ab7-9be2-59eddd33ec31"
      },
      "source": [
        "plt.plot([1,2,3,4,5,6,7,8],SSE,'o-b')\n",
        "plt.xlabel('k')\n",
        "plt.ylabel('SSE'); #จากกราฟจะเห็นได้ว่าข้อมูลมีความเปลี่ยนแปลงที่ค่า k=2 ดังนั้น กราฟนี้จึงมีค่า =2"
      ],
      "execution_count": 26,
      "outputs": [
        {
          "output_type": "display_data",
          "data": {
            "image/png": "[encoded data removed]",
            "text/plain": [
              "<Figure size 432x288 with 1 Axes>"
            ]
          },
          "metadata": {
            "tags": [],
            "needs_background": "light"
          }
        }
      ]
    },
    {
      "cell_type": "markdown",
      "metadata": {
        "id": "5i_TSVs0fvDw"
      },
      "source": [
        "Silhouette coefficient"
      ]
    },
    {
      "cell_type": "code",
      "metadata": {
        "id": "vYmKRtZXf5NW"
      },
      "source": [
        "from sklearn import metrics"
      ],
      "execution_count": 27,
      "outputs": []
    },
    {
      "cell_type": "code",
      "metadata": {
        "id": "hZ2NJU3zf9xG"
      },
      "source": [
        "SilH = list()\n",
        "for k in [2,3,4,5,6,7,8]:\n",
        "    kmeans = KMeans(n_clusters=k, random_state=2021)\n",
        "    kmeans.fit(Data)\n",
        "    score = metrics.silhouette_score(Data,kmeans.labels_)\n",
        "    SilH.append(score)"
      ],
      "execution_count": 28,
      "outputs": []
    },
    {
      "cell_type": "code",
      "metadata": {
        "id": "rS10QIkUgbqV",
        "colab": {
          "base_uri": "https://localhost:8080/",
          "height": 279
        },
        "outputId": "679f61b6-8875-41d3-9b6e-a12cf4b98b55"
      },
      "source": [
        "plt.plot([2,3,4,5,6,7,8],SilH,'o-g')\n",
        "plt.xlabel('k')\n",
        "plt.ylabel('Silhouette'); # Silhouette ดีที่สุด คือ 8"
      ],
      "execution_count": 29,
      "outputs": [
        {
          "output_type": "display_data",
          "data": {
            "image/png": "[encoded data removed]",
            "text/plain": [
              "<Figure size 432x288 with 1 Axes>"
            ]
          },
          "metadata": {
            "tags": [],
            "needs_background": "light"
          }
        }
      ]
    },
    {
      "cell_type": "markdown",
      "metadata": {
        "id": "comFvetagr7n"
      },
      "source": [
        "## **ข้อที่3 ลด Dimension ของข้อมูลเหลือ 2 มิติ แล้วทำ clustering แล้ว visualize ข้อมูลแบบ 2 มิติ**"
      ]
    },
    {
      "cell_type": "code",
      "metadata": {
        "id": "T2Lk3crUi_Sz"
      },
      "source": [
        "from sklearn.manifold import MDS"
      ],
      "execution_count": 30,
      "outputs": []
    },
    {
      "cell_type": "code",
      "metadata": {
        "id": "dUsSI5uojD64"
      },
      "source": [
        "mds = MDS(n_components=2)"
      ],
      "execution_count": 31,
      "outputs": []
    },
    {
      "cell_type": "code",
      "metadata": {
        "id": "skk--18IzBRu"
      },
      "source": [
        "new_mds = mds.fit_transform(new_d) #ใช้ new_d เพราะ Data มีจำนวนมาเกินไป"
      ],
      "execution_count": 32,
      "outputs": []
    },
    {
      "cell_type": "code",
      "metadata": {
        "id": "P54GWTQ82612"
      },
      "source": [
        "kmeans2 = KMeans(n_clusters=3,random_state=2021)\n",
        "kmeans2.fit(new_d)\n",
        "p = kmeans2.predict(new_d)"
      ],
      "execution_count": 33,
      "outputs": []
    },
    {
      "cell_type": "code",
      "metadata": {
        "id": "psO_cfXC3FhT",
        "outputId": "b2e803e4-53d6-4d30-ef61-b472f89f2e64",
        "colab": {
          "base_uri": "https://localhost:8080/",
          "height": 298
        }
      },
      "source": [
        "plt.scatter(new_mds[:,0],new_mds[:,1],c=p,alpha=0.5)\n",
        "plt.title('DataGenerator') "
      ],
      "execution_count": 39,
      "outputs": [
        {
          "output_type": "execute_result",
          "data": {
            "text/plain": [
              "Text(0.5, 1.0, 'DataGenerator')"
            ]
          },
          "metadata": {
            "tags": []
          },
          "execution_count": 39
        },
        {
          "output_type": "display_data",
          "data": {
            "image/png": "[encoded data removed]",
            "text/plain": [
              "<Figure size 432x288 with 1 Axes>"
            ]
          },
          "metadata": {
            "tags": [],
            "needs_background": "light"
          }
        }
      ]
    },
    {
      "cell_type": "markdown",
      "metadata": {
        "id": "cbDzX_FYv8yW"
      },
      "source": [
        "### **ข้อที่ 4 เปรียบเทียบความแตกต่างของผลข้อ 2 กับ ข้อ 3**"
      ]
    },
    {
      "cell_type": "markdown",
      "metadata": {
        "id": "7qJH_2LJD_Sq"
      },
      "source": [
        "![image.png](data:image/png;base64,iVBORw0KGgoAAAANSUhEUgAAAncAAAEFCAYAAACByME1AAAgAElEQVR4Aex9B3QUV5o1k3dmd2cn7P6zs+OAiWNsYxxwHBtjgzMO5BxNMNnGRNtEkyRQTgQhASJnRM45iAwCRM7KOUutV/c/91WX3JJaTQu1pFbr1Tml6q56Fd6t6qdbX7hfLahJIaAQUAgoBBQCCgGFgELAZRCo5TI9UR1RCCgEFAIKAYWAQkAhoBCAInfqIVAIKAQUAgoBhYBCQCHgQggocudCN1N1RSGgEFAIKAQUAgoBhYAid+oZUAgoBBQCCgGFgEJAIeBCCChy50I3U3VFIaAQUAgoBBQCCgGFgCJ36hlQCCgEFAIKAYWAQkAh4EIIKHLnQjdTdUUhoBBQCCgEFAIKAYWAInfqGVAIKAQUAgoBhYBCQCHgQggocudCN1N1RSGgEFAIKAQUAgoBhYAid+oZUAgoBBQCCgGFgEJAIeBCCChy50I3U3VFIaAQUAgoBBQCCgGFgCJ36hlQCCgEFAIKAYWAQkAh4EIIKHLnQjdTdUUhoBBQCCgEFAIKAYWAInfqGVAIKAQUAgoBhYBCQCHgQggocudCN1N1RSGgEFAIKAQUAgoBhYAid+oZUAgoBBQCCgGFgEJAIeBCCChy50I3U3VFIaAQUAgoBBQCCgGFgCJ36hlQCCgEFAIKAYWAQkAh4EIIKHLnQjdTdUUhoBBQCCgEFAIKAYWAInfqGVAIKAQUAgoBhYBCQCHgQggocudCN1N1RSGgEFAIKAQUAgoBhYAid+oZUAgoBBQCCgGFgEJAIeBCCChy50I3U3VFIaAQUAgoBBQCCgGFQIWRu8aNG2PlypUKYYWAQkAhoBBQCCgEFAIKgUpEQJG7SgRbnUohoBBQCCgEFAIKAYVARSOgyF1FI6yOrxBQCCgEFAIKAYWAQqASEVDkrhLBVqdSCCgEFAIKAYWAQkAhUNEIuAy5S0xMxI4dO7Bt2zZs375dzQoD9QyoZ0COB3v27EFGRkZFj6Xq+NUcAU3TwNnRU0Ud19HXqY7nWgi4DLk7evQovvrqK8ydOxfz589Xs8JAPQPqGUBAQAD69OmDq1evutbIrXrjMAQuXLiAMWPGYPTo0Rg/fjzCwsIQHx9f6vHZfvXq1aVuNzakpKRgzZo18pgTJkxAaGgo4uLijM2Vsjxx4gS2bt1aIaS1UjqgTvLICLgMuTt27Bj8/f0fGQi1o0JAIeB6CNBqMmPGDFy7ds31Oqd65BAE1q5di06dOklLP4nQ4MGDMWLECEnESNCuX7+OO3fuID8/X54vODgYHTp0wKVLl5Ceno7MzEzcunVLtuN3Tlw3c+ZMDBw4EBs2bMCBAwfg6ekJGiE4FRQU4MGDB3I/tuWUk5ODhIQEuZ7ny83Nlev5h9fBZzg2NlauE0IgOTlZktDbt2/L6+C+bHPv3j15fJ7Dx8cHAwYMkNfK8/D3EB0djZs3byIrK0sei+fl8e/fvy/3NZlMhedVH6ovAi5F7nx9fcGHXk0KAYWAQoAI8B/ktGnTFLlTj0OpCJB80XKXl5cn29C61rZtWyxatEhafnv06IGOHTtizpw5IPGhJbh+/fpyuW/fPun65zoSvm+//VYSroiICLnP2bNnS5yXz+SqVavQt29fdO/eHdOnT5dEbffu3Xj33XcxfPhwtGvXDn5+fvKaoqKi5HF79uwpz3ny5ElJxIz9R40aJUkjyWS3bt3Qvn17LF++HCR9bNOoUSO55H4bN24Ej0MyO2XKFHmtDFto1aqV9Hy5ubkhNTW1xDWrFdUPAUXuqt89U1esEFAI2ImAInd2AlWDm5HcjRw5Ulq/DBiGDRsmrV60gjFekySuV69e0uK1ZcsWDBkyRBIvWsIY7003Li1x/fv3l/quJG+0mNFaRssYiSIJ5N69e0HC9/XXX+P48ePSIkh3MNsb5I6k7PDhw/JYV65cweTJkyXRo6Vt8eLFIJmLjIyUxDAwMFBaFGlVpLWP56P1sV+/fvI7Sd7EiRNlG1r2SEJJ5khgeV5q0e7cuRPNmjXD6dOnpWWPfVJT9UdAkbvqfw9dpgcFQiA2Ix0P0tOUBdZl7mrVdkSRu6rFvzqc3Rq5I/ny8vLCwoULJSljPHeLFi0kAWLS3tChQ6UVj65Puly///57fPPNN3jrrbdkeFB4eLgkUklJSXIsO3funHTRTpo0Sbp/33jjDen+pZWuTZs2WLp0qSR3vXv3lpDRbUoCefDgQXTu3Fla8khASTDp6mXcH6+BJJAT3cGMNzfavPfeezLOdMWKFeA5SdiMa7h7967ch8SQbttNmzbJY9LNqybXQUCRO9e5l9W6J3GZGfA8ehhfLA/D58sWY9K+PYgzx6JU646pi69SBBS5q1L4q8XJ169fL0kRrV4ka/v375duS7o5Sep27doFtvnoo4/ABAVa2Ej+aC1j/Brj80isSJ5I1Ly9vSWxovuTiReGu3fWrFkyueLIkSOgq5fqDoznoyUvJiZGWtx4Pk43btyQ5I8xeiRsHh4esu3FixdBNy1j/EjujBg+HoskkO7gJUuWyGu9fPmytAj+8MMPkogypo7kkW1ojWSSB8krLX0kkorcVYvH1e6LVOTObqhUw4pCwCQEllw4h1fmBeJxTzc84eWOhn6emHMyoqJOqY5bQxBQ5K6G3OhydJOWK8acMfHG3d1dkiaSHpIwkp6pU6fKuM0vvvgCjFsjISMJo2Xv0KFDctt3330HWsK+/PJLGLHfzJSlZY77cx0/k+yRRFHRgbGgTAJkggYtdXSP0irHid/ZnoSR1jm6VnkMxuHRtcvtPCddu5xOnTolCSMJJGPpPv30U9ClSzJKImoQTpJQumPp6qW1kQkYdNMyVpBJFWpyHQQUuXOde+l0PRGahqy8PGTn54OfS5vScnPxzbYtqOM9C7W93PGU9yw85jEDgzZvxJZrVzD/9AmsiDyPW2rwKQ1Ctb4UBBS5KwUYtboQAVrN6Jpl3Nu6deskgaNVjskTtKpxHa15JFB0s9K6R+sX96EFjW5OJipQX5VtjMxs7n/+/HkwG5fHINHKzs6W5yWRYhwfCSCXTGJgHBzj3jjRinjmzBmkpaVJlyrdsDwO3b206nE7iR+vh5NxTTwelSM401XL55/WPVoeabnjfiSHvF6SVE48L/tpZAPLlepPtUdAkbtqfwudswMkdMsunMOwrZvw7fYt2Bh1CZnmbLTiV5xtMmH6of142t8LT3q6FRK8d0Ln460Fc+X3ZwK8MWL7FtxWBK84fOq7DQQUubMBjtqkEFAIuCwCity57K2t2o6tuXQRr8wPxD9mz8Q/PGbi3UXBWH0pUlrxrF3ZmZhodFq9Ao38vfBPP0+0WLQAbwTPwZNmS94TXm5oEuSLdZcvyd0ZIJyemwu6dNWkECgNAUXuSkNGrVcIKARcGQFF7lz57lZg32iFI7myNmnQMHDzRvxt1nTpYqWb9QlPN7w4xw/TDu7FiQf3sPfWTUQ8uIeYjHTcSU1BVEICTj64j0XnTiP07Clsv34NLRcvKCR3JHm03oWcOSX3CT59EiN3boN/xFG5r7XrUOsUAtWJ3FEyg244NSsM1DNQs54BussdrdGryJ36/1cmBLJN+Vh18TyGb9ss57BzZ3A+NgZ301IlOVtz+SJWRF5Aq6WL8JjHzEJyR4JHglbXZzZemx8kLXSvzQ9Et7Wr0G7lMny8ZCGGbgnH0Xt3QSveD3t2Sssf96vtPQuPe7jh7ZB52HQ1CuP37sJjHm568oWnOwZu3oB7aUp4s0w3soY0ri7kjvFOlKxgED2XzGRUs8JAPQOu/wyw5B3FppkJ7chJkTtHoulix6LuHDXnohITQKmSlJwcrL10EU3nBUhXK12ldKO+EzoPHy0JleTruUAfNA7yRX1fjyLEjiTNIGokeUyc4PIxz5lmkuYmv7+3MBjNQ4PlOpI6zg38PPHl8iVYd/miJH7vLgyW+/F4zKx9aa4/1pvdtS52C1R3yolAdSF3tNqxUgED9Rlcz4xKNSsM1DNQM54BZlQzgcaRkyJ3jkTThY6VYzJhxYVz0qLGpAZa4vptXIcPFocUkjRJ1rzcQZJHtyuJFgmbJG9mMmeQOnuXtb1+zpiV5M3TDa8HB2HNxUjpjl198YIklzyfcf4Gvh4IOHEMJKNqUghYIlCdyN3s2bMLMy0t+6A+KwQUAq6NAOsOM2PZkZMid45E04WOdSr6Ad5dOB9PeprJmtmlSrkSe4mao9rxnBQ3Hr1zm7TqFb+GJ73c0GHVclxKiJd3gJm6jOejjMrNlGSbMiwudMtUV6wgUJ3IHTXKqE2mJoWAQqBmIUCRapcnd1TzZq0+1sEzNIFYU4/fGXRY2kRdH0M8srQ2ar19CDADdXnkefzf7BlFiFxtb3fpJnUUabP3OHTNsm1dn6JWPWN/WgrpHl4eeQ7JOdnSikcLI93HPdevxq4b1xXBs+/Wu1wrRe5c7paqDtmNgDVtUQFoeYBWAMDadrsPrho6EIEaQe5YWuWnn36SwcQhISGIjY0FlyyWPG/ePBmPYg1TRe6soVK2dRl5eTgZfV8Su94b1hTGtRkkqqqXBskrfh2M33vazxPzTp/Agdu3pBuXCReGi3jQlo2ITk8vGxiqtUsgoMidS9xG1QmbCBQAIg3QdIFkaDnQ8k5CZK2GyFwBLXc/NNMNaLlHITKXQKT7QqR7QWSugpavCxnbPLzaWOEI1AhyRysdFcOp/M0MEhY2Zo0/llmhX5pFm61NLAujLHfWkCl9namgQJIeJkowxi70zCmZFPFsgLfMai1Oopz1O0kfEzgYE0jBZJYuMypdMDbvw7AQnI55UDoQaovLIqDIncveWtUx2t4K4iCylkGkToZInQKRHgyRNBoi7l2I2CYQMc9DxL4FEf8ZRNwnELGvQ8Q0hohuAhHXAiJ1IoTprsKyihGoEeSOGLOEC4sdsyAz6/2xDh8nll8h2bOcWFKFhZLZlhY/ituq6eEIxKRnYOah/ei1fjW+27FVfv5wcQge99ItXqVZyZyV4PG6jAxcy2ukHAutkEoq5eHPhCu2UOTOFe9qDe+TZoImUqFlb4FI7A0R+zJETBOIaC5J3BpAxNSBiKn78xzN7/UgYuqb539CxDyrk8DM5TUc0Krvfo0hd6ydt2jRIlngmIQtNDRUos96eAw6tpyYKs7aeSyMTAufIneW6Fj/nGPKx6R9e6TcyGPMcvV0Q0NfDzDr1JIYVffP7Be18XZcv6Zi7qw/Ci6/VpE7l7/FNaeDWg5EzmGIjGCIlLEQcc0hYhpaEDaDuJVl2RAiaQg0kVJzcHTCnro8uSMxsyRn1H7p0aMH/P39ZVFjWugWLFhg9dbQ2ufn5+dwlWerJ6vmKxOzsvCvBXMkubMkcHV8Kj8T1vL8jvxMyyOlWcbs2l5qybNqfhvV5duBgCJ3doCkmjg/Aoyjy94EkdAFIvYVM6mjZc7SGlcWUme0fRoi7jMZj+f8ILjuFbo8uTOZTDh//rx0s9JaxySKdevWYfLkyaAG1JQpU3Du3Dmrd1glVFiFxerK5OwcfBgWKoWI6cqU8WnmGq6OJFhVeSxq79ESGXb+rNK/s/oU1IyVVUXuCgoKcOLECRk7zOoTjAk+ePCgzPq3hjxFjJUUijVkavo6DVr+FYj0AIi4jyBiGpktdeUldQa5ayTj8bTcwzUd6Crtv8uTO9ZWu3r1KpYvX46lS5fKAZEDI4lbWFgYDh8+DBJAa5Mid9ZQsb4uXwhZv/WFOX7SHds40AcvzfFHPZ/ZLuGWJVmlm3nEts0qS9b6I1Bj1lYVueNLatu2bREQECBJHUuKMY548eLFViWdFLmrMY+k3R3VCtKhZa2FSOxoJnWOsNQZpM5YNoBIGgCtQNcItfviVEOHIuDy5K48aClyVzb00nNzsflqFGYfPSR14YZsDS+SZVqVVrfynJvEju7lCXt3yYoWZUNFtXY1BKqC3KWkpMjEr9GjR0tyR8/DgQMHpBWPCWKRkZElYOZLK70TSsS4BDQ1c4VmgshcDxHbDCKmtgPcrwaZs1zWg4h+DiLVt2Zi7ES9VuTOxs1Q5M4GODY2XU9KQti5M2ixaEG1t9oxzq6uz2y0XbkU52NjbPRabaopCFQ2uaP3gXJNK1askCElzO7/8ccfZbiJUT+WHghjYvvbt2/j0KFDGDt2rCJ3BjA1eqlBy9kHEf+5OdvVkpA58nM9iNhXITI31mi0naHzitzZuAuK3NkAp5RNlxPi0T98PRr5e8syY+WxmDnDvrTaNV84H0fv3rHa42xTPq4lJeJWSjLomlaT6yNQ2eSO0kzfffcdxowZg0GDBsmEsG7duuHChQughuf06dNldr+BPC12mzZtkqLtTB5jWIqaajYCWu5BXZNOJks4KrbOGimsBxH/KUT+5ZoNuBP0XpE7GzdBkTsb4FjZlFtgwtSD+wqrOFiSM1rAWN1BJlpUQS1Zy2ux9zOvl+LF43bvgDWpw/tpaZhxcD/arFiKjquXw+f4EZVFa+W5cLVVlU3u0tPTsW/fPixbtgyDBw9G//79pUWOGp379++Hm5sbbt68WQJmJmBwgFdu2RLQ1KgVmukuRGKPcsqbWCNyxdfRatcUImWc1MyrUSA7YWcVubNxUxS5swGOlU0JWZnosW61JHGWBIpuzQZ+HmCyxdP+XiW2W7Z1ps8kd08HeGHawX0lNO0or+N2aL902f7DY6bMEmbf1kVdsoKMWuVKCFQ2ubPEjiRv1apVuHPnjhRYZ/b/rl27QCJXfFIJFcURqUnfBSDioOWdgkidrgsRl1vipDiZs/zeACLuDYiU7yFyI1SNWSd41BS5s3ETFLmzAY6VTbTckQjROietdN56IsIz/t54ZV4AOq9egfYrl0lC9Linm1Na8WhhtCSY7Eun1cthKijqck3OzkbfjWulWLPRnhp4fTauRVRiAphccjM5WYod77hxTVWzsPK8VNdVVUnueO7s7Gyp3ckki8TEROTl5VmFUpE7q7DUiJWa6TZE5jyIpMEQMW9UsNWObt6XpQiyZroOaNbVJ2oE8E7USUXubNwMRe5sgFPKpovxcfhq41qwluyzgT6gJEo979mo4z1LZpy+Oi8QX2/agParluGZAG+nIngkdo38vVDPoqoG1706PxDTD+3H/tu3wEJ0mXl5CDlzCm8umFPi+pvOC5B9G7FjCzqsWg4S22f8vSTpY6JJ8UlomrQKSqFtTcOp6AeYfeQgZh46gJ03rsv6vMX3Ud+rFoGqJHdl6bkid2VBy3XaalouBMWJU8dBxLe20LGztLSV9zMJnVGK7EWIpOHQ8s64Dogu0BNF7mzcREXubIBjYxNrrh6+dwfBZ07KqhW04tG6RaJEix1dt0fv3ZWxbCR9huWrqpe8zmYh8yQhfYpWRxJS83Xz2rmNBG/njWt4MzgIT3q5Wb12abX0cpfVLPiZM4/DerTBp09i760bYOJJ2PkzGLZ1kyR+43Zth/vhA/h4yULU8ZmNJ71myTJn66MulXAJ24BebaoEBBS5qwSQ1SkeGQFNy4TIWgGR8i1E7LsVYLUjsXsGIu4tiIT20NL8oeVfBbSSoQGP3Am1Y7kRUOTOBoSK3NkAx45NUQnx+GLZ4iIlyUjuXg8OAretu3wRTYL8nCYGjy5YWhPrW1juDMJpENOBmzdi6oG9MtGCpM3Ybs+SFsEXgvwkSfwwLAQvz/WX+xOTer6zZYYxr4Hn4szjj9i+BfFZmXagrZpUFgKK3FUW0uo8j4ZAAVgdQiT1hYj5F0RMAwcSPBK7phCpkyByT0ITycoN+2g3qcL3UuTOBsSK3NkAx45NWXl5mHX4oCzZRaJC4vK4x0y8HToP15IScCYmGp8sWVQkbs0ekuToNgaRMkhVacdnH95fHIKZh/Y/UmKIcZ4nPN0k4WWMHtfxfMSmOFnk94GbN+BBepodaKsmlYWAIneVhbQ6z6MioIkMiDRvXZaEVraY8rph60JEP6UnZqROA7SMR700tV8lIaDInQ2gFbmzAY6dm24kJ0mCwtgzWsSYUUrLV1Z+Pkj+hm4Jx+OeM0tYwCTRMhNCkhzOJEClES971rMuLK+jeFta1J4P8pVxggbZKt6G33kNH4WFYuqBPXjar+KzfhmvOO9UBHKtZELaCb9qVgEIKHJXAaCqQzocAbpKReqPEDGvmqtR0OrGuSxEr45O6ihxkjQAImulbq1z+NWqAzoaAUXubCCqyJ0NcMqw6W5qKsLOnZXlu1ZevICUnGy5d44pH8O3bZbWvOJkikTsn36eaBTgDSZhvB48By/O8ZOZtsXb2vudmnVNAn1R11uvd2sQuZaLQzDnRAT6blxXxIVc/LiUdKFLme7UOuZjFG9T3u+8Jtbj/WzZYsw/dQJpuTllQFo1rQwEFLmrDJTVOcqPgAaRFwmR9A1EzAtmOZRGFkSvNJJnJoHR5moTyd9CyzkATUtXEiflvymVdgRF7mxArcidDXAeYRMzTS2nAiEwad9uMHnBIFokR0xU6LJ2BeaeipBxeYlZWTJDdcn5s2gS6GOXBY/Hs2bpM5IkLElYPR8PPBfog2cCvEpY9Yx2PB7JJQkn3anGekcvaR3ktSw6e1pWxTgd/QCxGcoFYvncVPVnRe6q+g6o85cFAWnBSx4DEfcRROxbZpL3T3MsXnFLXkN9e1wLiOQh0LI2mS11xUfvslyBalsVCChyZwN1Re5sgOOgTSQvndeswGOebnjCS5+ZYDB+7y7kFOh6SXkFBdhy7Qo6rVmB+j60ulknVyRgRhwbrXNMjmDmqSVxLI2MWSOCxds28KGki271K77N0d95/bym5wJ80GXNCqy4eB7U1kvOzpJyLA6CXx3mERBQ5O4RQFO7VCkCmukeRM5u6VaVQsPxbSBi3zFb9F6DiPsAIrY5RNx7EMnDIbLDoRXcq9JrVicvHwKK3NnAT5E7G+A4aBN13s7FxmDIlnC8NNcfTef6S2mQc3ExhWc4cu+u1JRjIoJBomiBs4zD4+en/Tzx/e4dmH30EJZdOIdpB/bJGL+KtLQZ1+PoZW1pzdTjDNnv54N80HXtSnRbuwo/7tmJS/HxhfgYH4hlZFws5p46Abq/KUkj9fOMBmrpEAQUuXMIjOogVYGAlgct9yhEmhtE8vcQSUN0oePkERBJgyDSvAATZU3yq+Lq1DkdiIAidzbAVOTOBjgO3hSfmYl9t25i5cXz2HXzOqIzGN8BqfG28OxpGYdmWOCe9HbHa/ODpCYcRYdJfmp7zZLiwQ/S05GVly+tW5fj49Bh9TIpnuxo8lXZxyN5ZT8Nojpq5zYkZeuxi8at2HXjGj5dukgmhrw0xw+Dt2zElcQEY7NaOggBRe4cBKQ6TNUgQIJnugUtLwJafhS0vNMQ2Zshcg9CEyWF1qvmItVZy4uAy5M7Wi7u37+P8PBwsNB2VFSUxOzixYtYt24djh49ivx8628pitzpj1dedh6iIq7h8IYI3Iq8C1GsFFd5HsICTcOlhDisjDyPeadPSF23L5cvwYhtm7H12hVsu34Vw7duLlI1giSnz4a1soIDrXSUCxm3a4cURra8Fsb0MU6PGboPc7tai8WrbAJn7/notv4wLBThV6JwLSkRGXl5yMjPw7Btm/CYx0xp0SRGLwT5Yv7pEyAOanIcAorcOQ5LdSSFgEKgYhBweXLHgtpnzpxBUFAQAgMDwULbJ06cgJubG6ZPny6Lb0dEsNBxyYnrfX19IWrwP8fM1CxsDNiGAS+OROv/7oVv3hmP/auOIC0pHSlxqcjOzCl0/WWb8hEZFydJFpMA6CbkVKAJ5BcUyDmbEij5+TCZMaXWXe/1a1Dfx0NmwtIdKePmvNzx+vwgNJ0bIAV+SXwMAsZyYKsvRsrj89ipOTnINVmvZ7jpapQsKcbj2iJPzFBlNqytNs6yjUS1cZAPPl2yCB1XL8fUA/tw8M5t9Fq/RpI7XifbMDt4yv49yDPHLpZ8wtWaR0GgKshdXFycHMcuXLiAzExd1PratWuIjIxERikJN6r82KPcXbWPQsA1EHB5ckfLHQc5kjwOyl9//TWmTp0KT09POUiuXr0aPj4+Re4m2yUkJEhrH9vVlLilAlMBEu4n4ub5O0i4nyT7fenYFfSsPxjv1PoC79Vqg+a1vkTfxiMwobUbRn8wBf7DF+DOxbvIMuUjIOIYWi1bJIV+B28Jx4kH9xGdkYGNVy5j3qkTCKZlbsdWDN26CasvRSI6PV2SDxIrGT9XrBQZ1xVfzwSJtiuX4sjdO1bvC5MvUnNz5EwSefLBfbRauvihQskGcXQWAvfw69CxoYWO+oGT9u3BD7t34klPdzzp6SYTVN4InoMNV1T5siI/bgd8qQpyd+jQIUycOBEjR46UL6r79u3DiBEjMHDgQCxevBjZxVz07KYidw642eoQCgEtFxBULNCgaVnQ8q9BK4iDZkqAyD0Ckb0VIvc4tAL+zxTQRDo002WI3D0QuYeBgtgqwdDlyZ0lqnTBDhs2DOw0rXicdu7cKQdNy3Y3b97E7Nmz0a1bN0yaNMlyk0t/PrwxAgNeGon2f++Lwa+NxY6F+7Bl/i58+ZeeeLdWa7T4RdvCmWSvWa3P0fKXbeHWxx9hhyLQNDgQ/+cxQ2rFkWC0X7UM/cLX4dkAH2lFoiWJZISuwyZBvuiwapmsPct1DyczP9egpRxJq6WLsOz8OdxKSS68J3GZGZhz8jj6h69D//D1+HHPLkkiKalC8WESuLKcp7q0JdbMOD5057Ykz6xP+/nyMASdPI6UHKWTV/iAOOhDVZA7vmCSwJHUffvtt/jmm29w4MAB0Ho3c+ZMXLp0qUTv+ELLse7KlSsltlXHFfk5+TDlWbfQV8f+qGt2NgQKoGnZ0EQ2wLhEkaMnn6T7QaTO0it+pIyCSGgDkdQNIrE7RFxziNjX9SzjpD4QKeMhUidD8HPyYIjU8RCZC/TYRpZqQ+XV360x5I6D39ChQ3H+/HksWbIE/v7+8snatux3wwYAACAASURBVG0bpkyZYvUpO378eI1wy2ZnZGNbyB70aDAEb9f6XFrnSN5a/bErhrw+Fp/8exdptbMkd8bn92q1xid/64lXR07Fk/4/uzVpYWvg54nafrPxhM8sMAnC0gpHtyFJHdeVlURxX8adcf+PwxZi27WrOHT3NnpvWIvaXnppL27nTCmRwBPHsPX6FTxrp0ZeWa+nqtsTh682rpXuaT7It1KTVT1aq79ox6ysCnLH0JA1a9agZ8+e0tNAqx1dtCR8DC85cuRIYefY9u7du2DM8Lhx46o9ucvJzMWZvZFY47kJqz3DcW7/ReTlWI+TLgRBfVAIlAEBrSAeWtYaiNQfIFKGQUsZA5E8DCK+BURsE7M24LMQ0azTWwcihqXYONc1z1zHah7UCaRg9Es64UvoAJHQGSJlNER6ALTc3QAtgZUw1Qhyx7dbDoZhYWHSNbt37145IJLwzZs3D4sWLbIKdU1IqEhPzkTI+GX44i89JakzSBuXuhu2dQli956FBa8FXbX/1h7P9B6H2oEeOlHznY2nfGejwYyZaPTNBDT8diLqzJwh1zmaCJEcMjaPLkiSueKxddz+5colkvz12bDmoe5ZR19fRR+P/Xt5XgA2RF22+gyrlY5HoCrIHXvB2LqDBw9iwoQJ6NGjh3xRZfzdjBkzZGKY0VNa7Hbv3i29D1999RWuXr1qbHLKJa2SWenZIInjlJ9nwq3IO4jYehr7Vh5G2NTV+P7TaXIe9ub3+O69iVgybQ32rz6CE9vPyCQv7qMmhcAjIaDlQmQug4hvr5OyGBK0pyHk0ijZZixLq+pRfD1Fol+EiHkdIuYViIR2EMnfSsuelnfukS6zrDu5PLkzmUwyS7ZVq1aS4HEgZBBySEgIhgwZglmzZiE6OtoqbtWJ3NFdkRKfhrycPKt9Kb4yNzsPZ/ZegEffQHzx5x4l3K6WJK/456Lkri3e+1U7NH11AOpPnIra/rNRd/oMPNdlFN6o3wvN/twZzf7SGa891xf1J/yEpyogaYEEh7M1IkX5FFoQWyxagFfmBeApL9dyzTL5pMWiYBy5exuMN1RTxSNQ2eSOZC0pKQmpqak4e/YsxowZg8GDB2Pjxo3SYscx7MaNG0U6TusdyaC7u7vTWu5kPHRmDs7ui8SGgG1Y7bUJe5YdlGRuRPPx6PCPvvjsj93w4e874YPfdMBH/9YR7/+6Pd77RRu8/5v2aPM/vdCvyQiM/WgK5oxchLU+mxGx7TQSHiSB8cNqUgjYREBLg5Z7GFqaF0T8JxAxJGQGiTOWxUlbWb7TysdjPgcR+yZEbAuI+C8gMgIrxXrn8uSOAwgHORK4mJgYMOuM0idcx+8pKSlWA/P5UFQXcnfn0j2sdN+A6d28sXDCcty+aFtZnG/Jy93Wo3v9wfjwdx1B61txAlfW7+/+rj1ea9wXjfp+j5feGYx3/thJHrdlrTbgzOO99kI/1B8/FbV9K5dgkeCR/NGdaxBAJnHU92WGbOVei3H+R1lad2W7g5UzGFO47vJFmZFsc0BTG8uNQGWTO56PUk50sZLYMQmMJG/8+PEy9o7brMk5cT8SP2eLuTPlm/Dgegyunr6Bg+uOwW9oMCa3m4Wvnh+BLnUG4lNzGAg9Bz/PuiehRS097tdY3/JX7fD+r9qBy1b/2RXd6w2SyV77Vh1BekoGMlMyEXc7Hnei7iM5NsWhMk7lfpDUAaoMAZF/EyL1RwiWWYthvV26V8tC3MrSlsd/VZ9ZFSR5ELT8io+DdXlyV56npzqQu6TYFHgOmINP/6MLWv6ynXyzndjaXWa9Fn97NdwfS6auxpd/pRu2pMu1rKSusH2ttqBFr9kfO0o3LQfhd/7UCa837itJXbO/dkGLWq3xfPuRqB1gdt9WUYIDSdKbwUEYuGk9Oq9eUS1i8UhQnw3wxsDNGzFi2xaZkGKQVS45v784RFalKM8zX/H75kMz3YFmugloWaWcrgCa6S4003VAFisvpVkVra5scsffLd2v8fHx0oJnSDPRkkeLHr0T1iZnzJYtMAkcWH0U07p44YfPpsvEre4NBqP1//RCi1+1xbtmQlc4rliGgFj7zHHHggQym59zx8f7wb23P2Z098HQN8fh+0+mYu6oRbh09AqESdVJtfa81JR1dIuK+A4Q0UbsHK10ZSFrZW1LC15jiJjnIeLegUjoBC1nOyX6KxRyRe5swOuM5I7u1JS4NGSm6f8YT+44Jy1wHNA4yHH5+Z+6I2hEKMKmrMKR8BPISMmUMS3bQ/eBxI/Zr2xr9wBabFBt/vsOoKXO6v48bq02ePtvXdG48yjpiq03aSqe7T0Wbz7VE891HY3a/lVP7prM8cMXy8MkIbJH5PhRLG2O3Odxj5kYEL5eVu7wPX60CLkzzsNs4EsJJcuS2XjEHbRJACIWyL8ImO6W7nJgJlpGALTE7tASO0FLm6bvI9LMWWQaIOKgZYZCS+oFLbEztLRJ0EzXLK6T50rTZ1gnNRaNK+RjZZO7R+2EM5K7yMNRGPrGWGlh61R7AD78XQcZEiLHI7NVzuq4UmwMelgbZvfz5bXlr9vi4z90Rqcn+uPHz6YjeNwSRN+Me1RI1X7VHAHBGrsJ3SGia5tdsGUlamVtb7hmab1rAhH7rl7DN3MJoFXs+KXInY2H1dnIXXJMClbN2oDxX8xE0HcLcfXkDRzbfArd6g6SA5kx4DEu5ZN/74yPf98J3esNRuj45QidsByt/7un1KsrLmti7GfXksTtv7ug2Z87WSd35kH4xQ+Goc7MmXiKLli6Pj3d0HDEJNQfz7i7qneF0tJlZNzSKmYQJGddMiOWVTmuJyXi82VhKH7NjL1ruTgE99NIlCpzEtDyTkAk9YeIbwmR0Bpa9noAJWM/texwiLiXIaKf0ueYZyDiP4NI/R5azlZoOXt0+YBYBiIz84zZaI0g0mcXHo8xMiJ1knSpaDk7oWm6oK/eYwFoFS/9oshd2Z4vTWhIiUuRyQ+j358sxyZ6Gj78bQebY4hd49FDSB/Hwo/+0Amf/EdntP+/vvjquW/gPXAuzu2LRH6uyrgt252s5q0L4nSpkgq10hUnf0zOeM6cQUvX7BsQsW9BpPtW+FilyJ2N59WZyF1uVp6MTaHrwrDSMWvs5M5zmNRuliRtloMh3RuFb6+/1ONU+CZr2eZRP7/H45mPWeIYtdpKq97Tw8brxM6SODkBqXNW8mbPdZGQ9ly3Gm8tmFuEjDKesHnofFmuzagKYuOxduymglid2EnCVhsi+gmI+GbQspZDK7gHLe84tOy1chYJ7c1vzMYAWM9M4PjdkBugq8Qy/qUuRMJn0LI3QstcABH3tvmNuy5E3L+g5WyU/dFMV6FlzIWWPhta9lZA6LWJHdtZ/WiK3NmPKl3IURFXMW/MYvR/YYRMhCgcOxxoqSsxDlmQvpa/bif1OD/5AwneVxj+1vcI+DYUN87dtr8jqmX1RsAUYyZ2zxYbX4yxqKKWJHfP6xY7JlPEfwkR9z5Emocid5ZPVOPGjbFy5UrLVRX62ZnI3f1r0ehWT68UwYGMxO3zv/SQFrwfP5tZgtxZDnbvybiUnwWILbc5+jOTJ976ezc0GDcZtSmJYknuLBIaiqy3bFPFn1mCrJ6TklCSu2f8vfDNts1oHOhbaHl8K2Qudt8smi1ZoT8My4PnnZXkS7eyGQNkHYjYlyASO0LEvaUTOukGsSRtRltjaSM7LZbZZq/9TOoK37xJ/L6ESPfQzyXP8ZTUpdIygytMMFSRO8sHwPbnO5fvw3fIfAx4eRQ+/kOncoWDlGesYjwydTu71hmIQa+OwfSu3ojYcrrUZDrbvVJbqxsCWuYaXWxYatQZY05FL+tBxD6rJ23Et4ZI6Aj5gsuX3MwVyi1r+RDVZHL34FqMFBluVusLaX0juaOESd/G3+LT/+wKErjyDH6O3JfxeC83G4y6U6f9LH1SDYidQTidtZIFXbMkdSyptiHqEr7dvgWT9u3Csft3LX8mlfu54BZEYptiFjkOmnUhop80C36WdxAl8aNFz0rgczTPw7gWgxxyWRsiqYce/1cBaChyZx+o8XcTEPbTKvR5Zrh0i5Ynzre84xNdwJROoeWuz3PD4d7HHxePVnzGon1IuVKrfFndwZl6pGn5EGnTLcaJ8o5H9uxvfpGNbQ6RPBwiheLIoyBSvtPDSvIrXpdUuWVtPIXOZLmjWzbg2xB88Nv2hfF1E9vMwqw+AWXSqCvvIFna/syULdS/Y2LHHzuhcadReIqZnJUsfWKQtEddVoU8Cl2rJG+l6fVxW0NfT/y4dxfS83LBfL/M/Dxkm6o4bsh0FSLhCyvkzp4B0FFtipE+uogluasYt5sidzYGTYtNxzefwsQ2buhcewBa/qrqXj5JKhmD3OH/+qLN/+uNoW+Mk2UV05NYL1RNDkGANVULHkDk7IfI3qknQWnOoTWoiXi92gRfBAut/o4ae4ofxyB1r+gu2JSJkLHBeaegZa2AlrUUWv4ZSnU7BHZbB1HkzgY6zkTueJnx9xKxbNpaeA2Yi3ljwuQANbWTp9OQuyLE75dt8WaD3ni+w0g0bj8SDUdNQm0KGJurVzhDUkVZyB8TGIonMZRlf8u2xY9Tx3s2XpsfhI+WhOLtkKLxdGxLTb4vloVh/umTuFfpCRP6D0QTSdDyr0ITqUV/MTn79EQKKStQfKCrou90zyZ2k5IrRS/WMd8UubMPx+0L92Lw62PR+5nhMmPV0KgrMk5YxMZV1HqSu3b/2wcjW07C6PenYGPANmRnVHzijX0oVYdWJmim29DyIqCZogAtu+RFmx5ApM/Ry2yljIVId4eWf0nGvkrZI8Es/qogewUQTNRKaG2uOFHBY1LsKxDsP2OE885CK2CBBCMrlv2vPAwUuSv5mBaucTZyZ1wYRYvDflqNb5v9iFb/2a3K4lgeNhi/9+t2aP4fHUHpFAock+DVmzJNznXcZhSNx6viWDtL8lX8M2PduI7xeMW3Ff/OtlIwuZT+GMcyLHW0yL02Lwhh587gXGwMDt6+hU+XLioUXGb7V+YFYs2lSOP2V/IyX2oyiZTBEImd9LqLeUd0KRItH8g/B5HwqUViRAUPnna9edeFiH0ZInUiZKkfrWTmbnlAVOTOPvQOr4/A0De/x8Cmo9HxiX5ynCLRqgr3bIfH+kldPVaxSIxhAXc12YuAlncGIt0TInUKRJobRO5eaMVkPLScXRCJfSESu0iruUgaCJHuD5EZApE2W9ZVFXknKzzOrHifNJEIkToNIu5dc0mx8oxPRuiHuY5sYV1Zs7WOGnYZwdBK1e8sfnUV+12ROxv4OiO5y8vOQ8gPS6WWHePuqmKgtEbqCl2yxd/EGQvIhI7ftMNbT/bAqy/3x6sv9cczX41DHU93p5BFKUHQzFY6w1r3XKAP2qxYgvcWBReSLmMfwwon23q549lAb7w01x//9PMsYekjoWPMXJe1K9Fu5VK8v3gBPlu2GP4Rx5CRqxMQCtZ+s20TGPdnEEG2rXyJE/2HoZkiIZK6mgU/Gd9W1yxfMgYiawm07HUQ8R86GbnjAE6C95xe0zFrTTHJFBs/ejs2KXJnB0gA4u4kwG/oAgx5fRwGNh2Ftn/rI0uIUdtOZsxWUpxwz6eHYmYPX7j38kPMrVj7Ll610hFg3VWSNMaspXvpBC9lHETGXIjMUIjsbRBZGyGSBkPEfQAR3xYisb2eZJXAl0HGmE2ASJ0Mke4jM+grE1pptUvsDxH7hrkUmC1yZ5A3yzbGOsb1cm6oJ4vRQhf7vLm02DsQiQMlDuALr5NMitzZuBHOSO6unrqBXv8cKuVQrJGsql5njeTJZI9abfUyZIzH+7f2eK7zKKckd5KseenEiuTqjQVz4HHkICLj42QCwz9mz5CkTRIvadHTq0Pw+zMB3ph95CDCzp9BmxVhheSMRJDE7ml/T/gcP4K4zAwkZ2fjamIC7qSmFikZdjr6gRRW5vF4LSR57VcvQ0K2pZ6bjYfWwZu07FUy+1RPaOCgR/kSI66EWawsjE15gWJxb3ZZ2CwH0Yr4zOusAxH3GgSzZzW9MH15IVLkzj4EKYNy8cgVLJm6BkEjFsJ38HxM6+qFIW+Mk5qbFDuvyBdUvvi2/VtveH09Fwt+WIr5o8OQEl8srMC+rtScVlqGrB4jQzDyr0HLvwaRNk2fmRBAKQ8pW/S0uWxXYzNxetlMdN6CiG8FEfuhLtZLdyizQ6mDmfoTtPwLlYilBkH5pOQxEHEfma/XcpzhmEU9Tc5c/4wFAeSLLNc3gCCR4wtsQgeItFnSk6HlHoCWtRJa5lIpvaQxQcLBHoLyAqXInQ0EnZHcXTh0Waqtc1CsaiJX2vmN5Aou3/1NO7z9ly7SNWu0b/Y/XdBowPd4ysvtoW5Ow0Lm6KVhaZMkzUyinvRyw8dLQjF53x70DV+HIVvCsT7qInLM5Z22Xr8qXaRMuGAc3IdhoRi1cxs6r1mBrmtWYs7JCOSaTDh897bcxmQS47rZftDmjYXHKu2xo3u2vo9HITEkKXw7dB6uJFZF5QlKMW3XteVKxNRxYCR54uyMxM5yEH9Klv1BXkRJ2DWWADJiYkputrZGkTtrqFhfJwoEkmJScPvSPSQ+SMbdKw9w/uAlbF2wG6M/mIJ2f/9Kiq1zPDOIXqHr1kz+3jGXFCvhpaCmpqxEoZccM/bXj9VGeje+afYj/IctkHIse1ccRn5u2e619V650FotEyLnEERGmB4zR4FwWroM2Y7E7hAJn+hxtVKOiJUW+HsvPlv+3qjr1lwnVAltdXIX/7kuPF5QuZn9gp4F2afuEDEUUG8AEW28oDaGSPgcInmoPif21i39CZ0hEntCpM2AyFgCkcl5ldTsLL1kovM9E4rc2bgnzkjuMpIzMbWTFzjgNav1uZw5mBnEyamWtdrgzbq98EyPsXjpvSF4+3+64NUm/dCo3/eoP2ayrFphkJ/KXjb080Qjfy+8uSAIvTeskQkNdb1n480Fc8DyXrdTUpCaowddMzt1/+2bCL8ShY1XoqR1zj/iqIyRY8ZqdHq6nPkoMXt1+LZNhXF3JI+M1eu3cT1uJT881mfnzet4dX5QYebsYx4z8UFYCO6nV3blCfMPQ6RA4+AoVdadncRZ/oMp/rkuRMo30ERC4S9eyzutB4AndYFInwXG59gzVTa5o6s+Li4OZ8+eRWRkpKwzy3U3btzA+fPnkVzKc+WM5ccMfEn6rp26gfCg7QgZvwxjPvxJWtk++G0HfPZf3dHhH32lbAmlS/o9PwKdnxwgXboUYqeIO8c/kj0mSnz9ymgMb/YjRr0/GYNeHY1eTw8DSd3iKauwf9UR7Fi0D6d2nUNmStVYv40+O98yF5p0qQ6DiGsFEdPUbL2iVY6/dcuXN0syV/y3Ze17E93aFUcLXguI2JYQGfOsJ2NUIDCsYy3j/lK+hyBRJcmM/1Qnr2k+0pKoFcTLxAfWstZMV6DlXYZWcFvGzlGVQNPyoFVC5RtHw6DInQ1EnZHc8XLvXYmG54A5GP6vH2Sw8pd/7Yn3fvHotWIrjBDWaoNXX+iPF98firf/uzPe/W07/Oux7mg4fAKeYrxdKUkHFbm+trdOtoZs3ojwK5dxJTEBUw/ulTFytLSxJNnLc/yx9tJF+WRcT0pC//B1eD7IF40DfdBq6SIcv38XBcJ60eczMdEy69WwCHLZwNcD7ocPSvkSa4+bSQicin4Aj6MHMePgfrRZuQQvz/UHa962XLwAyy+cQ4G0MFnbu4LXaVnQcg9CJPHNl4O9tYG8OqzjP6eGUnMK0vUUBUFSJytrPK4HW6eOs+ufT2WTO5PJhF27dmHatGmYMGECli1bhgsXLmDKlCkYM2YMlixZgoyMkrIezkzu+NSSoLIEWE5mDqJvxmJL8C7M7heEHz+fgSntZ2NiW3csmrQS18/dwtHwE7LKBavxjP5wCsZ9MhUze/hg87wduHnhNu5fj0HMrTic2XMeEdvO4G7UfeRk5sKUb0JuVi4KTJWXpVjBv0jHHF7LgcjZC5HYx0y+KBL+TwuLXHl/04xPY7jGy/rx4z6ByJgPFCkX6Jiu2D6KAKVQmFil5Z2UpRJl1m/+TWjCStav7YNVq62K3Nm4Xc5K7njJwiRgys1H7J14mQX2jlncuMKIWvFECTu/v/OnTnjnv36uQ0sS+tpzfVFv6nRdFsWS4Fm4MSuS4NHV+WbwHAREHMP52Bj0WLcaj3nOlGSTZIwEb+yuHcgrKIBfxFEZS8esVm7jcuSOrcjKLxk4e+LBfXRctVy6bI3r57lI1DZfjSr1Sdt98zpaLFqAer4eqO/rKa2HE/btQuiZ04i4f0+6ekvduQI38O2VGaeyFqIc+Ms74Ff1/qxe8QY00w1ZHq1orCDJ34tm6QLboFY2uSsoKJDWuezsbJw6dQrDhw/H+PHjsWHDBmm9I+k7ffp0iYvOy8vD7NmzceVK9RHrpWfi5PYzoIzKkY0RSIz+2dothIas9GwkPkhCSkIa8lRt2BL33L4VrAd9HCJ5FETMK+ZEgYr4bZpfqJhowYSLNA9oBfftu0TVqtwIKHJnA0JnJXd8442KuIawKSvhPXCedEM4rWu2GAlkebJmf+mM+uN/qlJxY8bckXS1W7VMxtGRhBnkrb6vB6Yf3CczVAdvDgdj8Qyy9n+zZ6Dr2lVIN2e38vGhFS8lJ0fG1PE4Rlsumy+cj5AzJxGfmYlskwnFa78yRu/73TvxuIcuYGzsP3b3duRUpUCxSIJI+8ksH1Ad4urs+efE2DuSu5vQslZDxDa2qHzBkmmvQiuIsTEi6Jsqm9xZXtCmTZsksRs2bJgketw2depU7Nmzp7AZx4ekpCRcvXoVkyZNqlbkTu+EhrycfNB1qybHI6CJdD0DliWxCq119vx+HrENz5M6FSLdu9KzZR2PXvU5Yo0gd3zjjYqKwqVLl0AXB6f4+HgZv3Lv3j0wq8va5Kzk7uKRKIxoPkHGoLT8VTu8/+t2Um7E2ax2Vq+nVhu889cueOa7SbJ6hRQzfkgtVyP5wZI0leUz92d7kjfL/fhdrvNyBwndswHeeCHIFy0Xh8g4PEqQvDDHv3A/unSZGPHTgT2SrN1NS8XWa1cw92QEpuzfg6bz/KVlzzgXj/ndjq04GxONwBPHZfLF8shzeJCeVuiiZbIGLYH/8JipZ+F66zp5gzZvwLWkRNxKSUFSdiW7DwqioZHYxb5azV2xxj8jWhBI3p6DSB0HTWRCY9m05MF6jBGTReKa6nF3dmTUVhW5o3WOpI6WOLpjT548KYet4uSOY9y6deswevRodO3aVZI8a+ObWlfzENBA3cqtelUZhilUeDJUPT3GjR6A7M12hT3UvLtSMT2uEeTu9u3b8m23Xbt2ktSlp6cjKCgII0eOxMyZM3Hz5k2r6B4/fhy+vr6lkj+rO1XCypAfl6HFLykj0EYndVIvyvli7oys2SIkjxlw/94RTbqOQV23mag7ZRrqT5iKOrN/to4ZBIzEi7FubVYsxYtz/EotzWW0L7I0iwk/4eUmExo+WbIIzULmyWNIK52FO5jneSM4CJP378GCMyfRL3yd1KOje9awpBmE7flAH0nkph3Yi57rV8v9qIPH+DjLmrQklIy167xmpbToPePvLYkh+zF0SzjWXb6Im8nJ0pK37MI5aUU0rv+lOf4YEL4eX2/egNYrlmDSvt24mFBZ2bIaRIavWf6EpMggSNV1yeLdz0MkdoWW7iGV9vWfqAbkn4eW5gYtZTg0SqVYJFvY+hlXBbnji+l3332Hffv2yUvz8fHB2rVrcf36dWm5O3OGJY2KTiR5HOCrk1u2aA/UN8cioEHkHtOTCWQ8XEXH0HL8eF5KiGiZC6BpVZQU5lgQq83RagS5o+WOWWZ9+/ZFdHQ09u7dCzc3N9y6dQuhoaFYsGBBkRtGtwbjXA4dOgQOoqVZ9orsVIlf/IcvkBljUj/uF23R8pft8Nl/dcP7v27vlFmzRbTvzMKlTd8chLrTZ+DpQT/i5bcGoXG771B32vQiosYkXXSdMuFh1M6tkhwZVjiDCBVfkox9FBYqLWafLVuE14ODMGDTBhy6exubrkSh7cqlkrhZVpvgeSg8vPjcWUm4uP8TpSR8kMAZ+/JcJI9cWpJAy2tiW87czvPI9qwT6+eJLmtWwPPoIXgcPYRu61bJhI3mofMwdGs4mofOl2SRBLO+72yZgUsXboVPIgUieYCLWOzMhDT+C4j8azags265L22HyiZ3PJ+Xlxc++OADjB07FiEhIdIl++OPP2Lw4MEywYJjXPHJ2RMqil+v+l6xCGgFSRAUIJZ6bpXxskbB884QrK+atVpZ7Sr29pY4eo0gd+x1amqqHAgpKbB06VIEBARIMLZv347JkycXAYaWPn9/f3z11VclthVpWEVfdi7eJ2UCdEmAL/DFn7tjYht3fPqfXZ2mYkURa50Rd8dKFdSz+lVbvPDxcDw12x11p07H073G4OmO3+GpyT+hdjEXLQnRWwvmSi05WsIsteMMEiVJlrSyuYHSIW6HDiA1JxcX4+Nw9N6dwuoOTGtnduzWa1fl8SgqbJBFHuPVeYGS/DXy9y50xRrnsFxyH2M/y/WlfbbWlv0icfuHxwzpEiYJ5XlpQey8egUaB/gUXgOJ5nsLg3Eh1kJdX4N011Jc+UZKchEh5HI9llo2RPK35ooU1dlyZyjK19eFljP8KdpXLmiMnSub3PHlMiEhQb6McmyKiYmR4SWxsbHg98xM6xIfitwZd0wtiYCWf0vXcatwV6xBHBtAJI/VxYuz1zjs96fupn0I1BhyRy0ovuWS3IWFhRWSu507d2LixIlF0OKgyFg8xq14eno6neWOQpzrfLdgyOtj0b/Jd1g4cYWUC2Ac3lu1PsPbtT6T+nclRD8NklXJS5JQXhO1qT76fSe83rA36oyZKMkNY+7eWjQfH4SF4q3g786yLwAAIABJREFUOTImrrgVjESIszXyVMdnFprODcC7C+fLLNOvN23AjVJ0vyxv8oHbt2QlCMtzMRNWxr6Vci5r53fEOvbtCXMfeT20DhZ38dbxno0R27fgVmoyNGhSOqXb2lVSn++d0PnwOnYE2VYyeC37bNdnrQAiazlE/Pu6S5ZSIZX2z8D4p+CIJcmdcRzG270ILWenXRA8rFFlk7uHXU9p2xW5Kw2ZmrleM92HSOhaiVb5f+qCyGme5soUfL1WU2UhUGPIHd9uGYycmJgIEjpKBNCat2LFCmmlswb4iRMnnDLmzrjW/Lx85OX8XBT9+plbmNUnQCq/D31jHFpJS17bIq5aewifbGNH3Ue2s5yLW+soe0KXcbf6g/BTJ08EDA/B+sBtmBa+DZ8vD5PkauSObbiUECd13G4kJ8nkAtZlJcmRFjIvdzT0peCw98/rvH92cb4wxxeLzp7BrZRknI+LscuCRdHhgZs2oAHrv1YykXsoGfRyl5p7L88NMLt/dVJLLJ70dJOCxpRVGbQ5vNBtSwtgkyA/7Lhhy/VoPDWlLQW03CPQ0qZApIzU59QfIBI76/pwkuAVt+QV/26QKWdbUpH+CTDuxxGTIneOQFEdo9IRkHVi50HEvlBJBK8xBEMicg7SbFjp3a3pJ6wR5O7Bgwcyxq5p06b4/vvvcfjwYbi7u2PEiBFSFJSCoNYmZ82WtXatxjpTngmpCem4eOwKhv3rB3Nsnk7CKJfy8e87oSWza21Y75iBS9LG9pLo/YLu1J+JHC1w3EbiRkV5qsl/8ZfueoKHleN+/dIoqRBvXCP14y7Hx+NMbDRScorGCiXn5MA/4hjeCJ4j3ZVP+3mi29qVCDx5HM1Dg1HfZzbq+XhITbgX5vhhwt5dMnPVOLblkrIjlxLiseT8WSlYnJyTLfXpph3Yh0Z+XlYtgQ8lXxaJGBXRlqS26Vx/jN65DUzesLQskuCx/0wOobXSOD8JKtuFnj1l2f0yfNag5V2AiP/kZxHT2JegZc4DqzhoSZ0sai6y3mJt8z8HKtkz484JyZwUXK5jljqhvt0LMkuwDKCU2lSRu1KhURucHAHN9EDPEi9RTtCRv2G+9DWCiP0AIuFLiFw9CcjJoXG5y6sR5I7ZsRERETKRgsSOGlB3797F0aNHZSYZkyesTdWR3Bn9oOt2tWe4LOlDYvbhbzti9AeTMfT1cZKUWZI7kjQSOq7r0XAIls9cD/9hwVI/r8Uv2qFZrS/w6X90weT2s+HRPwgDXholVeTDpq7GtgW7EfBtiKzjaE1rzzi3ex89xtG4PltLyoMcvnsH80+flNUZriYmypqs52JjQCmR9ZcvYcf1azhy9y7is6zHG5HYbb9xTWabMn7tlXmB6LV+NQZvCUeTsmbeVjChM0galyRptNp5Hz2Cz5ctlpZFS4LHz8z6ZWJIHZ/Z0p37uMdMKeNCWZZHmjQTtHRvM1EzNO3qQEv+ClrBA70kT2YoRNp0vQB4/EcQKcMhMkIgEttVkhXA3n8+zI59ASKxvX5tcc0g4ltApM0EHJStp8jdIz1laicnQIBltER6gJ7FWpHhFrGvQ8S30evK5h5kxJ8T9L5mXUKNIHePekurM7ljn1PiUrF53k7M6OEL/+EhuHbmFuaPDZNZtYZFzpLk0Y3a55nhOLjmGBLuJ+LYppNw6+kn3bxB3y3Encv3kZaYgZibsVIlXpb3yTMh+PslMp6uyLGkpY+FvdtI4jjhS7cyxy5SxJdWPsuJpbrsmTLyctF/0/pCcmS4X6lTZ3y2JFXO81mPuWMJsqkH9srqGc8G6BY8EjvG4k0/uB/rLl9C+1XLZDbxvxbMxZT9e5GQlWUPNFbakNz5mpXqDXL3FLSk3tBEnN6eyQgiDSiIA0x3pGyIJlKhpYzQS3gVsd7xzb2qXLZ19BJj+ZcB0xWAcXa5xwCRYqXfj7ZKkbtHw03tVfUIaKZbEKkzIOI/NlvcHf075fEayEowsoZr6mS7azZXPTqudQWK3Nm4n9Wd3LFrzLTLzc6TNRz5/fSeC2jzt97SrWpJxgo//6otev5zKI6Gn2TxR1n3MT05QyrGlwbVshlrJWEsdOPWaqsTSLM7l8W9w4N2lLZ7mdbnmUy4npyI26kp4GdjYpIBp7isTKyPugSPI4fw6ryAEm5Na5mrzkPszGLL0lI4G+1XLoPv8SP4ZttmWdP2kyULMXbXdtxOSUG+EIiMi8XKyAvYfv0akq1IYRjYPHypQcs/B5Hwmdl6x8H5FWgZcwCUHiujabnQUsaYyZ1B6Gg5exEihtUfHP2Pg9Y7iyzYIoSS28zno1hqBU6K3FkHNz/PJGu5GlspKaWqTBhoOMdSM12HSHODSBoiy+05tl40f/tvQiR/A5ERBJG9CVqBRYa/c0BQY65CkTsbt9oVyF3x7mVn5GD4v37Au7/4OYauhWXyRK22YJ1avyHBYFt7pqunb2LMRz9Jrb1Wf+yKXk8PhUffQIxqORmjW07GGq9NSEtMt+dQNtvEZWZIaxb14bqvW4U5JyMQGR8r9esYV3cy+j7G7d6BJkG+MhPXuS10OpErjVjKBAovd6nT12n1ctmv4/fvIT031yZGj7pRQwFE7iGItKmyioOgLpVIfOjhtKxVEHHNf467ozsmIxCCFj2pp1VWgmerfV3dIhDb9GciV0jwaHFkdl5naLQsVuCkyF1RcE2mAlw9eR1bgndjtcdGbF2wBwfWHMXe5Yewf9URXD97CyR69k7Fmxq6o/bur9qVjoAm0iCyVuh6d/FtIaIbmeNSDYu9veEPlu24L18IX4JInQaY7gLgi7d9XpbSr1ZtKQ8CitzZQM8VyR27u3/lEXzddDQ6/KMfvvhLDxlrVxgvV6stmtdqDa8Bc5CRYj2erThkHHzvXX0grXMr3Tcg8tBlpCdnIu5OgpxN+T9b2Irva+93xtDRikW3JLND9QxRX9Ca9dr8QDQJ9JV1XJlpW5zUUUSYUiKlESlnXk9XLCVa3l8cIsuYlYZXZl4eYjMzwGW5Ji0LEKn2x8ho6dCy10Mk94JI6gktey1Ai17+WYhE1q5kUoPlP4LSPjOjlbIrz8pqEjphLE70zPF0Ul2/2DbG1qWOhZZ3ntV+ywXBw3au6eQuOz0b5/ZfxL5VR2SN6xPbz2B6N2981fgbdH5yALrVG4QeDYag9zPD0OfZ4fi2+QQZ6pGTmSNfGBOjk3B4QwQ4VmyauxPcf8/yQ9gQuA3r/LZge+heRJ24jtysXBkKsitsP7bM3ynPmZ9buiX5YfdNbdcRYP1kLWcXtMyV0DIWQiT1hYjlC9rLZsu4kYhkED4ujc/83RnfjeUzEHEfSmJX0S9W6h7aj4AidzawclVyxy4zpu707gvYu+Iwpnf1xif/0UVq4zF54rM/dsWOhXttIFP5m9Lz8mS917/Pnl5I0gziQ/LDzyR8xYmdMxM3e6+NfaIlb+6pEyWAJ+ml9ZLu2o+WLMSYXdvBxJPKn0jgfybxWsEdiKTuEDEkbNYInUHOmH37FER0Q90CSFcwyWH2Joj4Vhb/VCyP0VRvz6zd6Cch4j+Elneu0iwFNZXcaUJD/J0ELJq4Al+/PApd6w5En+e+Qc+GQ8wVcljnur3MoOeSiVotfsGyiG3Qtc7XmNTOHRNaz8SolpPQo+FgfP6nbmj9P73k/n2fHyFJYf8XRsCtl6/U7ty38hBWuG+QEkpB34WCM18clavXAb9uzaRXjKCuZc5+iJQJEEkD9N9cXAuIuH+ZSxA+p1vkaC2PbaK/fDFhiVa62Fcg4j/TEzTyztag2DpNT86SCVrOa51U5M7G78SVyZ1lt+l+3TxvF37q6CEzYvnmnJVeVKLEsn1VfGaM2dCtm/C/s6dLIkcy96RXKWTO2bTryplty742DvRFyNlTMp5w2sF9mH/qBO6mpSImIwO916+VlTmkRdNjJvpsWFtYlaMq7hXPqeVfM2vkWVru+KZPMsd1DSCi60LEvQktbRK0zOXQ8iylXDRouQegSZ09EkTuQ0mTl6ClB0BL/Qkioa2UddBydle4tc4Sx5pI7jLTsnA0/ATce/tJQtbil7pcEgXKORdJ0LIM8zBLIxnxuGxnfCbpM77rpLA9vvhrD4x4d4KsuDOlw2z4DVuA0PHLsXDSCgR+G4p1Ppttxv9a3if12T4ENJEjf3ta1npo2Zuh5R6Elh2uk7bEARBJwyCSR0Ik9pPVaxiLq2WEQstYIrUxoWXYd6Lq2EoT0EQKpLWTCWRmq6fImA9BBYGc/aC8jGa6Lcc8xhhqphtStFkrSIBGJQK5/x1decBBVXLsgVKROxso1RRyZ0DAuLjUBOcq7pyRlwfG2qXm5uDgndtosWiBFPkl2WH91ReC/AotefV8PfDl8jApIVK3mrphrVnzaLl7PsgXrZcvkSSPVTTY185rVqDH+tWgFiAJIPdlpYvX5gdh2/Wrxm2tkiWTLaR0CvWuaF0joeObf9wbECnfQsvZDi33EJB/3mZZIi3vGERiF4i41yDi3oGQZcQyAS0TMN22Ky7Q0QC4KrmjRazAVFAkPo5u0MQHSdJlSjfrB7/rUJTIWdG1LEzOKrZN1sK2QvzYXpJD87aPftdJWgLb/r0PRn0wWWb4swpPwDch2Bi4vTA5zNH3VR2vOAJCj8NN95FSQiJzMTTTzeKNXOA7LXEmQGTrY5FIkv3U8k7qbuuU8RDJoyG4pHWTVk2ORfEfQlAWKqmPXvkjob0uFZXYUdcMTR4CkTZNF4RP6geR9B1Emg+07A2SAFZ0TKIidzYezZpG7mxAUSWbmEAwaMtGvLswGF3WrkR41GWcjYnBgtMnseDMKTl3WLVckhsSnKf9vdAvfD1G7dwKChy7kouWmnaMNzRInGXfanv/XJrtMU83qYPH8mpVPWmmuxDUz6N7NmUoRPZW/Z+DSC7DpZmgFdzXLQv5UQBjAqt4qgpyl52djejoaKnRaXSfep1cxzJj1qaylB9LjkvFkY0nZFLE5ePXwMxXSh6tcF8PWtC6PPU1WvyyLSiXVBp5c+j6X7XF+79ph8//3APjPp4K/+ELEDQiFNdO3yxCPq31W61zJAIF0AqidbLjQDkhR17hox1LyBdEaXHLPQyRGQaR5gmROhkieZiuz0d9zJjnzXGIT0NE09tAL4IRa2heSlF3rmd4CUNFzJ4G47MMO2FM8bMQse/oBDDdG1rBbftjmx+hk4rc2QBNkTsb4JRzEy1yp2Me4Oi9u9IyV/xwsRkZUnC4rrRGuUli82FYiHRFUvtuzaVIfLp0EZ4J8JaWPCZSkPw08veS1rz6vh6FFj1r1rDqtk7G3T3E3Uzix35P3rcbSeWSRil+N8rxXerjpegaeS6SPVcV5I7i6+3bt0f37t3lzbh586assMPvixcvtkrw7CV3tNZT8Nzr67lSD5MWsq0LdsG9lx8+Z8LVL6lX2RpFsuqLWeUcSux47F+1xUf/1hEf/6ETBr82Bpvm7sCD6zFUZ1KTQqB8CIgUiJztEJRxSqBXoLkeQxhjLstGL4MkZAaRY3ywMVvG/pb1M4/RBIJWvNSJENkbdYth+XpT6t6K3JUKDaDInQ1wyrGJYrszDx2Q2m0tFgbjux1bcCk+Dmm5OVgReR6T9u2W2m50LxZaqrxn4Z/+nlL+JOzcGXy8ZKHVBAqSIGOf6kbgrF0vEyka+nrgo7BQ6W6VSSNmCx77aej2sd+0VgaeOA7WzlVTxSFQFeSOVXY4Hn399deyY76+vli7di2uX7+O6dOn48yZMyU6bDKZZA3tK1dsVy65dOwq5o5chJAflmHxlFWY891CfNt8PNr9vQ9a/qpt5ZI6C9L44e86oNV/dcWYj6bgzqX7JfqnVigE7EFAE9nQ8o5DZK2DYCxhqidEYi9dVinmObNlzkjwMpZlJW72tOexG0IkfaVLTpHcWSSh2dOXsrRR5M4GWorc2QCnHJtWXbyAl+b44wkvNynzwaoRI7ZvgefRQ2gS5IfHPWdKK5ysJmGRjMDvbwbPwYtz/OV2g9hYI0WusE4nb+6g65kuahLi5wJ9QGmXxoE+eHV+IBr6eUoMacH8af9eWaatHLdG7WoHAlVB7nhZ165dw6BBg+QVjh49GidO6NnTU6dOxZ49ewqvnNJEycnJsv3kyZNlicXCjVY+XD5+FXNHLZbztC5e+Oq5b2S5QYdb4yyI20OPXastPvp9J3R8vB+8vrZflslK99SqmowAY39J6hK7Q8gs4Nd1yRdm/Mq62BVJ5qwRvgYQcS0hEr+CyN4OoJzSVTburSJ3NsBR5M4GOOXYxJg4EpRCcublLq1TDXw9JFEhMeO2uj601nlJVyPdjUbMGZMGXIG8ldYHxtBR3oXafG1WLMWRu7ooLwWMV12MxPd7diD07CnsvnlDlh3rF74OgSeOIfGRy4+V42bWwF2rktwNHjxYIj5q1KhSyR0tdtu2bcNPP/2EXr164epV28k1dMuu9d4ks1QpTcI605UWW1cK4aM7tuMT/TG1syciD0fVwKdMddkhCBTc15MgYl/VRc6L6PVZI18VuY5E8p96FQ9mHqd7Qsu/5JBuWjuIInfWUDGvU+TOBjjl2BR08riMlXvSQpeueEwZvz8b6COtVm8EB4HEj+SuNELkSutfmusv68b6HD+MG8llST4ox01Ru9qNQFWQO5YRjIyMRN++fZGfnw8vLy/pliVxmzZtWhG3LC13TMCIi4uTLtuHuWUzUzOxdNoamaFaRNKkFOL1UKvbI+xnSKLw2G3/tzeGvDkO3oPm6tUthAq0s/vhVA2LIKDlX4CIb2OullORxM2eY5PcNdW1AZP6Q6ROgpa9pcJknBS5K/IoFP2iyF1RPBz1LTotDQM3b8BzAd4yw5XErNCKZyZwJHLP+nvj7QXz8EyAl0tlvj6MiL4Y5Ccrb8w4uA/30lgtQk3OhEBVkLuLFy/ihx9+QLNmzRAcHIyDBw+CLlda8MLCwpCRUVJrLC8vz66Yu9O7zmPIG+PQ8tftIeVKHoGcPSrhk2Tyl23x5V974uuXR2Lw62MxobUbgkYulHWwhSJ2zvToV59rEZnQco9BUMYl7t1ShNTtIWSOaENSx5rYL+qVPKjPmdgTInUCtJytFSa+rsidjcdVkTsb4JRzU3xWJo7cu4t1ly+h65qVMjmCMWZGMgSzZOm6lXFnLu6GleSWyRFe7qDkCb8zHpExhrMOHyh/SbFy3iu1e1EEqoLcpaSkSMvd2bNnpZuVmbB37tzBpUuXkJpq/QXAnmxZWvnCg7ajW73B+OTfO8vM2EclanbtV0vXtHu3Vhvp/v38z93Ro/4gLJ68EvevRcsKFMe3nMKNs7eQm10xdZSL3k31zeUQ0Aqg5eyFoNA5RZhjXrJSi9oRpO1hxzDH80l9z1a6CDStiFIbrz9Eui80k+2QifLcG0XubKCnyJ0NcBy0Kb+gQIoTd1q9QsqYNJ0XgBeCfCWxeZiFy1W200r50hw/fLA4pEi/GVvYbe0q3FSuWQc9bY45TFWQu0e5cnvIHY8ra02/PBKf/ak7Pvzto4sUl0ruKE4sSV1rKalCiZPW/90LvRsNw9ROntg8f5fTVcR5FLzVPk6CAKVOaLFLna5XsSnUqnsYGXPUdmra1dWzcSl7khECLecARNZyiAxfiHR/WQGEOqBAxYUc1Ghyd+HCBQQEBCA0NBT375dMtVfkrnJ+rKyPejUxEWsvXUT41ctos3KJTKYo7qqtzmSOVjlr10/LJMWXpx7Yi+DTJ/GU2XppWDG/2bYZsZklXW6Vc2fUWawh4GrkLv5+IkLGL0OXpwbisz91w8d/6CyFiukyLUsMHl26xj7UxWNZMiZnvP8bvc5sxyf6Ye6Yxdi/6ghObD+DU7vOISriGjJTq16Y2tp9VuuqKQIiVRIokToVIr41REzjCnDLmq1yUv/OUtSY6xtDJPWGlr1HlhwDCnQgtXyb1XgcjXaNJXeZmZmYMWOGjF8hCBQCZZaZ5aTInSUajv+cW1CAG8lJOHbvLq4kJsAkBPJFAYZuDZcWLMvKC9aIUXVZR8scJUtIVo3ZcDc39PdCh1XLcDE+DndTU2VdWOrVPR/oi1bLFskyYiS/anIeBFyN3BHZ9OQMnN59AesDtmLHon2yniurUrT6zy6SoEmrXKFLVbfAvVPrS7xT6wtJ4izry7JOLPfr9ER/dKs3EL0aDcXkjrNxdl+kLG/mPHdSXYlLIsB6sKw6QXKX0Bci5nWIaFrTapurS5TFQkeyZszGfg0hWFZRxtE1hohrppcji3tbLzuW7getgFa5qp1qLLmLiorCpEmTcO/ePZw6dUoSPWaXWU4RERGgWCgz1dTkWARI5DZfjZJZoW8vmItPlyxCyJmTWB55Hh8uDkUdH9fIjKXFjnVge69fgzYrl+oZv17uaB4ajJ7rV0vBZmrYEQ9SuNspKVh09gzmnDiOiPv3lG6dYx87hxzNFckdgeE7hCmPhc413Ll8H94D52L0+5PQvf4gWQqMpI1xeW3/tw9++HwGZn0VgImt3WR5sIlt3TG5wyxMajcLs/r4y7JltM5FbNMtdAkPkhyCvasdhPJF15OSkOwsFWVcBWAtF1r+OWhZ66Clz5OZqSKpL0SsmehJSZQ6EDGcDcubuTIFy4jJUmJc3wQi9kXz8iWI2JchYiirwvqyn+oyK6x0kToeImWsLGMGkekUKNZYckfiNmvWLMTGxkqRTwqB3r7NWm+QEgJbtvx/9r4DrIprXdvk9HNPuef8595T74nRJJrENNN7NSaao7F3TTQm9hoTe48VpPduw4aKoIIiRcAC2BVUiiBI773NvP/zrs3GDW62oJvN3ptZzzPP9DVrvjWz5p2vvN8REY1G9nc6HStFvxKITLslsi78a8tGEUxBXjdGz5KM19zMse97uSHsVgpSigqx5VSkICM+m5GB6ro65dnS72NlkNrMFdxpCq+2uhanA+Pg9uM2kVt28gvzMO21H/DDp6vgtXwXMpKywGOKcouRnZqLgsxC5GXkI4vLWYWormo/clbNdprKMjkq75SWoKCyAkyfyCn2TgbWRIRi5pEArDsZDo9zsXCOPYPdV68gtUg7BVK9LAvrhvJNam3P89stQZZrINfnqDJUEIwVToZUOA1STl9ITDuW/TKk/Amq3LIFk1RZJIp+UOWZJSgU0a3LIJVvhVzmCYlTVRTk6tOQyr0gldlDqvAD6u+0tmHtflynBXf0tyPJZ1ZWFrhMEHfnjqpj8vLyEBwcLLbRdKu8SPp9Dourq/CN/34RHarpi8ZlzXVTMbu21E6aXl9xcxSEw5W1tfoVolJbh0mgM4A7CreyvAopl1NxKSJe+MdFHTyLuGMXkZ+paOFa+/Dx20GXE9dzMVgRFoLvjx2FRXQkPM/HYdz+PXjV1VEEUz3nZCOyz/RytMEb7k6YefgQQlOSBcirqFUB5ZzyMoSnpsD/ejzOZ95BWY0STdzaflAfR6gnS/mQ69Mh12dCqoqAVOYMqWwbpNobkEmhUncbcl266ri6BEg08Vafh1yfDVnmD3kNZLm2IRRChizlQa7PgCwbl290pwV3JSUlgjfK398fbm5uIrCC5KCahfka7e3tFbOsplD0sHyjIA9vaeSNJTgiqPuX1cZGKhRuYx5VbjNVwEdw95aHC44nJ+pBakoVxiKBzgLumstbqpeg8M41l0rL67nl5QhKvIkZhw+JSPjX3RzR024LnrG3xvOOtsKvmHRHpD/iGCf8cBvGQm5/3c0Jg3dvh+WpSPhfT4DNmWisCg/FqrATWHQ8CO7nYnEu8w6KqypbboSy5/4SkKsBuam/fdOTTNMtq9OCO3be2bNnsWLFCmzcuBHJyclN+xMQiboVn7t7xPLQG0jMS9oP1WCmGtQYMTpi3y686e4sUm9x3wfe7ui/06eB6Fh7tGlLWjNj2K4Cd844mqg7cftDC1SpwKAS6KzgzqBCNvGL5VdWYHPUSbzt4SyAG8GbmGxU450ayLU0TvFYuqpw4jLTL77q6oBhe3wFPVK/7d4Y6LsNS08cx45LF1DWoN0zcbEpzdejBDo1uKPKnNo6TtpMr0q0bMtPGv1s/B2C4LF4O454hKAwu6jlg5vtob+JS1yM0Gox2IB+dguOHRXBBEGJN7A2IgwWpyIFKFoXGYYXnGzFANfSQGis2zmAD929E0kF+c0koKyasgQUcGfKvdd+bWf0f3ltDbLLyrDt0nm84eYIkrHrY3wSUfYNdEpP2m7Bi062qiw2JyOwPCwE8bk5Wr9h7Xe3Ss3GLoFODe7u1zkKuNMuoeLcEthMdcUXvx8rSEmH/u9EOM/3RnVljXCyPn/iMrau2A0/60CkxqeD5pzmpbiqSgQZbL10AYeuX8edkhLQL+1EchLWhIfCNS5GzN/2cBGZKvQxQBq+js1419MVfvFXUa+kUWr+CJjsugLuTLbr2qXhjHjddfUSZh0JwICd2/Cmm7OwNlDjpu8xR0WltBlP2VriEx8PMUbSl+9iVqYC7tqld023UgXc6eg7BdxpF86ZwHMY8a9vBb+Vinl+CMZ2m4Y7yVmI9o/B5Bfm4z+/H4sv/zxBUCOkXkvXXpFGyuR6SYLXhXN4z5u5ZG3Q28UBT9tbN/HB0/dAaYj6utlsxvgDe3Grhei3FgWj7DBaCSjgzmi7xuANoxWC41bfrV541sEaj9s0mF/bAdhpjlfUCNJvefrhQ7A9cwpM56gURQKaElDAnaY0mi0r4K6ZQBpWQ3dFiUTfavZ6zpn4+7DrcawZbim0ecwdSWLT/r8bg71bAnDzXDLigi8gMzkb5SUVuBZ9HWePnEdmUrbIwEIy4y93bcc/t2wQgE74pLTzAKk5WLbXMu+D2rvT6R1Paqm9N5WtbZWAMYG70tJSwdXJALHmpbXpx5qfp6zrlgAjLsuqq3G7pBjHkhJF0ENPOysVh6WezLD3G4+etLXEB16usD97GreKiqBw/vpKAAAgAElEQVQQnevus864VwF3OnpdAXcq4dAMG+l3Bgftj+LWlTRcjb6Oyc/NxYddBjemKer7ixH4+pnZGPLXiY0piwj6mEdySu8FmPbqDxj5r2+x6PO12PS1Pb7pNRfD/jYJywZswOWwa7iYlYV3vdxEhOz9BjZT2s/8sKP9diuaOx3vmantMhZwl5+fD2dnZyxatEiQrTcHeGwnuTxv3FACevT5jDEgbMfli4KA/Mtd29DDzsqgPsE0zT5tb4VJB/1wJSdbn7em1GVGElDAnY7ONAdwx+waxXklyLmdJzRmOm5X666c9HzYTnfH0L9ORL/fjMaMNxYJcDb6se9A7ZxmsnDNFETq7X0eHSaOYa5JTuqURarck6pty/6zHhm5BVgQHoyuDlvQ1cESj9mRCsV0aVAIQOlz85TdFtidPa38WWt9ukxzo7GAu4iICMHFGR8fLyL+ua4u9fX1oFZv06ZNCrhTC0UPcxKPk5ZkRdgJYRJ9zdUB3Wws9e5bp+sHluCOJuA5RwNRUq1w3emhW82yCgXc6ehWUwd3NVW1CPYOw6Rec0Xww/yPViDhzM1WOd4yCOJKVAI2TrATib8J3FQAbYio6/Nfj2oC7NRgrq3zj7oMwoQnZ+DWlduIvJCAj5dZ4LklP6Gfs5sI+X+dVAL2lnjc1rADqK7BtdX7rDeLFGNZpaU6njJll6lJwBjAHaP79+zZA29vb9TU1IhlLy8vIUrmyD5+/LgAfJMmTVLAnR4fsMKqSkFATL652UcD8bKLg8G1dvxhZIrGdSfDRJYbPd6eUpUZSUABdzo609TB3cWwq5j07NwGUDZYmEuZK7Io965/Tlp8OkK2RYDs8zS5ntgZKShOPJfsxOiuU4R27uNH7mroaGod+N/j8MXvxoDBFG0Fc/cePwT/+cNYrBi0CXPeXYo+vxmJj/42DnP7rcaWnYHo4+CCp6csxZMrf8LjppRv1nqzoEGYGxQINcO8jkdN2WVCEjAWcLdr1y5s27YNbM/+/fvh7u4upEjgx2w758+fx7JlyxRwp8dnq6quDgfir2Fl2AlB3/Syi73Bgr6osaOvXf8dPlgQfBQe5+NQV1+vx7tTqjInCSjgTkdvmjq4O+IWgk9/PqyJD1y/345C+k1VmrWYI+fw/ccrMPBP4zHiH5NF7kgGRvT95QgwSTiBnCawUwOzz341An1/MVwPwK4pOOT1PmmY+jwyFO91m4g3en+L3n1m4Ym16wxq+mi1dk6HAzWDKUb57QZ9dDRLnSSBHwklZbGmVExn2RjAHaXFFImWlpYoLi4WPnfMh61ZaJrlAK/43GlK5eGX04uL4XPhPGYcOSTSh5FgWB/jha46COy621qogN2xoyJC9lpuzsPfjFKD2UpAAXc6utbUwV3UgbMY9tdJQnNHYEaz6sRnZyM/qwglBaXYMN4WnzwyRIC4uz5wqnUBtB5pCr7U4K495h831wJ2GYqPuwzGu38di55zVqCrnamZZTcLfr7pRw6BuXRZqFG5mZ8Hh5jTgnh0f8I15JUrFAY6XkGj3GUs4C49PR1r1qzBvHnzhIYuJ6fpx16Jlm2/x4d5Xi1OnRT5Yd/zdFWlENPxo6cLuN1vH313/7llI4bt3omQ5CSRcow/jHJDdtP2u0ulZlOWgALudPSeqYO7gsxCOH/vg0F//kplXu0yBPM/WI6Mm5mIDb6Acd2mNQK/9gBsD1tnny5D8O7fx+HJ5WtVfnftNHjeb3B9kP3U2j3vZIvN0ZGolVQkzlllZZjo7wcmB3/Kzgpve7rAOTYG1fW68hrqeECVXR0iAWMBd/xZyMzMBHNg0wzbvCjgrrlE9LdeXlMjtHfMDjE/+AiYDowmU30SF6vpoKgZ/HSrJ44nKTmq9deD5l+TAu509LGpgzve2qWIeHz74nwV4fAjQ0HKknWjrbFhnI0wvxpaQ9dqwEdNXpcheKvHJDyxZp3Jae7UkbJDdu/EybRU8ZQdTbwpkoVz0Ob0L6uNGLHXV2jzdDyGyi4jk4CxgLv7iUUBd/eT0IPvJ+l6TEY61p0Mx+rwUCwOCcbofbvR28VeALx/W28CaZD4nrf155BjR3cbSxGs0cfHAz+dDMPp22nClePBW6yc2dkkoIA7HT1uDuAu2CcMw//+TaOGjmDu018MFxGvfR41nNm11aDukaH4+NGh+OiXw/He/4zF86N+QLctm0W0bFdbzvWTq7GtA+4DH29tgcUnjqG0pgZ+CVdFAnD6z7A+JgUf4LsNl7OzdDyFyi5jk4AC7oytRzqmPUyXeO5OBg5dj8fx5ERczM6E14U4jPHbI4jLX3dzFNr7rg1ZK9RjCMGbmJpZIrrZWAgi5N5OdhiyewemHT4EmzPRoJZQKYoE2ioBBdzpkJipgLvCrCIknLmB6zFJKC9W+XCVFpaJrBAOczxFKjD61KkBFgGeMWvsPvr5MLz+0mT0nLMc3bZsEoCu+8YN6PHjKhE129WEAB4H8SmB/iI9EFOQvePlin9t2Sh8aDjYrww/gTJl8NbxFhrfLgXcGV+fdGSLmIKMmjwWulgkFRTgbHo6Im6lYM/Vyxjou01lsm0Abz3srQQJsToQg9o9mnSfd7TBe55umBbgj41REXA/H4f4vKZ+lB15n8q1TUsCCrjT0V+mAO4Sz6dgyRfrQLLgz345QhAMc5vNNFcB6mjaVBMJq8GdKcxf+WgmugqNnYUAd/S7e/vJr/HOv8fjme+W4PEHMHeo/5wNMad2joP2E7aW2BAZAX4AWE6m3cKcoMOY6L9f+OMxdZBSTEsCCrgzrf7q6NZeys4U2vuhe3aKPNP8oVsXGY4FwUcw60gAxvrtQf/t3sJFw/p0NG7k5yGztBRFVVVKRH1Hd54JX18Bdzo6z5jAHYlJr526IVKAXQy9itqaWlSWVcF1wVaVRk5Elw4BaUq+/2gFBv73+HsySJgCqGMQxYe/G4nnxv5wF8BRU2e5CS9/NBN9ugzGW09NxFNL1+JxI4ygJahT+cxY4DU3RywMCUJiQX6Tp6y8tha55eWNf/tNdiorRi8BBdwZfRcZXQOZ2SKlqFDQItVI9SAdUmlNtZjnV1TgTPptXMrOQkVtrdG1XWmQaUpAAXc6+s1YwF11ZQ38rAPwVc9ZwlduTNep8N2wHylX0vDTKKtGfzoB3h5l0MRwfGKk/nT3A5gEd+//aTSe/XYxHrdpcEYmuNuyCb37zxFA9oM/jcEzU5caXZAFNXUvONthXtBhHLoRj/jcHBRWVup4wpRdpigBBdyZRq/lV1YgJCUJ++KvCPOmQh1iGv2mtFI/EjBrcEeqgNu3byMoKAixsbEgqSdLeXk5IiMjERISguzslhMvGwu4uxmXjJlvLsYHXb4U2rj3u3yJb56bi1MBsbD6zuVe/7nmnHEG5Ku7H3i7735qIH85XBAXd9u4AV3tLNDV3kJEzL7ZazL6dBmEd7pOQM8fVnWo5q65kzRNvfSl67vNC0kF+aiXVT44+nlNlVqMSQIKuDOm3lC1hZoxtdarTqrHraICuMXFgGnCGNHKjBJBSTdxPvMOwm+l4HxmJqgx0yySBqs46YuSCgsQnZaKi1mZKKtRcrhqykpZ1qME5ErIUgEg6/cZM2twJzFcPSYGs2bNwoIFCwSoY5ccPXpUkH6uXbsWrq6uIGWAtsJz7ezswHo6ssQEnQe1dczvSnDEYIgh//s11o2xwfTXf7wX3JkSmNPWVmrv/jIGvfvNwTPTlgkfu9femY5PfjdS0Le8/sZUPLmq/dKR0axKGgPSGXBZm4/eMw42eNbBRvjVMeqV02PWmzDraKDCW9eRL4sBrq2AOwMI+T6XqKirRV5FBUqrq5GQlys45+iv5n4uDnZnTmHO0QAM37sTEw/64euDfhi0axv6bPXEpz6e+NJ3G0bu3SX46XZduYRTt9MQnHgDOy5fRMCNBKQWFQkQaHkqEmsiQrE2IgwHEq41gsf7NE3ZrUhApwRkqQhyfQ5kuRpyXRKkij2QytwhVR6ELOmPOcGswR0lTODGJNqrV68W4K6yshIbNmxAREQEkpKSsGLFCjHX7A0m4s7Pz8fhw4dhZWXVYeCuvq4epQVluBB2FbPfWSrMr6pI16EY8IdxGPCHsejzM+OkM7mvhk4bqNPc1mUoPvrVCLz3t7F4/3/G4rPfjMTnvxyBPr8cgff+Og6vvjsNTy5do1dqFAI5Ts84WOMdTxe86uqAnvZWAtx1s7EUwREEejyGH4floSH4dKsXXnK2x6tujvjq4D6F1kTzRTLTZQXcdVzHFlRU4GTqLZF+ixq59ZERmHkkAF/s2Io33Z3Fu/usgzU49bDbgh521njCRpXdhu8t6UYYpfqU3RYxpxvFh97ueMvDGaQuedvDBWP27cbsIwEiiwyDoVaGhWBZ6HEk5ud13I0rVzZNCUgFkKujIFccgFx5DHKZF6TC2ZAKpkIqXgmpeBWkoh8h5U+DlDcaUvEKyLXxgPzw9DdmA+5KS0tx5coVXLp0qXFieh6W6OhokaaHwI4pelatWoXr16+L5c2bNwvtnuaTc+vWLdja2mLixIkCFGruM9SyVC/hTGAc1oywxPTXfsT01xdifPfpmPz8PMx6czGmvPwDPv/NKLPS2n2sCe643GUo6IPHiN9PfzYMfX7GPLkqcmPy4L0waD66bd6kVbOmTdumaxsH/hed7cTgPnLfLhy+eR1ht5KxKuwE/rNzqwrEudg3BnnwQ8L8kheyMnEiJRlnM9KRWVZqqMdDuU4HSkABd4YRPoMOmNWFAUkJubkISryB2UcC8YmPB3o724vpBSe7RkD3pF3TDBEiuIk/Y8345DTX6Sd7l2x4M7pZk2tOlV2GFCbD9/hi8O4dGL5nJ6LSUkHzL9ulFEUCzSUgNHHUyBHQSRWQai5BKl4HKX+MCrjlDIaU/RqkzKdUU9bTkLJfh5T9MaTs9yBl9YaU3RtSwWRIlcGQ5bLml2jTutmAu8TERAHEli1bhuXLl2Pp0qXw9/cXmjtNcJeXlyeOi4+PF/52mzZtQlxcXBOh0QxLIBgeHi5AXkeYZePP3MTk5+cLP7sPugxCv9+Mwtz3l8F5njcCnIMx/8MV+PRnw80K3LWo7dPmQ9hlKF57eQq6r16HfzeQhGoO2s2BnBjErVoGgt1tLDBkz05MDjiAj308RFJw3ysX4X3hnGCgp3mHtCbqa9AMSwoDfnju51+n7WPAbfT/2XvtCo7cvCE+Yk0eQmXFaCWggLv27ZqqujpklJYIEym1Zt8FHBCm1FdcHITmje8yf8aaTFpAXPMxoC3rfM+721oKPjpq5qnVW3Q8SPDWHU9OElQlcvuKQandqCVQD7m+CLJUDmFmrT4LqdQRUtF8SEWLIZVshJQ/ElLW85CynoKU1RNS1pOQsrpDynqi2cTtnHgc570g5Q2HVOYMueY8ID9YUJ7ZgDtdz0FUVJTQ1jGQgiZXausCAgKEpm/x4sXIyMjQevrZs2db7XNXXVGNq6eu40ZsEuprVYEbWiu9z8aaKlUo/O5NB/HFf41pBG80x9Lnjtor0pyIiNjmmi4TX79Hc9dwP9Ta8f7V4I/L73cZjOc/nYl3nBwx//hR9N3ujcesLfCE3ZYmmjwO0gRlH/m4Cx6px6y0+9HRVNPLyVZ8MPjx+L8GPzrOGSjBuebHQa3p+8bfD/OPHYHnhXPC/0fdvXGZGbA4FYUfjwfhh+NHhT8P//rVxf96PD7d5oV/WG7AU7ZbMPtoIIqqHuwlVtepzA0jAUODO16vpKQEnKsLg8O4raKiAgwc01ZMLf0Y7+J6Xh6c485iaqA/PvByw+uuDsLtgSS/AtQ108JpvpP6XubY0QTkOdlhkv9+LA89Dp+L51GgRMJre+zMe5tcBdTGQyp1gFT4PaTCRZAKZ0HK7QMpswekzCcgZT4JKZMgrlsLIE4N5lqaE/x1h5T9CqT8iZAqgyBLxSqQJ7eeKseswR0HvVOnTuGrr77C+++/L7R51MidO3cOc+fOxYwZM7Bv374WfepaGy1LSpLVwywx9vFpGP/EDGz51hl5GQVtesgTzt7E+jHWmPHGImye5CCIiT//1cgmoEYdTPGRMWeY0APAbAR5jw7FpGfnYNnA9QLMMlr4/S4D0efnw7D0P+sQeeoKUoqLRM7Fm/n5cI6LwevuTk1AGAd8auU+2eoJ/+sJwjn6eSdboQFQ+dFtEft5HAGb5geCA7vmunpZnSaouy2JijeJbBO9HG3gFHtWZKKgUzavR0D4d8sN+MeWDcLk63lepSFmKrJxB/aCQJN1cv60gxV8r1xq0zOjHNwxEjAkuOPP6KFDhzB8+HB4eHg03jB/TqdNm6bVZ1h9kKmBu6yyUkHs3W+7N/g+8T0jHVLz91L9HhpqLvz0bC2FD+4Yv91YezIMGyLDcSWnZaYFdR8oc/ORgFyfDanEFlLu5ypNXGY3SGLqCinr8QYg1xJge5DtBHlPQ8rpC6lwhso3r8wLcl0yAO0/dJrSNmtwxxulto6aubS0NGRmZgogRzNrbm6uWNf8G9YUDJdbA+6qK6vhMNtDAA6m+KIJ9YvfjcFey0NgQERrSlp8OhZ+tlYAOQKYT38+HP1+O9okM0uotWsPO6cs+//XaGxdtQfXYxJhOdkJM99chLnvLsWONfsQn5CKU7dTBY9VfG4uyGHFKDcCN+2gbDPG79+LvVevYMDOrXjClqDOUphe2vqRoLmGgFHzvK7WFkLD8IGPO15u8M3TbAcjbxmtx7amFBZi2J6dIsKWdfDjRX8havqUYvwSMCS4o4aOfsJOTk5wdHQUwiF9Ey0Oly9fho+PD9zc3ECS8+aFP7cc4G/cuNF8l1Gux2SkY8bhAOEWwZ8dFbhr+p5pvnOGWuZ7TM0h3TWYN3Z1eCg2REXgqgLuWnyOyO8Zn5eL28XFJuujKMytNZchV4VBrghQaeqynoOUSTCnaV59EODW2nMatHiZz6n88qjJK7EA6u+0KHv1DrMHd+obfZB5a8Adc7gu7v8T3usysNFsSIC28St71FTfX4Wan1kI66muAtCpTY8fP8Lcr2YaBatFs0dNXaO27pGhIip4+D8mw3a6G9IS0oXZiXJOvpSKrORs3CkoEoMrI9yed7TFoF07cCTxBuzOnr4HdKk/AI/ZWAhtAKPh1Dkd1fv0NSdIU/sDNa+THwiahwfu2gbLU1H46sA+MMcktXucmM0i7FbKgzymyjkGlkB7gTsCOVoWaGpVT7UNGQtoYXB2dhZ3ynHJ0tJSmGXpF0y6piKNNHas59ixY4IVgEFhN2/eNLCEHuxyV3NyMPPwIbzh5tTie9z8vWrvdb7PjLplRC01inxvl544JrTsxS1QaD3Y3RvnWeT+0+T/owdAfkW5SKNof/Y0LKJPYt+1q0htyL5BP+JjSYmwOh2NJaHHsf5kOEJTkhvTLxrnXTZtlSyVQKo8Aql4LaS88ZBy+kHKekFlchX+cq0FZvo87jlIWW9AyhsjImzlalqBdGvvFHDXtF+brLUG3FVVVMFmmpvICEGfOE79fjsKO9fvv6/mrqyoXGj4Bv55fCOHndr0SqDXWQCeJrCj/Ab+aTx2rvNDSX5Jk/5QrxxNuomXXRwEKGKkGwf4/jt9BEDiYNzSgE+AZWi/Hc228Pps70su9lhzMlTwbPGjMXDXdnicjxXmZfU9KnPjlUB7gTsGha1Zs0YEhJGiiYFhJFonWNMEdwwQ48BNhgCSsTOyn9RN6kLLBC0VdEmhhs9UwF1lbS02R5/Ei052RqO1e9reGswJ63YuFvvjr4koeqYKM3d/OxJCE5QRnG2OOomI1BSkFBZg+6UL+PrgPrzt4YwnbbeIfmLEMsnbP9/hLfwk33R3Qm8XezEev+vpiikBBxB4I0GQQt8uKQZz7cbdyUBOedl94In6iTbgXK6FVHkUUtFCSLmDIGW92hAMoQ6C0Cdga0tdz6raIuhS1kCuuXpfoSjgToeIWgPuaPq4HJWAH/uuxoh/TsbIf30r6Etu39CtNs1Oy4PTfB+Meuy7JqnCCOq++P1YjO46FYP/8rVZBk40N9nyntUm7c9+PRJrR21BTlrLnFLbLl8Q2jc1kCNoIh9de2nkNAHagyxrmpfYVtaxMToCSYX5wm/nZn4e+GFTimlIoL3AHX3k6EKiOTFogmXv3r2NmjuCQNI5MfvOgQMHhLmWbWpeqPWjhs9UzLJs/56rV/Cys73Q3Gm+Nw/y3j3MOXxPn7a3whc7fECuu+yyMtTW1wsNVL2ZU6Ew8GvvtcsYtGu70FYO2LlNkEFPDzyEj7zdBahT/SRvFi4wXL5L5K5hvRC0MhZ4xtEaQ3fvwPzgw5h1JAAzDh8Sy3ZnT4lcu82f2w5dl8ogldpDKvwBUs5HkGiGbYxibQsY0+exjKLtBSnrTZXvXfleQNKu+NCUnQLuNKXRbLk14I6nEOARjJzcexqnDsWiMLu4WU1NV+tq6uC9fBc++9XIJho7obV7ZIgIylg2cAOmvLwAA/44rgn4aw6MTH29z6Oq6N+x3aZi1jtL4L1iFwh81YWRx3W1Tf2JyD/Hv0OaQdVgib52JCZVrz/MwK7Pc/mBon+e+kPF9tFnb2NkBIo6gVlH3Y/mNG8vcKdNRhxbGAD23XffYfTo0QgMDBT+dfTBo5Zv5cqVQnun7VxTC6ig+W/bpQt4y91ZvMvqd0af72Nb6qL2acL+vWAgFIFdZygEdqRm6rfDB8/YW+ENdyd84OWOV1zsRVT/A/WJ9WbhEkNrCwEziaM/9vYQ3IGkgmoh2LtjxC1XQSLRcMEUSDkfQsp60QjA3TOQcv4DqcQKUs0ZVeRsK6SjgDsdQmotuNNRxT27MpOz4fbDVozrPl2Q9JKoVxOgEfB99qsRAtB9+ovh6PvL4YL+RPMYs1juMlQA24F/HA/PxTtxLuQycjUijBmMwrRrLgu2wmGuF6L2n0FdTS0KqytBX4/3vd2EDxsHCmaGmHBgn/ijZM7Xtgzghj6W4I7O2V/6bseq8BM4l6lbw3vPA6Rs6HAJGBLc0cSakpIi8mMfOXIE58+fF/fPIIuwsDCxrk1rx4NMDdyV1dTA7VyMMPvRn7aHnZX4gburJWq/d7vpT6GKzJhZapiZ4mpuToc/c+3RAAI5mkZzK8obfeKu5mZj4sF9YgxVRynzp/mBQJ1G0Bnlq/oZ3yx+dplB5F1PF+G/mFNe3h6394B1ypBqr0Iqmqfytcum9u5lSFk9Gjjo9KmRa2Vd2e+KYA655nKb7kkBdzrEpW9wx6CAlUM3CWJimiG1gTTy2DUHfNqOM7Vt9B+kPx2jiRlwQlPs0L9OhNeyXSLFWvNuILAjrQypTxisMuxv3yDM7zQWnAgSf/Uc8KkBe9bRBtMO+2NRSDCedrAWPnWGBmxtvV63Bs4uUqCw7XdK769iby4fZV0C5KYaXUPJxJDg7mHuydTAXU19PXwvX8KKsBD8cOwohuzegfe83YTvFgEG0wJSC94UiD18NC3HEoIXAWAaAije93KD9ekoEe3JSHxzKyXVVSIQguB1fWS4yLJD15Cdly/iZWeHJuOovuXN8ZLBZc852ghyape4s0gtLjIiKcsgkJKKVkEqnAMp/1tIuQMhZb9lYC0e/fyotRsEqXiJiNpty3OogDsd0tI3uDvpd1oECxDkqMEZQQ7BTktgT32cqc9JyPzdi99jUq85mPrKDyLgJCs15x6TK7ujurIG7ou2C3oZyodgl/MZ/VbiFVsbkZFCDag48FATRmDXzfbhB3p1vYaYM7iCOWmPpSTqeAqVXU0lUA+5OhpS4UxI+aMglzoA9YblG1PAXdMe0edacmEBHGPPinyuG6NOIuBmAo4nJ2JhSBBG7fUV0fGMXn2Y91NokRqCq8ij91ZDPtmxfrsx/fAhLA4Jhl/8VRRWVOjz1oymLmbUoTmULAODd23HqL27MOdooAgYIZk6+T/b3wKyWYA7aglXhIYIczw1t8ZU5PosSFUhkKqCITEDRYlFg++bmpy4lZo3kXWiLcc20J+I816HlD8JUvFqyNWxbRKPAu50iEvf4C5ibzS+/PNXKj+7LirKjwF/GIcFn6zE+KdmmC3AIzAb9P8mYI/FISSeTwFN07U6aGKKcoqxbqxNQy5ZFbhjlooRfRfjWet7/erUg/XDDPiGOFdoBxpSmNFEQSdksvBHpaXpeAo7zy5ZrhQEnczN2FKRay9ByhvYYCJ5AlL2i5BKNgFkjjdQUcBd+wo6v6ICCXm5grdSnbqvsKpSuDAQeL3v5Qqa9fgOkUaI7xW1+NTAqUy4qqh49bJ6fODxPJZZbDin/9eQXTtUvHWREXCLixFadGq11Ndt3zvtmNqZr3du0GF8vt0b/bf74BVXB7zq6ijGIkYqG2IsfNx6M553sMGUwIPYFH1S0FjlGpV59t6+kaqOQ8oboaJFaTTTqvnu2gLemh+rjsRlXZy4v7cq60X+15CKlkKq2NeqIArNVivgTlMazZb1De6YteLHT1eDvnRqkt7142yRGp8Ot4Xb8fGjKiBj6lq65u0nuOv7y5HwXb+/mYS1r16LTsCEp2aCmThEXV2G4PPfj8aH09eiu6OVYQYfDX8RfQ52NEcwsvcpeyv0dnHATyfD0Rn4srT3tMbW2iuQipdCKhgrIsLkqmBAKm3Iq3jX/CqVb28Y/NSDajdIef2A+iyNytp3UQF37StfXbUnFRTAMjoK0wL9McZvF/rv8MZ7ni6gj94LTraCO5Km2xed7QQdB0Ecf6II7BggwOhXctXNCzoszL/Lw0JE1prVEaGITEvVdWmz2XctNwezjgag71YvYYJ9ytay0SRNOelzvNNV15M2loLMnaZhmoPLjJkxQJYgVZ+GVLxClSmiYDKknAGQst+BlEWaEjVAaw7cuK7WxKnHLPWxjIKlLx+nnpCye0PK+RhSwTRIFfsh16dCrkuEXHcL/PFta1HAnQ6J6Rvc8VLXYywIavUAACAASURBVBNhP9sDCz9fC69lvki9dlu04NrpG/j2xfn4sMEXT/jePdo02KI5aDKFdQI7AtmveszCpfD7c/NQGMFeoSJ/bqOpussQDO7+Hd5ZsRmP2VsabPDRNTA96D5+aJgpwyI6UhCh8mNl9oW+cdTGtRS+L+VDKl7YkI+RuRm7QcrtC7l4IeSiuZDLXIC6dAASpFKbu8eJP9wnIOV9edc0K1cDHAxr41Us7u3gl6eAu457YhlRyzRlMXcycD7rjpjIvUYCcwIE19gYQYRMbrXZRwPw4/Gj2ECutuiTsD4dDafYM9h95TJIP0Rf15DkRPjFX8PZO+mdho6I973uZLigNWFea81o/gcd19p6HrWp1Lb23+EDh5jTImuPsXs2ivRjZR7CREozqVRiCbl8H2SRkqy/KlWYoE0heKPplhPB3fOQst+GlE3OvJcaphdV23L6QMqfAKlkC+Ty7ZArj0GuoyXn4amxFHCnY5xqD3DHy5G8mJkpKstUpiQGWtyITcKiz9c2mmaZgow0IaYA4LS2UcPsPPudpfCzDkRtTese2Mj9ZzDkfycKoKsCh4Mw48NlGOPqja72KvNLWwcTYzn+H5YbYHU6SkTg0e+F5KjBiYkoqmr7n5mOR9d4dkkFkCoPQCpaArlkE+SaWMiypGqfXA7IJZBr4oT2TZXWR/PPt6dqcOSgWPQj5PLdquMaWeK7Q8p5G1KpG4A6QK6HVBkAKX+YiqOqcAqk6jNiuz4FooA7fUpTP3XVa/BpZJQUg6nMmC2BJl4CQlLKVNfXg+bdyrq74xBPM3feuuYSzikrw6aok/jQ203k7qV2k5Mhx0hqCHs5WGPx8WBBjty8jca5LkOuz4RcHQW5KkJo1PjDCbkaUrkfJJpQ80ZCyh0MKfczSHnDVVq+Uk9I5b6QK/apwFvVCcgV+yGVuUOq2A25hnQw+vc3VMCdjqeovcCd+pLkbzvlHwurKa6Y9dYSwWlHMKMVLGlJ22XUxz06FKMfnwqv5btw+/odMbiq7/t+8/zMAmz+2l5o7/r+cgRG/3sKDruHIPJWCgbv3i4CKDgQ8e/PkAOSPq5FHyGahSYe9BN5cEm8TD4tpiTTTPNzPxmZxv5aSGVOkLL5t8q/2Sch5Q2AXHMecnUk5JKfIBcvg1S8BlLupxp/umqApzZfqP1Qnr5bj/gj7g6pcDrkukxAroFcdVjlp5LVVZX/MfMJSIWTW5WHsS3yVMBdW6SlHGtsEmCGjWVhIfhsm5fQ2uljXGtrHfSHfMvdCQHXE0zPv1H8SDTlPZSlQshMWVbmAKnMA3JVFOTaJEDKE+BP+AQ3tyJI/Lltv596BdzpePPaG9xdiUzA9FcXigALmiBNCdixrX1/MQJf/G7MPSTLjAae9dZinA6IbdRO6hCz1l156fkI842Cv2MQ4o5dQlWFioE/PjcH3hfOYaDvNhFO39ZBxRiO/7e1Kp8s/14JUBk1+5GPB+6UlmqVhalulGtvQMobBCnzMQ0/uV6QmPw6r58qV2MmgRuTYhMAEtTRD4WTGuBpzhsAYuO+bpAKvoFcFaTy18slJ5UaED4JKfNxSDnvqUy0ehSiAu70KEylKoNKgBrMoKSbmBt8GO95uYnoY0Nr7Xg9RjwvPB6EErMicq+DLJVBNmBwl66HRwF3OqTT3uDOY8lOfP7rUY2mWKPWxGnRHJJsud9/jW6iaSToI+3JMZ9wHZJ9+F3JBQVYFxGOV1wdhbO0MYC2+7WhpUGUf7HveLgiseBuftCHl1DH1CBL+ZCrQiFV+kMqnNtAHaAGZZzT1EogRydize3qZU0w14rl/FGQ8odDorau0cel4Tz67uV8BJmmWT2yaCngrmOeLeWq+pFAXGYGvg8+gjfcHfGSk51BtXf8oX3O0Raj9u0SEdH6uSOlFm0SUMCdNqk0bGtvcMfo0f/8YZwK3DVwuZHkl1o8ocl7RGWiNSaNHtuibg+BaZ+fNQ36IOnwhvG2WomJdYj6gXbFZGQIjRdNnfcDVsawn3x8zdsh6BqsN+ObQwdQVXc3KvSBBPKQJ8m11yBX+EGuOAS5jpGDbXRxrkuGlD8aUjbzINKESpClDbQR4OmD8f0pSHlDWjDpqq/dQ+yXKw/qzfdOAXcP+aApp3eoBKpqa3Es6SaG7dmBHrZbQFoSQ7i48BrMOvKNvx9OpasCCTtUEGZ+cQXc6ejg9gZ3SRdv4Yc+qwQ1yiePDhVAj0EV3/SagwWfrIL9LA9Mfm6eiu/tkSH4uAHsdZSGj6COQR59fz4cX/ecBdsZbpj2ygIR+MAoX5Ixf/7bkQjbc6pRqmkJ6di7JUDci/N8H0QfjMHVUzdwKeKaoIBRm1sbT2jDwrWcHJED0VTAXXNgx7/Y192cRIqjKzmGJeJtKmYysp+BlDe0wST6jPBlQ21C08M01+Q6VXBEqQPkUhvIZW4qss3GaDFtoK4VmrhGk2trj31GxeKu87zukHK/0Jt5VgF3mg+CsmyqEojJuI3Bu3fgQ2930Pe3+fikj3UCOo5zrIum2KF7duDcnQxTFZlJtduswR39CwoKCpCcnIy0tDRwUGapq6tDRkYGUlNTUVnZskNje4M7qV7Cjbhk7Np0AM7f+yDUNwrZqTkg6MtIzEJ5cTkuhl2F+8Lt2DDeRqTraqQH0WImbU/QR2A5+C9fY8c6P5wOiMPNuGSUF1cgbFe0yDgx/B/fYEzXKXD5fqvQ2lH2pw7FYvZbi9H/N6NF2jHy1o38v+8w8ZnZgsduSu8FsJzsJOp6kLcmr6Jc+I5w4DDEn6c+Bjt1HaREYXYKrwtxKK42HAGvVjnLlaqoLvqoCRJNhvA/C7nUEkBTx2HV+TJkMrfnDdDgaSLXE33lDAXq1OCvNdfjMc9ArtjVdm2kFoEZGtzV1NSgoqKicfxik/h+cezivpaKqaUfa+k+lO3tI4HUoiKsDA8VhMZve7o0Bqqpx6jWzNXgTW2B0DyHoI6gkWnjXnaxF/m/A29cR229tjGlfe6xM9dq1uCutrYWBw4cwOrVq7F8+XIEBgaKQTEuLk6sL126FAcPHkR9Cw/b2bNnYWdnBybvbs9SVV4t6FHq6++9Dgdxgqjs1FysGbFFld1CDezIg6eFC48gSm0+1Zy3BP54jMoUrJ4PFtdhYITaRPzZr0bCdqYbrkTGg2nUzgTGISc1FzVVtUg6n4LwPdG4EHpFtJWySrmchkX9fmpsh7h2Az2Kuk5q+/r/12gsG7gBJ/3OIPtWbqOY6+sk0VdFuSVIOJso6k6+RDLHu6ZCJpyeHHCg8c9Qc2AxpmUOchz81BOBHfPKTvLfj3RjyCsrlYjABCnz/zRMqd0hF/8AyHdpIxo7RypVJdYWYE6TmFMNuIxx3gNywSRBQSDXP5zmwJDgrry8HL6+vlixYgXWrVuH69evi24IDg4Gxy9LS0vx89rYNxoLCrjTEIayeI8EmEuWadaWnjiGQb7b8YabIwShcSuJjDmuieAIeyuR/vEJ2y2qsdh6s8j//ZKzPYbt9RX+fdsuXUBSQb4C7O7phfbbYNbgjqCMGru8vDyEhoZiyZIlyMrKEoDNz88P1MytXLkSd+7caSJhAggCvujoaNja2rY7uGtycR0rl8Ov4esesxp93piSq48muOsyFJ/9ciSG/f0b9PvtaJArr+8vhoN0Ip/+bHiTwAdNoNf/d2Mw4h+T8Z/fj8Wwv08CNWrz3l+OhZ+txVc9Z2Fst+lYN8YGAc7BmPveMgz403gM/stXWD5wI8hJp2lavXX1tkgztvzLjSKSlsBR81rNl8X+R4fiyz9NwLIB6wXlSYDLcexctx+7Nh6AxSQHfNVjJgb9eQKmvLwAfjaByL2dJ0Ae0+hMOnTAAHkQH5xyhYMfs1K85uaEOUGB4u+1z1ZPkcMyNCUZmvxcOrq+fXfJNYJEUxXsQK0do0xfg1yxXRAH33NxctcVTNAAgsYI5rS1iSzwL6g484RP4T131qoNhgR3vFZ8fDySkpLg7e0txiOOZ/xhDQsLg6urK7Zt26Z1jOK5FhYWuHHjRqvuSzmo80mAvH8Rt1Lgfi4W6yMjMG7/Xrzu5ijSu3HsUltENDV0/EnlPqYsG7JrO5adOC5I2Zlpgvl5P9/uhdH7dmFdZBhOpCQhpaiww/2JO1/PAmYD7mhqLS4ubjJpmlz5p/vTTz+JQXLt2rViwMzJycGGDRtw7ty5Jn1Pk+3WrVsxe/Zs8FhjKaQH+faFeY3grjnJMTViQ/82EQdsDyPYOxR+1gHwdzgK3w0HYDHRQQAoHqMGWARWBID076Pm7MTOk4j2j8H1mESkJWQITdrF8Ks4d/ySMBf/NNqqwbyqCvigZo/mWF6vtKAUQV6hmPHGYnz682FC83c/YKfZDraL9TFIgwCV51Kzp6k9pE8f27ti8CaR3SNoRzgsD4eIfLPUhD3OgAVbC9VkFBx4m/GyqwOWhx7H8eQkYX5NLS5C7J0MZBkZ7Ylcn65iXs/5QGSHIF8T6u9qUpu+A3WQSu0gZT+vkQtRG5gytm00z9L0/DTkMrsHzkfbXuCOP5TU1GlOmmbXnTt3wsXFBTExMdi0aRNKS0sRHh4uAB/HPnVR/5jy2KlTpyrgTi0YZd6iBMixyYCuqznZ2BwVgUG+2wRNypO2W4SvHP3lmL7tJRd7fOLjgblHA0FtHCNvmT6xVpJQU1eH1KJCnE1Px+XsLJTUqNygWryosqNdJWA24C4hIQE//vgj5s2bJ6Y5c+Zgz549wlfl5s2bWLx4MSIiIoQWb9WqVWLAI7jjny3Nr5qlrKwM165dg4+Pj9ivaQrUPM7Qy5dPxgtwowZFnNMESwBEIPR+ly+xqP9aFGbfHejZRrafIO3L/zehERg21vHoUMx8cxHS4ls2VdESWphdJLjrGA3beO4jQ8W1xz0xXWjZqOV7r8tAfNylaQSt5vH3Wyao0wUK1aCPwHbkPydjTv/V+HLiWvSctQxPrvwJ3ddvwOObN6KrnQW62lnicU4dBPRotnjZxQEH4q8Z+lF5sOtJpZDrrkOuS2qZXFOuh1x/R/ivMUWYdj46YwN1zdpD38K8LyFV7oVcexVgpow2lPYCd9TO8WeSJlhaFDinxYHuJefPn8eiRYuQmJiIU6dOib9yjlNRUVGwsbFBfv5dGh1aLDgeHj16FN9//70C7trQt8qhQHZZKQ5ej8fso4EYtGs7aGkYvmcn1kWEiZSJp26ngS4xtZLiO2fMz4vZgDtq7jjY8W9WPXEQvnXrltDOBQQEiH7gXzF9Vzgo3r59W/jecVDVVqjRs7e312ry0HZ8e29LOHOzUav1SQN1ysD/Ho8xj0/FiH9OxvwPVyAm6ILWZmTdysGstxfj3S4DmoAzgiWacJnv9lzIJcQdu4jivJLGOuhH5zTPGxsn2GLSM3Pw0SN3NX8EajyfZl+aTPv/doxOYHY/YNeW/SqQNwgDfj8OX/ecib6/GYn3fz8Sbzz7DV55bxp6TVqEHt+vFICPof4EeDQn/GPLRjC6lsvtDfroW0ei0PBbKY3yNLkFuVyVuJq5YfmjQBZ2JrfOegFS1ouqvIl6oTVpBsB0Rr/q41gGf/SClP0apJKNkOWKVndNe4E7+silp6eLcYljEydq5OhnR6tDZGSkaCOBG82yBHSHDx8WY5SmlUJ9I/yp4wCvmGXVElHmrZUAn52c8jJhZbiQeUcs17Tgm97aOpXjDCsBswF32sRGkwb/fj/66CNYWVkJTR7/ghlYMX/+fOGDx4AJDtbaSntHy2q7pq5t5cWVWD/OVmSGoHaMoMx2hrvQysUGXUDO7bwWT+fLyowR017/EZ88ojJ5EiCpwdnAP44X/nsEahsn2CHA+Rg8Fu/A+Cemi2PEcb8YoTWA49NfDMfg//latKstAE0vx5JC5o9j8dVTMzH0fyei369H4RMGiPx6BN77+zi8+cw3ePbrRXhs0wZhIp1x5BC+9N0uNGpMmK32KdEEegRlBIDUvGlu17XMYzkRNPJcZqF40dkeFqciUV6rJSihxZ4ynh3UaknFS1RccoUzRVodkS+xMaqWAIl8di1llNAHCGvPOmimJdHxW5CrjrVa8O0F7rQ1oKioCNOmTcMXX3whTLL0s+MYxkAK+hAvWLAAJ06c0HYqlIAKrWJRNioS6BQSMGtwR21ebGws6G/HAZC+KvRHIa3A6dOnhUMyTbMtFWMDd2xnfmYhjnqGwmflHoRsjxDBBS21v/l2+lVkJGbCfeE2DPvbN8LE2/+3o4WfG4FWI9j7xQj0+40q8wS3UUsoJnWUrpa5OE7Ldr0AuFbUO/qxKXBZ4IOhf52k0kyKNqvA6yu9v8WrllaYe+wIvjq4Dx94uwvgRab0nvZWTQAcgx/mBR3G0tDjYLSXNoBHZ+Lutqq0YQLIWW1Cd1tL4WTM+r4NOIg98VcQnZ6GQlNNr1OfLbjuVNQm6ojY3g0au9bQj7QnKNNn3ap7kcu9mr8uLa4bEtxxrDp58qTQ0NHMeunSJdGu7OxsBAUFiaAwgjhtpSPAXWVdHao7mIxbmyyUbYoEOpsEzBrcPWxnGiO44z2RH4/0KQ9K0VJWXI7wPafg9uM2MZGQuHmghRroGQqcPdR1ugwVRNCjHpsiTMSNdVGD98gQjBq0AnYRJzHt6CF0s7UUgI0AjUDsaXsrAcqolSOQe8HZDuey7ogIr68P+oFaPKGVa9Dyiagxm83ou90bY/bvwX92bsWEA3ux9mQYVoSFwPvieaQXFzehbHnY57BDzqfWjrlahZaOYIogiJkl1Hx2+gRYHVlXw32VrAOkpr6qLcndkOCupTa0Znt7gjvSaBRUViKlsFCY7qJvp8H/ejzszp6GW1ys2KbwmbWml5RjFAm0jwQUcKdDrsYK7nQ0udW7yCNHgJh/pxC2092EubWjtW+NoKwVmjptx2oCVO7n+rhu03DSPwZZleX4eKunMJm2ZF4liHvWwQbX83IFOPO/noAvdm5FTwfrBs2cKjiDFAA7Ll9EWnGRiApLLylGRW0tymtqYDZ+KXU3IeX9pwHcUXPXDVL266p8sYyoNThZsb4AIAGqFjMy761kLWSp9L7vUGcGdwR0EakpcIo9ix+PHcVov93ot8Mb/bf7oI+PB746sE9ovn+KCMOZ9NtIzM9HQm4uylpwfbmvsJUDFAkoEnggCSjgTofYzBncad42yYGXD9p4N1jjAcGVNsDVUdsIVD/79UisGmaB88EXkXgjAxMP7GskEiaQI3v6U3Yq4k2u08T6vrcbbhUWCvEQqJ3LvIPdV6/A6+J5rI8Mx6rwEwi4cR2l5v6xksshlbtAynkPUvaLkLJfhVS8DLKUA6loYYMWzxTNsy2AO5GZo5fIvHG/nLqdEdzxx+VEcpIgpP10mydedFYlnKePKSe+P49bWwgy2zfcnfC+pysm7N8rtNkrw0LgFheD5IIClNVUo6ymRieZ7V2acs1RSllWJKBIoC0SUMCdDml1FnAnSTL8rAPx+a9GNomk7Shgpq/rMqvG2G5T8d1L8wUh8xb3g/jCdyt6uzqAH6DJhw7gu8CD4kPVw95KpMixO3OqRZ8haudKOxN3k1QkAg2YN1au2A/Uq8i+peKNkLJpnjVFcKdLA/gU5FLHFlKu3R0oOgu4I3cZIyZv5OfBPS4WH3u7QwQhNYA5bcFI3KYGe+RGe8/TFe94OONVFweM2LMTS04EY3X4Cey9dhkZJXej8indkuoqxOfmgHmW8yoqTN+14e4joywpEjC4BBRwp0PknQXcFWQWggTFpm6W1QYK1eTI5Odb8MlqXEy+LTicQm8lg7lps8pK4Xv1EtadDEdQYiLoS6SU5hJomhaPYE9kejA7cNcdcsla7SnXNETSGcAdNXVBiTdFVpWPfTzQ09660f+0JbeGlrZTq0fAJ/xX1RlbXB2FWTe5UEWxQ004XR3WRIRidUQo3M7FgoTfSrkrAQbE5ZaXI7mwEIU6cqLfPUNZ6swSUMCdjt7vLODuTlIW5n2wXBASqwGSAHoPQUasrsdY5gR5E56cieunb+rocWVXayQg116HlNu/IduDKWnv2FYd7c3sCilvUKOGsiVZdAZwx7RRQ/bsRC9HGzxu02B21QMZuDogiWCPgPG7gAMISU7E7quXMTXwIDZERsDqdDRWhp3AwevXzMeHtaWHqZXbCebUeWBnHgkQLiLMJqEURQItSUABdy1JBhA0A+TBe9CoVB1VG9Wu6opqeC7ZIcAdNVzMeNHn58OEJo/LpqrRY7sJ6jgxc8b0135EXoZKU2BUHWBqjZElSFWhkPJHmlD6MYI6BlL0UAWJMAq4ka+vwVQrwF0/oFb3D4C5gjtyYdIfjimkZhzxR28XezyhB0CnS6PHfW+6OzcGZIza54uFIUGY6O+HyYf2w+t8HG4VqXxgTe010Vd7ef/rTobh021eeMHJDi862Yk0YF8d9EN6M9O2vq6p1GP6ElDAnY4+7CyaO4ogOzUXjvO8MPmFeZjz7hLstwmE03xvTHhqpuDD+9jEgiw+fmQIyOE38p/fYvBfvsI3z81FsHeYjt5WdrVVAnLNeUj5QzToUnT5s3X0vh6QSlZDKnOClDdYpXnMHw2Jkb+Z3VTRwJn/hlQ0B5DKdIrCHMFdRW0dQlKSYHvmFKYd9sdrro4g52NLwExf24Umz3oznrCxxNP21ujlaC18Xz/wcsPMI4ewOjwUjrFnUFRVqbNPzGEn/XlvFxfhVFoaDl2Px6HrCQhNScbyE8fx6VZPPOdoI/rkSVtLPO9kI8C39ZloRbsJCBkwWKdeVrmQMDVafmWFYDEwh2fjQe5BAXc6pNaZwB3FUFlWhey0PEGUXFtVK9aj/WMx+rHvRO5aYzGxtqYd1NYN++skOM71QrBPGK6dugHek1L0KAHmmS1zhZRFcmPSpXQ0gNO8PtvTMAmN3BdA7TVArgHqU4DaBKA+HXLFAciFUyHnj4ZcNF91DHTHa5obuKuXJMRkZGBVeKgwh36xw0ckiScXpL5AXGvr4TUJXl53dcT8oCOwjI7E+sgwXMttmWxej0+0YasSmtJqwYt5NPEGtpyOEiTr73i6oJeDjcii86aHs+De5Lq6Pzh/ys5S7P/heBCyy3T/jBj2ptr/anxeST91MStT0Fadvp2GXVcuCY7RI4k3xDZyLrrGxWDn5UtIILVV+zfL6K6ggDsdXdLZwJ02Udy+noHven9vcuCOGTX6/GwY1o+3bZIrV9s9KtseQgL1GZAKZzT4sunwZzMY8FP71T0PKedNSDlvQMofDLlyPyBrS3ReD9RnAbXXAalp9GZLUjE3cEfKn33xV7AmPAykLSG4e97RthFMtBaY6es4Znt52s4KY/32CHLwzdGRSCsyr+AKEjzH3bmDDScjBAk6NZVMV0gZqqONOVcvN49M5novR1ssCgnGraIi1ElNg55aenZNdTu1cjRPJxXkIzj5ptDokmR++F5fQSQ/ZPd2TD/sD/ojzj4SiPnBh7HkxHEsPB6EtRGhiEpLFcEodDuorq8zVTG0qd0KuNMhrs4O7uhreDHsCsZ1n2564K6BxHj0v6dg35ZDSLp4C2VF5Tp6W9n1QBKQSiEVzWswbbYV3LX1eE3NnOYy6+kGKZOauicg5faFXO4NuTpKNdXF3zcCti33bm7gjsAgJDlJcNLNDz6C973c8KyjjaA90Rdga0s91EyRcuUTHw/RJmpjzIYcvOFBu11cLDSlb7k736WXaaOmtJuNJYbu3gGX2BhE3LqFgsqKtjzGRn8so4OZ7ed0+m04xJwRQPaHY0cxfO9OvO3hDFLt8Lni86KmsnqLmk4nW7zh5gTyMX6+3Qvve7lixF5fLA4Jhuu5GFBLSvmbe1HAnY4e7szgjs7V50IuYekX69D3FyOMPqhCHTzRPPijz6PDMPSvE/FNrznwXLIT5SXmNQDqeHwNs0sug1S8tAFYqU2hJAp+XhW8oFVjRzDGY5/RcYwmeLvf8rOQ8gZALhgPuXA65KogANXtdv+GBHd8D2tra8FUYryuuvDHi9u4r6XSlvRjpAWib9uQXTsEqHrX00Wk5msLKNPXsQR2TAvIj3PgjYQWeSdbum9T2E7AMnLvLhWwayOoU8uZ2jsSsZNLcIzfbuy8fNFsfMxI+bL94gV8fWAf+CwyD/jLLg54zc1RBPmofTUbZaHWcoo0kWpS7c0q8Getci+gD2nfrZ5YcuIY7M+eFplTmGWI2jxzLAq409GrnRncpd/MbKBHGWzUwI6BHgR0NMFOenYOBv35q3uImOl/90GXLzHgv8ch2CtUR48ru9ouAQlydQyk3AF3fdzyhkIqnA0p6yUN6hECOjWo6wWJwQxFSyHlvK3SumkFgfcDdayvJ6TCOZDr0hvIh9vfPGVIcFdRUYH9+/dj+fLlWL9+PRITE0UXHTt2DAsXLoSzszNyc3O1dltbwB0riLmTjumB/kLD8Y3/frzkZCeyTqg/oIaY86P9hN0WMMXfN4f2I7EgX+u9merGellGalERXGLP4i13J2F2fRi5Ul48n2C433ZvoYGlxstUC4mzSfuy5VQkXnSyFVmDGk3TGgDuQWRGvkXWOePwIdCkuzAkGBanIrHn6mVkl5uf36IC7nS8BZ0Z3IX5RmHY374xWmBHQPdhl8Ho99tR+LrnLGyZ7IQrkQki3RgjZZtr8BiE8XaXL+A0z0tHjyu7HkgCDKyouQCRyYLZLGouQa5LFaBLymImi56QMjnvLehT5ApfyHVpkCsDIOW832DS1QbkaGptiGRVB0c0CdwguHsOUpkDgPYHdWrZGBLc1dfXC/CWk5ODHTt2YPPmzUhNTRVgLyIiAjY2NtizZ4+6affMrayscOPGjXu2a9tAJ/VNUSeFZuPLXduFtoRUKGpH/gf5oD7IOfS5+8DbHd4XzqGi1ry0KseSEjFy3y5BZ6JPuTII5RkHa8w4cggZJaZncqysq0XcnXT4XrmEjVERcq95/AAAIABJREFUeNXN8aGBb0vP3ivMUOThjCG7dwj/vKUnjonIZHPzW1TAnbZRrmFbZwZ3MUcvYFz3aYIjrjXRqYY4hpx75Kt7r8sAkTd2zagtwnScfSsXVeXVKM4txdc9Z+PjZuTLBHrU3JG775BjsI4eV3bpVQJSHuSqCMhVhwXgQ20SIN2NepSLFzeYZQnSmoO7pyDlvAspfyiknE8gQGL2c5CyezVoCNVawGchlW5RRcHqtfEtV2ZIcMdWlJaWwt/fH3PnzsXBgwcREhIiQF1dXR0CAgLg4OCAGg3TEgFhdHQ0XF1dMXXqVNy8qZu3T32n/LhFpt4SxMIEV6+5OQnfpWcdrEH/rq7WFqocsg9oRmzpY6u5ndoVms9Ix0KTmbkUatMuZGVixB5f9LSz0rscKTP6mhGUmxq5MWUTfTsVK8JOYM7RQMHnx2dCrZXUfD70scxnrAdNtNu88KXvNkwN9IdzbIzZmf8VcKdj9OjM4C75UiqmvfJjk6wVBHAfNRADG5LcmOCME82uq4daYOWQTfCzDkBBVlNy04ybmWA+2SbgrssQfP7rURj5f9/CZrqbEjmr43k37C4Jcql1g28etXMEa+rpcUg570GuPglZKoVccwVSmSekin2QypwhZdPcy3MeVwVP1Jw2aNPbC9wlJSVh7dq1WLlyZeMUGhqKwsJCnDx5Uuw7cOAAjhw5IgAdQdzRo0fFMs236kJ/vKtXrwpAOG/evFZr7ng+aSaYLWJKwEGM2rdbRM7SOZ3Rs3T+J9BTpxPTx8e3K7Nf2Kh8o/jhpjbrWXsrkYHBXHyhmJN6f/xVTDzoJyhmmPFDHyCleR3drTfjY28PnMmgi4LplPLaGhGl/clWD7zl4SI0kM3vTd/rfM7ox0cC7aF7dorsH0WVlYJG5WpODko0/FtNR5JNW2rW4I6D39mzZ+Hu7g5vb+/GQS4zMxNbt26Fj48P0tLSmkpEY60zg7u0+AzMfntJY5QswdWnvxiOue8the0MNyz7cgMG/HGc0OypwRfn+tbgsc4PugxCv9+MwmHX46ipqkVNVQ3q6+6ltSjKLcaU3gsEEOQ5BKCM9PVevgunAmIVYKfxbBvFYu01SIVTIGU9rTLdigwSXO4FqXgNIGmCd/a3BEjFEGbd4iWQS1ZCrgoB5CqD3k57gbvy8nIxRiUkJEA90Z+O4xjL+fPn8eOPPwqt3MaNG1FSUiJMsi4uLlqz6FCzZ2lp2TjutVZIGaWlIjrxh2NBGOe3B8P3+GL8gb2CXoJZIz70dhdEw+RaI9Br64eXoFCcZ71ZEBeTvJgfW/pWPW69GYN8t+Nk6i2z4Cajj93BhGvinl53c2pXYuhuthZ4290ZXufPmRQ1CqNX3/FwQVfrTeK50MdPQ2ueSf5UdLO2wJe+24Wv4q4rl7EuMhw/nQyH5/k4kXe8te+MMR5n9uDu2rVrwozh5uaGDRs2iL9gAj3eOM0ZnCpbSMLcmcEdzZz2s9zxnz+MFSbNTx4Zgkm95uDa6euoLK1E1q0c7LE4hOVfbsLmr+1hM9UVA/57vF7NuAyWIKAc/+R0eK/YhZJ83TxkkiTj1KEYAUBH/HMyvnvpexy0P4qqCvPy2zHGgeTB2lQPufYm5Iq9kMu3QS7fCrnUSrVO7rkWiwzIxYDcMdQ27QXutN0uNXKHDx/Gzp07hb+dl5cXiouLsWnTJtCfjpo++t5pK20NqFDXQTMZ+cQCb17H/vhrOJOejlPpadh99QoOJFzDvvirICVF322ewpFfzcemnhO4qbV7ArBpmHH54X7KbgtecrbDm25O+NDLDe96uorsC4z6nH00AMxrW1lnHlxkeRUVmBt0WKRXo1aKmThaAzwe5Jie9lYis8jaiDDQh80UCrWas48Gols7aTPvJ8cnbS0E8HaMOYOfIsKEzyl5FWki5nNoyqlHzRrc8eHm3yu1c9TUrVmzRkSbrVq1SvwZM/Js6dKlyMjI0PoexMbGojPkltV68wBSr6XD9YetmP32UqwYvAlRB86C1AzqQgCYk5aHwuwi5KXnY8MEO3zx+zEC4DF6VZsWT1PLdz9NHwMmxnabhoi9p1DRSgqTuto6pMan42LYVSRduIWKEvNPW6TuD9OdE6zxY17XkPrLcMERDyIzQ4I7/njSJMugCZpgCexY6EfHbdxHEKetPCi4a6yL77rG+06uOZpt6Zt3LjNDaDf4QaQJl3lPyTFG0Pa8ow3otM4UZr0cVZkV6PDf094a73i6Cn865oylRsvyVCTmBh8WTvQRt1JEyqjG65vBAol3CVgH7tyK3s526NaOKd0YMUvtIINiqkwEHF/JyRZRvs1/Au4HyvSxn9pi5uklBx5ltiYiDFano2F9+pTI1HIgIR4kmzbVYjbgLjs7WzgX0+GYzsf0Tbl06RIKCgrg5+eHKVOmwMPDA/RrWbJkCXh8eno6Vq9eLYCeZgfyHP4NW1hYCG2fJqDRPK4zLNMMSvLf1oCknNt58F2/HxaTHPDdi/Pv4ccTYK4hc8RnvxwpTK3MJNES4KNZlX52SZdudQZRK/doIhIwJLh7GJE8NLjTcXFq95gLtbiqClmlpYjJSBemLWr2+KG0O3saR2/egMPZ0xjou02QztKBfWXYCfCDTqAoQxbn3yktQakZ+DhpE1dhFWk9ojBsz05Qs6YPUKKtDmpKmXuWpMY7Ll80GdJnZo7o4+PRbnLRJituI5hkEMo7Hs5YFX4CwUk3xXP708kwrDsZLp7Ts+m3mygztPWvMW8zG3B3+/Zt4VdH/zpONMNGRUU1En+mpKQIXihq4+iwTG2emlKA+zQLgR/B4bJly7Bu3TqT7mDN+zLk8gG7Ixj8l68affKohfuqx0w4zPGE84Kt2G97GB6Ld2DcE9PR79ej8FXPWWL69OfDQcBHbjqSJ68aZnFP4IQh70O5liKB5hJQwF1ziTRdp58ZwR8LNX0JeXnYe+0qAm4kIKNUt2tF05rMY+1Gfh5It0HwJXwNNczULYGPNm+33iwCXnidS9mZAjibgvSu5+eKNHPU7Lb5nh9QjuwD0sb03+EN6zPRgnewqrYWkbdT4Rx3Fk4xZxFK1wAdBOGmIFuzAXctCZvaOYI1UgPMnDkTycnJwsl43759wsxBEy0dk7UVOjDb29ubtN1d230ZYht98taPtcGXf56AgX8ch8nPz0fssYuoralDXY3Kn6a2uhaMyr0SGY9bV28j9eptHHEPEeTJox6bgg3jbZF4PgX0pVOKIgFjkYAC7oylJ0ynHUx39R/frfi31Sa9ghh1cEpXq00YvW8XzqTfRo0J5U6tleoFoCKNS7sB3wYQyPr/z2qj8BOddMgPUWn3Bu2U1daYjRbZrMEdB2FPT09MmzYNpARQOx6TJmD+/PliGzV5LZXOHFDRkkzasr28uAKXT17D6YA45GUUtPrUqopq8FyCP6UoEjA2CSjgzth6xDTaM/3wITxmrT9wR7CiNi8O37NTcBSahiSatvJydqZIC8bI1XbR3lmrKHZedrHH8tDjAtRllJSYvUXOrMEdHyHSCJDgkzkY1b5z6nyNmtuaPm6qNQXcaZPKA2xTFG8PIDTlFGOVgALujLVnjLtd6yPD8ZQeCIzVEccfebuDgNEp9gwS8/MaTeHGLYV7W8fMKKP27kJ7mGaftN2Cl53tBdUKeQZv5ufd2wAz3WL24O5h+k0Bdw8jPeVcRQLmKQEF3Jlnv7b3XR26Hi9y5j50ZKi1hcj7+/2xo2A0Ln0cTbkUV1eLiOtnG/gO28pzp3k8lylfTtRsMj/y59u90W+7jyBKLmohstyU5ddS2xVw15JkACjgTodwlF2KBDqpBBRw10k7/iFvO7EgX+QzpYZKMysHAYkmQNFmmhTHWG8GiYqZLeTTrZ5wPxdrsto6TVEyUnpe8GG86+mCV1wd0cNelZ5NgGCaahvAmgBszYIoKBdq53rYWYkgCYK5dzxdVMTb+/eKKOXhe3diwbEjInetacNgTandf1kBdzpkdPr0adja2ioBFTpkpOxSJNDZJEBw99NPPwnOTGO+9/akQjHm+zbWtjHNlu2ZaPTZ6okedluEfxmzMpBvjeTG3W1VQEYVWMDMH6qMHaTs6G5jKaJt+271xFcH9mHBsaO4kJlprLfapnblV1RgaegxDNm9EwN8twnOxLc9XISWkynCGGXc28UBL7nYC/qS7jYW4ET5kBCbWrkBO7eJPLGMFt5z9TJuFRYgragQEakpIvI1rahIRG63qWEmfrAC7nR0IDV35McjrQo58jgxQIMRtEzKzWX19o6esy1OTk4i44axtYvyIxl0R8tI2/UdHR2F3IxJZmynuj/ZPmNqG9vC/uQ7QMohY2tbe7+bvF9nZ2d8++23gjNTx/DR4bsUcNfhXXBPA1IKC+ESdxYTD+4TQObbQwdAbrWZhw+JLBYfebnh821eYD7fV1wc8LG3Oz7x9sCE/XtFVpBlocdF3t0D16+hzMSpOtTCKauphuu5GPx4PFhk85gTFIjV4aECpJGaxDH2jMiKsufqFUwP9Mfrbo541dUBz9hbC6C8LDQEK8NPwOtCHLLLyhp969X1d9a5Au509DzJjENCQhAcHNw4HTt2DOPHjxdAhcua+zpymW1hKqLp06fD2NpFJv0xY8YIkumOlJG2azOKmnk6jUlmbCfbs3z5ckG4bUxtY1u2b9+OSZMmCS5IY2rb8ePHMXHiRBAQt2e7goKCEB4ejrKyMh2jR8fvUsBdx/eBthYwKX1yYQES8nKRXV6GelkSoORc5h14nIsVEZ0TD+7HuP178f2xI1gXEYZLWVm4U1qK85mZiM/NRXmN+aRUZIDjhaxMWJ+OxuqIE4JE+ERKMgAVX6KaM5GyJDhmVpOpAf4is8mSE8FYExEKn4vnQboZpdyVgALu7sqi1UvkxmOmC2Mr/KAxV66xlaKiIpHmzRjz9FETww+1MRZmWyEfo7GVrKwskbmF5kljK+vXr8eVK1eMrVkd0h4F3HWI2B/qokx3lVlaivTiYgFk4nNzUNIJggDoC0fzLEmNSVOiCeiaC5Tp72jirq6rE5x0PI/LSmkqAQXcNZVHq9aoGSAZsrEV5pncsWOHsTVLpICj7yI/NsZWmJqOvpXGWKiJYj5RYyuZmZnCJGuMmiuajOPj441NZB3SHgXcdYjYlYsqEjAKCSjg7gG6gR83YwQqzLSRm5v7AHfUvqfU1dXhzp07RhmYkpeXh9LS0vYVwAPWTo0nXQOMrZA3kllfyCFpbIXtqqioMLZmPXR7rl+/Lsz06p/K0NBQkUbRy8sL+fn5WutXwJ1WsSgbFQl0Cgko4K5TdLNyk4oEFAmYqgTKy8tF4Mq7776LS5cugWbxNWvW4PDhw7CysgLN99oKf6o4wN+8eVPbbmWbIgFFAmYsAQXctaFzqbGIi4sTQRQJCQlCE0XND9OaRUVFgYNwRxb+qUdGRoL5dFmo+aGpllNL+XPbu705OTlCPjQxqv0U6XtH0xl9BPnh6SgNEPuTH0u27datW+0tivvWT40wA3g43b59WzxflBnbd/ny5fue394HqPuS5lg+92FhYcKk3dHPvfq9PHLkCG7cuCECHU6dOiXaZ4ya7Jb6iY7lfBeaT7wXRibPnj0b165dE+8zB26+7wR2dBNhth114fkXLlzA7t27RT5tvmvN69S13lI7dJ3zsPs64pochx623W0539DXY9s6g1x5n51Btm29x82bN4txQD0u6GPeRR+VaKvj+eefByMvO6JQsAROK1asENQZNIvQnEcfN0Y1rly5Evv37++IpjVek3ly33rrLdEODvb0J1u2bJn4y/f19W08zpAL58+fF7QZFhYWIpo3IyMDaWlpQl7kCqMDfEpKiiGb1HgtAnUGx6jb0dHm2ZiYGKFp4UtpaWmJs2fPwtraWshq9erVArg0Nt7ACwRQpP/p378/2E4fHx8hO74PBOn8iHRE4cBOkMnniHQ7/NE6dOiQaBvfS0b2GqNvoDZZpaaminugNo79Tj9VjikbNmwAx5vvv/9egGn6YZLyhffOZQZRaZqiuZ3PNt95RvazjwgAeU5rJkbd29jYtOrY1tR3v2N4n7wm++9+x+prP++P7z2vra8671cPr8d+vd9x+tpPeXLcMOQ9doRcO+qahnxm1e9Ia/uSff/NN9/oXSlgluCOWjACuMDAQKERI3ii1ok0GtT+8IO3ePFiVFZWahu3230btSouLi4YOXKk+Jvnh2LTpk04d+4crl69ClJ+aH4A2r1BDRegVodRlcXFxSJillooahvIyVdYWCjADGVq6EKTlbe3t5jo18YXldrXjioERwQhfK6obVqyZIkAKHxJ+ext27ZNfKA7on1sG0H60qVLMXfuXNF/ixYtEiCdPzzr1q3rML9FPkMEcaQn4TNGGS5cuFAAY/408J01lQALtp8/aAT1nDimEDhzkJ4xYwZeeeUVUO4nTpwAf5Y41vAHjrx7BHTaCn30WA/BHutuzUQ6GYLGtpzTmnq1HcNrEJBPmDAB0dHRrWqftnraso3X5P1RpvwxMMR9sn3kTPX39///7d1BquXEFwZwt+Aa3IKCc8XGqQqNgqADBy0ogqjgSnrsQAUHDsQVuAAbp+IO3MP98wt8mM7/3tfvvq4k7973HcjLTVKpc+pL5dRXp6ryNtNnoZj2QBnPweeuaeHIvz958mTqjGyBa57lF198sanOvJfajLXLKX9fdPjss8/OKiOfPXpU5eLJnQnKhj+QIpvJzM+ePZteFHNdkDgvjIZNr8EcGMNnomQZEj3maEecE13SWMU2doqEcRq//fbbRJbsfQ5Cj99QnyE+DZ5FDWuJxkVDErvsHedzGewReTBsJorARtGgH374YYp+nmqc1rLXMLVG0VAeO3w42DDWfRBOWbRFXTMcRzRG6tceYgjWM1PfRch+/PHHyRZEyjP+7rvvTk7qX9tew+mcHhsQYvPQfINPnfdcvasaq0sWnTLPABlBhJB9dUMUSD1B9kYKEk/fVmJ4mX8yOrKVKB//uGVn3DNbu31Y4mcof3QDv9QxP9ZB0VHeUqfOsCDLlhF6nUrv3lbtlnqqo7plGefPNb8vntxh4xychsFm6E7k5L333puYM0L11VdfTUMmIisI1N9//z01eGsSKACb66dSxTZ2angfP348/ecAHwt2DdNX4dmjofv2228nO/OQRu81QELGnDT99rChn0Nj56+//jqpNeyAjGp8Rc8MH23p2BmB3Il0IgPs8AmNvYb8589CtOnrr7+eohi+wWcolCChnvvWImonsvrJJ59Mtrz//vtTXRIJ5sDV+z3JHXL58ccfT50tPdUvv/zy8OjRo6nOIQ3qop7vNQi/ZDUw4YN0TpB+5RwpVuBuuUqb79C58h5uJTrwP//886YkxBQBgYCtxOiEtmFLQoDcmaq0pc48yy116mCZmpLgxdrP1DsiELJlGY+V6eLJ3bFCqbR6XhoKDlYYWCTD0Kd/U+a3IZMtHVTs1ItAPpGrd999dwr/a+jM3WKXoVmN8R62GS4W7QlJYbOonTllHJ1rQtxbix6XlwXBYwfyCbM9xXzEb7755vDLL79Mc9j8pwo4OY98anS3FuTOtANEQv1/++23J3InIiAKy0b1jPPZQzhZEU1kx1QEna6PPvpoinCJFptzhIBWbo+A0YEtO1vqGJ32W4n3X0O5pU76EK6tRNl0Yrcso3qzNa57PMuty+kZbo3rsXp6leQOuIbLNGoaENEmDRqiYrjEOatS9xZz2fTmiVWXSCjb9iBQbDAh/K233jp8/vnnEzkQedQgC92bm2HVHwK4h2j0RcPYgRhv6XiX5VW/kM0333xzqmNwMVfKZHn/x1T0eC+cYquhAXO9kCaRV//qTpSRnXsJJytKLXroPUSMdWh0ZtQ5iyvmK0n3srN6i0ARKAKXjsBVkjsPReOf1Z4ZCrE37Oj8nuQglUaEMfMdhIzZxb69Gjj2iKiYF2h4OBEewz7mS7m+Zc8yONkjBubesG/vlbLsEYGFCXsMZ6tbwW/LOVBzjOa/4cVGdYltnqcpCXvXe/ao5+xhl558piM4rpyHAHJsyBKZt5m6oJMxmsSLKslb9BwpzztoZbDhRPvRw17qbxahmG4Qf6SDYBqJDvHoOgNDunTYTCMgRlHM29aptFdnR4sRCdF+Q95rfurJyJUV3p4Xodd0G8/VezlaPB/1xvQeU2kMy3r36TRUSv9oiU710txsAQpz8VN315zGYFRCx9+Iod/qjH9LKZK3tVwtudsayOorAkWgCGyJAPIj0m/urgbLN/YMxxupMI925HcDdUJNc7HCkg7RYNF0Q+kaM6uwTSkZKaLfRjbo8mkSZA4BsQocwTQ9w+K5kaIRptN0ASSSaKRNJ9BIw3v0h6Z1xEyFQViRINMqkMw1BLkzp9sCFWTZFCELDek1kjSaLOsEWB1vU2/oQ7LoU15kdnTAABm3MMviJXXEvELlRZ5NS1GfYD5avINGS6x6Rp5NY1Jedddo3BqdgpvKUHJ3Ezq9VgSKQBG4hwhoEEXsRAYMt4sUaChNrXDNavfRZAvBExE0PcIUFwRLgylil6jISKiUwybai/xopBEvc1sJMmLh18hoNH0aYUREVBQJgGnmIWuoRaJGkgPRLJiKLhkJQJTX+p6osolMqjfIs06ASKHIrM+/jB51gFNIjU6AzoC6KXqnrKZOjY74qhsIns6I8imrKU/qrw4QopcRs1H1Vb3R+UDu1B3vpukmBNFDKtci7KfKUHJ3CpmeLwJFoAjcAwTMH/aZHZvFOhoODbTPq4hQaMBEtDRiGW7TiBpCvIuIVNFjQ2oMoSEepowgVOa9msvpmmFTDbgIhRWmdyU9FgIhp9GLNGZYVBl9WoINdCAJxGd+EL67NpqIajCl1zChKSnEPGPkDnGkL6vzRdXgP5JQ0okQIDuirSI+Pk+1loTcmaZhxXqGKX1EOyu8R+tWd0Q/RZUtRDNUSq9PI931+d1ko6i26KA50J4rnToJcPWtzUwruCmPc64h494/339E5Hw9waJNYvEfnaMJ5YvsK7l7EUK9XgSKQBHYEQFky+d1bKJGiRC888470weF/TcgBMwcIw030Zj5uPJdBMmgJ5tV1iE98jPEhPxoqJEtUQvkCOm5qyByKR+9hvGQD+cRn5BWUTTDeQQxM1Sq0b6LIItzncqVhVAIliFMgtghm8Qnq0YP69Epcqesyixyt+aqcdiqKyKG6ok5ryJdPsA9cih/AuxwmEgNci7KKmKH9Jhrp6wWUo0eCo5eexFmkW1lQ8h1FERfRxMti8E++OCDaYqE/yv94YcfTp0gNvgskmeaOaNz+9b8vSq5y7fS1ixA8y4CRaAIPDQENE4IF9LjP0YgAz6abKU2gmde2sgoDH3IDsJo6AmZ83kdEQmECwETYRwpiIZV3j54LfqBBCGeIoeImIilxnqkIKrm1H366afT3DckRJSSrvxHB18RGCminea9wRRhFZFdiwiI8Hp+hinz2STRWHottBgdRZMfModcqTuwRc5FfW0W/2TYdhSmonamJKgbSJWImjpkcYWym04wWqf3A7aGfZFJHR/vhv/wlKH80TpfhNdq5O6NN96YJhaagNqtGLQOtA7cpzrwIsd4Kdc1ZBoQ0Q8NjCiTBs2Q4khBtAw1iVyJEmZYS5RNlMt+dATGXDBl0ThqoPOBa5FEZFK0ZA0yAkPzwkSbEFpRLRE+Ou1HDsnmGYloIXhW6Y5esBEd9joASIdFFfCjy/CloUTEebQYepU37BAr9RI5RvBsyj1azBs0TcDcOnWWDX/99df0nVsR2DWikymDBTlZ+PPnn39O5fa++JLC1rIaudu6INVXBIpAESgCh+GrD4OpqJZtD1nqXR6PtCl5Z5+8l8c53/3tENgSP7q21HcKgT1tKLk79VR6vggUgSJQBIpAESgCF4hAyd0FPrSaXASKQBEoAkWgCBSBUwiU3J1CpueLQBEoAkWgCBSBInCBCJTcXeBDq8lFoAgUgSJQBIpAETiFQMndKWR6vggUgSJQBIpAESgCF4hAyd0FPrSaXASKQBEoAkWgCBSBUwiU3J1CpueLQBEoAkWgCBSBInCBCJTcXeBDq8lFoAgUgSJQBIpAETiFQMndKWR6/qoQePTo0fR1/asqVAtTBIpAEdgAgfrPDUAerKLkbjCgze5+IlDndD+fS60qAkXg/iNQ/3n/n9HSwpK7JSI9vkoE6pyu8rG2UEWgCGyAQP3nBiAPVlFyNxjQa87up59+eu4fkvsn4l76u8q///57ePz48eHp06fPZfHs2bPDq6++enj99defO/8yB3VOL4Ne7y0CReBlEaj/fFkEe/85CJTcnYPWA06LgCFiCBfyRV577bX/I2a3hejJkyeHV1555cDhLQVpdB4h++OPP6bf5xA99rFN/rbYLd9KESgCRWBrBOo/t0a8+kruWgduhQDnhBwl0mYvuib6dq4gbMga8naM3LkeYib/c6Nuc9Lp/hDJkrtzn1TTF4EiMAKB+s8RKDaPcxAouTsHrQecdk6SEg1LBO9cWP7555/D999/P21+HxPk0YaYIWu3JZFzYshO98rH75K7Y0j3XBEoAmsjUP+5NsLNf4lAyd0SkR7vjgAShoyJDCJ3tyV2DF+mRUBFB+Wj93yT0JvhXPtjUcWb7u+1IlAEisDeCOzpP/lsvttoy9IX743LQ9NfcnfFT1x0zIuG2EQQljlpQXhCaI6RKZG1RL7kZTj1999/T3ZTNMx5aZaS+XI5T29efvkkKkcHR8AhyGtOrOZDt9K4J3ks7WWXc+6PY4mjO2Zf7LJnG91sJokA5nietr+LQBG4fgTqPw83+vd5DYBV2gY+kw92rrIfAiV3+2G/qmbkBtEJocoQKrJkIyE0CJ4XEjnKXLgY5yV1znVbyJLfJDqkc44e54i00ZW0zklHt98hisiX+zgE9iQPhEvgdxhCAAAEtUlEQVQ6gtjNHUjsDXGjy7327oGB+x3bh/BNmS3+sGfpjOiK7kXyHhaBInDFCNR/nuc/+c75FBvtAV9c2Q+Bkrv9sF9VMwKFINkjKRFEx0ZCpDiyEDN7RIggatK67rdrfjsX0oNYIVkhd/IMAZMmutwvjbxdl865iHScQQhVbLCPLunnDsS9riWt3/Jgk98IW+yShv23FbrcI49KESgCDwsBvqL+827+Uyc8He6HVWvuV2lL7u7X8xhmDeeEnCA7c0KERIVwUYa8SJctBCyGIHMIV65zeLYQrhBD1+l0P2LkBZdmrkue0iODrrsnkTt2sBXpmzsHaaLL/bkvzsM1aSJsCEGUVn7Bwv42wkblkE+lCBSBh4dAfEb95+39J78/byv438p+CPzXKu5nQzWvgECck72XLhGoJblDjLyE0tlcn5Ml5AmZQ8JcDxmcEy7muydRM8fIkTRzcodo2SKuLfNBROUV0uf3PI18pQnxcm1ur7yTL7uVnd3S2L9IQmbl73elCBSBh4fA3GfUf97Of/KX2oDs+dy0Ow+vBu1f4pK7/Z/BKhbMnROygxQ557eNzNPEiJzL8Tz9/NyccDnvRZY2LzPCuLz32PEyn6V++c7TOE50j95T5I4uZSbJ0/4mCWkssbsJpV4rAtePwNxnxJc4N/dh8zRBJOdyPE8/Pzf3ac5fg/9M+bLnR5flzLXu10eg5G59jHfRECdj+BLR0vtEdrxwHA5JGucTQs+5GC2tCJg08iDOLV9azkmaDAEjeY6jK/ctj5f5LPXLV28w4liaiPudmwsddCdKmDzn983T+81u5XRvI3ZLdHpcBB4WAvEZ9Z//tRM3+c9l7eBD+eV09pfXe7w+As+3iuvrq4aNEIhzQlhCVpAdL1wIVggfk5A+BCf3xUzOzQuaeXLOu39JyuQrj0he7uhyHoFEuuiw+b3Mh03yos/mt7QR5ZFP8qBTPnOh030hmtIu85mn91s+tuSbfQjtMn2Pi0ARuF4E4jPqP29H7vjx+Fs+M/70emvI/S9Zyd39f0Z3sjDOaR71QrgSnUqmiBIyFBKW+3J9/qJmHpy0S1KGPCVSlnu94MnXOXk5ltaGOIZ45h57+bDzWJ5skO88jyUBo0OaSMpkf0zcn/yWezZWikAReFgIxGfUf76Y3PHh/GR8djrtx3z7w6pF+5a25G5f/Ku9CBSBIlAEikARKAJDESi5GwpnMysCRaAIFIEiUASKwL4IlNzti3+1F4EiUASKQBEoAkVgKAIld0PhbGZFoAgUgSJQBIpAEdgXgZK7ffGv9iJQBIpAESgCRaAIDEWg5G4onM2sCBSBIlAEikARKAL7IlByty/+1V4EikARKAJFoAgUgaEIlNwNhbOZFYEiUASKQBEoAkVgXwRK7vbFv9qLQBEoAkWgCBSBIjAUgZK7oXA2syJQBIpAESgCRaAI7ItAyd2++Fd7ESgCRaAIFIEiUASGIlByNxTOZlYEikARKAJFoAgUgX0RKLnbF/9qLwJFoAgUgSJQBIrAUARK7obC2cyKQBEoAkWgCBSBIrAvAiV3++Jf7UWgCBSBIlAEikARGIpAyd1QOJtZESgCRaAIFIEiUAT2ReB/xbdmLOa8iFwAAAAASUVORK5CYII=)"
      ]
    },
    {
      "cell_type": "markdown",
      "metadata": {
        "id": "-744agFYEBKu"
      },
      "source": [
        "เปรียบเทียบระหว่างข้อ 2 และ ข้อ 3 พบว่า หลังจากที่ลด dimension ของข้อมูลด้วยแล้ว ข้อมูลมีการกระจายที่แตกต่างกัน"
      ]
    }
  ]
}