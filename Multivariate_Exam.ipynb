{
  "nbformat": 4,
  "nbformat_minor": 0,
  "metadata": {
    "colab": {
      "name": "Multivariate Exam.ipynb",
      "provenance": [],
      "include_colab_link": true
    },
    "kernelspec": {
      "name": "python3",
      "display_name": "Python 3"
    },
    "language_info": {
      "name": "python"
    }
  },
  "cells": [
    {
      "cell_type": "markdown",
      "metadata": {
        "id": "view-in-github",
        "colab_type": "text"
      },
      "source": [
        "<a href=\"https://colab.research.google.com/github/SupawadeeKhamthuy/multivariate/blob/main/Multivariate_Exam.ipynb\" target=\"_parent\"><img src=\"https://colab.research.google.com/assets/colab-badge.svg\" alt=\"Open In Colab\"/></a>"
      ]
    },
    {
      "cell_type": "markdown",
      "metadata": {
        "id": "JZxiNADfaDtv"
      },
      "source": [
        "ให้นักศึกษาทำข้อสอบใน Colab Notebook นี้โดยกรอกข้อมูลของตัวเองใน cell ที่ 2 แล้วรัน cell ที่ 1 - 5 และเริ่มทำข้อสอบใน cell ที่ 6 เป็นต้นไป\n",
        "\n",
        "โดยโจทย์คือ\n",
        "1. ข้อมูลโจทย์ อยู่ใน ตัวแปร ```Data```\n",
        "2. ทำ clustering แล้วทำ visualize ข้อมูลแบบ 2 มิติ\n",
        "3. ลด Dimension ของข้อมูลเหลือ 2 มิติ แล้วทำ clustering แล้ว visualize ข้อมูลแบบ 2 มิติ\n",
        "4. เปรียบเทียบความแตกต่างของผลข้อ 2. กับ ข้อ 3.\n",
        "5. เขียน comments อธิบายทุกขั้นตอน\n",
        "6. อัด video อธิบาย code ทุกๆขั้นตอนรวมถึงผลแล้วอัพลง youtube ในรูปแบบ unlist \n",
        "7. commit โดยใช้ชื่อ commit เป็น link youtube ที่อธิบาย code ในข้อ 6.\n",
        "\n",
        "กำหนดส่งวันที่ 2 พฤษภาคม 2564 (โดยให้มากรอกวันที่ commit ครั้งสุดท้ายใน sheet: https://docs.google.com/spreadsheets/d/1_qJwLDJVtOW1HxBcf_FHVc6UT4J_SOonuR6o3EEnVzw/edit?usp=sharing ช่อง Final)"
      ]
    },
    {
      "cell_type": "code",
      "metadata": {
        "id": "cWl2x1bPGtQl"
      },
      "source": [
        "from sklearn.datasets import make_blobs\n",
        "import random,math\n",
        "import numpy as np\n",
        "import pandas"
      ],
      "execution_count": 1,
      "outputs": []
    },
    {
      "cell_type": "code",
      "metadata": {
        "id": "gZfzuiHsZksh"
      },
      "source": [
        "Name = 'สุภาวดี คำทุย'\n",
        "ID = '6230205446'"
      ],
      "execution_count": 2,
      "outputs": []
    },
    {
      "cell_type": "code",
      "metadata": {
        "id": "8hFQXkF5aAiA"
      },
      "source": [
        "def DataGenerator(name,id):\n",
        "    random.seed(int(id[3:6]))\n",
        "    numfeat = random.randint(20,30)\n",
        "    ct = random.randint(len(name)-6,len(name))\n",
        "    \n",
        "    X, y = make_blobs(n_samples=10000, centers=ct, n_features=numfeat , random_state=int(id[3:6]))\n",
        "\n",
        "    print(f'{id[3:6]}:{numfeat}:{ct}')\n",
        "    X_t = (X[:,1]*2)+int(id[3])\n",
        "    X_t2 = (X[:,-1]*5)+int(id[4])\n",
        "\n",
        "    DT = np.append(X,X_t.reshape([10000,1]),axis=1)\n",
        "    DT = np.append(DT,X_t2.reshape([10000,1]),axis=1)\n",
        "    \n",
        "    return pandas.DataFrame(DT)"
      ],
      "execution_count": 3,
      "outputs": []
    },
    {
      "cell_type": "code",
      "metadata": {
        "colab": {
          "base_uri": "https://localhost:8080/"
        },
        "id": "hbXlxumSBX9i",
        "outputId": "c027bd27-6c10-4366-dedc-31762e22776e"
      },
      "source": [
        "Data = DataGenerator(Name,ID)"
      ],
      "execution_count": 4,
      "outputs": [
        {
          "output_type": "stream",
          "text": [
            "020:30:13\n"
          ],
          "name": "stdout"
        }
      ]
    },
    {
      "cell_type": "code",
      "metadata": {
        "colab": {
          "base_uri": "https://localhost:8080/",
          "height": 427
        },
        "id": "pQcCySXvBdN-",
        "outputId": "ab1f44eb-cc4b-480b-da3c-509994e6b253"
      },
      "source": [
        "Data"
      ],
      "execution_count": 5,
      "outputs": [
        {
          "output_type": "execute_result",
          "data": {
            "text/html": [
              "<div>\n",
              "<style scoped>\n",
              "    .dataframe tbody tr th:only-of-type {\n",
              "        vertical-align: middle;\n",
              "    }\n",
              "\n",
              "    .dataframe tbody tr th {\n",
              "        vertical-align: top;\n",
              "    }\n",
              "\n",
              "    .dataframe thead th {\n",
              "        text-align: right;\n",
              "    }\n",
              "</style>\n",
              "<table border=\"1\" class=\"dataframe\">\n",
              "  <thead>\n",
              "    <tr style=\"text-align: right;\">\n",
              "      <th></th>\n",
              "      <th>0</th>\n",
              "      <th>1</th>\n",
              "      <th>2</th>\n",
              "      <th>3</th>\n",
              "      <th>4</th>\n",
              "      <th>5</th>\n",
              "      <th>6</th>\n",
              "      <th>7</th>\n",
              "      <th>8</th>\n",
              "      <th>9</th>\n",
              "      <th>10</th>\n",
              "      <th>11</th>\n",
              "      <th>12</th>\n",
              "      <th>13</th>\n",
              "      <th>14</th>\n",
              "      <th>15</th>\n",
              "      <th>16</th>\n",
              "      <th>17</th>\n",
              "      <th>18</th>\n",
              "      <th>19</th>\n",
              "      <th>20</th>\n",
              "      <th>21</th>\n",
              "      <th>22</th>\n",
              "      <th>23</th>\n",
              "      <th>24</th>\n",
              "      <th>25</th>\n",
              "      <th>26</th>\n",
              "      <th>27</th>\n",
              "      <th>28</th>\n",
              "      <th>29</th>\n",
              "      <th>30</th>\n",
              "      <th>31</th>\n",
              "    </tr>\n",
              "  </thead>\n",
              "  <tbody>\n",
              "    <tr>\n",
              "      <th>0</th>\n",
              "      <td>-1.122979</td>\n",
              "      <td>-3.295591</td>\n",
              "      <td>-1.905968</td>\n",
              "      <td>8.807450</td>\n",
              "      <td>3.436086</td>\n",
              "      <td>-7.863223</td>\n",
              "      <td>7.261924</td>\n",
              "      <td>-2.483273</td>\n",
              "      <td>5.677271</td>\n",
              "      <td>-1.384419</td>\n",
              "      <td>-5.713879</td>\n",
              "      <td>-0.701148</td>\n",
              "      <td>-4.897625</td>\n",
              "      <td>-6.022824</td>\n",
              "      <td>-4.822365</td>\n",
              "      <td>2.341001</td>\n",
              "      <td>-1.972514</td>\n",
              "      <td>9.505130</td>\n",
              "      <td>2.176511</td>\n",
              "      <td>-7.749094</td>\n",
              "      <td>7.020367</td>\n",
              "      <td>-4.584958</td>\n",
              "      <td>-8.326107</td>\n",
              "      <td>-4.272719</td>\n",
              "      <td>4.336434</td>\n",
              "      <td>-5.695388</td>\n",
              "      <td>-2.706593</td>\n",
              "      <td>8.540504</td>\n",
              "      <td>10.424226</td>\n",
              "      <td>2.216951</td>\n",
              "      <td>-6.591182</td>\n",
              "      <td>13.084756</td>\n",
              "    </tr>\n",
              "    <tr>\n",
              "      <th>1</th>\n",
              "      <td>-1.178806</td>\n",
              "      <td>-1.705041</td>\n",
              "      <td>-2.304133</td>\n",
              "      <td>8.370834</td>\n",
              "      <td>5.129572</td>\n",
              "      <td>-7.872284</td>\n",
              "      <td>4.108793</td>\n",
              "      <td>-2.045335</td>\n",
              "      <td>6.425141</td>\n",
              "      <td>-2.940128</td>\n",
              "      <td>-7.962174</td>\n",
              "      <td>0.004099</td>\n",
              "      <td>-6.024449</td>\n",
              "      <td>-7.155523</td>\n",
              "      <td>-3.888844</td>\n",
              "      <td>1.612577</td>\n",
              "      <td>-0.771112</td>\n",
              "      <td>8.855043</td>\n",
              "      <td>2.296529</td>\n",
              "      <td>-8.149986</td>\n",
              "      <td>5.307715</td>\n",
              "      <td>-5.962821</td>\n",
              "      <td>-7.641550</td>\n",
              "      <td>-3.307962</td>\n",
              "      <td>3.394114</td>\n",
              "      <td>-4.219148</td>\n",
              "      <td>-2.052904</td>\n",
              "      <td>10.047594</td>\n",
              "      <td>10.208270</td>\n",
              "      <td>4.121820</td>\n",
              "      <td>-3.410083</td>\n",
              "      <td>22.609099</td>\n",
              "    </tr>\n",
              "    <tr>\n",
              "      <th>2</th>\n",
              "      <td>0.904578</td>\n",
              "      <td>4.691859</td>\n",
              "      <td>-3.682533</td>\n",
              "      <td>-2.953914</td>\n",
              "      <td>5.427658</td>\n",
              "      <td>-7.973544</td>\n",
              "      <td>-6.298981</td>\n",
              "      <td>-5.837808</td>\n",
              "      <td>-6.806116</td>\n",
              "      <td>4.240747</td>\n",
              "      <td>-6.726297</td>\n",
              "      <td>-2.661466</td>\n",
              "      <td>2.331365</td>\n",
              "      <td>-2.299572</td>\n",
              "      <td>-3.537591</td>\n",
              "      <td>2.937966</td>\n",
              "      <td>7.014755</td>\n",
              "      <td>-2.094251</td>\n",
              "      <td>-7.833492</td>\n",
              "      <td>7.046922</td>\n",
              "      <td>6.967556</td>\n",
              "      <td>-3.341271</td>\n",
              "      <td>3.557202</td>\n",
              "      <td>-1.224863</td>\n",
              "      <td>4.301185</td>\n",
              "      <td>-6.613338</td>\n",
              "      <td>-8.054432</td>\n",
              "      <td>8.960152</td>\n",
              "      <td>8.176317</td>\n",
              "      <td>-4.350617</td>\n",
              "      <td>9.383718</td>\n",
              "      <td>-19.753085</td>\n",
              "    </tr>\n",
              "    <tr>\n",
              "      <th>3</th>\n",
              "      <td>-8.309558</td>\n",
              "      <td>-0.700731</td>\n",
              "      <td>-6.674782</td>\n",
              "      <td>6.733736</td>\n",
              "      <td>8.064153</td>\n",
              "      <td>-9.515225</td>\n",
              "      <td>9.423268</td>\n",
              "      <td>10.051663</td>\n",
              "      <td>5.773942</td>\n",
              "      <td>2.191188</td>\n",
              "      <td>-6.168410</td>\n",
              "      <td>-3.242995</td>\n",
              "      <td>7.661962</td>\n",
              "      <td>-3.454031</td>\n",
              "      <td>-6.803181</td>\n",
              "      <td>-4.604935</td>\n",
              "      <td>0.994939</td>\n",
              "      <td>-9.752362</td>\n",
              "      <td>6.206699</td>\n",
              "      <td>-7.746425</td>\n",
              "      <td>-2.671065</td>\n",
              "      <td>-8.756579</td>\n",
              "      <td>3.640509</td>\n",
              "      <td>-3.570759</td>\n",
              "      <td>5.755518</td>\n",
              "      <td>3.337119</td>\n",
              "      <td>-2.788030</td>\n",
              "      <td>-9.860391</td>\n",
              "      <td>8.703038</td>\n",
              "      <td>3.645643</td>\n",
              "      <td>-1.401462</td>\n",
              "      <td>20.228213</td>\n",
              "    </tr>\n",
              "    <tr>\n",
              "      <th>4</th>\n",
              "      <td>8.340888</td>\n",
              "      <td>-8.214758</td>\n",
              "      <td>-5.512123</td>\n",
              "      <td>-1.567990</td>\n",
              "      <td>5.905051</td>\n",
              "      <td>8.980198</td>\n",
              "      <td>8.079326</td>\n",
              "      <td>3.190559</td>\n",
              "      <td>-0.398816</td>\n",
              "      <td>-1.669538</td>\n",
              "      <td>5.329574</td>\n",
              "      <td>3.758042</td>\n",
              "      <td>2.629444</td>\n",
              "      <td>-2.314456</td>\n",
              "      <td>6.568466</td>\n",
              "      <td>6.071499</td>\n",
              "      <td>-5.243972</td>\n",
              "      <td>3.210821</td>\n",
              "      <td>6.460610</td>\n",
              "      <td>-11.300239</td>\n",
              "      <td>-9.199506</td>\n",
              "      <td>9.716673</td>\n",
              "      <td>6.044433</td>\n",
              "      <td>4.530647</td>\n",
              "      <td>6.792402</td>\n",
              "      <td>-5.300715</td>\n",
              "      <td>-8.420804</td>\n",
              "      <td>5.595060</td>\n",
              "      <td>0.070567</td>\n",
              "      <td>6.126067</td>\n",
              "      <td>-16.429515</td>\n",
              "      <td>32.630334</td>\n",
              "    </tr>\n",
              "    <tr>\n",
              "      <th>...</th>\n",
              "      <td>...</td>\n",
              "      <td>...</td>\n",
              "      <td>...</td>\n",
              "      <td>...</td>\n",
              "      <td>...</td>\n",
              "      <td>...</td>\n",
              "      <td>...</td>\n",
              "      <td>...</td>\n",
              "      <td>...</td>\n",
              "      <td>...</td>\n",
              "      <td>...</td>\n",
              "      <td>...</td>\n",
              "      <td>...</td>\n",
              "      <td>...</td>\n",
              "      <td>...</td>\n",
              "      <td>...</td>\n",
              "      <td>...</td>\n",
              "      <td>...</td>\n",
              "      <td>...</td>\n",
              "      <td>...</td>\n",
              "      <td>...</td>\n",
              "      <td>...</td>\n",
              "      <td>...</td>\n",
              "      <td>...</td>\n",
              "      <td>...</td>\n",
              "      <td>...</td>\n",
              "      <td>...</td>\n",
              "      <td>...</td>\n",
              "      <td>...</td>\n",
              "      <td>...</td>\n",
              "      <td>...</td>\n",
              "      <td>...</td>\n",
              "    </tr>\n",
              "    <tr>\n",
              "      <th>9995</th>\n",
              "      <td>2.621194</td>\n",
              "      <td>3.082826</td>\n",
              "      <td>-6.051600</td>\n",
              "      <td>-9.254466</td>\n",
              "      <td>5.131143</td>\n",
              "      <td>0.667478</td>\n",
              "      <td>-1.629920</td>\n",
              "      <td>-1.360385</td>\n",
              "      <td>-1.946909</td>\n",
              "      <td>-4.092077</td>\n",
              "      <td>2.009247</td>\n",
              "      <td>1.749112</td>\n",
              "      <td>-3.929099</td>\n",
              "      <td>-1.599213</td>\n",
              "      <td>-3.747115</td>\n",
              "      <td>1.836762</td>\n",
              "      <td>-7.503489</td>\n",
              "      <td>3.989790</td>\n",
              "      <td>5.298064</td>\n",
              "      <td>-6.293570</td>\n",
              "      <td>5.447109</td>\n",
              "      <td>-3.485855</td>\n",
              "      <td>3.683923</td>\n",
              "      <td>5.746130</td>\n",
              "      <td>5.880837</td>\n",
              "      <td>2.346970</td>\n",
              "      <td>2.474427</td>\n",
              "      <td>0.988740</td>\n",
              "      <td>-2.332277</td>\n",
              "      <td>0.787062</td>\n",
              "      <td>6.165651</td>\n",
              "      <td>5.935309</td>\n",
              "    </tr>\n",
              "    <tr>\n",
              "      <th>9996</th>\n",
              "      <td>-0.565152</td>\n",
              "      <td>4.502084</td>\n",
              "      <td>-4.958137</td>\n",
              "      <td>-1.130835</td>\n",
              "      <td>6.393298</td>\n",
              "      <td>-10.045349</td>\n",
              "      <td>-5.483434</td>\n",
              "      <td>-6.521711</td>\n",
              "      <td>-3.976157</td>\n",
              "      <td>2.130145</td>\n",
              "      <td>-7.738335</td>\n",
              "      <td>-2.840233</td>\n",
              "      <td>1.204603</td>\n",
              "      <td>-4.691612</td>\n",
              "      <td>-2.654711</td>\n",
              "      <td>1.921697</td>\n",
              "      <td>7.099371</td>\n",
              "      <td>-0.297220</td>\n",
              "      <td>-10.052557</td>\n",
              "      <td>7.396492</td>\n",
              "      <td>6.868344</td>\n",
              "      <td>-2.660437</td>\n",
              "      <td>2.540235</td>\n",
              "      <td>-0.749447</td>\n",
              "      <td>4.566415</td>\n",
              "      <td>-7.151448</td>\n",
              "      <td>-8.291589</td>\n",
              "      <td>8.715938</td>\n",
              "      <td>5.509624</td>\n",
              "      <td>-7.029211</td>\n",
              "      <td>9.004169</td>\n",
              "      <td>-33.146053</td>\n",
              "    </tr>\n",
              "    <tr>\n",
              "      <th>9997</th>\n",
              "      <td>5.458936</td>\n",
              "      <td>6.669342</td>\n",
              "      <td>-9.677379</td>\n",
              "      <td>-4.951354</td>\n",
              "      <td>5.975153</td>\n",
              "      <td>0.109411</td>\n",
              "      <td>9.595156</td>\n",
              "      <td>0.086257</td>\n",
              "      <td>6.671417</td>\n",
              "      <td>-0.332043</td>\n",
              "      <td>7.129822</td>\n",
              "      <td>-5.413321</td>\n",
              "      <td>-0.944951</td>\n",
              "      <td>-0.779493</td>\n",
              "      <td>-1.810268</td>\n",
              "      <td>6.062982</td>\n",
              "      <td>-3.143105</td>\n",
              "      <td>-2.785437</td>\n",
              "      <td>-1.798621</td>\n",
              "      <td>-2.375633</td>\n",
              "      <td>2.291665</td>\n",
              "      <td>-6.591749</td>\n",
              "      <td>4.390090</td>\n",
              "      <td>-3.670793</td>\n",
              "      <td>11.363186</td>\n",
              "      <td>-6.152867</td>\n",
              "      <td>4.829156</td>\n",
              "      <td>-1.963335</td>\n",
              "      <td>-7.680129</td>\n",
              "      <td>4.356970</td>\n",
              "      <td>13.338685</td>\n",
              "      <td>23.784849</td>\n",
              "    </tr>\n",
              "    <tr>\n",
              "      <th>9998</th>\n",
              "      <td>5.167506</td>\n",
              "      <td>9.960286</td>\n",
              "      <td>5.908806</td>\n",
              "      <td>-5.992349</td>\n",
              "      <td>-6.306272</td>\n",
              "      <td>-2.778985</td>\n",
              "      <td>11.405055</td>\n",
              "      <td>1.561802</td>\n",
              "      <td>7.698767</td>\n",
              "      <td>-9.825561</td>\n",
              "      <td>5.709468</td>\n",
              "      <td>-9.183920</td>\n",
              "      <td>-9.588192</td>\n",
              "      <td>-11.000842</td>\n",
              "      <td>-5.495952</td>\n",
              "      <td>-3.846113</td>\n",
              "      <td>9.210216</td>\n",
              "      <td>7.947077</td>\n",
              "      <td>0.979926</td>\n",
              "      <td>6.075725</td>\n",
              "      <td>-9.279143</td>\n",
              "      <td>4.291894</td>\n",
              "      <td>-9.643116</td>\n",
              "      <td>-6.771529</td>\n",
              "      <td>8.741895</td>\n",
              "      <td>-2.417855</td>\n",
              "      <td>6.372045</td>\n",
              "      <td>1.503416</td>\n",
              "      <td>3.849181</td>\n",
              "      <td>4.402622</td>\n",
              "      <td>19.920572</td>\n",
              "      <td>24.013108</td>\n",
              "    </tr>\n",
              "    <tr>\n",
              "      <th>9999</th>\n",
              "      <td>-3.119938</td>\n",
              "      <td>-4.029596</td>\n",
              "      <td>0.531152</td>\n",
              "      <td>7.573138</td>\n",
              "      <td>-8.084303</td>\n",
              "      <td>-2.583298</td>\n",
              "      <td>-0.893339</td>\n",
              "      <td>-4.906089</td>\n",
              "      <td>-7.680841</td>\n",
              "      <td>-7.023013</td>\n",
              "      <td>9.462003</td>\n",
              "      <td>-5.572993</td>\n",
              "      <td>-11.237967</td>\n",
              "      <td>-3.001927</td>\n",
              "      <td>3.517245</td>\n",
              "      <td>-3.539982</td>\n",
              "      <td>8.105930</td>\n",
              "      <td>-5.813602</td>\n",
              "      <td>8.576036</td>\n",
              "      <td>0.332330</td>\n",
              "      <td>7.541918</td>\n",
              "      <td>3.364779</td>\n",
              "      <td>-8.264066</td>\n",
              "      <td>-7.971045</td>\n",
              "      <td>7.497196</td>\n",
              "      <td>8.930793</td>\n",
              "      <td>4.150151</td>\n",
              "      <td>-1.189277</td>\n",
              "      <td>-1.800349</td>\n",
              "      <td>5.760702</td>\n",
              "      <td>-8.059192</td>\n",
              "      <td>30.803512</td>\n",
              "    </tr>\n",
              "  </tbody>\n",
              "</table>\n",
              "<p>10000 rows × 32 columns</p>\n",
              "</div>"
            ],
            "text/plain": [
              "            0         1         2   ...        29         30         31\n",
              "0    -1.122979 -3.295591 -1.905968  ...  2.216951  -6.591182  13.084756\n",
              "1    -1.178806 -1.705041 -2.304133  ...  4.121820  -3.410083  22.609099\n",
              "2     0.904578  4.691859 -3.682533  ... -4.350617   9.383718 -19.753085\n",
              "3    -8.309558 -0.700731 -6.674782  ...  3.645643  -1.401462  20.228213\n",
              "4     8.340888 -8.214758 -5.512123  ...  6.126067 -16.429515  32.630334\n",
              "...        ...       ...       ...  ...       ...        ...        ...\n",
              "9995  2.621194  3.082826 -6.051600  ...  0.787062   6.165651   5.935309\n",
              "9996 -0.565152  4.502084 -4.958137  ... -7.029211   9.004169 -33.146053\n",
              "9997  5.458936  6.669342 -9.677379  ...  4.356970  13.338685  23.784849\n",
              "9998  5.167506  9.960286  5.908806  ...  4.402622  19.920572  24.013108\n",
              "9999 -3.119938 -4.029596  0.531152  ...  5.760702  -8.059192  30.803512\n",
              "\n",
              "[10000 rows x 32 columns]"
            ]
          },
          "metadata": {
            "tags": []
          },
          "execution_count": 5
        }
      ]
    },
    {
      "cell_type": "code",
      "metadata": {
        "id": "jUARadkFEuyJ",
        "colab": {
          "base_uri": "https://localhost:8080/"
        },
        "outputId": "4df1f414-682a-4c4f-b0bb-671fb6b2f707"
      },
      "source": [
        "Data.shape # ดูว่ามีทั้งหมดกี่ dimension จากการรันออกมาพบว่ามี 32 dimension"
      ],
      "execution_count": 6,
      "outputs": [
        {
          "output_type": "execute_result",
          "data": {
            "text/plain": [
              "(10000, 32)"
            ]
          },
          "metadata": {
            "tags": []
          },
          "execution_count": 6
        }
      ]
    },
    {
      "cell_type": "code",
      "metadata": {
        "id": "slYHvyemjV0E"
      },
      "source": [
        "import numpy as np"
      ],
      "execution_count": 7,
      "outputs": []
    },
    {
      "cell_type": "code",
      "metadata": {
        "id": "pPm7pjGujYm3"
      },
      "source": [
        "corr = np.corrcoef(Data.to_numpy().T) # หา correlation"
      ],
      "execution_count": 8,
      "outputs": []
    },
    {
      "cell_type": "code",
      "metadata": {
        "id": "xWck4x8Jjcg7",
        "colab": {
          "base_uri": "https://localhost:8080/"
        },
        "outputId": "28f178cc-e070-4393-bf22-f0f8c7cc6f54"
      },
      "source": [
        "corr.shape"
      ],
      "execution_count": 9,
      "outputs": [
        {
          "output_type": "execute_result",
          "data": {
            "text/plain": [
              "(32, 32)"
            ]
          },
          "metadata": {
            "tags": []
          },
          "execution_count": 9
        }
      ]
    },
    {
      "cell_type": "code",
      "metadata": {
        "id": "74uUhgC-jhky",
        "colab": {
          "base_uri": "https://localhost:8080/"
        },
        "outputId": "dc47e022-eedc-4111-ab79-b64f598356c8"
      },
      "source": [
        "corr"
      ],
      "execution_count": 10,
      "outputs": [
        {
          "output_type": "execute_result",
          "data": {
            "text/plain": [
              "array([[ 1.        ,  0.11158179,  0.0475386 , ...,  0.13355265,\n",
              "         0.11158179,  0.13355265],\n",
              "       [ 0.11158179,  1.        ,  0.28012196, ...,  0.00354079,\n",
              "         1.        ,  0.00354079],\n",
              "       [ 0.0475386 ,  0.28012196,  1.        , ..., -0.05306425,\n",
              "         0.28012196, -0.05306425],\n",
              "       ...,\n",
              "       [ 0.13355265,  0.00354079, -0.05306425, ...,  1.        ,\n",
              "         0.00354079,  1.        ],\n",
              "       [ 0.11158179,  1.        ,  0.28012196, ...,  0.00354079,\n",
              "         1.        ,  0.00354079],\n",
              "       [ 0.13355265,  0.00354079, -0.05306425, ...,  1.        ,\n",
              "         0.00354079,  1.        ]])"
            ]
          },
          "metadata": {
            "tags": []
          },
          "execution_count": 10
        }
      ]
    },
    {
      "cell_type": "code",
      "metadata": {
        "id": "8Q1Kd7_fj8Bb",
        "colab": {
          "base_uri": "https://localhost:8080/"
        },
        "outputId": "61234045-3790-41d0-e33a-860724f6e8e2"
      },
      "source": [
        "for i in range(corr.shape[0]):\n",
        "    for j in range(corr.shape[1]):\n",
        "        if (i !=j) and (corr[i,j] == 1.):\n",
        "            print(f'row = {i} column = {j} corrcoef = {corr[i,j]}') #มีผลรันออกมา หมายความว่า มีค่าที่ซ้ำกันอยู่ในข้อมูลนี้"
      ],
      "execution_count": 11,
      "outputs": [
        {
          "output_type": "stream",
          "text": [
            "row = 1 column = 30 corrcoef = 1.0\n",
            "row = 29 column = 31 corrcoef = 1.0\n",
            "row = 30 column = 1 corrcoef = 1.0\n",
            "row = 31 column = 29 corrcoef = 1.0\n"
          ],
          "name": "stdout"
        }
      ]
    },
    {
      "cell_type": "code",
      "metadata": {
        "id": "sxkEk-2Epe9r",
        "colab": {
          "base_uri": "https://localhost:8080/",
          "height": 427
        },
        "outputId": "e3622a82-5bf1-4af5-ca46-72ebeced26ce"
      },
      "source": [
        "data1 = Data.iloc[1:,:31]\n",
        "data1"
      ],
      "execution_count": 12,
      "outputs": [
        {
          "output_type": "execute_result",
          "data": {
            "text/html": [
              "<div>\n",
              "<style scoped>\n",
              "    .dataframe tbody tr th:only-of-type {\n",
              "        vertical-align: middle;\n",
              "    }\n",
              "\n",
              "    .dataframe tbody tr th {\n",
              "        vertical-align: top;\n",
              "    }\n",
              "\n",
              "    .dataframe thead th {\n",
              "        text-align: right;\n",
              "    }\n",
              "</style>\n",
              "<table border=\"1\" class=\"dataframe\">\n",
              "  <thead>\n",
              "    <tr style=\"text-align: right;\">\n",
              "      <th></th>\n",
              "      <th>0</th>\n",
              "      <th>1</th>\n",
              "      <th>2</th>\n",
              "      <th>3</th>\n",
              "      <th>4</th>\n",
              "      <th>5</th>\n",
              "      <th>6</th>\n",
              "      <th>7</th>\n",
              "      <th>8</th>\n",
              "      <th>9</th>\n",
              "      <th>10</th>\n",
              "      <th>11</th>\n",
              "      <th>12</th>\n",
              "      <th>13</th>\n",
              "      <th>14</th>\n",
              "      <th>15</th>\n",
              "      <th>16</th>\n",
              "      <th>17</th>\n",
              "      <th>18</th>\n",
              "      <th>19</th>\n",
              "      <th>20</th>\n",
              "      <th>21</th>\n",
              "      <th>22</th>\n",
              "      <th>23</th>\n",
              "      <th>24</th>\n",
              "      <th>25</th>\n",
              "      <th>26</th>\n",
              "      <th>27</th>\n",
              "      <th>28</th>\n",
              "      <th>29</th>\n",
              "      <th>30</th>\n",
              "    </tr>\n",
              "  </thead>\n",
              "  <tbody>\n",
              "    <tr>\n",
              "      <th>1</th>\n",
              "      <td>-1.178806</td>\n",
              "      <td>-1.705041</td>\n",
              "      <td>-2.304133</td>\n",
              "      <td>8.370834</td>\n",
              "      <td>5.129572</td>\n",
              "      <td>-7.872284</td>\n",
              "      <td>4.108793</td>\n",
              "      <td>-2.045335</td>\n",
              "      <td>6.425141</td>\n",
              "      <td>-2.940128</td>\n",
              "      <td>-7.962174</td>\n",
              "      <td>0.004099</td>\n",
              "      <td>-6.024449</td>\n",
              "      <td>-7.155523</td>\n",
              "      <td>-3.888844</td>\n",
              "      <td>1.612577</td>\n",
              "      <td>-0.771112</td>\n",
              "      <td>8.855043</td>\n",
              "      <td>2.296529</td>\n",
              "      <td>-8.149986</td>\n",
              "      <td>5.307715</td>\n",
              "      <td>-5.962821</td>\n",
              "      <td>-7.641550</td>\n",
              "      <td>-3.307962</td>\n",
              "      <td>3.394114</td>\n",
              "      <td>-4.219148</td>\n",
              "      <td>-2.052904</td>\n",
              "      <td>10.047594</td>\n",
              "      <td>10.208270</td>\n",
              "      <td>4.121820</td>\n",
              "      <td>-3.410083</td>\n",
              "    </tr>\n",
              "    <tr>\n",
              "      <th>2</th>\n",
              "      <td>0.904578</td>\n",
              "      <td>4.691859</td>\n",
              "      <td>-3.682533</td>\n",
              "      <td>-2.953914</td>\n",
              "      <td>5.427658</td>\n",
              "      <td>-7.973544</td>\n",
              "      <td>-6.298981</td>\n",
              "      <td>-5.837808</td>\n",
              "      <td>-6.806116</td>\n",
              "      <td>4.240747</td>\n",
              "      <td>-6.726297</td>\n",
              "      <td>-2.661466</td>\n",
              "      <td>2.331365</td>\n",
              "      <td>-2.299572</td>\n",
              "      <td>-3.537591</td>\n",
              "      <td>2.937966</td>\n",
              "      <td>7.014755</td>\n",
              "      <td>-2.094251</td>\n",
              "      <td>-7.833492</td>\n",
              "      <td>7.046922</td>\n",
              "      <td>6.967556</td>\n",
              "      <td>-3.341271</td>\n",
              "      <td>3.557202</td>\n",
              "      <td>-1.224863</td>\n",
              "      <td>4.301185</td>\n",
              "      <td>-6.613338</td>\n",
              "      <td>-8.054432</td>\n",
              "      <td>8.960152</td>\n",
              "      <td>8.176317</td>\n",
              "      <td>-4.350617</td>\n",
              "      <td>9.383718</td>\n",
              "    </tr>\n",
              "    <tr>\n",
              "      <th>3</th>\n",
              "      <td>-8.309558</td>\n",
              "      <td>-0.700731</td>\n",
              "      <td>-6.674782</td>\n",
              "      <td>6.733736</td>\n",
              "      <td>8.064153</td>\n",
              "      <td>-9.515225</td>\n",
              "      <td>9.423268</td>\n",
              "      <td>10.051663</td>\n",
              "      <td>5.773942</td>\n",
              "      <td>2.191188</td>\n",
              "      <td>-6.168410</td>\n",
              "      <td>-3.242995</td>\n",
              "      <td>7.661962</td>\n",
              "      <td>-3.454031</td>\n",
              "      <td>-6.803181</td>\n",
              "      <td>-4.604935</td>\n",
              "      <td>0.994939</td>\n",
              "      <td>-9.752362</td>\n",
              "      <td>6.206699</td>\n",
              "      <td>-7.746425</td>\n",
              "      <td>-2.671065</td>\n",
              "      <td>-8.756579</td>\n",
              "      <td>3.640509</td>\n",
              "      <td>-3.570759</td>\n",
              "      <td>5.755518</td>\n",
              "      <td>3.337119</td>\n",
              "      <td>-2.788030</td>\n",
              "      <td>-9.860391</td>\n",
              "      <td>8.703038</td>\n",
              "      <td>3.645643</td>\n",
              "      <td>-1.401462</td>\n",
              "    </tr>\n",
              "    <tr>\n",
              "      <th>4</th>\n",
              "      <td>8.340888</td>\n",
              "      <td>-8.214758</td>\n",
              "      <td>-5.512123</td>\n",
              "      <td>-1.567990</td>\n",
              "      <td>5.905051</td>\n",
              "      <td>8.980198</td>\n",
              "      <td>8.079326</td>\n",
              "      <td>3.190559</td>\n",
              "      <td>-0.398816</td>\n",
              "      <td>-1.669538</td>\n",
              "      <td>5.329574</td>\n",
              "      <td>3.758042</td>\n",
              "      <td>2.629444</td>\n",
              "      <td>-2.314456</td>\n",
              "      <td>6.568466</td>\n",
              "      <td>6.071499</td>\n",
              "      <td>-5.243972</td>\n",
              "      <td>3.210821</td>\n",
              "      <td>6.460610</td>\n",
              "      <td>-11.300239</td>\n",
              "      <td>-9.199506</td>\n",
              "      <td>9.716673</td>\n",
              "      <td>6.044433</td>\n",
              "      <td>4.530647</td>\n",
              "      <td>6.792402</td>\n",
              "      <td>-5.300715</td>\n",
              "      <td>-8.420804</td>\n",
              "      <td>5.595060</td>\n",
              "      <td>0.070567</td>\n",
              "      <td>6.126067</td>\n",
              "      <td>-16.429515</td>\n",
              "    </tr>\n",
              "    <tr>\n",
              "      <th>5</th>\n",
              "      <td>-0.008196</td>\n",
              "      <td>-3.905819</td>\n",
              "      <td>-2.637004</td>\n",
              "      <td>11.584560</td>\n",
              "      <td>3.609969</td>\n",
              "      <td>-4.922349</td>\n",
              "      <td>4.130803</td>\n",
              "      <td>-0.354242</td>\n",
              "      <td>5.428811</td>\n",
              "      <td>-1.945650</td>\n",
              "      <td>-4.310180</td>\n",
              "      <td>-0.241423</td>\n",
              "      <td>-6.209236</td>\n",
              "      <td>-6.010673</td>\n",
              "      <td>-4.444782</td>\n",
              "      <td>0.892926</td>\n",
              "      <td>-0.181288</td>\n",
              "      <td>8.701273</td>\n",
              "      <td>4.289904</td>\n",
              "      <td>-6.810533</td>\n",
              "      <td>6.110376</td>\n",
              "      <td>-5.082506</td>\n",
              "      <td>-8.846683</td>\n",
              "      <td>-2.556855</td>\n",
              "      <td>3.647087</td>\n",
              "      <td>-5.247500</td>\n",
              "      <td>-4.014248</td>\n",
              "      <td>8.827011</td>\n",
              "      <td>10.689298</td>\n",
              "      <td>3.435147</td>\n",
              "      <td>-7.811637</td>\n",
              "    </tr>\n",
              "    <tr>\n",
              "      <th>...</th>\n",
              "      <td>...</td>\n",
              "      <td>...</td>\n",
              "      <td>...</td>\n",
              "      <td>...</td>\n",
              "      <td>...</td>\n",
              "      <td>...</td>\n",
              "      <td>...</td>\n",
              "      <td>...</td>\n",
              "      <td>...</td>\n",
              "      <td>...</td>\n",
              "      <td>...</td>\n",
              "      <td>...</td>\n",
              "      <td>...</td>\n",
              "      <td>...</td>\n",
              "      <td>...</td>\n",
              "      <td>...</td>\n",
              "      <td>...</td>\n",
              "      <td>...</td>\n",
              "      <td>...</td>\n",
              "      <td>...</td>\n",
              "      <td>...</td>\n",
              "      <td>...</td>\n",
              "      <td>...</td>\n",
              "      <td>...</td>\n",
              "      <td>...</td>\n",
              "      <td>...</td>\n",
              "      <td>...</td>\n",
              "      <td>...</td>\n",
              "      <td>...</td>\n",
              "      <td>...</td>\n",
              "      <td>...</td>\n",
              "    </tr>\n",
              "    <tr>\n",
              "      <th>9995</th>\n",
              "      <td>2.621194</td>\n",
              "      <td>3.082826</td>\n",
              "      <td>-6.051600</td>\n",
              "      <td>-9.254466</td>\n",
              "      <td>5.131143</td>\n",
              "      <td>0.667478</td>\n",
              "      <td>-1.629920</td>\n",
              "      <td>-1.360385</td>\n",
              "      <td>-1.946909</td>\n",
              "      <td>-4.092077</td>\n",
              "      <td>2.009247</td>\n",
              "      <td>1.749112</td>\n",
              "      <td>-3.929099</td>\n",
              "      <td>-1.599213</td>\n",
              "      <td>-3.747115</td>\n",
              "      <td>1.836762</td>\n",
              "      <td>-7.503489</td>\n",
              "      <td>3.989790</td>\n",
              "      <td>5.298064</td>\n",
              "      <td>-6.293570</td>\n",
              "      <td>5.447109</td>\n",
              "      <td>-3.485855</td>\n",
              "      <td>3.683923</td>\n",
              "      <td>5.746130</td>\n",
              "      <td>5.880837</td>\n",
              "      <td>2.346970</td>\n",
              "      <td>2.474427</td>\n",
              "      <td>0.988740</td>\n",
              "      <td>-2.332277</td>\n",
              "      <td>0.787062</td>\n",
              "      <td>6.165651</td>\n",
              "    </tr>\n",
              "    <tr>\n",
              "      <th>9996</th>\n",
              "      <td>-0.565152</td>\n",
              "      <td>4.502084</td>\n",
              "      <td>-4.958137</td>\n",
              "      <td>-1.130835</td>\n",
              "      <td>6.393298</td>\n",
              "      <td>-10.045349</td>\n",
              "      <td>-5.483434</td>\n",
              "      <td>-6.521711</td>\n",
              "      <td>-3.976157</td>\n",
              "      <td>2.130145</td>\n",
              "      <td>-7.738335</td>\n",
              "      <td>-2.840233</td>\n",
              "      <td>1.204603</td>\n",
              "      <td>-4.691612</td>\n",
              "      <td>-2.654711</td>\n",
              "      <td>1.921697</td>\n",
              "      <td>7.099371</td>\n",
              "      <td>-0.297220</td>\n",
              "      <td>-10.052557</td>\n",
              "      <td>7.396492</td>\n",
              "      <td>6.868344</td>\n",
              "      <td>-2.660437</td>\n",
              "      <td>2.540235</td>\n",
              "      <td>-0.749447</td>\n",
              "      <td>4.566415</td>\n",
              "      <td>-7.151448</td>\n",
              "      <td>-8.291589</td>\n",
              "      <td>8.715938</td>\n",
              "      <td>5.509624</td>\n",
              "      <td>-7.029211</td>\n",
              "      <td>9.004169</td>\n",
              "    </tr>\n",
              "    <tr>\n",
              "      <th>9997</th>\n",
              "      <td>5.458936</td>\n",
              "      <td>6.669342</td>\n",
              "      <td>-9.677379</td>\n",
              "      <td>-4.951354</td>\n",
              "      <td>5.975153</td>\n",
              "      <td>0.109411</td>\n",
              "      <td>9.595156</td>\n",
              "      <td>0.086257</td>\n",
              "      <td>6.671417</td>\n",
              "      <td>-0.332043</td>\n",
              "      <td>7.129822</td>\n",
              "      <td>-5.413321</td>\n",
              "      <td>-0.944951</td>\n",
              "      <td>-0.779493</td>\n",
              "      <td>-1.810268</td>\n",
              "      <td>6.062982</td>\n",
              "      <td>-3.143105</td>\n",
              "      <td>-2.785437</td>\n",
              "      <td>-1.798621</td>\n",
              "      <td>-2.375633</td>\n",
              "      <td>2.291665</td>\n",
              "      <td>-6.591749</td>\n",
              "      <td>4.390090</td>\n",
              "      <td>-3.670793</td>\n",
              "      <td>11.363186</td>\n",
              "      <td>-6.152867</td>\n",
              "      <td>4.829156</td>\n",
              "      <td>-1.963335</td>\n",
              "      <td>-7.680129</td>\n",
              "      <td>4.356970</td>\n",
              "      <td>13.338685</td>\n",
              "    </tr>\n",
              "    <tr>\n",
              "      <th>9998</th>\n",
              "      <td>5.167506</td>\n",
              "      <td>9.960286</td>\n",
              "      <td>5.908806</td>\n",
              "      <td>-5.992349</td>\n",
              "      <td>-6.306272</td>\n",
              "      <td>-2.778985</td>\n",
              "      <td>11.405055</td>\n",
              "      <td>1.561802</td>\n",
              "      <td>7.698767</td>\n",
              "      <td>-9.825561</td>\n",
              "      <td>5.709468</td>\n",
              "      <td>-9.183920</td>\n",
              "      <td>-9.588192</td>\n",
              "      <td>-11.000842</td>\n",
              "      <td>-5.495952</td>\n",
              "      <td>-3.846113</td>\n",
              "      <td>9.210216</td>\n",
              "      <td>7.947077</td>\n",
              "      <td>0.979926</td>\n",
              "      <td>6.075725</td>\n",
              "      <td>-9.279143</td>\n",
              "      <td>4.291894</td>\n",
              "      <td>-9.643116</td>\n",
              "      <td>-6.771529</td>\n",
              "      <td>8.741895</td>\n",
              "      <td>-2.417855</td>\n",
              "      <td>6.372045</td>\n",
              "      <td>1.503416</td>\n",
              "      <td>3.849181</td>\n",
              "      <td>4.402622</td>\n",
              "      <td>19.920572</td>\n",
              "    </tr>\n",
              "    <tr>\n",
              "      <th>9999</th>\n",
              "      <td>-3.119938</td>\n",
              "      <td>-4.029596</td>\n",
              "      <td>0.531152</td>\n",
              "      <td>7.573138</td>\n",
              "      <td>-8.084303</td>\n",
              "      <td>-2.583298</td>\n",
              "      <td>-0.893339</td>\n",
              "      <td>-4.906089</td>\n",
              "      <td>-7.680841</td>\n",
              "      <td>-7.023013</td>\n",
              "      <td>9.462003</td>\n",
              "      <td>-5.572993</td>\n",
              "      <td>-11.237967</td>\n",
              "      <td>-3.001927</td>\n",
              "      <td>3.517245</td>\n",
              "      <td>-3.539982</td>\n",
              "      <td>8.105930</td>\n",
              "      <td>-5.813602</td>\n",
              "      <td>8.576036</td>\n",
              "      <td>0.332330</td>\n",
              "      <td>7.541918</td>\n",
              "      <td>3.364779</td>\n",
              "      <td>-8.264066</td>\n",
              "      <td>-7.971045</td>\n",
              "      <td>7.497196</td>\n",
              "      <td>8.930793</td>\n",
              "      <td>4.150151</td>\n",
              "      <td>-1.189277</td>\n",
              "      <td>-1.800349</td>\n",
              "      <td>5.760702</td>\n",
              "      <td>-8.059192</td>\n",
              "    </tr>\n",
              "  </tbody>\n",
              "</table>\n",
              "<p>9999 rows × 31 columns</p>\n",
              "</div>"
            ],
            "text/plain": [
              "            0         1         2   ...         28        29         30\n",
              "1    -1.178806 -1.705041 -2.304133  ...  10.208270  4.121820  -3.410083\n",
              "2     0.904578  4.691859 -3.682533  ...   8.176317 -4.350617   9.383718\n",
              "3    -8.309558 -0.700731 -6.674782  ...   8.703038  3.645643  -1.401462\n",
              "4     8.340888 -8.214758 -5.512123  ...   0.070567  6.126067 -16.429515\n",
              "5    -0.008196 -3.905819 -2.637004  ...  10.689298  3.435147  -7.811637\n",
              "...        ...       ...       ...  ...        ...       ...        ...\n",
              "9995  2.621194  3.082826 -6.051600  ...  -2.332277  0.787062   6.165651\n",
              "9996 -0.565152  4.502084 -4.958137  ...   5.509624 -7.029211   9.004169\n",
              "9997  5.458936  6.669342 -9.677379  ...  -7.680129  4.356970  13.338685\n",
              "9998  5.167506  9.960286  5.908806  ...   3.849181  4.402622  19.920572\n",
              "9999 -3.119938 -4.029596  0.531152  ...  -1.800349  5.760702  -8.059192\n",
              "\n",
              "[9999 rows x 31 columns]"
            ]
          },
          "metadata": {
            "tags": []
          },
          "execution_count": 12
        }
      ]
    },
    {
      "cell_type": "markdown",
      "metadata": {
        "id": "gUM_otcNSNt1"
      },
      "source": [
        "## **ข้อที่2 ทำ clustering แล้วทำ visualize ข้อมูลแบบ 2 มิติ**"
      ]
    },
    {
      "cell_type": "markdown",
      "metadata": {
        "id": "Ng53qxeBSyUJ"
      },
      "source": [
        "**Import**"
      ]
    },
    {
      "cell_type": "code",
      "metadata": {
        "id": "1u5S0uTLSMfr"
      },
      "source": [
        "from sklearn.cluster import KMeans #การนำเข้าข้อมูล"
      ],
      "execution_count": 13,
      "outputs": []
    },
    {
      "cell_type": "markdown",
      "metadata": {
        "id": "3HQT533DTDvo"
      },
      "source": [
        "**Define**"
      ]
    },
    {
      "cell_type": "code",
      "metadata": {
        "id": "vC2_ihgPTDEo"
      },
      "source": [
        "kmeans = KMeans(random_state=2021) #เริ่มสุ่มที่จุดเดียวกัน"
      ],
      "execution_count": 14,
      "outputs": []
    },
    {
      "cell_type": "markdown",
      "metadata": {
        "id": "kZupm6z1TX1M"
      },
      "source": [
        "**Fit-Transform**\n",
        "\n",
        "คำนวณหาจุด cluster centers ของข้อมูล Data ด้วยวิธี K-means clustering"
      ]
    },
    {
      "cell_type": "code",
      "metadata": {
        "id": "t262Ymy9TZSY",
        "colab": {
          "base_uri": "https://localhost:8080/"
        },
        "outputId": "6ec68870-83ff-4249-86de-5c324526f99f"
      },
      "source": [
        "kmeans.fit(Data)"
      ],
      "execution_count": 15,
      "outputs": [
        {
          "output_type": "execute_result",
          "data": {
            "text/plain": [
              "KMeans(algorithm='auto', copy_x=True, init='k-means++', max_iter=300,\n",
              "       n_clusters=8, n_init=10, n_jobs=None, precompute_distances='auto',\n",
              "       random_state=2021, tol=0.0001, verbose=0)"
            ]
          },
          "metadata": {
            "tags": []
          },
          "execution_count": 15
        }
      ]
    },
    {
      "cell_type": "markdown",
      "metadata": {
        "id": "9gppfI1vUJ8N"
      },
      "source": [
        "แสดงจุด cluster centers ที่คำนวณออกมาได้"
      ]
    },
    {
      "cell_type": "code",
      "metadata": {
        "id": "D090Y9kvUV0R",
        "colab": {
          "base_uri": "https://localhost:8080/"
        },
        "outputId": "ee751ded-4a4f-4448-c38e-a98c3f0466a7"
      },
      "source": [
        "kmeans.cluster_centers_"
      ],
      "execution_count": 16,
      "outputs": [
        {
          "output_type": "execute_result",
          "data": {
            "text/plain": [
              "array([[-3.63126731e+00, -2.21272742e+00, -4.91946255e+00,\n",
              "         8.21931883e+00,  5.62424329e+00, -7.78435110e+00,\n",
              "         6.69930926e+00,  2.59944150e+00,  6.34364609e+00,\n",
              "         3.74593986e-01, -6.56408139e+00, -1.00806471e+00,\n",
              "         1.32121437e+00, -4.99447916e+00, -5.53282563e+00,\n",
              "        -2.42435519e+00,  2.91543386e-01, -6.13465297e-01,\n",
              "         3.25077574e+00, -7.61301774e+00,  1.87439711e+00,\n",
              "        -6.51551107e+00, -2.88111443e+00, -4.11406387e+00,\n",
              "         4.04676659e+00, -1.06373383e+00, -3.32195202e+00,\n",
              "         3.80757458e-02,  9.84082630e+00,  2.76321150e+00,\n",
              "        -4.42545484e+00,  1.58160575e+01],\n",
              "       [-4.24513971e-01,  4.41983209e+00, -4.84945412e+00,\n",
              "        -3.58686735e+00,  5.96374717e+00, -8.96207334e+00,\n",
              "        -4.70838398e+00, -5.94458586e+00, -5.59174800e+00,\n",
              "         3.26748124e+00, -7.56320707e+00, -2.11044982e+00,\n",
              "         2.25315025e+00, -3.53065610e+00, -3.70923433e+00,\n",
              "         2.14593996e+00,  6.69113235e+00, -1.68840695e+00,\n",
              "        -9.04710870e+00,  7.65635623e+00,  7.39473892e+00,\n",
              "        -2.67656815e+00,  2.71148874e+00, -9.34976137e-01,\n",
              "         4.24185097e+00, -7.34335501e+00, -8.25672529e+00,\n",
              "         9.15635226e+00,  7.52890878e+00, -6.80741191e+00,\n",
              "         8.83966418e+00, -3.20370596e+01],\n",
              "       [ 2.66929730e+00,  5.46292047e+00,  1.64225475e+00,\n",
              "        -1.17650196e+00, -1.93258891e+00,  1.72019915e+00,\n",
              "        -2.94842986e+00,  3.04215845e-01, -7.74591179e-01,\n",
              "        -4.96904084e+00, -9.82054695e-01,  2.77731743e+00,\n",
              "         1.03563736e+00,  2.44352030e+00,  3.60862867e-01,\n",
              "        -3.79023908e+00, -7.21116409e+00,  3.47843462e+00,\n",
              "         6.65238853e-01, -5.86046361e+00,  5.90686413e+00,\n",
              "         3.61649875e+00,  3.36482067e+00, -1.57244406e-01,\n",
              "         5.56077732e+00,  8.69221943e-01,  2.95430776e+00,\n",
              "         4.84748940e+00, -1.13444453e+00,  9.30921568e-02,\n",
              "         1.09258409e+01,  2.46546078e+00],\n",
              "       [ 5.27516104e+00, -6.78594960e+00, -5.56020114e+00,\n",
              "         4.48688532e+00,  2.36869475e+00,  6.75140029e+00,\n",
              "         7.07661693e-01,  3.15566412e+00,  1.03868510e+00,\n",
              "         1.78296110e+00,  6.02181408e+00,  5.20943487e+00,\n",
              "         1.28551466e+00,  3.07592319e+00, -9.74800698e-02,\n",
              "         5.92042034e+00,  9.40575297e-01,  1.78006622e+00,\n",
              "         4.79070240e+00, -1.66491307e-01, -5.24228166e+00,\n",
              "         4.91034456e+00,  2.70486078e+00,  4.48654973e+00,\n",
              "        -1.13254319e+00, -7.04308721e+00, -7.81030033e+00,\n",
              "         5.73461332e+00, -2.17976507e+00,  3.71930944e+00,\n",
              "        -1.35718992e+01,  2.05965472e+01],\n",
              "       [ 7.66876088e-02, -9.26873424e+00,  4.13321638e+00,\n",
              "         2.47777997e+00,  5.53718215e+00, -8.60843725e-01,\n",
              "        -2.37294308e+00, -4.18012198e+00,  1.16787105e+00,\n",
              "        -8.33426344e+00,  2.66043510e+00,  8.93553632e+00,\n",
              "         7.78791401e+00,  7.62203110e+00, -3.11696482e+00,\n",
              "         4.01922979e+00,  5.22356557e-01,  3.13481604e+00,\n",
              "        -4.52911219e+00,  2.15445373e+00, -9.01105884e+00,\n",
              "         3.92484283e+00, -3.97523528e+00, -6.65514564e+00,\n",
              "        -3.30767688e+00, -6.64667374e+00,  8.30769824e+00,\n",
              "        -4.39574805e+00, -7.78884008e+00, -7.66997227e+00,\n",
              "        -1.85374685e+01, -3.63498613e+01],\n",
              "       [ 5.08424949e+00,  8.03141613e+00, -1.38242802e+00,\n",
              "        -6.63324646e+00,  1.24944366e+00, -1.75515185e+00,\n",
              "         9.08474299e+00,  2.20166818e+00,  6.76893409e+00,\n",
              "        -5.66307956e+00,  5.94194080e+00, -6.10558426e+00,\n",
              "        -6.00694162e+00, -5.65283977e+00, -3.94163091e+00,\n",
              "         1.74659260e+00,  3.31087180e+00,  2.79497099e+00,\n",
              "        -1.09884496e-02,  2.34745881e+00, -3.04568161e+00,\n",
              "        -5.36571870e-01, -1.91746228e+00, -5.72080616e+00,\n",
              "         8.91919045e+00, -6.05020905e+00,  6.04432403e+00,\n",
              "        -1.15136078e+00, -2.17389122e+00,  4.26885686e+00,\n",
              "         1.60628323e+01,  2.33442843e+01],\n",
              "       [-7.89127773e-01, -5.09734731e+00, -1.21228966e+00,\n",
              "         6.04028716e+00, -1.48061971e+00,  3.59400919e+00,\n",
              "         7.88935056e-01, -2.00313330e+00, -8.18189963e+00,\n",
              "        -2.86529435e+00,  3.47578715e+00, -5.03417059e+00,\n",
              "        -3.67466156e+00,  3.21294258e+00,  2.87322795e+00,\n",
              "        -6.70225331e-01,  6.07261648e+00,  1.20596088e+00,\n",
              "         8.13100450e+00,  2.58730966e+00,  1.21079192e+00,\n",
              "        -9.16839094e-01,  1.35669545e+00, -4.46488795e+00,\n",
              "         3.61386334e+00,  5.28105091e+00,  4.24633066e+00,\n",
              "         2.26401351e+00, -1.37792465e+00,  7.89823731e+00,\n",
              "        -1.01946946e+01,  4.14911866e+01],\n",
              "       [ 1.07929596e+00,  5.73900630e+00,  6.46097335e+00,\n",
              "         6.45123381e+00, -8.86596367e+00,  7.78335889e+00,\n",
              "         9.04271093e+00, -5.52990579e+00,  5.51269471e+00,\n",
              "        -1.62817229e+00, -7.14995415e-01,  3.68399879e+00,\n",
              "         8.66523685e+00,  7.16404723e+00,  9.13133271e+00,\n",
              "         2.69455805e+00, -8.66146236e+00,  7.43323439e+00,\n",
              "        -2.79342955e+00,  2.78544557e+00,  8.16915689e+00,\n",
              "         1.42741347e-01,  7.13976994e+00,  9.97019248e+00,\n",
              "         9.97544012e+00, -4.05327219e+00, -4.90746067e+00,\n",
              "        -5.68682818e+00, -6.67935099e-01,  7.46863709e+00,\n",
              "         1.14780126e+01,  3.93431854e+01]])"
            ]
          },
          "metadata": {
            "tags": []
          },
          "execution_count": 16
        }
      ]
    },
    {
      "cell_type": "markdown",
      "metadata": {
        "id": "SJzcPOiQUfEx"
      },
      "source": [
        "ทดสอบการจัดกลุ่มของ Data"
      ]
    },
    {
      "cell_type": "code",
      "metadata": {
        "id": "W8gnOq8fUiqg",
        "colab": {
          "base_uri": "https://localhost:8080/"
        },
        "outputId": "e6ca3fcc-4750-4912-fd3c-3e65bc568104"
      },
      "source": [
        "y = kmeans.predict(Data)\n",
        "y"
      ],
      "execution_count": 17,
      "outputs": [
        {
          "output_type": "execute_result",
          "data": {
            "text/plain": [
              "array([0, 0, 1, ..., 5, 5, 6], dtype=int32)"
            ]
          },
          "metadata": {
            "tags": []
          },
          "execution_count": 17
        }
      ]
    },
    {
      "cell_type": "markdown",
      "metadata": {
        "id": "503Mzh1cUya8"
      },
      "source": [
        "### **PCA**"
      ]
    },
    {
      "cell_type": "code",
      "metadata": {
        "id": "zFFjgYwOU1Bj"
      },
      "source": [
        "from sklearn.decomposition import PCA\n",
        "pca = PCA(n_components=2)\n",
        "new_pca = pca.fit_transform(Data)"
      ],
      "execution_count": 18,
      "outputs": []
    },
    {
      "cell_type": "code",
      "metadata": {
        "id": "1VbHM5oCUpRs",
        "outputId": "11a40ed2-b7e9-40a0-f890-3b015bd6d867",
        "colab": {
          "base_uri": "https://localhost:8080/"
        }
      },
      "source": [
        "new_pca.shape"
      ],
      "execution_count": 19,
      "outputs": [
        {
          "output_type": "execute_result",
          "data": {
            "text/plain": [
              "(10000, 2)"
            ]
          },
          "metadata": {
            "tags": []
          },
          "execution_count": 19
        }
      ]
    },
    {
      "cell_type": "code",
      "metadata": {
        "id": "Tj4ngKAJVFTF"
      },
      "source": [
        "from matplotlib import pyplot as plt"
      ],
      "execution_count": 20,
      "outputs": []
    },
    {
      "cell_type": "code",
      "metadata": {
        "id": "KGkRBOK7bRn9",
        "outputId": "fd581d27-6e1b-4559-92e5-18bd1b5d38fc",
        "colab": {
          "base_uri": "https://localhost:8080/",
          "height": 282
        }
      },
      "source": [
        "kmeans = KMeans(n_clusters=3,random_state=2021)\n",
        "kmeans.fit(Data)\n",
        "y = kmeans.predict(Data)\n",
        "plt.scatter(new_pca[:,0],new_pca[:,1],c=y)"
      ],
      "execution_count": 21,
      "outputs": [
        {
          "output_type": "execute_result",
          "data": {
            "text/plain": [
              "<matplotlib.collections.PathCollection at 0x7fd500446cd0>"
            ]
          },
          "metadata": {
            "tags": []
          },
          "execution_count": 21
        },
        {
          "output_type": "display_data",
          "data": {
            "image/png": "[encoded data removed]",
            "text/plain": [
              "<Figure size 432x288 with 1 Axes>"
            ]
          },
          "metadata": {
            "tags": [],
            "needs_background": "light"
          }
        }
      ]
    },
    {
      "cell_type": "markdown",
      "metadata": {
        "id": "DoIDL7jtWRWk"
      },
      "source": [
        "หาค่า K ควรจะเป็นเท่าไหร่ โดยใช้วิธี Elbow Method"
      ]
    },
    {
      "cell_type": "markdown",
      "metadata": {
        "id": "dLyLbi1oWk4T"
      },
      "source": [
        "**SSE**"
      ]
    },
    {
      "cell_type": "code",
      "metadata": {
        "id": "2ooNlMRId_de",
        "colab": {
          "base_uri": "https://localhost:8080/"
        },
        "outputId": "3ef5ee9a-f58e-4c8d-f333-4af8bd8a815a"
      },
      "source": [
        "kmeans.inertia_ ## SSE (Sum of Squared Errors)"
      ],
      "execution_count": 22,
      "outputs": [
        {
          "output_type": "execute_result",
          "data": {
            "text/plain": [
              "10129784.269352978"
            ]
          },
          "metadata": {
            "tags": []
          },
          "execution_count": 22
        }
      ]
    },
    {
      "cell_type": "code",
      "metadata": {
        "id": "agz2-SP0fTAJ"
      },
      "source": [
        "SSE = list()\n",
        "for k in [1,2,3,4,5,6,7,8]:\n",
        "    kmeans = KMeans(n_clusters=k, random_state=2021)\n",
        "    kmeans.fit(Data)\n",
        "    SSE.append(kmeans.inertia_)"
      ],
      "execution_count": 23,
      "outputs": []
    },
    {
      "cell_type": "code",
      "metadata": {
        "id": "0zZo-sRjfbJt",
        "colab": {
          "base_uri": "https://localhost:8080/"
        },
        "outputId": "d9221f0d-eacd-481e-de39-017903c014d5"
      },
      "source": [
        "SSE"
      ],
      "execution_count": 24,
      "outputs": [
        {
          "output_type": "execute_result",
          "data": {
            "text/plain": [
              "[17376235.56078428,\n",
              " 12379473.796194354,\n",
              " 10129784.269352978,\n",
              " 8730523.544304458,\n",
              " 7615456.759086133,\n",
              " 6520299.778351892,\n",
              " 5320747.510562791,\n",
              " 4223015.069657261]"
            ]
          },
          "metadata": {
            "tags": []
          },
          "execution_count": 24
        }
      ]
    },
    {
      "cell_type": "code",
      "metadata": {
        "id": "ZBNJXV8EfmY7",
        "colab": {
          "base_uri": "https://localhost:8080/",
          "height": 290
        },
        "outputId": "8c611c8b-e954-461f-c1ce-348534f2d9a9"
      },
      "source": [
        "plt.plot([1,2,3,4,5,6,7,8],SSE,'o-b')\n",
        "plt.xlabel('k')\n",
        "plt.ylabel('SSE');"
      ],
      "execution_count": 25,
      "outputs": [
        {
          "output_type": "display_data",
          "data": {
            "image/png": "[encoded data removed]",
            "text/plain": [
              "<Figure size 432x288 with 1 Axes>"
            ]
          },
          "metadata": {
            "tags": [],
            "needs_background": "light"
          }
        }
      ]
    },
    {
      "cell_type": "markdown",
      "metadata": {
        "id": "5i_TSVs0fvDw"
      },
      "source": [
        "Silhouette coefficient"
      ]
    },
    {
      "cell_type": "code",
      "metadata": {
        "id": "vYmKRtZXf5NW"
      },
      "source": [
        "from sklearn import metrics"
      ],
      "execution_count": 26,
      "outputs": []
    },
    {
      "cell_type": "code",
      "metadata": {
        "id": "hZ2NJU3zf9xG"
      },
      "source": [
        "SilH = list()\n",
        "for k in [2,3,4,5,6,7,8]:\n",
        "    kmeans = KMeans(n_clusters=k, random_state=2021)\n",
        "    kmeans.fit(Data)\n",
        "    score = metrics.silhouette_score(Data,kmeans.labels_)\n",
        "    SilH.append(score)"
      ],
      "execution_count": 27,
      "outputs": []
    },
    {
      "cell_type": "code",
      "metadata": {
        "id": "rS10QIkUgbqV",
        "colab": {
          "base_uri": "https://localhost:8080/",
          "height": 279
        },
        "outputId": "6718d5df-c25b-4378-d485-2403484bbc89"
      },
      "source": [
        "plt.plot([2,3,4,5,6,7,8],SilH,'o-g')\n",
        "plt.xlabel('k')\n",
        "plt.ylabel('Silhouette');"
      ],
      "execution_count": 32,
      "outputs": [
        {
          "output_type": "display_data",
          "data": {
            "image/png": "[encoded data removed]",
            "text/plain": [
              "<Figure size 432x288 with 1 Axes>"
            ]
          },
          "metadata": {
            "tags": [],
            "needs_background": "light"
          }
        }
      ]
    },
    {
      "cell_type": "markdown",
      "metadata": {
        "id": "comFvetagr7n"
      },
      "source": [
        "## **ข้อที่3 ลด Dimension ของข้อมูลเหลือ 2 มิติ แล้วทำ clustering แล้ว visualize ข้อมูลแบบ 2 มิติ**"
      ]
    },
    {
      "cell_type": "markdown",
      "metadata": {
        "id": "cbDzX_FYv8yW"
      },
      "source": [
        "### **ข้อที่ 4 เปรียบเทียบความแตกต่างของผลข้อ 2 กับ ข้อ 3**"
      ]
    },
    {
      "cell_type": "markdown",
      "metadata": {
        "id": "iumNOpvWwlxU"
      },
      "source": [
        "ผลข้อที่ 2 และข้อที่ 3"
      ]
    }
  ]
}