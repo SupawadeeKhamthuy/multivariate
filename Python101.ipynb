{
  "nbformat": 4,
  "nbformat_minor": 0,
  "metadata": {
    "colab": {
      "name": "Python101.ipynb",
      "provenance": [],
      "authorship_tag": "ABX9TyNNEmHZqFPRdonmoIL75r9+",
      "include_colab_link": true
    },
    "kernelspec": {
      "name": "python3",
      "display_name": "Python 3"
    }
  },
  "cells": [
    {
      "cell_type": "markdown",
      "metadata": {
        "id": "view-in-github",
        "colab_type": "text"
      },
      "source": [
        "<a href=\"https://colab.research.google.com/github/SupawadeeKhamthuy/multivariate/blob/main/Python101.ipynb\" target=\"_parent\"><img src=\"https://colab.research.google.com/assets/colab-badge.svg\" alt=\"Open In Colab\"/></a>"
      ]
    },
    {
      "cell_type": "markdown",
      "metadata": {
        "id": "3AzXNJPVMBDb"
      },
      "source": [
        "ตัวแปร variable"
      ]
    },
    {
      "cell_type": "markdown",
      "metadata": {
        "id": "qXpy3HbcMjFT"
      },
      "source": [
        "หลักการตั้งชื่อตัวแปรเบื้องต้น \r\n",
        "\r\n",
        "1.  ตั้งให้สื่อ\r\n",
        "2.  ภาษาอังกฤษ\r\n",
        "3.  ใช้ตัวเลขได้แต่ห้ามขึ้นต้นด้วยตัวเลข\r\n",
        "4.  ห้ามเว้นวรรค\r\n",
        "5.  ตัวเล็กกับตัวใหญ่ไม่เหมือนกัน\r\n",
        "  "
      ]
    },
    {
      "cell_type": "markdown",
      "metadata": {
        "id": "3lulK-1ey05C"
      },
      "source": [
        "มี output 2 mode: ออกหน้าจอ กับ เข้าไปเก็บในตัวแปร"
      ]
    },
    {
      "cell_type": "code",
      "metadata": {
        "colab": {
          "base_uri": "https://localhost:8080/"
        },
        "id": "nGgk23pSypPH",
        "outputId": "6e6bb807-5b7d-41e5-9533-3b070b9245e0"
      },
      "source": [
        "3.14159   # hashing หรือ sharp # คือ comment  >>> อันนี้คือ output ที่ออกหน้าจอ"
      ],
      "execution_count": 1,
      "outputs": [
        {
          "output_type": "execute_result",
          "data": {
            "text/plain": [
              "3.14159"
            ]
          },
          "metadata": {
            "tags": []
          },
          "execution_count": 1
        }
      ]
    },
    {
      "cell_type": "code",
      "metadata": {
        "id": "9Q6l1WYJuA6l"
      },
      "source": [
        "Pi = 3.14159   # อันนี้คือ output ที่เข้าไปอยู่ในตัวแปร"
      ],
      "execution_count": null,
      "outputs": []
    },
    {
      "cell_type": "code",
      "metadata": {
        "colab": {
          "base_uri": "https://localhost:8080/"
        },
        "id": "u_jP2BK3zK99",
        "outputId": "6934b0b2-851a-4d08-9f55-e6f01d6c29b8"
      },
      "source": [
        "Pi"
      ],
      "execution_count": null,
      "outputs": [
        {
          "output_type": "execute_result",
          "data": {
            "text/plain": [
              "3.14159"
            ]
          },
          "metadata": {
            "tags": []
          },
          "execution_count": 4
        }
      ]
    },
    {
      "cell_type": "code",
      "metadata": {
        "colab": {
          "base_uri": "https://localhost:8080/"
        },
        "id": "g4rBaQmpztIX",
        "outputId": "7bb502af-8247-4e54-b95a-c6f5b2115fd6"
      },
      "source": [
        "a = 1234567\r\n",
        "print(a)"
      ],
      "execution_count": 2,
      "outputs": [
        {
          "output_type": "stream",
          "text": [
            "1234567\n"
          ],
          "name": "stdout"
        }
      ]
    },
    {
      "cell_type": "markdown",
      "metadata": {
        "id": "E0T1KLEm0Nn9"
      },
      "source": [
        "# ชนิดของตัวแปร 3 ขนิด"
      ]
    },
    {
      "cell_type": "markdown",
      "metadata": {
        "id": "qyrih5f02DS5"
      },
      "source": [
        "# จำนวนเต็ม (integer, int)"
      ]
    },
    {
      "cell_type": "code",
      "metadata": {
        "colab": {
          "base_uri": "https://localhost:8080/"
        },
        "id": "HOTXl6D6z9_5",
        "outputId": "a9f83ff1-8713-4c84-d0f0-dd6268312e00"
      },
      "source": [
        "aaa = 1997\r\n",
        "print(aaa)"
      ],
      "execution_count": null,
      "outputs": [
        {
          "output_type": "stream",
          "text": [
            "1997\n"
          ],
          "name": "stdout"
        }
      ]
    },
    {
      "cell_type": "markdown",
      "metadata": {
        "id": "6dc3vVCA289u"
      },
      "source": [
        "### จำนวนจริง (float)"
      ]
    },
    {
      "cell_type": "code",
      "metadata": {
        "colab": {
          "base_uri": "https://localhost:8080/"
        },
        "id": "WqLOxY-k3E1G",
        "outputId": "ef618eb5-5199-45bf-9bd0-c591705ea623"
      },
      "source": [
        "bbb = 19.0\r\n",
        "print(bbb)"
      ],
      "execution_count": null,
      "outputs": [
        {
          "output_type": "stream",
          "text": [
            "19.0\n"
          ],
          "name": "stdout"
        }
      ]
    },
    {
      "cell_type": "markdown",
      "metadata": {
        "id": "uPd5mPYc3N8i"
      },
      "source": [
        "### อักษร-ข้อความ (character และ text, sting)"
      ]
    },
    {
      "cell_type": "code",
      "metadata": {
        "colab": {
          "base_uri": "https://localhost:8080/"
        },
        "id": "69ihmFI33ill",
        "outputId": "0607787f-a3b3-4a00-c861-701dd30ec496"
      },
      "source": [
        "ccc = '567890'  # เราใช้ single quote ' หรือ double quote \" ล้อมรอบตัวหนังสือเพื่อระบุว่าเป็น character-string\r\n",
        "print(ccc)"
      ],
      "execution_count": null,
      "outputs": [
        {
          "output_type": "stream",
          "text": [
            "567890\n"
          ],
          "name": "stdout"
        }
      ]
    },
    {
      "cell_type": "code",
      "metadata": {
        "colab": {
          "base_uri": "https://localhost:8080/"
        },
        "id": "obtf2CxJ48VX",
        "outputId": "1d025eab-d14d-4b75-f00a-3e833243d015"
      },
      "source": [
        "aaa + bbb  # float + int = float"
      ],
      "execution_count": null,
      "outputs": [
        {
          "output_type": "execute_result",
          "data": {
            "text/plain": [
              "2016.0"
            ]
          },
          "metadata": {
            "tags": []
          },
          "execution_count": 9
        }
      ]
    },
    {
      "cell_type": "code",
      "metadata": {
        "colab": {
          "base_uri": "https://localhost:8080/",
          "height": 163
        },
        "id": "BTpFF31OBGhm",
        "outputId": "954e0ee5-016c-4eea-991b-a1ffdbc4865f"
      },
      "source": [
        "bbb + ccc"
      ],
      "execution_count": null,
      "outputs": [
        {
          "output_type": "error",
          "ename": "TypeError",
          "evalue": "ignored",
          "traceback": [
            "\u001b[0;31m---------------------------------------------------------------------------\u001b[0m",
            "\u001b[0;31mTypeError\u001b[0m                                 Traceback (most recent call last)",
            "\u001b[0;32m<ipython-input-10-a3916046ad1c>\u001b[0m in \u001b[0;36m<module>\u001b[0;34m()\u001b[0m\n\u001b[0;32m----> 1\u001b[0;31m \u001b[0mbbb\u001b[0m \u001b[0;34m+\u001b[0m \u001b[0mccc\u001b[0m\u001b[0;34m\u001b[0m\u001b[0;34m\u001b[0m\u001b[0m\n\u001b[0m",
            "\u001b[0;31mTypeError\u001b[0m: unsupported operand type(s) for +: 'float' and 'str'"
          ]
        }
      ]
    },
    {
      "cell_type": "code",
      "metadata": {
        "id": "_YcFkf7sBvE4"
      },
      "source": [
        "ddd = 'สุภาวดี'\r\n",
        "print(ddd)"
      ],
      "execution_count": null,
      "outputs": []
    },
    {
      "cell_type": "markdown",
      "metadata": {
        "id": "JvNtN_77HmGF"
      },
      "source": [
        "# การเปลี่ยนชนิดของตัวแปร variable casting"
      ]
    },
    {
      "cell_type": "code",
      "metadata": {
        "id": "P8N7KqAKH5OP"
      },
      "source": [
        "aaa + int(ccc)"
      ],
      "execution_count": null,
      "outputs": []
    },
    {
      "cell_type": "code",
      "metadata": {
        "id": "Ud_TlHhhITAf"
      },
      "source": [
        "aaa + float(ccc)"
      ],
      "execution_count": null,
      "outputs": []
    },
    {
      "cell_type": "code",
      "metadata": {
        "id": "6Lt5JMDBKSzF"
      },
      "source": [
        "str(aaa)"
      ],
      "execution_count": null,
      "outputs": []
    },
    {
      "cell_type": "markdown",
      "metadata": {
        "id": "BQdF5TrbK09w"
      },
      "source": [
        "# การดำเนินการ Operation (Operators +,-,*,/,%)"
      ]
    },
    {
      "cell_type": "code",
      "metadata": {
        "id": "9h_rozhbLC_9"
      },
      "source": [
        "a+b"
      ],
      "execution_count": null,
      "outputs": []
    },
    {
      "cell_type": "code",
      "metadata": {
        "id": "hYtRVq4qLvEI"
      },
      "source": [
        "aaa + bbb"
      ],
      "execution_count": null,
      "outputs": []
    },
    {
      "cell_type": "code",
      "metadata": {
        "id": "fZyXy-RBL1K_"
      },
      "source": [
        "aaa - bbb"
      ],
      "execution_count": null,
      "outputs": []
    },
    {
      "cell_type": "code",
      "metadata": {
        "id": "WajD3k_iL47S"
      },
      "source": [
        "ab = aaa*bbb\r\n",
        "print(ab)"
      ],
      "execution_count": null,
      "outputs": []
    },
    {
      "cell_type": "code",
      "metadata": {
        "id": "EltyRsK5MJr-"
      },
      "source": [
        "ab + int(ccc)"
      ],
      "execution_count": null,
      "outputs": []
    },
    {
      "cell_type": "markdown",
      "metadata": {
        "id": "ya-wrrzOMVxf"
      },
      "source": [
        "# % คือ modulo"
      ]
    },
    {
      "cell_type": "code",
      "metadata": {
        "id": "iV-dUaFqMbqi"
      },
      "source": [
        "7%2"
      ],
      "execution_count": null,
      "outputs": []
    },
    {
      "cell_type": "code",
      "metadata": {
        "id": "oY7KycyGMsCq"
      },
      "source": [
        "5%3"
      ],
      "execution_count": null,
      "outputs": []
    },
    {
      "cell_type": "markdown",
      "metadata": {
        "id": "-W4TimJ0QmwO"
      },
      "source": [
        "# คำสั่ง print แบบพิเศษ (การ format string)"
      ]
    },
    {
      "cell_type": "code",
      "metadata": {
        "id": "CVilrsQFRB3o"
      },
      "source": [
        "print('ตัวแปร') #สิ่งที่อยู่ข้างในวงเล็บคือ ตัวแปร และ string"
      ],
      "execution_count": null,
      "outputs": []
    },
    {
      "cell_type": "code",
      "metadata": {
        "id": "qh-j4P0QRUWm"
      },
      "source": [
        "print(f'% คือการหารเอาเศษ เช่น 8%3 = {8%3}') # เพิ่ม f หน้า 'string' และใช้ {} ใส่ code"
      ],
      "execution_count": null,
      "outputs": []
    },
    {
      "cell_type": "code",
      "metadata": {
        "id": "aUs7WD-9R9Pp"
      },
      "source": [
        "print(f'% คือการหารเอาเศษ เช่น 8%3 = {8%3} \\\r\n",
        "        แต่\\n/ คือการหารปกติ เช่น 8/3 = {8/3}  \\\r\n",
        "        และ\\n// คือการหารเอาส่วน เช่น 8//3 = {8//3} \\\r\n",
        "        หรือ\\nใช้ int() เพื่อหารเอาส่วน เช่น int(8/3) = {int(8/3)}') # \\n คือการขึ้นบรรทัดใหม่ \\\\ ใช้ในการตัด code แต่ com จะไม่เห็น"
      ],
      "execution_count": null,
      "outputs": []
    },
    {
      "cell_type": "markdown",
      "metadata": {
        "id": "TqkbR9LbVnuR"
      },
      "source": [
        "# DATA STRUCTURE (โครงสร้างข้อมูล)"
      ]
    },
    {
      "cell_type": "markdown",
      "metadata": {
        "id": "EJJ8PoEpXfQ9"
      },
      "source": [
        "### List คือ เอาตัวแปรหลายๆตัวมาเรียงกัน\r\n",
        "\r\n",
        "#### list สามารถสร้างได้ 2 แบบ ดังนี้"
      ]
    },
    {
      "cell_type": "code",
      "metadata": {
        "id": "T-6BI0lgZWNz",
        "colab": {
          "base_uri": "https://localhost:8080/"
        },
        "outputId": "654d6c6d-eca3-48a3-b342-2f27ec932dd5"
      },
      "source": [
        "[222,'jk','กก',aaa]"
      ],
      "execution_count": null,
      "outputs": [
        {
          "output_type": "execute_result",
          "data": {
            "text/plain": [
              "[222, 'jk', 'กก', 1997]"
            ]
          },
          "metadata": {
            "tags": []
          },
          "execution_count": 23
        }
      ]
    },
    {
      "cell_type": "markdown",
      "metadata": {
        "id": "5GVgQATXXyXY"
      },
      "source": [
        "### แบบที่1 > square brackets"
      ]
    },
    {
      "cell_type": "code",
      "metadata": {
        "colab": {
          "base_uri": "https://localhost:8080/"
        },
        "id": "8SCo5IQ_Z2tw",
        "outputId": "bd1f8b08-724f-4f0b-d48e-3ba5839c730c"
      },
      "source": [
        "list_a = []\r\n",
        "print(list_a)"
      ],
      "execution_count": null,
      "outputs": [
        {
          "output_type": "stream",
          "text": [
            "[]\n"
          ],
          "name": "stdout"
        }
      ]
    },
    {
      "cell_type": "code",
      "metadata": {
        "colab": {
          "base_uri": "https://localhost:8080/"
        },
        "id": "qR99oI-EaG5J",
        "outputId": "4b274121-be1f-4b7f-cc52-762adaba2591"
      },
      "source": [
        "list_b = [111,'JK','กก',aaa]\r\n",
        "print(list_b)"
      ],
      "execution_count": null,
      "outputs": [
        {
          "output_type": "stream",
          "text": [
            "[111, 'JK', 'กก', 1997]\n"
          ],
          "name": "stdout"
        }
      ]
    },
    {
      "cell_type": "markdown",
      "metadata": {
        "id": "lsCuiFYoapYE"
      },
      "source": [
        "### ลำดับที่อยู่ใน list มีความสำคัญ (ลำดับใน list เริ่มจาก 0,1,2,...)"
      ]
    },
    {
      "cell_type": "code",
      "metadata": {
        "id": "CUwwCd23a97e"
      },
      "source": [
        "list_b[1]"
      ],
      "execution_count": null,
      "outputs": []
    },
    {
      "cell_type": "markdown",
      "metadata": {
        "id": "175jdJ3Vbwx0"
      },
      "source": [
        "### แบบที่2"
      ]
    },
    {
      "cell_type": "code",
      "metadata": {
        "id": "kEDb0aVAb0Yj"
      },
      "source": [
        "list_c = list()\r\n",
        "print(list_c)"
      ],
      "execution_count": null,
      "outputs": []
    },
    {
      "cell_type": "markdown",
      "metadata": {
        "id": "g5pR96jxcJc8"
      },
      "source": [
        "### append() เพิ่มสมาชิกใน list"
      ]
    },
    {
      "cell_type": "code",
      "metadata": {
        "colab": {
          "base_uri": "https://localhost:8080/"
        },
        "id": "6kPM3Kv_cVmI",
        "outputId": "0b49eb40-393a-4c10-d744-625aa2276c36"
      },
      "source": [
        "list_b.append('u')\r\n",
        "print(list_b)"
      ],
      "execution_count": null,
      "outputs": [
        {
          "output_type": "stream",
          "text": [
            "[111, 'JK', 'กก', 1997, 'u']\n"
          ],
          "name": "stdout"
        }
      ]
    },
    {
      "cell_type": "markdown",
      "metadata": {
        "id": "GMDPYF4pfD8E"
      },
      "source": [
        "ตัวที่อยู่ในวงเล็บหลังจากตัวแปร list เรียกว่า index ใช้สำหรับชี้ข้อมูล list\r\n",
        "\r\n",
        "(ชี้จากข้างหน้า,ชี้จากข้างหลัง)\r\n",
        "\r\n",
        "0 คือสมาชิกตัวแรก  , -1 คือสมาชิกตัวสุดท้าย"
      ]
    },
    {
      "cell_type": "code",
      "metadata": {
        "id": "VK79OIyTdfoo"
      },
      "source": [
        "list_b[-1]  # ตัวที่อยู่ในวงเล็บหลังจากตัวแปร list เรียกว่า index ใช้สำหรับชี้ข้อมูลใน list (ชี้จากข้างหน้า,ชี้จากข้างหลัง)"
      ],
      "execution_count": null,
      "outputs": []
    },
    {
      "cell_type": "markdown",
      "metadata": {
        "id": "a_V7VCdsgEqu"
      },
      "source": [
        "# String > list of characters"
      ]
    },
    {
      "cell_type": "markdown",
      "metadata": {
        "id": "So5x3zstkm1c"
      },
      "source": [
        "ตัวที่อยู่ในวงเล็บหลังจากตัวแปร list เรียกว่า index ใช้สำหรับชี้ข้อมูล list\r\n",
        "\r\n",
        "(ชี้จากข้างหน้า,ชี้จากข้างหลัง)\r\n",
        "\r\n",
        "0 คือสมาชิกตัวแรก  , -1 คือสมาชิกตัวสุดท้าย"
      ]
    },
    {
      "cell_type": "code",
      "metadata": {
        "colab": {
          "base_uri": "https://localhost:8080/"
        },
        "id": "UUIQdjtfgQlo",
        "outputId": "4b1a799d-e0bc-46bb-acee-70b34052428f"
      },
      "source": [
        "k = 'supawadee pang khamthuy'\r\n",
        "print(k)"
      ],
      "execution_count": 3,
      "outputs": [
        {
          "output_type": "stream",
          "text": [
            "supawadee pang khamthuy\n"
          ],
          "name": "stdout"
        }
      ]
    },
    {
      "cell_type": "code",
      "metadata": {
        "id": "WT5seFcDkUsN"
      },
      "source": [
        "k[1]"
      ],
      "execution_count": null,
      "outputs": []
    },
    {
      "cell_type": "code",
      "metadata": {
        "id": "RhYT7FG3ka8m"
      },
      "source": [
        "k[-4]"
      ],
      "execution_count": null,
      "outputs": []
    },
    {
      "cell_type": "code",
      "metadata": {
        "colab": {
          "base_uri": "https://localhost:8080/"
        },
        "id": "DERSoD6UhDta",
        "outputId": "1b3645ce-48af-4ce5-a9e1-0c36138d945b"
      },
      "source": [
        "len(list_b)  # len คือคำสั่งตรวจสอบความยาวของ list (จำนวนสมาชิก)"
      ],
      "execution_count": null,
      "outputs": [
        {
          "output_type": "execute_result",
          "data": {
            "text/plain": [
              "5"
            ]
          },
          "metadata": {
            "tags": []
          },
          "execution_count": 27
        }
      ]
    },
    {
      "cell_type": "code",
      "metadata": {
        "id": "TRfQtL9phU4Y"
      },
      "source": [
        "len(k)"
      ],
      "execution_count": null,
      "outputs": []
    },
    {
      "cell_type": "markdown",
      "metadata": {
        "id": "Qm9xl0C_mGs3"
      },
      "source": [
        "# ตัวที่อยู่ข้างใน [ ] เราเรียกว่า index (ตัวชี้)"
      ]
    },
    {
      "cell_type": "markdown",
      "metadata": {
        "id": "R-qfexJumTCG"
      },
      "source": [
        "### List slicing สามารถทำได้โดยใช้ colon :"
      ]
    },
    {
      "cell_type": "code",
      "metadata": {
        "id": "cp9baeFjm5Nx"
      },
      "source": [
        "print(k)\r\n",
        "print(k[7:9])\r\n",
        "print(len(k[7:9]))"
      ],
      "execution_count": null,
      "outputs": []
    },
    {
      "cell_type": "code",
      "metadata": {
        "id": "jNxGauzmnj3o"
      },
      "source": [
        "k[0:23:2] #เริ่มตัวที่ 0 โดยเอาทุกๆ 2 ตัวจนจบ "
      ],
      "execution_count": null,
      "outputs": []
    },
    {
      "cell_type": "markdown",
      "metadata": {
        "id": "J6LPv2hsoWQ8"
      },
      "source": [
        "### quiz\r\n",
        "ให้ใช้ list slicing เลือกมาเฉพาะเลขคู่"
      ]
    },
    {
      "cell_type": "code",
      "metadata": {
        "id": "6s-sr5RwoNu4"
      },
      "source": [
        "z = [1,2,3,4,5,6,7,8,9,10]"
      ],
      "execution_count": null,
      "outputs": []
    },
    {
      "cell_type": "code",
      "metadata": {
        "id": "oBACR4RcokDr",
        "colab": {
          "base_uri": "https://localhost:8080/"
        },
        "outputId": "d67a152f-ee03-4ba8-c367-b8ccf3ee8f86"
      },
      "source": [
        "z[1:10:2]"
      ],
      "execution_count": null,
      "outputs": [
        {
          "output_type": "execute_result",
          "data": {
            "text/plain": [
              "[2, 4, 6, 8, 10]"
            ]
          },
          "metadata": {
            "tags": []
          },
          "execution_count": 19
        }
      ]
    },
    {
      "cell_type": "markdown",
      "metadata": {
        "id": "H1UzaXsjpKXv"
      },
      "source": [
        "ถ้าเว้นว่างหน้า : หมายความว่า เริ่มตั้งแต่ตัวแรก (0)\r\n",
        "ถ้าเว้นว่างหลัง : หมายความว่า ไปจนถึงตัวสุดท้าย (len(list))"
      ]
    },
    {
      "cell_type": "code",
      "metadata": {
        "id": "kfAwlijjpfHZ"
      },
      "source": [
        "print(k)\r\n",
        "print(k[:6]) #เอาตั้งแต่ตัวแรกไปจนถึงตัวที่6\r\n",
        "print(k[10:])\r\n",
        "print(k[-4:])\r\n",
        "print(k[:])"
      ],
      "execution_count": null,
      "outputs": []
    },
    {
      "cell_type": "code",
      "metadata": {
        "id": "cRXMGjY_qaRy"
      },
      "source": [
        "print(z[::2]) # :ตัวแรก คือ เริ่มตั้งแต่ตัวแรก :ตัวที่สอง คือถึงตัวสุดท้าย 2 คือ เว้นที่ละสองตัว"
      ],
      "execution_count": null,
      "outputs": []
    },
    {
      "cell_type": "markdown",
      "metadata": {
        "id": "ZWRiGN4frxxC"
      },
      "source": [
        "### เราสามารถเอา list มาต่อกันได้ด้วย +"
      ]
    },
    {
      "cell_type": "code",
      "metadata": {
        "id": "IIaJcnWhr7AH"
      },
      "source": [
        "k + '??'"
      ],
      "execution_count": null,
      "outputs": []
    },
    {
      "cell_type": "code",
      "metadata": {
        "id": "NJFwMK3BAgYZ",
        "colab": {
          "base_uri": "https://localhost:8080/",
          "height": 129
        },
        "outputId": "6dece076-f94b-4349-b7cc-c88fc77372ff"
      },
      "source": [
        "t + list b ##ไม่สามารถเอา list ปกติมาต่อกับ string ได้"
      ],
      "execution_count": null,
      "outputs": [
        {
          "output_type": "error",
          "ename": "SyntaxError",
          "evalue": "ignored",
          "traceback": [
            "\u001b[0;36m  File \u001b[0;32m\"<ipython-input-16-570b4d5f3262>\"\u001b[0;36m, line \u001b[0;32m1\u001b[0m\n\u001b[0;31m    t + list b ##ไม่สามารถเอา list ปกติมาต่อกับ string ได้\u001b[0m\n\u001b[0m             ^\u001b[0m\n\u001b[0;31mSyntaxError\u001b[0m\u001b[0;31m:\u001b[0m invalid syntax\n"
          ]
        }
      ]
    },
    {
      "cell_type": "code",
      "metadata": {
        "id": "2Mi8s0H_sNEy"
      },
      "source": [
        "print(list_a)\r\n",
        "print(list_b)\r\n",
        "print(list_b + list_a) # + คือเอาสมาชิกมารวมกัน"
      ],
      "execution_count": null,
      "outputs": []
    },
    {
      "cell_type": "code",
      "metadata": {
        "id": "u3bMdSXQtIfO"
      },
      "source": [
        "list_b.append(list_a) #เอาทั้งรุ่นมาต่อกันเข้าไป\r\n",
        "print(list_b)"
      ],
      "execution_count": null,
      "outputs": []
    },
    {
      "cell_type": "markdown",
      "metadata": {
        "id": "MKAmuMIHtwcD"
      },
      "source": [
        "### การแบ่ง string ตามสัญลักษณ์ที่กำหนด -> split string"
      ]
    },
    {
      "cell_type": "code",
      "metadata": {
        "id": "BR3RdL31t9E_"
      },
      "source": [
        "k"
      ],
      "execution_count": null,
      "outputs": []
    },
    {
      "cell_type": "code",
      "metadata": {
        "id": "3gNUghYnuAtE"
      },
      "source": [
        "k.split(' ') # split คือแบ่ง stringด้วย '' "
      ],
      "execution_count": null,
      "outputs": []
    },
    {
      "cell_type": "code",
      "metadata": {
        "id": "rfMDL_jNuIIG"
      },
      "source": [
        "time = '12:30:15'"
      ],
      "execution_count": null,
      "outputs": []
    },
    {
      "cell_type": "code",
      "metadata": {
        "id": "LZcUffxRu2B-",
        "colab": {
          "base_uri": "https://localhost:8080/"
        },
        "outputId": "bae35fed-a274-4e5e-b27f-5cd520472479"
      },
      "source": [
        "time.split(':')"
      ],
      "execution_count": null,
      "outputs": [
        {
          "output_type": "execute_result",
          "data": {
            "text/plain": [
              "['12', '30', '15']"
            ]
          },
          "metadata": {
            "tags": []
          },
          "execution_count": 15
        }
      ]
    },
    {
      "cell_type": "code",
      "metadata": {
        "id": "DBelIRwCwWaX",
        "colab": {
          "base_uri": "https://localhost:8080/"
        },
        "outputId": "b607a74c-51f9-4167-857c-c87afa5fda2b"
      },
      "source": [
        "k_sp = k.split(' ')\r\n",
        "print(k_sp)"
      ],
      "execution_count": null,
      "outputs": [
        {
          "output_type": "stream",
          "text": [
            "['supawadee', 'pang', 'khamthuy']\n"
          ],
          "name": "stdout"
        }
      ]
    },
    {
      "cell_type": "markdown",
      "metadata": {
        "id": "lRxAjkBdAyt9"
      },
      "source": [
        "### HW คำนวณเวลาเป็นวินาทีของเวลาต่อไปนี้โดยใช้คำสั่ง split() ช่วย (print ออกมาให้สวยงาม)"
      ]
    },
    {
      "cell_type": "markdown",
      "metadata": {
        "id": "9q1n35Ir1Rhm"
      },
      "source": [
        "12:30:15\r\n",
        "\r\n",
        "13:41:07\r\n",
        "\r\n",
        "12:53:15\r\n",
        "\r\n",
        "00:59:25\r\n",
        "\r\n",
        "11:11:11\r\n",
        "\r\n",
        "16:06:09\r\n",
        "\r\n",
        "21:12:30\r\n",
        "\r\n",
        "10:06:15\r\n",
        "\r\n",
        "exp = > 00:01:10 = 70 วินาที\r\n",
        "\r\n",
        "exp = > 01:00:01 = 3601 วินาที"
      ]
    },
    {
      "cell_type": "code",
      "metadata": {
        "id": "K8HkrN-qxJn5"
      },
      "source": [
        "q1 = '12:30:15'"
      ],
      "execution_count": 4,
      "outputs": []
    },
    {
      "cell_type": "code",
      "metadata": {
        "id": "Oh88WhLPOpVU",
        "outputId": "200194bc-6556-4af6-a841-e48cb5115481",
        "colab": {
          "base_uri": "https://localhost:8080/"
        }
      },
      "source": [
        "q1_sp = q1.split(':')\r\n",
        "print(q1_sp)"
      ],
      "execution_count": 5,
      "outputs": [
        {
          "output_type": "stream",
          "text": [
            "['12', '30', '15']\n"
          ],
          "name": "stdout"
        }
      ]
    },
    {
      "cell_type": "code",
      "metadata": {
        "id": "mFDZ3bWfO5GQ",
        "outputId": "0aa9ae91-e7f7-4dab-86bb-ae019dae0248",
        "colab": {
          "base_uri": "https://localhost:8080/",
          "height": 35
        }
      },
      "source": [
        "q1_sp[0]"
      ],
      "execution_count": 6,
      "outputs": [
        {
          "output_type": "execute_result",
          "data": {
            "application/vnd.google.colaboratory.intrinsic+json": {
              "type": "string"
            },
            "text/plain": [
              "'12'"
            ]
          },
          "metadata": {
            "tags": []
          },
          "execution_count": 6
        }
      ]
    },
    {
      "cell_type": "code",
      "metadata": {
        "id": "EN8xFTEZPNMQ",
        "outputId": "de708e0a-c5dd-430f-af9d-ff23d467ff54",
        "colab": {
          "base_uri": "https://localhost:8080/"
        }
      },
      "source": [
        "answar1 = int(q1_sp[0])*3600 + int(q1_sp[1])*60 + int(q1_sp[2]) \r\n",
        "print(answar1)"
      ],
      "execution_count": 8,
      "outputs": [
        {
          "output_type": "stream",
          "text": [
            "45015\n"
          ],
          "name": "stdout"
        }
      ]
    },
    {
      "cell_type": "code",
      "metadata": {
        "id": "atXobtdphqiQ",
        "outputId": "0933ad22-46ac-42e8-ea28-656054b55c2d",
        "colab": {
          "base_uri": "https://localhost:8080/"
        }
      },
      "source": [
        "print(f'เวลา {q1} คำนวณเป็นจำนวนวินาทีใส่เท่ากับ {answar1}')"
      ],
      "execution_count": 9,
      "outputs": [
        {
          "output_type": "stream",
          "text": [
            "เวลา 12:30:15 คำนวณเป็นจำนวนวินาทีใส่เท่ากับ 45015\n"
          ],
          "name": "stdout"
        }
      ]
    },
    {
      "cell_type": "code",
      "metadata": {
        "id": "HsIeYRK225PG"
      },
      "source": [
        "q2 = '13:41:07'"
      ],
      "execution_count": 10,
      "outputs": []
    },
    {
      "cell_type": "code",
      "metadata": {
        "id": "FcL9TtN0ihfi",
        "outputId": "89eb61b2-09a0-408f-ed73-047e9c8fe10c",
        "colab": {
          "base_uri": "https://localhost:8080/"
        }
      },
      "source": [
        "q2_sp = q2.split(':')\r\n",
        "print(q2_sp)"
      ],
      "execution_count": 12,
      "outputs": [
        {
          "output_type": "stream",
          "text": [
            "['13', '41', '07']\n"
          ],
          "name": "stdout"
        }
      ]
    },
    {
      "cell_type": "code",
      "metadata": {
        "id": "vslYHJRliR0A",
        "outputId": "43ff55a9-c083-476d-f894-449828d75402",
        "colab": {
          "base_uri": "https://localhost:8080/"
        }
      },
      "source": [
        "answar2 = int(q2_sp[0])*3600 + int(q2_sp[1])*60 + int(q2_sp[2]) \r\n",
        "print(answar2)"
      ],
      "execution_count": 13,
      "outputs": [
        {
          "output_type": "stream",
          "text": [
            "49267\n"
          ],
          "name": "stdout"
        }
      ]
    },
    {
      "cell_type": "code",
      "metadata": {
        "id": "YoAtf4JeioqR",
        "outputId": "0cc5bf06-12e1-4604-832a-6e9703d847fd",
        "colab": {
          "base_uri": "https://localhost:8080/"
        }
      },
      "source": [
        "print(f'เวลา {q2} คำนวณเป็นจำนวนวินาทีใส่เท่ากับ {answar2}')"
      ],
      "execution_count": 14,
      "outputs": [
        {
          "output_type": "stream",
          "text": [
            "เวลา 13:41:07 คำนวณเป็นจำนวนวินาทีใส่เท่ากับ 49267\n"
          ],
          "name": "stdout"
        }
      ]
    },
    {
      "cell_type": "code",
      "metadata": {
        "id": "AthvTWPY3Z7q"
      },
      "source": [
        "q3 = '12:53:15'\r\n"
      ],
      "execution_count": 16,
      "outputs": []
    },
    {
      "cell_type": "code",
      "metadata": {
        "id": "bUbssy2ZiyMf",
        "outputId": "2859bef6-fce6-46ff-b295-de0b58949653",
        "colab": {
          "base_uri": "https://localhost:8080/"
        }
      },
      "source": [
        "q3_sp = q3.split(':')\r\n",
        "print(q3_sp)"
      ],
      "execution_count": 17,
      "outputs": [
        {
          "output_type": "stream",
          "text": [
            "['12', '53', '15']\n"
          ],
          "name": "stdout"
        }
      ]
    },
    {
      "cell_type": "code",
      "metadata": {
        "id": "0_97mpAJi115",
        "outputId": "6d0cad0f-e012-47e2-d3aa-94316aac0841",
        "colab": {
          "base_uri": "https://localhost:8080/"
        }
      },
      "source": [
        "answar3 = int(q3_sp[0])*3600 + int(q3_sp[1])*60 + int(q3_sp[2]) \r\n",
        "print(answar3)"
      ],
      "execution_count": 18,
      "outputs": [
        {
          "output_type": "stream",
          "text": [
            "46395\n"
          ],
          "name": "stdout"
        }
      ]
    },
    {
      "cell_type": "code",
      "metadata": {
        "id": "_SeMcedzi8Oj",
        "outputId": "bf8342af-775a-439c-b74a-bae1208918b0",
        "colab": {
          "base_uri": "https://localhost:8080/"
        }
      },
      "source": [
        "print(f'เวลา {q3} คำนวณเป็นจำนวนวินาทีใส่เท่ากับ {answar3}')"
      ],
      "execution_count": 19,
      "outputs": [
        {
          "output_type": "stream",
          "text": [
            "เวลา 12:53:15 คำนวณเป็นจำนวนวินาทีใส่เท่ากับ 46395\n"
          ],
          "name": "stdout"
        }
      ]
    },
    {
      "cell_type": "code",
      "metadata": {
        "id": "jwQzW7Sa4BqI"
      },
      "source": [
        "q4 = '00:59:25'"
      ],
      "execution_count": 20,
      "outputs": []
    },
    {
      "cell_type": "code",
      "metadata": {
        "id": "VLC2akhVjKsl",
        "outputId": "ea288dec-3c9f-42c1-e398-9847219610eb",
        "colab": {
          "base_uri": "https://localhost:8080/"
        }
      },
      "source": [
        "q4_sp = q4.split(':')\r\n",
        "print(q4_sp)"
      ],
      "execution_count": 21,
      "outputs": [
        {
          "output_type": "stream",
          "text": [
            "['00', '59', '25']\n"
          ],
          "name": "stdout"
        }
      ]
    },
    {
      "cell_type": "code",
      "metadata": {
        "id": "hPbn6lCtjRcW",
        "outputId": "9950c805-2f4b-460a-a11b-8a7ee614a6a8",
        "colab": {
          "base_uri": "https://localhost:8080/"
        }
      },
      "source": [
        "answar4 = int(q4_sp[0])*3600 + int(q4_sp[1])*60 + int(q4_sp[2]) \r\n",
        "print(answar4)"
      ],
      "execution_count": 22,
      "outputs": [
        {
          "output_type": "stream",
          "text": [
            "3565\n"
          ],
          "name": "stdout"
        }
      ]
    },
    {
      "cell_type": "code",
      "metadata": {
        "id": "y8Q3stRFjYFB",
        "outputId": "9d6277c6-5690-4796-9271-9df3a7cfaf11",
        "colab": {
          "base_uri": "https://localhost:8080/"
        }
      },
      "source": [
        "print(f'เวลา {q4} คำนวณเป็นจำนวนวินาทีใส่เท่ากับ {answar4}')"
      ],
      "execution_count": 23,
      "outputs": [
        {
          "output_type": "stream",
          "text": [
            "เวลา 00:59:25 คำนวณเป็นจำนวนวินาทีใส่เท่ากับ 3565\n"
          ],
          "name": "stdout"
        }
      ]
    },
    {
      "cell_type": "code",
      "metadata": {
        "id": "McOge-4n4e7L"
      },
      "source": [
        "q5 = '11:11:11'"
      ],
      "execution_count": 24,
      "outputs": []
    },
    {
      "cell_type": "code",
      "metadata": {
        "id": "WIZkvWS4jikK",
        "outputId": "91f01dac-d2b2-4e19-c576-a0a80e8ca06e",
        "colab": {
          "base_uri": "https://localhost:8080/"
        }
      },
      "source": [
        "q5_sp = q5.split(':')\r\n",
        "print(q5_sp)"
      ],
      "execution_count": 25,
      "outputs": [
        {
          "output_type": "stream",
          "text": [
            "['11', '11', '11']\n"
          ],
          "name": "stdout"
        }
      ]
    },
    {
      "cell_type": "code",
      "metadata": {
        "id": "STGSL0mFjoeV",
        "outputId": "c514da59-863a-440d-d586-348c455d8e90",
        "colab": {
          "base_uri": "https://localhost:8080/"
        }
      },
      "source": [
        "answar5 = int(q5_sp[0])*3600 + int(q5_sp[1])*60 + int(q5_sp[2]) \r\n",
        "print(answar5)"
      ],
      "execution_count": 26,
      "outputs": [
        {
          "output_type": "stream",
          "text": [
            "40271\n"
          ],
          "name": "stdout"
        }
      ]
    },
    {
      "cell_type": "code",
      "metadata": {
        "id": "VeRncweMjxjH",
        "outputId": "a15fcbcd-52a0-44da-815c-ff7580deb2ca",
        "colab": {
          "base_uri": "https://localhost:8080/"
        }
      },
      "source": [
        "print(f'เวลา {q5} คำนวณเป็นจำนวนวินาทีใส่เท่ากับ {answar5}')"
      ],
      "execution_count": 27,
      "outputs": [
        {
          "output_type": "stream",
          "text": [
            "เวลา 11:11:11 คำนวณเป็นจำนวนวินาทีใส่เท่ากับ 40271\n"
          ],
          "name": "stdout"
        }
      ]
    },
    {
      "cell_type": "code",
      "metadata": {
        "id": "9esAHETs413E"
      },
      "source": [
        "q6 = '16:06:09'"
      ],
      "execution_count": 28,
      "outputs": []
    },
    {
      "cell_type": "code",
      "metadata": {
        "id": "1S0fh_5dj9ZN",
        "outputId": "89a370b5-cff5-40d1-de7d-0ae058ade408",
        "colab": {
          "base_uri": "https://localhost:8080/"
        }
      },
      "source": [
        "q6_sp = q6.split(':')\r\n",
        "print(q6_sp)"
      ],
      "execution_count": 29,
      "outputs": [
        {
          "output_type": "stream",
          "text": [
            "['16', '06', '09']\n"
          ],
          "name": "stdout"
        }
      ]
    },
    {
      "cell_type": "code",
      "metadata": {
        "id": "_h2i2Q2Jj-K9",
        "outputId": "5ea7da85-8c99-43f3-9786-c2218fce5926",
        "colab": {
          "base_uri": "https://localhost:8080/"
        }
      },
      "source": [
        "answar6 = int(q6_sp[0])*3600 + int(q6_sp[1])*60 + int(q6_sp[2]) \r\n",
        "print(answar6)"
      ],
      "execution_count": 30,
      "outputs": [
        {
          "output_type": "stream",
          "text": [
            "57969\n"
          ],
          "name": "stdout"
        }
      ]
    },
    {
      "cell_type": "code",
      "metadata": {
        "id": "nm4UDkRLj90t",
        "outputId": "8336e9d5-6964-44bf-cdaa-82873505837e",
        "colab": {
          "base_uri": "https://localhost:8080/"
        }
      },
      "source": [
        "print(f'เวลา {q6} คำนวณเป็นจำนวนวินาทีใส่เท่ากับ {answar6}')"
      ],
      "execution_count": 31,
      "outputs": [
        {
          "output_type": "stream",
          "text": [
            "เวลา 16:06:09 คำนวณเป็นจำนวนวินาทีใส่เท่ากับ 57969\n"
          ],
          "name": "stdout"
        }
      ]
    },
    {
      "cell_type": "code",
      "metadata": {
        "id": "K97gZ8Zn5k_E"
      },
      "source": [
        "q7 = '21:12:30'"
      ],
      "execution_count": 33,
      "outputs": []
    },
    {
      "cell_type": "code",
      "metadata": {
        "id": "wowFh_oukSvD",
        "outputId": "ecee61d7-454f-4136-b910-85cbe4a60051",
        "colab": {
          "base_uri": "https://localhost:8080/"
        }
      },
      "source": [
        "q7_sp = q7.split(':')\r\n",
        "print(q7_sp)"
      ],
      "execution_count": 34,
      "outputs": [
        {
          "output_type": "stream",
          "text": [
            "['21', '12', '30']\n"
          ],
          "name": "stdout"
        }
      ]
    },
    {
      "cell_type": "code",
      "metadata": {
        "id": "sdPw5z3ykSjx",
        "outputId": "9f7ba469-36a2-465e-fff7-5f5379ea0b95",
        "colab": {
          "base_uri": "https://localhost:8080/"
        }
      },
      "source": [
        "answar7 = int(q7_sp[0])*3600 + int(q7_sp[1])*60 + int(q7_sp[2]) \r\n",
        "print(answar7)"
      ],
      "execution_count": 35,
      "outputs": [
        {
          "output_type": "stream",
          "text": [
            "76350\n"
          ],
          "name": "stdout"
        }
      ]
    },
    {
      "cell_type": "code",
      "metadata": {
        "id": "pEyl9FTxkSTK",
        "outputId": "39ae749c-d5d3-4136-8eaf-8824f23e5c27",
        "colab": {
          "base_uri": "https://localhost:8080/"
        }
      },
      "source": [
        "print(f'เวลา {q7} คำนวณเป็นจำนวนวินาทีใส่เท่ากับ {answar7}')"
      ],
      "execution_count": 36,
      "outputs": [
        {
          "output_type": "stream",
          "text": [
            "เวลา 21:12:30 คำนวณเป็นจำนวนวินาทีใส่เท่ากับ 76350\n"
          ],
          "name": "stdout"
        }
      ]
    },
    {
      "cell_type": "code",
      "metadata": {
        "id": "aV2Tl8Ta3vdh"
      },
      "source": [
        "q8 = '10:06:15'"
      ],
      "execution_count": 38,
      "outputs": []
    },
    {
      "cell_type": "code",
      "metadata": {
        "id": "s-vvJnJ7kmp4",
        "outputId": "0e59611d-d658-46f8-98db-768432c60c87",
        "colab": {
          "base_uri": "https://localhost:8080/"
        }
      },
      "source": [
        "q8_sp = q8.split(':')\r\n",
        "print(q8_sp)"
      ],
      "execution_count": 39,
      "outputs": [
        {
          "output_type": "stream",
          "text": [
            "['10', '06', '15']\n"
          ],
          "name": "stdout"
        }
      ]
    },
    {
      "cell_type": "code",
      "metadata": {
        "id": "2MKSh39xkmUZ",
        "outputId": "8001ce81-fbf8-49cb-d153-29948e11f682",
        "colab": {
          "base_uri": "https://localhost:8080/"
        }
      },
      "source": [
        "answar8 = int(q8_sp[0])*3600 + int(q8_sp[1])*60 + int(q8_sp[2]) \r\n",
        "print(answar8)"
      ],
      "execution_count": 40,
      "outputs": [
        {
          "output_type": "stream",
          "text": [
            "36375\n"
          ],
          "name": "stdout"
        }
      ]
    },
    {
      "cell_type": "code",
      "metadata": {
        "id": "tik7W4IYkmAS",
        "outputId": "92089c60-0162-4cfd-bf1b-220209842457",
        "colab": {
          "base_uri": "https://localhost:8080/"
        }
      },
      "source": [
        "print(f'เวลา {q8} คำนวณเป็นจำนวนวินาทีใส่เท่ากับ {answar8}')"
      ],
      "execution_count": 41,
      "outputs": [
        {
          "output_type": "stream",
          "text": [
            "เวลา 10:06:15 คำนวณเป็นจำนวนวินาทีใส่เท่ากับ 36375\n"
          ],
          "name": "stdout"
        }
      ]
    },
    {
      "cell_type": "code",
      "metadata": {
        "id": "nfPDaYzW6FyQ"
      },
      "source": [
        ""
      ],
      "execution_count": null,
      "outputs": []
    }
  ]
}