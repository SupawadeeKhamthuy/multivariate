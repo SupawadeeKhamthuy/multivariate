{
  "nbformat": 4,
  "nbformat_minor": 0,
  "metadata": {
    "colab": {
      "name": "Python101.ipynb",
      "provenance": [],
      "authorship_tag": "ABX9TyNd1M44y9Kp93rCq9fAT33s",
      "include_colab_link": true
    },
    "kernelspec": {
      "name": "python3",
      "display_name": "Python 3"
    }
  },
  "cells": [
    {
      "cell_type": "markdown",
      "metadata": {
        "id": "view-in-github",
        "colab_type": "text"
      },
      "source": [
        "<a href=\"https://colab.research.google.com/github/SupawadeeKhamthuy/multivariate/blob/main/Python101.ipynb\" target=\"_parent\"><img src=\"https://colab.research.google.com/assets/colab-badge.svg\" alt=\"Open In Colab\"/></a>"
      ]
    },
    {
      "cell_type": "markdown",
      "metadata": {
        "id": "3AzXNJPVMBDb"
      },
      "source": [
        "ตัวแปร variable"
      ]
    },
    {
      "cell_type": "markdown",
      "metadata": {
        "id": "qXpy3HbcMjFT"
      },
      "source": [
        "หลักการตั้งชื่อตัวแปรเบื้องต้น \r\n",
        "\r\n",
        "1.  ตั้งให้สื่อ\r\n",
        "2.  ภาษาอังกฤษ\r\n",
        "3.  ใช้ตัวเลขได้แต่ห้ามขึ้นต้นด้วยตัวเลข\r\n",
        "4.  ห้ามเว้นวรรค\r\n",
        "5.  ตัวเล็กกับตัวใหญ่ไม่เหมือนกัน\r\n",
        "  "
      ]
    },
    {
      "cell_type": "markdown",
      "metadata": {
        "id": "3lulK-1ey05C"
      },
      "source": [
        "มี output 2 mode: ออกหน้าจอ กับ เข้าไปเก็บในตัวแปร"
      ]
    },
    {
      "cell_type": "code",
      "metadata": {
        "colab": {
          "base_uri": "https://localhost:8080/"
        },
        "id": "nGgk23pSypPH",
        "outputId": "3656297e-c093-4968-dac8-6e5024ec0105"
      },
      "source": [
        "3.14159   # hashing หรือ sharp # คือ comment  >>> อันนี้คือ output ที่ออกหน้าจอ"
      ],
      "execution_count": 24,
      "outputs": [
        {
          "output_type": "execute_result",
          "data": {
            "text/plain": [
              "3.14159"
            ]
          },
          "metadata": {
            "tags": []
          },
          "execution_count": 24
        }
      ]
    },
    {
      "cell_type": "code",
      "metadata": {
        "id": "9Q6l1WYJuA6l"
      },
      "source": [
        "Pi = 3.14159   # อันนี้คือ output ที่เข้าไปอยู่ในตัวแปร"
      ],
      "execution_count": 25,
      "outputs": []
    },
    {
      "cell_type": "code",
      "metadata": {
        "colab": {
          "base_uri": "https://localhost:8080/"
        },
        "id": "u_jP2BK3zK99",
        "outputId": "271ccce0-5dd5-49d1-f378-9f5782faba6d"
      },
      "source": [
        "Pi"
      ],
      "execution_count": 26,
      "outputs": [
        {
          "output_type": "execute_result",
          "data": {
            "text/plain": [
              "3.14159"
            ]
          },
          "metadata": {
            "tags": []
          },
          "execution_count": 26
        }
      ]
    },
    {
      "cell_type": "code",
      "metadata": {
        "colab": {
          "base_uri": "https://localhost:8080/"
        },
        "id": "g4rBaQmpztIX",
        "outputId": "0b4f6e8d-fd70-41d3-e3c8-4e9f7f7c5ee2"
      },
      "source": [
        "a = 1234567\r\n",
        "print(a)"
      ],
      "execution_count": 27,
      "outputs": [
        {
          "output_type": "stream",
          "text": [
            "1234567\n"
          ],
          "name": "stdout"
        }
      ]
    },
    {
      "cell_type": "markdown",
      "metadata": {
        "id": "E0T1KLEm0Nn9"
      },
      "source": [
        "# ชนิดของตัวแปร 3 ขนิด"
      ]
    },
    {
      "cell_type": "markdown",
      "metadata": {
        "id": "qyrih5f02DS5"
      },
      "source": [
        "# จำนวนเต็ม (integer, int)"
      ]
    },
    {
      "cell_type": "code",
      "metadata": {
        "colab": {
          "base_uri": "https://localhost:8080/"
        },
        "id": "HOTXl6D6z9_5",
        "outputId": "af1518be-0eda-43b4-d095-1794b2b41f45"
      },
      "source": [
        "aaa = 1997\r\n",
        "print(aaa)"
      ],
      "execution_count": 28,
      "outputs": [
        {
          "output_type": "stream",
          "text": [
            "1997\n"
          ],
          "name": "stdout"
        }
      ]
    },
    {
      "cell_type": "markdown",
      "metadata": {
        "id": "6dc3vVCA289u"
      },
      "source": [
        "### จำนวนจริง (float)"
      ]
    },
    {
      "cell_type": "code",
      "metadata": {
        "colab": {
          "base_uri": "https://localhost:8080/"
        },
        "id": "WqLOxY-k3E1G",
        "outputId": "12136599-cbe9-4b78-808a-044b80dcd654"
      },
      "source": [
        "bbb = 19.0\r\n",
        "print(bbb)"
      ],
      "execution_count": 29,
      "outputs": [
        {
          "output_type": "stream",
          "text": [
            "19.0\n"
          ],
          "name": "stdout"
        }
      ]
    },
    {
      "cell_type": "markdown",
      "metadata": {
        "id": "uPd5mPYc3N8i"
      },
      "source": [
        "### อักษร-ข้อความ (character และ text, sting)"
      ]
    },
    {
      "cell_type": "code",
      "metadata": {
        "colab": {
          "base_uri": "https://localhost:8080/"
        },
        "id": "69ihmFI33ill",
        "outputId": "5389d13a-784e-419f-a9da-876b4cbd0c8e"
      },
      "source": [
        "ccc = '567890'  # เราใช้ single quote ' หรือ double quote \" ล้อมรอบตัวหนังสือเพื่อระบุว่าเป็น character-string\r\n",
        "print(ccc)"
      ],
      "execution_count": 30,
      "outputs": [
        {
          "output_type": "stream",
          "text": [
            "567890\n"
          ],
          "name": "stdout"
        }
      ]
    },
    {
      "cell_type": "code",
      "metadata": {
        "colab": {
          "base_uri": "https://localhost:8080/"
        },
        "id": "obtf2CxJ48VX",
        "outputId": "79b1a160-3063-44a1-97e5-a07f87a09990"
      },
      "source": [
        "aaa + bbb  # float + int = float"
      ],
      "execution_count": 31,
      "outputs": [
        {
          "output_type": "execute_result",
          "data": {
            "text/plain": [
              "2016.0"
            ]
          },
          "metadata": {
            "tags": []
          },
          "execution_count": 31
        }
      ]
    },
    {
      "cell_type": "code",
      "metadata": {
        "colab": {
          "base_uri": "https://localhost:8080/",
          "height": 163
        },
        "id": "BTpFF31OBGhm",
        "outputId": "c499c42d-658a-4d9e-f748-f84795391093"
      },
      "source": [
        "bbb + ccc"
      ],
      "execution_count": 32,
      "outputs": [
        {
          "output_type": "error",
          "ename": "TypeError",
          "evalue": "ignored",
          "traceback": [
            "\u001b[0;31m---------------------------------------------------------------------------\u001b[0m",
            "\u001b[0;31mTypeError\u001b[0m                                 Traceback (most recent call last)",
            "\u001b[0;32m<ipython-input-32-a3916046ad1c>\u001b[0m in \u001b[0;36m<module>\u001b[0;34m()\u001b[0m\n\u001b[0;32m----> 1\u001b[0;31m \u001b[0mbbb\u001b[0m \u001b[0;34m+\u001b[0m \u001b[0mccc\u001b[0m\u001b[0;34m\u001b[0m\u001b[0;34m\u001b[0m\u001b[0m\n\u001b[0m",
            "\u001b[0;31mTypeError\u001b[0m: unsupported operand type(s) for +: 'float' and 'str'"
          ]
        }
      ]
    },
    {
      "cell_type": "code",
      "metadata": {
        "id": "_YcFkf7sBvE4"
      },
      "source": [
        "ddd = 'สุภาวดี'\r\n",
        "print(ddd)"
      ],
      "execution_count": null,
      "outputs": []
    },
    {
      "cell_type": "markdown",
      "metadata": {
        "id": "JvNtN_77HmGF"
      },
      "source": [
        "# การเปลี่ยนชนิดของตัวแปร variable casting"
      ]
    },
    {
      "cell_type": "code",
      "metadata": {
        "id": "P8N7KqAKH5OP"
      },
      "source": [
        "aaa + int(ccc)"
      ],
      "execution_count": null,
      "outputs": []
    },
    {
      "cell_type": "code",
      "metadata": {
        "id": "Ud_TlHhhITAf"
      },
      "source": [
        "aaa + float(ccc)"
      ],
      "execution_count": null,
      "outputs": []
    },
    {
      "cell_type": "code",
      "metadata": {
        "id": "6Lt5JMDBKSzF"
      },
      "source": [
        "str(aaa)"
      ],
      "execution_count": null,
      "outputs": []
    },
    {
      "cell_type": "markdown",
      "metadata": {
        "id": "BQdF5TrbK09w"
      },
      "source": [
        "# การดำเนินการ Operation (Operators +,-,*,/,%)"
      ]
    },
    {
      "cell_type": "code",
      "metadata": {
        "id": "9h_rozhbLC_9"
      },
      "source": [
        "a+b"
      ],
      "execution_count": null,
      "outputs": []
    },
    {
      "cell_type": "code",
      "metadata": {
        "id": "hYtRVq4qLvEI"
      },
      "source": [
        "aaa + bbb"
      ],
      "execution_count": null,
      "outputs": []
    },
    {
      "cell_type": "code",
      "metadata": {
        "id": "fZyXy-RBL1K_"
      },
      "source": [
        "aaa - bbb"
      ],
      "execution_count": null,
      "outputs": []
    },
    {
      "cell_type": "code",
      "metadata": {
        "id": "WajD3k_iL47S"
      },
      "source": [
        "ab = aaa*bbb\r\n",
        "print(ab)"
      ],
      "execution_count": null,
      "outputs": []
    },
    {
      "cell_type": "code",
      "metadata": {
        "id": "EltyRsK5MJr-"
      },
      "source": [
        "ab + int(ccc)"
      ],
      "execution_count": null,
      "outputs": []
    },
    {
      "cell_type": "markdown",
      "metadata": {
        "id": "ya-wrrzOMVxf"
      },
      "source": [
        "# % คือ modulo"
      ]
    },
    {
      "cell_type": "code",
      "metadata": {
        "id": "iV-dUaFqMbqi"
      },
      "source": [
        "7%2"
      ],
      "execution_count": null,
      "outputs": []
    },
    {
      "cell_type": "code",
      "metadata": {
        "id": "oY7KycyGMsCq"
      },
      "source": [
        "5%3"
      ],
      "execution_count": null,
      "outputs": []
    },
    {
      "cell_type": "markdown",
      "metadata": {
        "id": "-W4TimJ0QmwO"
      },
      "source": [
        "# คำสั่ง print แบบพิเศษ (การ format string)"
      ]
    },
    {
      "cell_type": "code",
      "metadata": {
        "id": "CVilrsQFRB3o"
      },
      "source": [
        "print('ตัวแปร') #สิ่งที่อยู่ข้างในวงเล็บคือ ตัวแปร และ string"
      ],
      "execution_count": null,
      "outputs": []
    },
    {
      "cell_type": "code",
      "metadata": {
        "id": "qh-j4P0QRUWm"
      },
      "source": [
        "print(f'% คือการหารเอาเศษ เช่น 8%3 = {8%3}') # เพิ่ม f หน้า 'string' และใช้ {} ใส่ code"
      ],
      "execution_count": null,
      "outputs": []
    },
    {
      "cell_type": "code",
      "metadata": {
        "id": "aUs7WD-9R9Pp"
      },
      "source": [
        "print(f'% คือการหารเอาเศษ เช่น 8%3 = {8%3} \\\r\n",
        "        แต่\\n/ คือการหารปกติ เช่น 8/3 = {8/3}  \\\r\n",
        "        และ\\n// คือการหารเอาส่วน เช่น 8//3 = {8//3} \\\r\n",
        "        หรือ\\nใช้ int() เพื่อหารเอาส่วน เช่น int(8/3) = {int(8/3)}') # \\n คือการขึ้นบรรทัดใหม่ \\\\ ใช้ในการตัด code แต่ com จะไม่เห็น"
      ],
      "execution_count": null,
      "outputs": []
    },
    {
      "cell_type": "markdown",
      "metadata": {
        "id": "TqkbR9LbVnuR"
      },
      "source": [
        "# DATA STRUCTURE (โครงสร้างข้อมูล)"
      ]
    },
    {
      "cell_type": "markdown",
      "metadata": {
        "id": "EJJ8PoEpXfQ9"
      },
      "source": [
        "### List คือ เอาตัวแปรหลายๆตัวมาเรียงกัน\r\n",
        "\r\n",
        "#### list สามารถสร้างได้ 2 แบบ ดังนี้"
      ]
    },
    {
      "cell_type": "code",
      "metadata": {
        "id": "T-6BI0lgZWNz"
      },
      "source": [
        "[222,'jk','กก',aaa]"
      ],
      "execution_count": null,
      "outputs": []
    },
    {
      "cell_type": "markdown",
      "metadata": {
        "id": "5GVgQATXXyXY"
      },
      "source": [
        "### แบบที่1 > square brackets"
      ]
    },
    {
      "cell_type": "code",
      "metadata": {
        "colab": {
          "base_uri": "https://localhost:8080/"
        },
        "id": "8SCo5IQ_Z2tw",
        "outputId": "fa7a0def-aea4-453b-a621-6ff97239dc63"
      },
      "source": [
        "list_a = []\r\n",
        "print(list_a)"
      ],
      "execution_count": 46,
      "outputs": [
        {
          "output_type": "stream",
          "text": [
            "[]\n"
          ],
          "name": "stdout"
        }
      ]
    },
    {
      "cell_type": "code",
      "metadata": {
        "colab": {
          "base_uri": "https://localhost:8080/"
        },
        "id": "qR99oI-EaG5J",
        "outputId": "9c9251da-16ca-4507-e87d-f40cf9adef8c"
      },
      "source": [
        "list_b = [111,'JK','กก',aaa]\r\n",
        "print(list_b)"
      ],
      "execution_count": 34,
      "outputs": [
        {
          "output_type": "stream",
          "text": [
            "[111, 'JK', 'กก', 1997]\n"
          ],
          "name": "stdout"
        }
      ]
    },
    {
      "cell_type": "markdown",
      "metadata": {
        "id": "lsCuiFYoapYE"
      },
      "source": [
        "### ลำดับที่อยู่ใน list มีความสำคัญ (ลำดับใน list เริ่มจาก 0,1,2,...)"
      ]
    },
    {
      "cell_type": "code",
      "metadata": {
        "id": "CUwwCd23a97e"
      },
      "source": [
        "list_b[1]"
      ],
      "execution_count": null,
      "outputs": []
    },
    {
      "cell_type": "markdown",
      "metadata": {
        "id": "175jdJ3Vbwx0"
      },
      "source": [
        "### แบบที่2"
      ]
    },
    {
      "cell_type": "code",
      "metadata": {
        "colab": {
          "base_uri": "https://localhost:8080/"
        },
        "id": "kEDb0aVAb0Yj",
        "outputId": "b6b267e1-3ef6-4610-df5c-28c8ea2d2a3c"
      },
      "source": [
        "list_c = list()\r\n",
        "print(list_c)"
      ],
      "execution_count": 36,
      "outputs": [
        {
          "output_type": "stream",
          "text": [
            "[]\n"
          ],
          "name": "stdout"
        }
      ]
    },
    {
      "cell_type": "markdown",
      "metadata": {
        "id": "g5pR96jxcJc8"
      },
      "source": [
        "### append() เพิ่มสมาชิกใน list"
      ]
    },
    {
      "cell_type": "code",
      "metadata": {
        "colab": {
          "base_uri": "https://localhost:8080/"
        },
        "id": "6kPM3Kv_cVmI",
        "outputId": "22f36ee5-dc22-42b0-ff24-6b3b4bdb9807"
      },
      "source": [
        "list_b.append('u')\r\n",
        "print(list_b)"
      ],
      "execution_count": null,
      "outputs": [
        {
          "output_type": "stream",
          "text": [
            "[111, 'JK', 'กก', 1997, [], 'u']\n"
          ],
          "name": "stdout"
        }
      ]
    },
    {
      "cell_type": "markdown",
      "metadata": {
        "id": "GMDPYF4pfD8E"
      },
      "source": [
        "ตัวที่อยู่ในวงเล็บหลังจากตัวแปร list เรียกว่า index ใช้สำหรับชี้ข้อมูล list\r\n",
        "\r\n",
        "(ชี้จากข้างหน้า,ชี้จากข้างหลัง)\r\n",
        "\r\n",
        "0 คือสมาชิกตัวแรก  , -1 คือสมาชิกตัวสุดท้าย"
      ]
    },
    {
      "cell_type": "code",
      "metadata": {
        "colab": {
          "base_uri": "https://localhost:8080/",
          "height": 35
        },
        "id": "VK79OIyTdfoo",
        "outputId": "94125a74-dd67-47ee-d04a-a01ff9c7b229"
      },
      "source": [
        "list_b[-1]  # ตัวที่อยู่ในวงเล็บหลังจากตัวแปร list เรียกว่า index ใช้สำหรับชี้ข้อมูลใน list (ชี้จากข้างหน้า,ชี้จากข้างหลัง)"
      ],
      "execution_count": null,
      "outputs": [
        {
          "output_type": "execute_result",
          "data": {
            "application/vnd.google.colaboratory.intrinsic+json": {
              "type": "string"
            },
            "text/plain": [
              "'u'"
            ]
          },
          "metadata": {
            "tags": []
          },
          "execution_count": 52
        }
      ]
    },
    {
      "cell_type": "markdown",
      "metadata": {
        "id": "a_V7VCdsgEqu"
      },
      "source": [
        "# String > list of characters"
      ]
    },
    {
      "cell_type": "markdown",
      "metadata": {
        "id": "So5x3zstkm1c"
      },
      "source": [
        "ตัวที่อยู่ในวงเล็บหลังจากตัวแปร list เรียกว่า index ใช้สำหรับชี้ข้อมูล list\r\n",
        "\r\n",
        "(ชี้จากข้างหน้า,ชี้จากข้างหลัง)\r\n",
        "\r\n",
        "0 คือสมาชิกตัวแรก  , -1 คือสมาชิกตัวสุดท้าย"
      ]
    },
    {
      "cell_type": "code",
      "metadata": {
        "colab": {
          "base_uri": "https://localhost:8080/"
        },
        "id": "UUIQdjtfgQlo",
        "outputId": "cc4e3f81-5fc9-49b8-cadf-dce1b311f810"
      },
      "source": [
        "k = 'supawadee pang khamthuy'\r\n",
        "print(k)"
      ],
      "execution_count": null,
      "outputs": [
        {
          "output_type": "stream",
          "text": [
            "supawadee pang khamthuy\n"
          ],
          "name": "stdout"
        }
      ]
    },
    {
      "cell_type": "code",
      "metadata": {
        "colab": {
          "base_uri": "https://localhost:8080/",
          "height": 35
        },
        "id": "WT5seFcDkUsN",
        "outputId": "16ba38d8-b436-46bd-9e3b-b9b430e7e45b"
      },
      "source": [
        "k[1]"
      ],
      "execution_count": null,
      "outputs": [
        {
          "output_type": "execute_result",
          "data": {
            "application/vnd.google.colaboratory.intrinsic+json": {
              "type": "string"
            },
            "text/plain": [
              "'u'"
            ]
          },
          "metadata": {
            "tags": []
          },
          "execution_count": 62
        }
      ]
    },
    {
      "cell_type": "code",
      "metadata": {
        "colab": {
          "base_uri": "https://localhost:8080/",
          "height": 35
        },
        "id": "RhYT7FG3ka8m",
        "outputId": "fe689461-a27a-451e-bcda-4a908b96d0d0"
      },
      "source": [
        "k[-4]"
      ],
      "execution_count": null,
      "outputs": [
        {
          "output_type": "execute_result",
          "data": {
            "application/vnd.google.colaboratory.intrinsic+json": {
              "type": "string"
            },
            "text/plain": [
              "'t'"
            ]
          },
          "metadata": {
            "tags": []
          },
          "execution_count": 63
        }
      ]
    },
    {
      "cell_type": "code",
      "metadata": {
        "colab": {
          "base_uri": "https://localhost:8080/"
        },
        "id": "DERSoD6UhDta",
        "outputId": "b88d7814-0f23-4401-c77f-b32e2a851427"
      },
      "source": [
        "len(list_b)  # len คือคำสั่งตรวจสอบความยาวของ list (จำนวนสมาชิก)"
      ],
      "execution_count": 35,
      "outputs": [
        {
          "output_type": "execute_result",
          "data": {
            "text/plain": [
              "4"
            ]
          },
          "metadata": {
            "tags": []
          },
          "execution_count": 35
        }
      ]
    },
    {
      "cell_type": "code",
      "metadata": {
        "colab": {
          "base_uri": "https://localhost:8080/"
        },
        "id": "TRfQtL9phU4Y",
        "outputId": "8fc0201c-0d54-4d11-da73-7c8558f5142f"
      },
      "source": [
        "len(k)"
      ],
      "execution_count": null,
      "outputs": [
        {
          "output_type": "execute_result",
          "data": {
            "text/plain": [
              "23"
            ]
          },
          "metadata": {
            "tags": []
          },
          "execution_count": 56
        }
      ]
    },
    {
      "cell_type": "markdown",
      "metadata": {
        "id": "Qm9xl0C_mGs3"
      },
      "source": [
        "# ตัวที่อยู่ข้างใน [ ] เาเรียกว่า index (ตัวชี้)"
      ]
    },
    {
      "cell_type": "markdown",
      "metadata": {
        "id": "R-qfexJumTCG"
      },
      "source": [
        "### List slicing สามารถทำได้โดยใช้ colon :"
      ]
    },
    {
      "cell_type": "code",
      "metadata": {
        "id": "cp9baeFjm5Nx",
        "outputId": "b6a952c8-9e68-4d5e-e4dd-1b2bf3d78a58",
        "colab": {
          "base_uri": "https://localhost:8080/"
        }
      },
      "source": [
        "print(k)\r\n",
        "print(k[7:9])\r\n",
        "print(len(k[7:9]))"
      ],
      "execution_count": 37,
      "outputs": [
        {
          "output_type": "stream",
          "text": [
            "supawadee pang khamthuy\n",
            "ee\n",
            "2\n"
          ],
          "name": "stdout"
        }
      ]
    },
    {
      "cell_type": "code",
      "metadata": {
        "id": "jNxGauzmnj3o",
        "outputId": "d1518ead-612a-4782-9248-236b09d2f47b",
        "colab": {
          "base_uri": "https://localhost:8080/",
          "height": 35
        }
      },
      "source": [
        "k[0:23:2] #เริ่มตัวที่ 0 โดยเอาทุกๆ 2 ตัวจนจบ "
      ],
      "execution_count": 38,
      "outputs": [
        {
          "output_type": "execute_result",
          "data": {
            "application/vnd.google.colaboratory.intrinsic+json": {
              "type": "string"
            },
            "text/plain": [
              "'spwdepn hmhy'"
            ]
          },
          "metadata": {
            "tags": []
          },
          "execution_count": 38
        }
      ]
    },
    {
      "cell_type": "markdown",
      "metadata": {
        "id": "J6LPv2hsoWQ8"
      },
      "source": [
        "### quiz\r\n",
        "ให้ใช้ list slicing เลือกมาเฉพาะเลขคู่"
      ]
    },
    {
      "cell_type": "code",
      "metadata": {
        "id": "6s-sr5RwoNu4"
      },
      "source": [
        "z = [1,2,3,4,5,6,7,8,9,10]"
      ],
      "execution_count": 39,
      "outputs": []
    },
    {
      "cell_type": "code",
      "metadata": {
        "id": "oBACR4RcokDr",
        "outputId": "97864bad-3802-4a2d-85d8-a9927eb8befd",
        "colab": {
          "base_uri": "https://localhost:8080/"
        }
      },
      "source": [
        "z[1:10:2]"
      ],
      "execution_count": 40,
      "outputs": [
        {
          "output_type": "execute_result",
          "data": {
            "text/plain": [
              "[2, 4, 6, 8, 10]"
            ]
          },
          "metadata": {
            "tags": []
          },
          "execution_count": 40
        }
      ]
    },
    {
      "cell_type": "markdown",
      "metadata": {
        "id": "H1UzaXsjpKXv"
      },
      "source": [
        "ถ้าเว้นว่างหน้า : หมายความว่า เริ่มตั้งแต่ตัวแรก (0)\r\n",
        "ถ้าเว้นว่างหลัง : หมายความว่า ไปจนถึงตัวสุดท้าย (len(list))"
      ]
    },
    {
      "cell_type": "code",
      "metadata": {
        "id": "kfAwlijjpfHZ",
        "outputId": "7f262479-1ec6-4ea7-97d8-e48a04136ba6",
        "colab": {
          "base_uri": "https://localhost:8080/"
        }
      },
      "source": [
        "print(k)\r\n",
        "print(k[:6]) #เอาตั้งแต่ตัวแรกไปจนถึงตัวที่6\r\n",
        "print(k[10:])\r\n",
        "print(k[-4:])\r\n",
        "print(k[:])"
      ],
      "execution_count": 42,
      "outputs": [
        {
          "output_type": "stream",
          "text": [
            "supawadee pang khamthuy\n",
            "supawa\n",
            "pang khamthuy\n",
            "thuy\n",
            "supawadee pang khamthuy\n"
          ],
          "name": "stdout"
        }
      ]
    },
    {
      "cell_type": "code",
      "metadata": {
        "id": "cRXMGjY_qaRy",
        "outputId": "06ea565e-b1b0-4fac-f739-62084bbe8789",
        "colab": {
          "base_uri": "https://localhost:8080/"
        }
      },
      "source": [
        "print(z[::2]) # :ตัวแรก คือ เริ่มตั้งแต่ตัวแรก :ตัวที่สอง คือถึงตัวสุดท้าย 2 คือ เว้นที่ละสองตัว"
      ],
      "execution_count": 43,
      "outputs": [
        {
          "output_type": "stream",
          "text": [
            "[1, 3, 5, 7, 9]\n"
          ],
          "name": "stdout"
        }
      ]
    },
    {
      "cell_type": "markdown",
      "metadata": {
        "id": "ZWRiGN4frxxC"
      },
      "source": [
        "### เราสามารถเอา list มาต่อกันได้ด้วย +"
      ]
    },
    {
      "cell_type": "code",
      "metadata": {
        "id": "IIaJcnWhr7AH",
        "outputId": "472a615e-ad9c-460e-9ace-8665889b9cb6",
        "colab": {
          "base_uri": "https://localhost:8080/",
          "height": 35
        }
      },
      "source": [
        "k + '??'"
      ],
      "execution_count": 44,
      "outputs": [
        {
          "output_type": "execute_result",
          "data": {
            "application/vnd.google.colaboratory.intrinsic+json": {
              "type": "string"
            },
            "text/plain": [
              "'supawadee pang khamthuy??'"
            ]
          },
          "metadata": {
            "tags": []
          },
          "execution_count": 44
        }
      ]
    },
    {
      "cell_type": "code",
      "metadata": {
        "id": "2Mi8s0H_sNEy",
        "outputId": "83d5dad5-73c7-468b-ca9b-d90a631e9c7f",
        "colab": {
          "base_uri": "https://localhost:8080/"
        }
      },
      "source": [
        "print(list_a)\r\n",
        "print(list_b)\r\n",
        "print(list_b + list_a) # + คือเอาสมาชิกมารวมกัน"
      ],
      "execution_count": 48,
      "outputs": [
        {
          "output_type": "stream",
          "text": [
            "[]\n",
            "[111, 'JK', 'กก', 1997]\n",
            "[111, 'JK', 'กก', 1997]\n",
            "\n"
          ],
          "name": "stdout"
        }
      ]
    },
    {
      "cell_type": "code",
      "metadata": {
        "id": "u3bMdSXQtIfO",
        "outputId": "6c4ccfe0-69d0-465e-a518-f5d40d1075ca",
        "colab": {
          "base_uri": "https://localhost:8080/"
        }
      },
      "source": [
        "list_b.append(list_a) #เอาทั้งรุ่นมาต่อกันเข้าไป\r\n",
        "print(list_b)"
      ],
      "execution_count": 49,
      "outputs": [
        {
          "output_type": "stream",
          "text": [
            "[111, 'JK', 'กก', 1997, []]\n"
          ],
          "name": "stdout"
        }
      ]
    },
    {
      "cell_type": "markdown",
      "metadata": {
        "id": "MKAmuMIHtwcD"
      },
      "source": [
        "### การแบ่ง string ตามสัญลักษณ์ที่กำหนด -> split string"
      ]
    },
    {
      "cell_type": "code",
      "metadata": {
        "id": "BR3RdL31t9E_",
        "outputId": "c7c8524b-b477-4a77-b289-4b393ec43e8c",
        "colab": {
          "base_uri": "https://localhost:8080/",
          "height": 35
        }
      },
      "source": [
        "k"
      ],
      "execution_count": 50,
      "outputs": [
        {
          "output_type": "execute_result",
          "data": {
            "application/vnd.google.colaboratory.intrinsic+json": {
              "type": "string"
            },
            "text/plain": [
              "'supawadee pang khamthuy'"
            ]
          },
          "metadata": {
            "tags": []
          },
          "execution_count": 50
        }
      ]
    },
    {
      "cell_type": "code",
      "metadata": {
        "id": "3gNUghYnuAtE",
        "outputId": "2bf67b38-3fd8-49b5-9f8d-629888172f2d",
        "colab": {
          "base_uri": "https://localhost:8080/"
        }
      },
      "source": [
        "k.split(' ') # split คือแบ่ง stringด้วย '' "
      ],
      "execution_count": 51,
      "outputs": [
        {
          "output_type": "execute_result",
          "data": {
            "text/plain": [
              "['supawadee', 'pang', 'khamthuy']"
            ]
          },
          "metadata": {
            "tags": []
          },
          "execution_count": 51
        }
      ]
    },
    {
      "cell_type": "code",
      "metadata": {
        "id": "rfMDL_jNuIIG"
      },
      "source": [
        "time = '12:30:15'"
      ],
      "execution_count": 53,
      "outputs": []
    },
    {
      "cell_type": "code",
      "metadata": {
        "id": "LZcUffxRu2B-",
        "outputId": "c72505c9-c26f-4d24-cce5-4d1f361ece55",
        "colab": {
          "base_uri": "https://localhost:8080/"
        }
      },
      "source": [
        "time.split(':')"
      ],
      "execution_count": 55,
      "outputs": [
        {
          "output_type": "execute_result",
          "data": {
            "text/plain": [
              "['12', '30', '15']"
            ]
          },
          "metadata": {
            "tags": []
          },
          "execution_count": 55
        }
      ]
    },
    {
      "cell_type": "code",
      "metadata": {
        "id": "DBelIRwCwWaX",
        "outputId": "b607a74c-51f9-4167-857c-c87afa5fda2b",
        "colab": {
          "base_uri": "https://localhost:8080/"
        }
      },
      "source": [
        "k_sp = k.split(' ')\r\n",
        "print(k_sp)"
      ],
      "execution_count": 60,
      "outputs": [
        {
          "output_type": "stream",
          "text": [
            "['supawadee', 'pang', 'khamthuy']\n"
          ],
          "name": "stdout"
        }
      ]
    },
    {
      "cell_type": "code",
      "metadata": {
        "id": "K8HkrN-qxJn5"
      },
      "source": [
        "q1 = '12:30:15'\r\n"
      ],
      "execution_count": null,
      "outputs": []
    }
  ]
}