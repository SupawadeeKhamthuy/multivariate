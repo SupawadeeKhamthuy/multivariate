{
  "nbformat": 4,
  "nbformat_minor": 0,
  "metadata": {
    "colab": {
      "name": "Function_Numpy_Pandasm.ipynb",
      "provenance": [],
      "authorship_tag": "ABX9TyNJg3gg23cW+kRpzqcy5f2M",
      "include_colab_link": true
    },
    "kernelspec": {
      "name": "python3",
      "display_name": "Python 3"
    }
  },
  "cells": [
    {
      "cell_type": "markdown",
      "metadata": {
        "id": "view-in-github",
        "colab_type": "text"
      },
      "source": [
        "<a href=\"https://colab.research.google.com/github/SupawadeeKhamthuy/multivariate/blob/main/Function_Numpy_Pandasm.ipynb\" target=\"_parent\"><img src=\"https://colab.research.google.com/assets/colab-badge.svg\" alt=\"Open In Colab\"/></a>"
      ]
    },
    {
      "cell_type": "markdown",
      "metadata": {
        "id": "GdpCm1BSSjM0"
      },
      "source": [
        "# Function"
      ]
    },
    {
      "cell_type": "code",
      "metadata": {
        "id": "zMUT7B34SP5U"
      },
      "source": [
        ""
      ],
      "execution_count": null,
      "outputs": []
    },
    {
      "cell_type": "markdown",
      "metadata": {
        "id": "zz4ytDWaTre8"
      },
      "source": [
        "### function มีส่วนสำคัญทั้งหมด 4 ส่วน\r\n",
        "\r\n",
        "1. บอก python ว่าเราจะเขียนฟังก์ชัน ชื่ออะไร def function_name(): (ขาดไม่ได้)\r\n",
        "2. กำหนดตัวแปรที่จะเป็น input Input(ขาดได้)\r\n",
        "3. ส่วนประมวลผล do_something with input to output (ขาดไม่ได้)\r\n",
        "4. ส่วน output return Output (ขาดไม่ได้)"
      ]
    },
    {
      "cell_type": "code",
      "metadata": {
        "id": "iGzxomjqU5Ma"
      },
      "source": [
        "def print_name(name,surname,ID): #input มีกี่ตัวก็ได้\r\n",
        "    st = f'ชื่อ {name} นามสกุล {surname} รหัส {ID}'\r\n",
        "    return st"
      ],
      "execution_count": 2,
      "outputs": []
    },
    {
      "cell_type": "markdown",
      "metadata": {
        "id": "t4MmrkpuW0Zh"
      },
      "source": [
        "### การเรียกใช้ฟังก์ชัน"
      ]
    },
    {
      "cell_type": "code",
      "metadata": {
        "colab": {
          "base_uri": "https://localhost:8080/",
          "height": 35
        },
        "id": "t4j_39z3Vb24",
        "outputId": "a206a29e-17c9-4559-8fed-e63963a354cf"
      },
      "source": [
        "print_name('สุภาวดี', 'คำทุย', '623020544-6')"
      ],
      "execution_count": 5,
      "outputs": [
        {
          "output_type": "execute_result",
          "data": {
            "application/vnd.google.colaboratory.intrinsic+json": {
              "type": "string"
            },
            "text/plain": [
              "'ชื่อ สุภาวดี นามสกุล คำทุย ID 623020544-6'"
            ]
          },
          "metadata": {
            "tags": []
          },
          "execution_count": 5
        }
      ]
    },
    {
      "cell_type": "code",
      "metadata": {
        "colab": {
          "base_uri": "https://localhost:8080/"
        },
        "id": "sZIiUMo5XSGV",
        "outputId": "3621ea01-f001-4506-92f1-5bcdb3a809a5"
      },
      "source": [
        "output_string = print_name('สุภาวดี', 'คำทุย', '623020544-6')\r\n",
        "print(output_string)"
      ],
      "execution_count": 6,
      "outputs": [
        {
          "output_type": "stream",
          "text": [
            "ชื่อ สุภาวดี นามสกุล คำทุย ID 623020544-6\n"
          ],
          "name": "stdout"
        }
      ]
    },
    {
      "cell_type": "markdown",
      "metadata": {
        "id": "IG2Uf9TFXjn9"
      },
      "source": [
        "### ฟังก์ชันไม่จำเป็นต้องมี output"
      ]
    },
    {
      "cell_type": "code",
      "metadata": {
        "id": "TkGaNixYXqUJ"
      },
      "source": [
        "def print_name2(name,surname,ID): #input มีกี่ตัวก็ได้\r\n",
        "    st = f'ชื่อ {name} นามสกุล {surname} รหัส {ID}'\r\n",
        "    print(st)"
      ],
      "execution_count": 14,
      "outputs": []
    },
    {
      "cell_type": "code",
      "metadata": {
        "colab": {
          "base_uri": "https://localhost:8080/"
        },
        "id": "Ot755p7BX7a5",
        "outputId": "c0d47a06-c5e5-410b-97b0-24d3efa9b8b5"
      },
      "source": [
        "print_name2('สุภาวดี', 'คำทุย', '623020544-6')"
      ],
      "execution_count": 15,
      "outputs": [
        {
          "output_type": "stream",
          "text": [
            "ชื่อ สุภาวดี นามสกุล คำทุย รหัส 623020544-6\n"
          ],
          "name": "stdout"
        }
      ]
    },
    {
      "cell_type": "code",
      "metadata": {
        "colab": {
          "base_uri": "https://localhost:8080/"
        },
        "id": "h2ZUZVtFYAxL",
        "outputId": "0cc74785-6c6e-4a97-a9c2-5331fd9f439d"
      },
      "source": [
        "op2 = print_name2('สุภาวดี', 'คำทุย', '623020544-6')"
      ],
      "execution_count": 16,
      "outputs": [
        {
          "output_type": "stream",
          "text": [
            "ชื่อ สุภาวดี นามสกุล คำทุย รหัส 623020544-6\n"
          ],
          "name": "stdout"
        }
      ]
    },
    {
      "cell_type": "code",
      "metadata": {
        "colab": {
          "base_uri": "https://localhost:8080/"
        },
        "id": "nrWMOfAhYGSL",
        "outputId": "89e10501-7c12-43b4-cf53-6d3506d75a75"
      },
      "source": [
        "print(op2)"
      ],
      "execution_count": 17,
      "outputs": [
        {
          "output_type": "stream",
          "text": [
            "None\n"
          ],
          "name": "stdout"
        }
      ]
    },
    {
      "cell_type": "markdown",
      "metadata": {
        "id": "PuHjNS_JZHG1"
      },
      "source": [
        "### ฟังก์ชันไม่จำเป็นต้องมี output"
      ]
    },
    {
      "cell_type": "code",
      "metadata": {
        "id": "M1N4A9wiZNa9"
      },
      "source": [
        "def Pi():\r\n",
        "    return 3.14156265359"
      ],
      "execution_count": 18,
      "outputs": []
    },
    {
      "cell_type": "code",
      "metadata": {
        "colab": {
          "base_uri": "https://localhost:8080/"
        },
        "id": "3ZtoTGRjZXZt",
        "outputId": "88489e39-925d-4a9a-baff-6bd9fe3bdbd3"
      },
      "source": [
        "#คำนวณพื้นที่วงกลมที่มีขนาดเส้นผ่าศูนย์กลางเท่ากับ 3\r\n",
        "Pi()*(1.5**2)"
      ],
      "execution_count": 19,
      "outputs": [
        {
          "output_type": "execute_result",
          "data": {
            "text/plain": [
              "7.0685159705775"
            ]
          },
          "metadata": {
            "tags": []
          },
          "execution_count": 19
        }
      ]
    },
    {
      "cell_type": "code",
      "metadata": {
        "id": "AwsCb8mGZqGI"
      },
      "source": [
        "def print_my_name():\r\n",
        "    print('สุภาวดี คำทุย IDxxxxxxx')"
      ],
      "execution_count": 20,
      "outputs": []
    },
    {
      "cell_type": "code",
      "metadata": {
        "colab": {
          "base_uri": "https://localhost:8080/"
        },
        "id": "gOwvgmUYZ45Y",
        "outputId": "5c581aff-8c87-45c1-8216-54676f267312"
      },
      "source": [
        "print_my_name()"
      ],
      "execution_count": 21,
      "outputs": [
        {
          "output_type": "stream",
          "text": [
            "สุภาวดี คำทุย IDxxxxxxx\n"
          ],
          "name": "stdout"
        }
      ]
    },
    {
      "cell_type": "markdown",
      "metadata": {
        "id": "KroCaZ3LaE_1"
      },
      "source": [
        "### input ของ function ใน python มีสองแบบ ***input ที่จำเป็นต้องใส่ กับ input ที่ไม่จำเป็นต้องใส่ (มีค่า default)\r\n",
        "\r\n",
        "### เราต้องเรียง input ที่จำเป็นต้องใส่ชื่อก่อน"
      ]
    },
    {
      "cell_type": "code",
      "metadata": {
        "id": "UOxr0X61Z-c0"
      },
      "source": [
        "def print_2lines_default(name, surname, ID, grade='F'):\r\n",
        "    st = f'ชื่อ {name} นามสกุล {surname} รหัส {ID}'\r\n",
        "    print(st)\r\n",
        "    st2=f'เกรดวิชา Multivariate >>> {grade}'\r\n",
        "    print(st2)"
      ],
      "execution_count": 22,
      "outputs": []
    },
    {
      "cell_type": "code",
      "metadata": {
        "colab": {
          "base_uri": "https://localhost:8080/"
        },
        "id": "8uGtRi91caQM",
        "outputId": "46657c0c-288c-42a4-f93a-9b9115105f29"
      },
      "source": [
        "print_2lines_default('สุภาวดี','คำทุย','623020544-6',)"
      ],
      "execution_count": 24,
      "outputs": [
        {
          "output_type": "stream",
          "text": [
            "ชื่อ สุภาวดี นามสกุล คำทุย รหัส 623020544-6\n",
            "เกรดวิชา Multivariate >>> F\n"
          ],
          "name": "stdout"
        }
      ]
    },
    {
      "cell_type": "code",
      "metadata": {
        "colab": {
          "base_uri": "https://localhost:8080/"
        },
        "id": "7YFz3mZ8bj1R",
        "outputId": "d78bb74f-7cbf-4902-bca4-f20acacee384"
      },
      "source": [
        "print_2lines_default('สุภาวดี','คำทุย','623020544-6','A')"
      ],
      "execution_count": 23,
      "outputs": [
        {
          "output_type": "stream",
          "text": [
            "ชื่อ สุภาวดี นามสกุล คำทุย รหัส 623020544-6\n",
            "เกรดวิชา Multivariate >>> A\n"
          ],
          "name": "stdout"
        }
      ]
    },
    {
      "cell_type": "markdown",
      "metadata": {
        "id": "CO89vtS_cc0U"
      },
      "source": [
        "### เราสามารถเรียกฟังก์ชันโดยใช้ชื่อตัวแปรของฟังก์ชันช่วยได้"
      ]
    },
    {
      "cell_type": "code",
      "metadata": {
        "colab": {
          "base_uri": "https://localhost:8080/"
        },
        "id": "SpvLeAZTcs00",
        "outputId": "457a197c-89db-464d-be0c-619740c99163"
      },
      "source": [
        "print_name2(name='สุภาวดี', surname='คำทุย', ID='623020544-6')"
      ],
      "execution_count": 25,
      "outputs": [
        {
          "output_type": "stream",
          "text": [
            "ชื่อ สุภาวดี นามสกุล คำทุย รหัส 623020544-6\n"
          ],
          "name": "stdout"
        }
      ]
    },
    {
      "cell_type": "markdown",
      "metadata": {
        "id": "sCX7OCMldBYB"
      },
      "source": [
        "HW3 ให้เขียน function คำนวณจำนวนวินาทีจาก เวลาต่อไปนี้\r\n",
        "\r\n",
        "'14-15-31'\r\n",
        "\r\n",
        "'13-00-01'\r\n",
        "\r\n",
        "'05-49-44'\r\n",
        "\r\n",
        "'00-00-16'\r\n",
        "\r\n",
        "และ print ให้สวยงาม"
      ]
    },
    {
      "cell_type": "code",
      "metadata": {
        "id": "aDTpRfDtdihq"
      },
      "source": [
        ""
      ],
      "execution_count": null,
      "outputs": []
    }
  ]
}